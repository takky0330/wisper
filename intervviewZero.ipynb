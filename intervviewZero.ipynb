{
  "nbformat": 4,
  "nbformat_minor": 0,
  "metadata": {
    "colab": {
      "provenance": [],
      "machine_shape": "hm",
      "gpuType": "T4",
      "mount_file_id": "https://github.com/takky0330/wisper/blob/main/intervviewZero.ipynb",
      "authorship_tag": "ABX9TyPJMB5oDTRfchQUBxVMjDmS",
      "include_colab_link": true
    },
    "kernelspec": {
      "name": "python3",
      "display_name": "Python 3"
    },
    "language_info": {
      "name": "python"
    },
    "accelerator": "GPU"
  },
  "cells": [
    {
      "cell_type": "markdown",
      "metadata": {
        "id": "view-in-github",
        "colab_type": "text"
      },
      "source": [
        "<a href=\"https://colab.research.google.com/github/takky0330/wisper/blob/main/intervviewZero.ipynb\" target=\"_parent\"><img src=\"https://colab.research.google.com/assets/colab-badge.svg\" alt=\"Open In Colab\"/></a>"
      ]
    },
    {
      "cell_type": "code",
      "execution_count": null,
      "metadata": {
        "id": "N_oGHqinTJxz",
        "colab": {
          "base_uri": "https://localhost:8080/"
        },
        "outputId": "d055eb7a-617a-4074-d47b-a0e262dd0b2e"
      },
      "outputs": [
        {
          "output_type": "stream",
          "name": "stdout",
          "text": [
            "Collecting git+https://github.com/jianfch/stable-ts.git\n",
            "  Cloning https://github.com/jianfch/stable-ts.git to /tmp/pip-req-build-xrq94fxs\n",
            "  Running command git clone --filter=blob:none --quiet https://github.com/jianfch/stable-ts.git /tmp/pip-req-build-xrq94fxs\n",
            "  Resolved https://github.com/jianfch/stable-ts.git to commit 7dab1714c5915e3efe070ae697ade1d04f5c8c42\n",
            "  Preparing metadata (setup.py) ... \u001b[?25l\u001b[?25hdone\n",
            "Requirement already satisfied: numpy in /usr/local/lib/python3.10/dist-packages (from stable-ts==2.17.5) (1.26.4)\n",
            "Requirement already satisfied: torch in /usr/local/lib/python3.10/dist-packages (from stable-ts==2.17.5) (2.5.1+cu121)\n",
            "Requirement already satisfied: torchaudio in /usr/local/lib/python3.10/dist-packages (from stable-ts==2.17.5) (2.5.1+cu121)\n",
            "Requirement already satisfied: tqdm in /usr/local/lib/python3.10/dist-packages (from stable-ts==2.17.5) (4.66.6)\n",
            "Collecting openai-whisper<=20240930,>=20230314 (from stable-ts==2.17.5)\n",
            "  Downloading openai-whisper-20240930.tar.gz (800 kB)\n",
            "\u001b[2K     \u001b[90m━━━━━━━━━━━━━━━━━━━━━━━━━━━━━━━━━━━━━━━━\u001b[0m \u001b[32m800.5/800.5 kB\u001b[0m \u001b[31m45.8 MB/s\u001b[0m eta \u001b[36m0:00:00\u001b[0m\n",
            "\u001b[?25h  Installing build dependencies ... \u001b[?25l\u001b[?25hdone\n",
            "  Getting requirements to build wheel ... \u001b[?25l\u001b[?25hdone\n",
            "  Preparing metadata (pyproject.toml) ... \u001b[?25l\u001b[?25hdone\n",
            "Requirement already satisfied: numba in /usr/local/lib/python3.10/dist-packages (from openai-whisper<=20240930,>=20230314->stable-ts==2.17.5) (0.60.0)\n",
            "Requirement already satisfied: more-itertools in /usr/local/lib/python3.10/dist-packages (from openai-whisper<=20240930,>=20230314->stable-ts==2.17.5) (10.5.0)\n",
            "Collecting tiktoken (from openai-whisper<=20240930,>=20230314->stable-ts==2.17.5)\n",
            "  Downloading tiktoken-0.8.0-cp310-cp310-manylinux_2_17_x86_64.manylinux2014_x86_64.whl.metadata (6.6 kB)\n",
            "Collecting triton>=2.0.0 (from openai-whisper<=20240930,>=20230314->stable-ts==2.17.5)\n",
            "  Downloading triton-3.1.0-cp310-cp310-manylinux_2_17_x86_64.manylinux2014_x86_64.whl.metadata (1.3 kB)\n",
            "Requirement already satisfied: filelock in /usr/local/lib/python3.10/dist-packages (from torch->stable-ts==2.17.5) (3.16.1)\n",
            "Requirement already satisfied: typing-extensions>=4.8.0 in /usr/local/lib/python3.10/dist-packages (from torch->stable-ts==2.17.5) (4.12.2)\n",
            "Requirement already satisfied: networkx in /usr/local/lib/python3.10/dist-packages (from torch->stable-ts==2.17.5) (3.4.2)\n",
            "Requirement already satisfied: jinja2 in /usr/local/lib/python3.10/dist-packages (from torch->stable-ts==2.17.5) (3.1.4)\n",
            "Requirement already satisfied: fsspec in /usr/local/lib/python3.10/dist-packages (from torch->stable-ts==2.17.5) (2024.10.0)\n",
            "Requirement already satisfied: sympy==1.13.1 in /usr/local/lib/python3.10/dist-packages (from torch->stable-ts==2.17.5) (1.13.1)\n",
            "Requirement already satisfied: mpmath<1.4,>=1.1.0 in /usr/local/lib/python3.10/dist-packages (from sympy==1.13.1->torch->stable-ts==2.17.5) (1.3.0)\n",
            "Requirement already satisfied: MarkupSafe>=2.0 in /usr/local/lib/python3.10/dist-packages (from jinja2->torch->stable-ts==2.17.5) (3.0.2)\n",
            "Requirement already satisfied: llvmlite<0.44,>=0.43.0dev0 in /usr/local/lib/python3.10/dist-packages (from numba->openai-whisper<=20240930,>=20230314->stable-ts==2.17.5) (0.43.0)\n",
            "Requirement already satisfied: regex>=2022.1.18 in /usr/local/lib/python3.10/dist-packages (from tiktoken->openai-whisper<=20240930,>=20230314->stable-ts==2.17.5) (2024.9.11)\n",
            "Requirement already satisfied: requests>=2.26.0 in /usr/local/lib/python3.10/dist-packages (from tiktoken->openai-whisper<=20240930,>=20230314->stable-ts==2.17.5) (2.32.3)\n",
            "Requirement already satisfied: charset-normalizer<4,>=2 in /usr/local/lib/python3.10/dist-packages (from requests>=2.26.0->tiktoken->openai-whisper<=20240930,>=20230314->stable-ts==2.17.5) (3.4.0)\n",
            "Requirement already satisfied: idna<4,>=2.5 in /usr/local/lib/python3.10/dist-packages (from requests>=2.26.0->tiktoken->openai-whisper<=20240930,>=20230314->stable-ts==2.17.5) (3.10)\n",
            "Requirement already satisfied: urllib3<3,>=1.21.1 in /usr/local/lib/python3.10/dist-packages (from requests>=2.26.0->tiktoken->openai-whisper<=20240930,>=20230314->stable-ts==2.17.5) (2.2.3)\n",
            "Requirement already satisfied: certifi>=2017.4.17 in /usr/local/lib/python3.10/dist-packages (from requests>=2.26.0->tiktoken->openai-whisper<=20240930,>=20230314->stable-ts==2.17.5) (2024.8.30)\n",
            "Downloading triton-3.1.0-cp310-cp310-manylinux_2_17_x86_64.manylinux2014_x86_64.whl (209.5 MB)\n",
            "\u001b[2K   \u001b[90m━━━━━━━━━━━━━━━━━━━━━━━━━━━━━━━━━━━━━━━━\u001b[0m \u001b[32m209.5/209.5 MB\u001b[0m \u001b[31m4.6 MB/s\u001b[0m eta \u001b[36m0:00:00\u001b[0m\n",
            "\u001b[?25hDownloading tiktoken-0.8.0-cp310-cp310-manylinux_2_17_x86_64.manylinux2014_x86_64.whl (1.2 MB)\n",
            "\u001b[2K   \u001b[90m━━━━━━━━━━━━━━━━━━━━━━━━━━━━━━━━━━━━━━━━\u001b[0m \u001b[32m1.2/1.2 MB\u001b[0m \u001b[31m66.6 MB/s\u001b[0m eta \u001b[36m0:00:00\u001b[0m\n",
            "\u001b[?25hBuilding wheels for collected packages: stable-ts, openai-whisper\n",
            "  Building wheel for stable-ts (setup.py) ... \u001b[?25l\u001b[?25hdone\n",
            "  Created wheel for stable-ts: filename=stable_ts-2.17.5-py3-none-any.whl size=136044 sha256=4116b38492e8da2fbc4f85ff4d6e04ac50fb6f2dc00479b6b42daedd3898a613\n",
            "  Stored in directory: /tmp/pip-ephem-wheel-cache-4nykvp16/wheels/5a/48/64/a463d57ac05105e1692e3649ca76cea98a8867262d7b32dd86\n",
            "  Building wheel for openai-whisper (pyproject.toml) ... \u001b[?25l\u001b[?25hdone\n",
            "  Created wheel for openai-whisper: filename=openai_whisper-20240930-py3-none-any.whl size=803320 sha256=6c31b1fc5d0143cdb753eb310c01098bc7010e72652ff67af10ce24313b1f0a7\n",
            "  Stored in directory: /root/.cache/pip/wheels/dd/4a/1f/d1c4bf3b9133c8168fe617ed979cab7b14fe381d059ffb9d83\n",
            "Successfully built stable-ts openai-whisper\n",
            "Installing collected packages: triton, tiktoken, openai-whisper, stable-ts\n",
            "Successfully installed openai-whisper-20240930 stable-ts-2.17.5 tiktoken-0.8.0 triton-3.1.0\n"
          ]
        }
      ],
      "source": [
        "#!pip install git+https://github.com/openai/whisper.git\n",
        "!pip install -U git+https://github.com/jianfch/stable-ts.git"
      ]
    },
    {
      "cell_type": "code",
      "source": [
        "!pip install moviepy"
      ],
      "metadata": {
        "id": "iLJk39Pl9X3I"
      },
      "execution_count": null,
      "outputs": []
    },
    {
      "cell_type": "code",
      "source": [
        "!pip install ffmpeg-python"
      ],
      "metadata": {
        "id": "MT_AwBERdCH-"
      },
      "execution_count": null,
      "outputs": []
    },
    {
      "cell_type": "code",
      "source": [
        "#import whisper\n",
        "import stable_whisper\n",
        "import ffmpeg\n",
        "import numpy as np\n",
        "import json, re, os\n",
        "import glob\n",
        "import locale\n",
        "locale.getpreferredencoding = lambda: \"UTF-8\"\n",
        "from moviepy.editor import VideoFileClip\n",
        "from moviepy.editor import AudioFileClip\n",
        "from moviepy.editor import CompositeVideoClip"
      ],
      "metadata": {
        "id": "FBaUgrssTrus"
      },
      "execution_count": null,
      "outputs": []
    },
    {
      "cell_type": "code",
      "source": [
        "!cp ./drive/MyDrive/IZ-2218確認４/*.* ./"
      ],
      "metadata": {
        "id": "8ZZr3sOuBEDU"
      },
      "execution_count": null,
      "outputs": []
    },
    {
      "cell_type": "code",
      "source": [
        "def is_webm(path):\n",
        "    with open('./' + path) as f:\n",
        "        for _line in f:\n",
        "            if _line.rstrip()[-5:] == '.webm':\n",
        "                return True\n",
        "    return False"
      ],
      "metadata": {
        "id": "YiH52CTdeaai"
      },
      "execution_count": null,
      "outputs": []
    },
    {
      "cell_type": "code",
      "source": [
        "def conv_webm(input_file):\n",
        "    #!ffmpeg -allowed_extensions ALL -f hls -i ./drive/MyDrive/IZ-2218確認３/ee93aa2994411ebff28d459c4711228b_1731555758981__uid_s_907719631__uid_e_video.m3u8 -c:v copy -y ./ee93aa2994411ebff28d459c4711228b_1731555758981__uid_s_907719631__uid_e_video.webm\n",
        "    webm_tmp = \"./video_tmp.webm\"\n",
        "    try:\n",
        "        (\n",
        "            ffmpeg\n",
        "            .input('./' + input_file, allowed_extensions='ALL')\n",
        "            .output(webm_tmp, vcodec=\"copy\")\n",
        "            .overwrite_output()\n",
        "            .run(capture_stderr=True, capture_stdout=True)\n",
        "        )\n",
        "        _clip = VideoFileClip(webm_tmp)\n",
        "    except ffmpeg.Error as e:\n",
        "        #print(f\"{e.stderr.decode()}\")\n",
        "        #print(f\"標準出力: {e.stdout.decode()}\")\n",
        "        _clip = None\n",
        "    return _clip"
      ],
      "metadata": {
        "id": "9o52BsqOfiQV"
      },
      "execution_count": null,
      "outputs": []
    },
    {
      "cell_type": "code",
      "source": [
        "def get_video_list(path):\n",
        "    video_path = f'{path}*_video.m3u8'\n",
        "    video_paths = glob.glob(video_path)\n",
        "    video_paths.sort()\n",
        "    return video_paths\n",
        "def get_audio_list(path):\n",
        "    audio_path = f'{path}*_audio.m3u8'\n",
        "    audio_paths = glob.glob(audio_path)\n",
        "    audio_paths.sort()\n",
        "    return audio_paths"
      ],
      "metadata": {
        "id": "4DqRD33Bh4yy"
      },
      "execution_count": null,
      "outputs": []
    },
    {
      "cell_type": "code",
      "source": [
        "def get_speaker_monitor(result, sorted, video_paths):\n",
        "    prog = re.compile('教えて|聞か|聞き|願い|ください|ですか(?!ね)|でしょうか(?!ね)|ましたか|されましたか|いつ頃')\n",
        "    character = {}\n",
        "    INT_COUNT = []\n",
        "    for c in range(len(result)):\n",
        "        INT_COUNT.append([0, 0, 0, ''])\n",
        "    for srt, end, txt, spk in sorted:\n",
        "        count = len(prog.findall(txt))\n",
        "        spk_no = int(spk.split('_')[-1])\n",
        "        INT_COUNT[spk_no][0] += 1\n",
        "        INT_COUNT[spk_no][3] = spk\n",
        "        if count > 0:\n",
        "            INT_COUNT[spk_no][1] += count\n",
        "    for c, cnt in enumerate(INT_COUNT):\n",
        "        INT_COUNT[c][2] = cnt[1] / cnt[0]\n",
        "    INT_COUNT.index(min(INT_COUNT))\n",
        "\n",
        "    rate = [c[2] for c in INT_COUNT]\n",
        "    min_index = rate.index(min(rate))\n",
        "\n",
        "    for i, intv in enumerate(INT_COUNT):\n",
        "        user_id = audio_paths[i].split('_')[-5]\n",
        "        if i == min_index:\n",
        "            character[intv[3]] = {'character': \"モニター\", 'user_id': user_id}\n",
        "        else:\n",
        "            character[intv[3]] = {'character': \"インタビューア_\" + intv[3].split('_')[-1], 'user_id': user_id}\n",
        "    return character"
      ],
      "metadata": {
        "id": "1TYp74Tq4LTm"
      },
      "execution_count": null,
      "outputs": []
    },
    {
      "cell_type": "code",
      "source": [
        "path = './'\n",
        "video_paths = get_video_list(path)\n",
        "audio_paths = get_audio_list(path)\n",
        "interview_vido_name = '_'.join(video_paths[0].split('/')[1].split('_')[0: 2]) + '.mp4'\n",
        "interview_json_name = '_'.join(video_paths[0].split('/')[1].split('_')[0: 2]) + '.json'"
      ],
      "metadata": {
        "id": "XT68uSsBMEwJ"
      },
      "execution_count": null,
      "outputs": []
    },
    {
      "cell_type": "code",
      "source": [
        "video = []\n",
        "for video_path in video_paths:\n",
        "    _video = conv_webm(video_path) if is_webm(video_path) else VideoFileClip(video_path)\n",
        "    video.append(_video)"
      ],
      "metadata": {
        "id": "p2r1n94mMKzy",
        "collapsed": true
      },
      "execution_count": null,
      "outputs": []
    },
    {
      "cell_type": "code",
      "source": [
        "audio = []\n",
        "wav_paths = []\n",
        "for audio_path in audio_paths:\n",
        "    wav_path = '.'.join(audio_path.split('.')[:-1]) + '.wav'\n",
        "    audio_tmp = AudioFileClip(audio_path)\n",
        "    audio_tmp.write_audiofile(wav_path, ffmpeg_params=[\"-ac\", \"1\"])\n",
        "    audio.append(audio_tmp)\n",
        "    wav_paths.append(wav_path)\n",
        "print(audio)"
      ],
      "metadata": {
        "id": "3JW5DgVSK5AU"
      },
      "execution_count": null,
      "outputs": []
    },
    {
      "cell_type": "code",
      "source": [
        "model = stable_whisper.load_model('large')\n",
        "stable_whisper.modify_model(model)"
      ],
      "metadata": {
        "id": "tQ_TEOh7swqx"
      },
      "execution_count": null,
      "outputs": []
    },
    {
      "cell_type": "code",
      "source": [
        "asr_result = []\n",
        "for wav_patn in wav_paths:\n",
        "    print(f'\\n---- {wav_patn} ----')\n",
        "    _result = model.transcribe(wav_patn, verbose=True, fp16=False, language=\"ja\", word_timestamps=True)\n",
        "    asr_result.append(_result)"
      ],
      "metadata": {
        "id": "v-IhvxuSHL72"
      },
      "execution_count": null,
      "outputs": []
    },
    {
      "cell_type": "code",
      "source": [
        "_seg = []\n",
        "for spk, res in enumerate(asr_result):\n",
        "    for seg in res.segments:\n",
        "        _seg.append([seg.start, seg.end, seg.text, f'speaker_{format(spk, \"02\") }'])"
      ],
      "metadata": {
        "id": "e-ve0CjbIy0q"
      },
      "execution_count": null,
      "outputs": []
    },
    {
      "cell_type": "code",
      "source": [
        "segments_sorted = sorted(_seg, key=lambda x:(x[0], x[1]))"
      ],
      "metadata": {
        "id": "BhIidIwe7kwi"
      },
      "execution_count": null,
      "outputs": []
    },
    {
      "cell_type": "code",
      "source": [
        "characters = get_speaker_monitor(asr_result, segments_sorted, video_paths)\n",
        "characters"
      ],
      "metadata": {
        "id": "IhxE59xwwZx1"
      },
      "execution_count": null,
      "outputs": []
    },
    {
      "cell_type": "code",
      "source": [
        "InterReview_json = {\"movie_name\": interview_vido_name}\n",
        "speak_json = []\n",
        "for start, end, text, speaker in segments_sorted:\n",
        "    _speak = {\"start\": f'{start:.2f}s', \"end\": f'{end:.2f}s', 'speaker': characters[speaker]['character'], 'speak': text}\n",
        "    speak_json.append(_speak)\n",
        "InterReview_json['InterReview'] = speak_json\n",
        "\n",
        "with open('./' + interview_json_name, 'w', encoding='utf-8') as f:\n",
        "    json.dump(InterReview_json, f, indent=4, ensure_ascii=False)\n"
      ],
      "metadata": {
        "id": "Q3H660Ljx-XY"
      },
      "execution_count": null,
      "outputs": []
    },
    {
      "cell_type": "code",
      "source": [],
      "metadata": {
        "id": "YBRHKdNjXd-T"
      },
      "execution_count": null,
      "outputs": []
    },
    {
      "cell_type": "code",
      "source": [
        "video_part = []\n",
        "cnt = 1\n",
        "for c, char in enumerate(characters):\n",
        "    if char['character'] == 'モニタ':\n",
        "        video_part[0] = video[c]\n",
        "    else:\n",
        "        video_part[cnt] = cideo[c]\n",
        "        cnt += 1"
      ],
      "metadata": {
        "id": "lR1jYPl1XeNG"
      },
      "execution_count": null,
      "outputs": []
    },
    {
      "cell_type": "code",
      "source": [
        "w,h = moviesize = video_part[0].size\n",
        "wipe_w = 128\n",
        "wipe_h = 72\n",
        "wipe_margin_right = 4\n",
        "wipe_margin_top = 4\n",
        "wipe = []\n",
        "for v in range(len(video_part) - 1):\n",
        "    _wipe = (video_part[v + 1].\n",
        "            resize((wipe_w, wipe_h)).\n",
        "            margin(top=wipe_margin_top, right=wipe_margin_right, opacity=0).\n",
        "            set_pos((w - wipe_w - wipe_margin_right, wipe_h * 0 + wipe_margin_right * 1)) )\n",
        "   wipe.append(_wipe)"
      ],
      "metadata": {
        "id": "hnK4Qe3jb17_"
      },
      "execution_count": null,
      "outputs": []
    },
    {
      "cell_type": "code",
      "source": [
        "combined_clip = CompositeVideoClip([video_part[0], wipe1, wipe2])"
      ],
      "metadata": {
        "id": "_l7wwuxgc1M7"
      },
      "execution_count": null,
      "outputs": []
    },
    {
      "cell_type": "code",
      "source": [
        "combined_clip.write_videofile(combined_path, fps=30, audio_codec = 'aac')"
      ],
      "metadata": {
        "id": "KyqTxNMbc-Gx"
      },
      "execution_count": null,
      "outputs": []
    }
  ]
}