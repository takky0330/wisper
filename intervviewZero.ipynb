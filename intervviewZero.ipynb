{
  "nbformat": 4,
  "nbformat_minor": 0,
  "metadata": {
    "colab": {
      "provenance": [],
      "machine_shape": "hm",
      "gpuType": "T4",
      "mount_file_id": "https://github.com/takky0330/wisper/blob/main/intervviewZero.ipynb",
      "authorship_tag": "ABX9TyN1hvgp3u+ivysgw8atSYv7",
      "include_colab_link": true
    },
    "kernelspec": {
      "name": "python3",
      "display_name": "Python 3"
    },
    "language_info": {
      "name": "python"
    },
    "accelerator": "GPU"
  },
  "cells": [
    {
      "cell_type": "markdown",
      "metadata": {
        "id": "view-in-github",
        "colab_type": "text"
      },
      "source": [
        "<a href=\"https://colab.research.google.com/github/takky0330/wisper/blob/main/intervviewZero.ipynb\" target=\"_parent\"><img src=\"https://colab.research.google.com/assets/colab-badge.svg\" alt=\"Open In Colab\"/></a>"
      ]
    },
    {
      "cell_type": "code",
      "execution_count": 40,
      "metadata": {
        "id": "N_oGHqinTJxz",
        "colab": {
          "base_uri": "https://localhost:8080/"
        },
        "outputId": "3e7e0232-cf43-40af-9729-65ab6070f7c1"
      },
      "outputs": [
        {
          "output_type": "stream",
          "name": "stdout",
          "text": [
            "Collecting git+https://github.com/openai/whisper.git\n",
            "  Cloning https://github.com/openai/whisper.git to /tmp/pip-req-build-0jhk54l0\n",
            "  Running command git clone --filter=blob:none --quiet https://github.com/openai/whisper.git /tmp/pip-req-build-0jhk54l0\n",
            "  Resolved https://github.com/openai/whisper.git to commit 173ff7dd1d9fb1c4fddea0d41d704cfefeb8908c\n",
            "  Installing build dependencies ... \u001b[?25l\u001b[?25hdone\n",
            "  Getting requirements to build wheel ... \u001b[?25l\u001b[?25hdone\n",
            "  Preparing metadata (pyproject.toml) ... \u001b[?25l\u001b[?25hdone\n",
            "Requirement already satisfied: numba in /usr/local/lib/python3.10/dist-packages (from openai-whisper==20240930) (0.60.0)\n",
            "Requirement already satisfied: numpy in /usr/local/lib/python3.10/dist-packages (from openai-whisper==20240930) (1.26.4)\n",
            "Requirement already satisfied: torch in /usr/local/lib/python3.10/dist-packages (from openai-whisper==20240930) (2.4.1+cu121)\n",
            "Requirement already satisfied: tqdm in /usr/local/lib/python3.10/dist-packages (from openai-whisper==20240930) (4.66.5)\n",
            "Requirement already satisfied: more-itertools in /usr/local/lib/python3.10/dist-packages (from openai-whisper==20240930) (10.5.0)\n",
            "Requirement already satisfied: tiktoken in /usr/local/lib/python3.10/dist-packages (from openai-whisper==20240930) (0.8.0)\n",
            "Requirement already satisfied: triton>=2.0.0 in /usr/local/lib/python3.10/dist-packages (from openai-whisper==20240930) (3.1.0)\n",
            "Requirement already satisfied: filelock in /usr/local/lib/python3.10/dist-packages (from triton>=2.0.0->openai-whisper==20240930) (3.16.1)\n",
            "Requirement already satisfied: llvmlite<0.44,>=0.43.0dev0 in /usr/local/lib/python3.10/dist-packages (from numba->openai-whisper==20240930) (0.43.0)\n",
            "Requirement already satisfied: regex>=2022.1.18 in /usr/local/lib/python3.10/dist-packages (from tiktoken->openai-whisper==20240930) (2024.9.11)\n",
            "Requirement already satisfied: requests>=2.26.0 in /usr/local/lib/python3.10/dist-packages (from tiktoken->openai-whisper==20240930) (2.32.3)\n",
            "Requirement already satisfied: typing-extensions>=4.8.0 in /usr/local/lib/python3.10/dist-packages (from torch->openai-whisper==20240930) (4.12.2)\n",
            "Requirement already satisfied: sympy in /usr/local/lib/python3.10/dist-packages (from torch->openai-whisper==20240930) (1.13.3)\n",
            "Requirement already satisfied: networkx in /usr/local/lib/python3.10/dist-packages (from torch->openai-whisper==20240930) (3.3)\n",
            "Requirement already satisfied: jinja2 in /usr/local/lib/python3.10/dist-packages (from torch->openai-whisper==20240930) (3.1.4)\n",
            "Requirement already satisfied: fsspec in /usr/local/lib/python3.10/dist-packages (from torch->openai-whisper==20240930) (2024.6.1)\n",
            "Requirement already satisfied: charset-normalizer<4,>=2 in /usr/local/lib/python3.10/dist-packages (from requests>=2.26.0->tiktoken->openai-whisper==20240930) (3.3.2)\n",
            "Requirement already satisfied: idna<4,>=2.5 in /usr/local/lib/python3.10/dist-packages (from requests>=2.26.0->tiktoken->openai-whisper==20240930) (3.10)\n",
            "Requirement already satisfied: urllib3<3,>=1.21.1 in /usr/local/lib/python3.10/dist-packages (from requests>=2.26.0->tiktoken->openai-whisper==20240930) (2.2.3)\n",
            "Requirement already satisfied: certifi>=2017.4.17 in /usr/local/lib/python3.10/dist-packages (from requests>=2.26.0->tiktoken->openai-whisper==20240930) (2024.8.30)\n",
            "Requirement already satisfied: MarkupSafe>=2.0 in /usr/local/lib/python3.10/dist-packages (from jinja2->torch->openai-whisper==20240930) (2.1.5)\n",
            "Requirement already satisfied: mpmath<1.4,>=1.1.0 in /usr/local/lib/python3.10/dist-packages (from sympy->torch->openai-whisper==20240930) (1.3.0)\n"
          ]
        }
      ],
      "source": [
        "!pip install git+https://github.com/openai/whisper.git"
      ]
    },
    {
      "cell_type": "code",
      "source": [
        "!pip install moviepy"
      ],
      "metadata": {
        "id": "iLJk39Pl9X3I",
        "colab": {
          "base_uri": "https://localhost:8080/"
        },
        "outputId": "943dbdeb-4494-4653-e621-77fdfd5c24a4"
      },
      "execution_count": 41,
      "outputs": [
        {
          "output_type": "stream",
          "name": "stdout",
          "text": [
            "Requirement already satisfied: moviepy in /usr/local/lib/python3.10/dist-packages (1.0.3)\n",
            "Requirement already satisfied: decorator<5.0,>=4.0.2 in /usr/local/lib/python3.10/dist-packages (from moviepy) (4.4.2)\n",
            "Requirement already satisfied: tqdm<5.0,>=4.11.2 in /usr/local/lib/python3.10/dist-packages (from moviepy) (4.66.5)\n",
            "Requirement already satisfied: requests<3.0,>=2.8.1 in /usr/local/lib/python3.10/dist-packages (from moviepy) (2.32.3)\n",
            "Requirement already satisfied: proglog<=1.0.0 in /usr/local/lib/python3.10/dist-packages (from moviepy) (0.1.10)\n",
            "Requirement already satisfied: numpy>=1.17.3 in /usr/local/lib/python3.10/dist-packages (from moviepy) (1.26.4)\n",
            "Requirement already satisfied: imageio<3.0,>=2.5 in /usr/local/lib/python3.10/dist-packages (from moviepy) (2.35.1)\n",
            "Requirement already satisfied: imageio-ffmpeg>=0.2.0 in /usr/local/lib/python3.10/dist-packages (from moviepy) (0.5.1)\n",
            "Requirement already satisfied: pillow>=8.3.2 in /usr/local/lib/python3.10/dist-packages (from imageio<3.0,>=2.5->moviepy) (10.4.0)\n",
            "Requirement already satisfied: setuptools in /usr/local/lib/python3.10/dist-packages (from imageio-ffmpeg>=0.2.0->moviepy) (71.0.4)\n",
            "Requirement already satisfied: charset-normalizer<4,>=2 in /usr/local/lib/python3.10/dist-packages (from requests<3.0,>=2.8.1->moviepy) (3.3.2)\n",
            "Requirement already satisfied: idna<4,>=2.5 in /usr/local/lib/python3.10/dist-packages (from requests<3.0,>=2.8.1->moviepy) (3.10)\n",
            "Requirement already satisfied: urllib3<3,>=1.21.1 in /usr/local/lib/python3.10/dist-packages (from requests<3.0,>=2.8.1->moviepy) (2.2.3)\n",
            "Requirement already satisfied: certifi>=2017.4.17 in /usr/local/lib/python3.10/dist-packages (from requests<3.0,>=2.8.1->moviepy) (2024.8.30)\n"
          ]
        }
      ]
    },
    {
      "cell_type": "code",
      "source": [
        "!pip install ffmpeg-python"
      ],
      "metadata": {
        "colab": {
          "base_uri": "https://localhost:8080/"
        },
        "id": "MT_AwBERdCH-",
        "outputId": "7671fd41-fe40-449c-ed76-da3cce2e8cae"
      },
      "execution_count": 42,
      "outputs": [
        {
          "output_type": "stream",
          "name": "stdout",
          "text": [
            "Requirement already satisfied: ffmpeg-python in /usr/local/lib/python3.10/dist-packages (0.2.0)\n",
            "Requirement already satisfied: future in /usr/local/lib/python3.10/dist-packages (from ffmpeg-python) (1.0.0)\n"
          ]
        }
      ]
    },
    {
      "cell_type": "code",
      "source": [
        "import whisper\n",
        "import ffmpeg\n",
        "import numpy as np\n",
        "import json, re, os\n",
        "import glob\n",
        "import locale\n",
        "locale.getpreferredencoding = lambda: \"UTF-8\"\n",
        "from moviepy.editor import VideoFileClip\n",
        "from moviepy.editor import AudioFileClip"
      ],
      "metadata": {
        "id": "FBaUgrssTrus"
      },
      "execution_count": 43,
      "outputs": []
    },
    {
      "cell_type": "code",
      "source": [
        "!cp ./drive/MyDrive/IZ-2218確認３/*.* ./"
      ],
      "metadata": {
        "id": "8ZZr3sOuBEDU"
      },
      "execution_count": 44,
      "outputs": []
    },
    {
      "cell_type": "code",
      "source": [
        "def is_webm(path):\n",
        "    with open('./' + path) as f:\n",
        "        for _line in f:\n",
        "            if _line.rstrip()[-5:] == '.webm':\n",
        "                return True\n",
        "    return False"
      ],
      "metadata": {
        "id": "YiH52CTdeaai"
      },
      "execution_count": 45,
      "outputs": []
    },
    {
      "cell_type": "code",
      "source": [
        "def conv_webm(input_file):\n",
        "    #!ffmpeg -allowed_extensions ALL -f hls -i ./drive/MyDrive/IZ-2218確認３/ee93aa2994411ebff28d459c4711228b_1731555758981__uid_s_907719631__uid_e_video.m3u8 -c:v copy -y ./ee93aa2994411ebff28d459c4711228b_1731555758981__uid_s_907719631__uid_e_video.webm\n",
        "    webm_tmp = \"./video_tmp.webm\"\n",
        "    try:\n",
        "        (\n",
        "            ffmpeg\n",
        "            .input('./' + input_file, allowed_extensions='ALL')\n",
        "            .output(webm_tmp, vcodec=\"copy\")\n",
        "            .overwrite_output()\n",
        "            .run(capture_stderr=True, capture_stdout=True)\n",
        "        )\n",
        "        _clip = VideoFileClip(webm_tmp)\n",
        "    except ffmpeg.Error as e:\n",
        "        #print(f\"{e.stderr.decode()}\")\n",
        "        #print(f\"標準出力: {e.stdout.decode()}\")\n",
        "        _clip = None\n",
        "    return _clip"
      ],
      "metadata": {
        "id": "9o52BsqOfiQV"
      },
      "execution_count": 46,
      "outputs": []
    },
    {
      "cell_type": "code",
      "source": [
        "def get_video_list(path):\n",
        "    video_path = f'{path}*_video.m3u8'\n",
        "    video_paths = glob.glob(video_path)\n",
        "    video_paths.sort()\n",
        "    return video_paths\n",
        "def get_audio_list(path):\n",
        "    audio_path = f'{path}*_audio.m3u8'\n",
        "    audio_paths = glob.glob(audio_path)\n",
        "    audio_paths.sort()\n",
        "    return audio_paths"
      ],
      "metadata": {
        "id": "4DqRD33Bh4yy"
      },
      "execution_count": 47,
      "outputs": []
    },
    {
      "cell_type": "code",
      "source": [
        "path = './'\n",
        "video_paths = get_video_list(path)\n",
        "audio_paths = get_audio_list(path)"
      ],
      "metadata": {
        "id": "XT68uSsBMEwJ"
      },
      "execution_count": 48,
      "outputs": []
    },
    {
      "cell_type": "code",
      "source": [
        "video = []\n",
        "for video_path in video_paths:\n",
        "    _video = conv_webm(video_path) if is_webm(video_path) else VideoFileClip(video_path)\n",
        "    video.append(_video)\n",
        "print(video)"
      ],
      "metadata": {
        "id": "p2r1n94mMKzy",
        "collapsed": true,
        "colab": {
          "base_uri": "https://localhost:8080/"
        },
        "outputId": "0052c829-3b47-46ea-e2b0-8a6511538f93"
      },
      "execution_count": 49,
      "outputs": [
        {
          "output_type": "stream",
          "name": "stdout",
          "text": [
            "[<moviepy.video.io.VideoFileClip.VideoFileClip object at 0x7be7c98c35b0>, <moviepy.video.io.VideoFileClip.VideoFileClip object at 0x7be6d29a4fa0>, <moviepy.video.io.VideoFileClip.VideoFileClip object at 0x7be778b2b6a0>]\n"
          ]
        }
      ]
    },
    {
      "cell_type": "code",
      "source": [
        "audio = []\n",
        "wav_paths = []\n",
        "for audio_path in audio_paths:\n",
        "    wav_path = '.'.join(audio_path.split('.')[:-1]) + '.wav'\n",
        "    audio_tmp = AudioFileClip(audio_path)\n",
        "    audio_tmp.write_audiofile(wav_path, ffmpeg_params=[\"-ac\", \"1\"])\n",
        "    audio.append(audio_tmp)\n",
        "    wav_paths.append(wav_path)\n",
        "print(audio)"
      ],
      "metadata": {
        "id": "3JW5DgVSK5AU",
        "colab": {
          "base_uri": "https://localhost:8080/"
        },
        "outputId": "39c47fec-8c31-4878-da94-98f2555337d8"
      },
      "execution_count": 54,
      "outputs": [
        {
          "output_type": "stream",
          "name": "stdout",
          "text": [
            "MoviePy - Writing audio in ./ee93aa2994411ebff28d459c4711228b_1731555758981__uid_s_369679075__uid_e_audio.wav\n"
          ]
        },
        {
          "output_type": "stream",
          "name": "stderr",
          "text": []
        },
        {
          "output_type": "stream",
          "name": "stdout",
          "text": [
            "MoviePy - Done.\n",
            "MoviePy - Writing audio in ./ee93aa2994411ebff28d459c4711228b_1731555758981__uid_s_462504175__uid_e_audio.wav\n"
          ]
        },
        {
          "output_type": "stream",
          "name": "stderr",
          "text": []
        },
        {
          "output_type": "stream",
          "name": "stdout",
          "text": [
            "MoviePy - Done.\n",
            "MoviePy - Writing audio in ./ee93aa2994411ebff28d459c4711228b_1731555758981__uid_s_907719631__uid_e_audio.wav\n"
          ]
        },
        {
          "output_type": "stream",
          "name": "stderr",
          "text": [
            "                                                                        "
          ]
        },
        {
          "output_type": "stream",
          "name": "stdout",
          "text": [
            "MoviePy - Done.\n",
            "[<moviepy.audio.io.AudioFileClip.AudioFileClip object at 0x7be6d2a305e0>, <moviepy.audio.io.AudioFileClip.AudioFileClip object at 0x7be6c0287130>, <moviepy.audio.io.AudioFileClip.AudioFileClip object at 0x7be6c9b7cd60>]\n"
          ]
        },
        {
          "output_type": "stream",
          "name": "stderr",
          "text": [
            "\r"
          ]
        }
      ]
    },
    {
      "cell_type": "code",
      "source": [
        "\n",
        "\n",
        "\n",
        "\n",
        "\n"
      ],
      "metadata": {
        "id": "YyZDL6H4Nl7L"
      },
      "execution_count": null,
      "outputs": []
    },
    {
      "cell_type": "code",
      "source": [
        "model = whisper.load_model(\"large\")"
      ],
      "metadata": {
        "id": "tQ_TEOh7swqx",
        "outputId": "6f521d68-7a56-4120-998f-0e0c0b3ff401",
        "colab": {
          "base_uri": "https://localhost:8080/"
        }
      },
      "execution_count": 51,
      "outputs": [
        {
          "output_type": "stream",
          "name": "stderr",
          "text": [
            "100%|██████████████████████████████████████| 2.88G/2.88G [00:19<00:00, 155MiB/s]\n",
            "WARNING:py.warnings:/usr/local/lib/python3.10/dist-packages/whisper/__init__.py:150: FutureWarning: You are using `torch.load` with `weights_only=False` (the current default value), which uses the default pickle module implicitly. It is possible to construct malicious pickle data which will execute arbitrary code during unpickling (See https://github.com/pytorch/pytorch/blob/main/SECURITY.md#untrusted-models for more details). In a future release, the default value for `weights_only` will be flipped to `True`. This limits the functions that could be executed during unpickling. Arbitrary objects will no longer be allowed to be loaded via this mode unless they are explicitly allowlisted by the user via `torch.serialization.add_safe_globals`. We recommend you start setting `weights_only=True` for any use case where you don't have full control of the loaded file. Please open an issue on GitHub for any issues related to this experimental feature.\n",
            "  checkpoint = torch.load(fp, map_location=device)\n",
            "\n"
          ]
        }
      ]
    },
    {
      "cell_type": "code",
      "source": [
        "asr_result = []\n",
        "for wav_patn in wav_paths:\n",
        "    print(f'---- {wav_patn} ----')\n",
        "    _result = model.transcribe(wav_patn, verbose=True, fp16=False, language=\"ja\", word_timestamps=True)\n",
        "    asr_result.append(_result)"
      ],
      "metadata": {
        "id": "v-IhvxuSHL72",
        "colab": {
          "base_uri": "https://localhost:8080/"
        },
        "outputId": "919c36bd-28c7-423e-f267-de7e81283040"
      },
      "execution_count": 56,
      "outputs": [
        {
          "output_type": "stream",
          "name": "stdout",
          "text": [
            "---- ./ee93aa2994411ebff28d459c4711228b_1731555758981__uid_s_369679075__uid_e_audio.wav ----\n",
            "[00:19.360 --> 00:21.520] お疲れ様です\n",
            "[00:21.520 --> 00:24.320] 今日はいつも\n",
            "[00:24.320 --> 00:26.160] いつもじゃないんですけれども\n",
            "[00:26.160 --> 00:28.360] 今日もちょっと30分ぐらいの\n",
            "[00:28.360 --> 00:31.960] インタビューをさせていただきたいなと思います\n",
            "[00:34.500 --> 00:39.020] 今日のタイトルに関しては\n",
            "[00:39.020 --> 00:40.380] 少々お待ちください\n",
            "[00:41.000 --> 00:42.360] 今出します\n",
            "[00:53.200 --> 00:55.200] 上平さんは\n",
            "[00:55.200 --> 00:57.140] ホットペーパーデューティーを\n",
            "[00:57.140 --> 00:58.260] 使っていらっしゃいます\n",
            "[00:58.260 --> 00:58.560] いらっしゃいますか\n",
            "[01:00.600 --> 01:01.200] はい\n",
            "[01:02.220 --> 01:03.500] それでは少し\n",
            "[01:04.260 --> 01:07.140] 質問をさせていただきます\n",
            "[01:23.820 --> 01:25.860] 上平さんすみません\n",
            "[01:25.860 --> 01:26.720] 質問します\n",
            "[01:28.260 --> 01:29.520] ホットペーパーデューティーで\n",
            "[01:29.520 --> 01:31.980] 予約したことのあるジャンルを\n",
            "[01:31.980 --> 01:32.980] 教えてください\n",
            "[01:34.000 --> 01:35.900] これから複数\n",
            "[01:35.900 --> 01:38.100] 候補を読み上げます\n",
            "[01:38.760 --> 01:39.360] そして\n",
            "[01:39.360 --> 01:41.920] はいと言えて答えてください\n",
            "[01:44.160 --> 01:45.760] 部屋の\n",
            "[01:45.760 --> 01:47.440] 美容室\n",
            "[01:47.440 --> 01:48.800] 利用室\n",
            "[01:49.860 --> 01:51.940] 予約したことありますか\n",
            "[01:53.300 --> 01:53.900] はい\n",
            "[01:55.960 --> 01:57.480] 高橋さん\n",
            "[01:57.480 --> 01:58.080] なんか\n",
            "[01:58.260 --> 01:58.940] 音が\n",
            "[01:58.940 --> 02:01.120] 羽織っているかもしれないですね\n",
            "[02:01.900 --> 02:03.860] なんかチームズからの着地\n",
            "[02:04.440 --> 02:06.020] はいお願いします\n",
            "[02:06.680 --> 02:12.020] はいお願いします\n",
            "[02:23.660 --> 02:25.440] 上平さんすみません\n",
            "[02:26.020 --> 02:27.240] 引き続き\n",
            "[02:27.240 --> 02:28.240] 質問をさせていただきます\n",
            "[02:29.880 --> 02:31.200] ネイルの\n",
            "[02:31.200 --> 02:33.020] ジェルネイルなど\n",
            "[02:33.020 --> 02:35.420] 予約したことございますか\n",
            "[02:37.980 --> 02:39.620] まつげ\n",
            "[02:39.620 --> 02:41.740] まつげエステ\n",
            "[02:41.740 --> 02:43.700] まつげカール\n",
            "[02:43.700 --> 02:46.900] まつげパーマの予約など\n",
            "[02:46.900 --> 02:49.160] したことがありますか\n",
            "[02:51.600 --> 02:53.900] リラクゼーション\n",
            "[02:53.900 --> 02:55.000] マッサージ\n",
            "[02:55.000 --> 02:56.700] 整体など\n",
            "[02:57.500 --> 02:58.240] 予約していますか\n",
            "[02:58.240 --> 03:00.240] 予約したことがありますか\n",
            "[03:04.320 --> 03:06.080] エステ\n",
            "[03:06.080 --> 03:09.300] 美肌エステ\n",
            "[03:09.300 --> 03:11.280] フェイシャルエステ\n",
            "[03:11.280 --> 03:13.880] 小顔矯正など\n",
            "[03:13.880 --> 03:16.880] 予約したことがございますか\n",
            "[03:18.740 --> 03:19.560] はい\n",
            "[03:21.140 --> 03:22.660] その他\n",
            "[03:22.660 --> 03:25.640] ストレッチヨガ\n",
            "[03:25.640 --> 03:27.200] ホットヨガ\n",
            "[03:27.200 --> 03:28.220] ピアノヨガ\n",
            "[03:28.240 --> 03:28.680] メラティス\n",
            "[03:28.680 --> 03:29.940] ステーラル\n",
            "[03:29.940 --> 03:31.820] など予約したことが\n",
            "[03:31.820 --> 03:32.700] ありますか\n",
            "[03:34.800 --> 03:38.000] はいそして一番最後に\n",
            "[03:38.000 --> 03:40.000] ホットペーパービューティー\n",
            "[03:40.000 --> 03:41.700] を利用したのはいつで\n",
            "[03:41.700 --> 03:42.340] しょうか\n",
            "[03:50.200 --> 03:51.240] はいそして\n",
            "[03:52.280 --> 03:55.020] 店で手ぶらでお買い\n",
            "[03:55.020 --> 03:56.140] ケーラできる\n",
            "[03:56.140 --> 03:58.220] ホットペーパービューティーが使えますか\n",
            "[03:58.220 --> 03:59.900] の新しい機能\n",
            "[03:59.900 --> 04:01.820] スマート支払い\n",
            "[04:01.820 --> 04:03.640] という決済方法\n",
            "[04:03.640 --> 04:04.600] ご存知ですか\n",
            "[04:07.800 --> 04:08.440] はい\n",
            "[04:08.440 --> 04:10.700] あるみたいですね\n",
            "[04:11.620 --> 04:12.260] はい\n",
            "[04:13.620 --> 04:14.260] はい\n",
            "[04:16.000 --> 04:17.820] そして今のは\n",
            "[04:18.500 --> 04:20.480] ホットペーパービューティー\n",
            "[04:20.480 --> 04:21.200] に関する\n",
            "[04:22.300 --> 04:24.760] 質問だったんですけれども\n",
            "[04:24.760 --> 04:26.180] もう一つ\n",
            "[04:26.180 --> 04:27.380] 別の\n",
            "[04:27.380 --> 04:29.140] タイトルで\n",
            "[04:29.140 --> 04:31.140] ちょっと質問させて\n",
            "[04:31.140 --> 04:31.960] いただきます\n",
            "[04:34.300 --> 04:36.200] ライフスタイルに\n",
            "[04:36.200 --> 04:36.740] 関する\n",
            "[04:37.460 --> 04:38.460] ことです\n",
            "[04:40.860 --> 04:43.240] 上平さんが\n",
            "[04:43.940 --> 04:45.200] もしくは\n",
            "[04:45.200 --> 04:47.080] 上平さんご自身\n",
            "[04:47.080 --> 04:49.040] および上平さんの\n",
            "[04:51.100 --> 04:53.580] 東京の家族で\n",
            "[04:54.260 --> 04:56.040] どんな\n",
            "[04:56.040 --> 04:57.100] 職\n",
            "[04:57.380 --> 04:58.500] 業種に\n",
            "[04:59.380 --> 05:02.540] 従事されているかを\n",
            "[05:02.540 --> 05:04.540] 質問させていただきます\n",
            "[05:05.180 --> 05:08.020] 製造業の方いらっしゃいますか\n",
            "[05:11.640 --> 05:12.240] 卸\n",
            "[05:12.240 --> 05:14.420] 小売業に\n",
            "[05:15.160 --> 05:17.600] 勤めている方いらっしゃいますか\n",
            "[05:20.380 --> 05:25.060] 出版印刷関連産業の方いらっしゃいますか\n",
            "[05:25.060 --> 05:25.360] はい\n",
            "[05:26.700 --> 05:27.340] はい\n",
            "[05:27.340 --> 05:27.500] はい\n",
            "[05:27.500 --> 05:27.720] はい\n",
            "[05:28.740 --> 05:28.740] はい\n",
            "[05:28.740 --> 05:33.100] ウェブ製作アプリ開発関連の方いらっしゃいますか\n",
            "[05:35.060 --> 05:38.360] サービス業の方いらっしゃいますか\n",
            "[05:40.320 --> 05:40.960] はい\n",
            "[05:42.100 --> 05:44.960] ちなみにこのサービス業って\n",
            "[05:44.960 --> 05:46.180] 具体的に\n",
            "[05:46.900 --> 05:49.640] IT情報通信関連ですか\n",
            "[05:49.640 --> 05:49.940] はい\n",
            "[05:52.640 --> 05:54.460] 飲食系ですか\n",
            "[05:54.460 --> 05:54.960] はい\n",
            "[05:57.400 --> 06:02.320] 旅行宿泊施設ですか\n",
            "[06:04.000 --> 06:08.180] 美容エステに当てはまりますか\n",
            "[06:09.920 --> 06:12.980] はいじゃあ次の質問に行きます\n",
            "[06:16.200 --> 06:20.580] 今同居している家族いらっしゃいますか\n",
            "[06:23.320 --> 06:25.120] はい大丈夫です\n",
            "[06:28.520 --> 06:30.980] 次質問します\n",
            "[06:33.960 --> 06:40.960] 上平さんが今お住まいの形態について聞きます\n",
            "[06:41.940 --> 06:45.540] 1個建てですかマンションアパートですか\n",
            "[06:47.540 --> 06:49.180] マンションは\n",
            "[06:49.180 --> 06:50.560] まとめて住んでいる家族ですか\n",
            "[06:50.560 --> 06:55.660] 1DKですか1LDKですか\n",
            "[06:58.160 --> 07:00.900] 1RMですか1Kですか\n",
            "[07:02.720 --> 07:04.400] はいありがとうございます\n",
            "[07:07.140 --> 07:14.120] 今主にやっている家事とかについて聞きます\n",
            "[07:14.120 --> 07:17.940] 複数選択になりますので\n",
            "[07:17.940 --> 07:20.540] これからこの選択肢を読みます\n",
            "[07:20.560 --> 07:21.040] 読み上げます\n",
            "[07:22.640 --> 07:24.520] 食材を買い物\n",
            "[07:27.860 --> 07:29.760] 料理すること\n",
            "[07:31.320 --> 07:33.220] 初期洗い\n",
            "[07:35.600 --> 07:37.240] 掃除かけしています\n",
            "[07:37.980 --> 07:39.720] 掃除機かけをしています\n",
            "[07:41.340 --> 07:43.120] お風呂掃除していますか\n",
            "[07:44.920 --> 07:47.080] 洗面所掃除していますか\n",
            "[07:48.240 --> 07:50.180] トイレ掃除していますか\n",
            "[07:50.560 --> 07:54.700] がこう見ることじゃなくて\n",
            "[07:54.700 --> 07:58.960] めちゃめちゃ関係ないだろう\n",
            "[07:58.960 --> 08:00.060] この壁純粋 paused\n",
            "[08:00.060 --> 08:02.940] クリーナーこれすもよいで\n",
            "[08:02.940 --> 08:03.500] 切った切りgeben\n",
            "[08:03.500 --> 08:10.720] 手迷った\n",
            "[08:10.720 --> 08:14.840] はっはっはっは\n",
            "[08:14.840 --> 08:15.540] 目立ってください\n",
            "[08:15.540 --> 08:15.540]  morning\n",
            "[08:15.540 --> 08:15.760] character\n",
            "[08:15.760 --> 08:20.080]  Beginner's Day\n",
            "[08:20.080 --> 08:20.540] お imperfection\n",
            "[08:20.540 --> 08:24.860] はい、ゴミ捨てなどしてますか?\n",
            "[08:26.240 --> 08:31.140] 日用品の買い物はどうですか?\n",
            "[08:33.360 --> 08:46.480] はい、そして主に行っている家事について、今困っていて改善したいと思うことがございますか?\n",
            "[08:54.440 --> 08:56.860] なるほど、家事\n",
            "[08:56.860 --> 08:57.680] はい\n",
            "[09:06.940 --> 09:07.980] はい\n",
            "[09:10.980 --> 09:12.940] あー、なるほど\n",
            "[09:14.480 --> 09:15.520] はい\n",
            "[09:16.700 --> 09:17.740] はい\n",
            "[09:18.920 --> 09:20.520] え、ベランダとか?\n",
            "[09:20.540 --> 09:21.660] ベランダとかないですか?\n",
            "[09:27.120 --> 09:28.840] おー、はい\n",
            "[09:31.320 --> 09:32.140] なるほど\n",
            "[09:40.560 --> 09:43.720] あー、そうですね、確かにそうですね\n",
            "[09:43.720 --> 09:48.340] はい、今やっている家事の中で\n",
            "[09:48.340 --> 09:50.520] 工夫していることがあるんですか?\n",
            "[09:50.520 --> 09:51.580] あることがありますか?\n",
            "[10:06.060 --> 10:08.180] えらい、えらいです\n",
            "[10:08.180 --> 10:11.080] えらい、えらいです\n",
            "[10:11.080 --> 10:12.140] はい\n",
            "[10:13.960 --> 10:15.240] えーと\n",
            "[10:17.020 --> 10:20.060] 次の質問に行きます\n",
            "[10:20.060 --> 10:20.500] そうですね\n",
            "[10:20.520 --> 10:23.420] 家事負担を経験するために\n",
            "[10:23.420 --> 10:30.280] 上平さんご自身が導入を検討した家電やサービスなどございますか\n",
            "[10:31.300 --> 10:34.180] 無料有料どっちでも構いません\n",
            "[10:39.520 --> 10:40.100] はい\n",
            "[10:46.940 --> 10:47.640] ああ\n",
            "[10:50.420 --> 10:51.120] はい\n",
            "[10:52.500 --> 10:53.200] ああ\n",
            "[10:54.080 --> 10:54.980] はいはい\n",
            "[10:55.720 --> 10:56.420] ああ\n",
            "[10:58.380 --> 10:59.940] そうなんですね\n",
            "[10:59.940 --> 11:00.740] はい\n",
            "[11:00.740 --> 11:06.100] 例えば家事代行サービスとかをご利用するなど\n",
            "[11:06.100 --> 11:08.300] 考えていますか\n",
            "[11:12.000 --> 11:12.580] はい\n",
            "[11:14.840 --> 11:16.000] えーと\n",
            "[11:17.560 --> 11:21.520] 食卓サービスなどを使っていらっしゃいますか\n",
            "[11:24.520 --> 11:28.680] あとはネットスーパーとか利用していますか\n",
            "[11:33.080 --> 11:33.660] はい\n",
            "[11:34.920 --> 11:35.500] はい\n",
            "[11:35.500 --> 11:35.920] はい\n",
            "[11:41.200 --> 11:41.920] はい\n",
            "[11:44.000 --> 11:45.160] えーと\n",
            "[11:45.160 --> 11:46.060] そして\n",
            "[11:46.060 --> 11:47.740] えーと\n",
            "[11:47.740 --> 11:49.980] これまでに\n",
            "[11:49.980 --> 11:53.260] 家事負担を経験するために\n",
            "[11:53.260 --> 11:56.120] 上平さんがご自身で\n",
            "[11:56.120 --> 11:59.400] 実際導入した家電とか\n",
            "[11:59.400 --> 12:01.400] サービスとかがあれば\n",
            "[12:01.400 --> 12:02.840] 教えてください\n",
            "[12:03.360 --> 12:05.580] 私はいくつかの\n",
            "[12:05.580 --> 12:07.840] 広報を読み上げますね\n",
            "[12:07.840 --> 12:09.160] えーと\n",
            "[12:09.160 --> 12:09.840] まず\n",
            "[12:09.840 --> 12:11.800] まず家電から言います。\n",
            "[12:12.280 --> 12:14.040] ロボット掃除機、\n",
            "[12:17.600 --> 12:19.680] 時短調理家電、\n",
            "[12:23.280 --> 12:24.560] 食器洗い、\n",
            "[12:27.300 --> 12:30.000] ドラム式洗濯機、\n",
            "[12:34.160 --> 12:36.420] アプリサービス、\n",
            "[12:36.480 --> 12:38.920] 家事分担アプリ、\n",
            "[12:43.020 --> 12:43.780] そして、\n",
            "[12:48.200 --> 12:54.480] 食材宅配サービス、\n",
            "[12:54.500 --> 12:59.600] はい、わかりました。\n",
            "[12:59.960 --> 13:00.720] ありがとうございます。\n",
            "[13:02.240 --> 13:06.440] そして自分からの質問は以上となりますが、\n",
            "[13:06.520 --> 13:07.620] すみません。\n",
            "[13:07.680 --> 13:09.820] 次、高橋さんに、\n",
            "[13:09.840 --> 13:11.020] ボールを渡します。\n",
            "[13:11.320 --> 13:12.960] 高橋さん、どうぞ。\n",
            "[13:19.680 --> 13:23.880] 高橋さん、マイクをオンにしていただけますか。\n",
            "[13:29.540 --> 13:30.840] はい、聞こえてます。\n",
            "[13:40.020 --> 13:51.560] じゃあ、 Toddyさん、お答えをお願いします。\n",
            "[13:52.440 --> 13:53.080]  flavor.Dial jouer\n",
            "[13:53.080 --> 13:53.080]  collected.\n",
            "[13:53.080 --> 13:53.300] 渉粉\n",
            "[13:53.300 --> 13:53.460] 密関\n",
            "[13:53.460 --> 13:57.240]  polkasu\n",
            "[13:57.240 --> 13:57.260]  we\n",
            "[13:57.260 --> 13:57.260]  также\n",
            "[13:57.260 --> 13:57.260]  Idable\n",
            "[13:57.260 --> 13:57.520] 皮脂\n",
            "[13:57.520 --> 13:57.520] たる\n",
            "[13:57.520 --> 13:57.520] 色\n",
            "[13:57.520 --> 13:57.520] 鮭\n",
            "[13:57.520 --> 13:57.520] 芹\n",
            "[13:57.520 --> 13:57.520] 細\n",
            "[13:57.520 --> 13:57.520] 味\n",
            "[13:57.520 --> 13:57.520] 塩\n",
            "[13:57.520 --> 13:57.620] 白\n",
            "[13:57.620 --> 13:57.700] 白\n",
            "[13:57.700 --> 13:57.700] マスターガッチ\n",
            "[13:57.700 --> 13:57.700] 血\n",
            "[13:57.700 --> 13:58.020] ク にて、\n",
            "[13:58.020 --> 13:58.020] いく関係なく混ぜます。\n",
            "[13:58.020 --> 13:58.020] 軽触 2006 cm 2 masters\n",
            "[13:58.020 --> 13:58.020] 細文\n",
            "[13:58.020 --> 13:58.020] 我野\n",
            "[14:08.020 --> 14:08.660] 惹\n",
            "[14:08.660 --> 14:08.740] ク やり\n",
            "[14:09.820 --> 14:09.820] 差\n",
            "[14:09.820 --> 14:09.820] と り\n",
            "[14:09.820 --> 14:09.820] 事 spider\n",
            "[14:09.820 --> 14:09.820]  negociation\n",
            "[14:09.820 --> 14:09.820] 植物\n",
            "[14:13.100 --> 14:15.220] 一旦終わりましたら\n",
            "[14:15.220 --> 14:18.500] もう一回今のインタビューの音声に対して\n",
            "[14:18.500 --> 14:23.260] もう一回元を更新しますと\n",
            "[14:23.260 --> 14:25.380] 認識していいですか\n",
            "[14:25.380 --> 14:29.320] はい分かりました\n",
            "[14:29.320 --> 14:32.300] それでは上平さん本日以上で\n",
            "[14:32.300 --> 14:34.240] インタビューを終了したいと思います\n",
            "[14:34.860 --> 14:35.380] ありがとうございました\n",
            "[14:38.800 --> 14:40.360] 大丈夫です\n",
            "[14:40.360 --> 14:41.780] 失礼します\n",
            "---- ./ee93aa2994411ebff28d459c4711228b_1731555758981__uid_s_462504175__uid_e_audio.wav ----\n",
            "[00:00.840 --> 00:09.040] 端末側のマイクドライバーの設定が PCのマイクになってなかったのか\n",
            "[00:11.440 --> 00:14.680] 他のマイク 使ってないマイクに設定されてたから\n",
            "[00:17.540 --> 00:21.500] こういうことあるよね きっと 多分 実際\n",
            "[00:21.880 --> 00:23.800] まあいいや お疲れ様です\n",
            "[00:56.320 --> 00:59.800] ご視聴ありがとうございました\n",
            "[01:11.980 --> 01:24.820] ご視聴ありがとうございました\n",
            "[01:30.000 --> 01:59.980] 自分の環境が無駄です\n",
            "[02:00.000 --> 02:25.720] ご視聴ありがとうございました\n",
            "[02:40.140 --> 02:59.580] ご視聴ありがとうございました\n",
            "[03:28.880 --> 03:29.980] ご視聴ありがとうございました\n",
            "[03:52.960 --> 03:59.980] ご視聴ありがとうございました\n",
            "[04:11.340 --> 04:29.900] ご視聴ありがとうございました\n",
            "[04:39.520 --> 04:59.940] ご視聴ありがとうございました\n",
            "[05:13.980 --> 05:29.900] ご視聴ありがとうございました\n",
            "[05:42.220 --> 05:59.860] ご視聴ありがとうございました\n",
            "[06:11.280 --> 06:29.840] ご視聴ありがとうございました\n",
            "[06:54.840 --> 06:59.980] ご視聴ありがとうございました\n",
            "[07:10.600 --> 07:29.860] ご視聴ありがとうございました\n",
            "[07:54.780 --> 07:59.820] ご視聴ありがとうございました\n",
            "[08:10.840 --> 08:29.840] ご視聴ありがとうございました\n",
            "[08:30.000 --> 08:31.560] ご視聴ありがとうございました\n",
            "[08:31.560 --> 08:31.600] ご視聴ありがとうございました\n",
            "[08:31.600 --> 08:31.600] こんにちは\n",
            "[08:31.600 --> 08:31.600] 働いてる君ですか?\n",
            "[08:32.820 --> 08:33.740] はい\n",
            "[08:35.400 --> 08:41.300] 取り組んでますか?\n",
            "[08:41.420 --> 08:41.420] はい\n",
            "[08:41.420 --> 08:41.420] どうして?\n",
            "[08:41.420 --> 08:41.420] はい\n",
            "[08:41.420 --> 08:41.420]  조 numbers attention\n",
            "[08:41.420 --> 08:41.420] は?\n",
            "[08:41.880 --> 08:46.060] 今ご利用されている洗濯機はいわゆる縦型のものでしょうか\n",
            "[08:46.060 --> 08:47.880] それともドラム式のものでしょうか\n",
            "[08:51.040 --> 08:55.380] 縦型のものご購入してから何年ぐらいご利用されてますか\n",
            "[08:59.680 --> 09:05.700] 今ドラム式洗濯機各メーカーからかなり推してきていると思うんですけども\n",
            "[09:05.700 --> 09:13.060] 洗濯機今のものを買われるときに最も重視した点というのはどこですか\n",
            "[09:23.240 --> 09:26.500] ちなみに今何キロ洗えるものですか\n",
            "[09:33.480 --> 09:34.760] 分かりました\n",
            "[09:34.760 --> 09:34.840] 分かりました\n",
            "[09:34.840 --> 09:35.680] 分かりました\n",
            "[09:35.680 --> 09:42.580] あと先ほどのインタビューの中で乾燥機を購入されたいということをおっしゃられたかと思うんですけども\n",
            "[09:42.580 --> 09:48.140] 現状は洗濯乾燥機は応用されていない\n",
            "[09:50.760 --> 09:52.480] 分かりましたありがとうございます\n",
            "[09:53.740 --> 09:56.540] それでは次掃除機についてご質問させていただきます\n",
            "[09:57.300 --> 10:00.500] 今掃除機もですねいろいろスティックタイプであるとか\n",
            "[10:00.500 --> 10:04.680] 昔からのいわゆるキャニスター式転がしてやるものとか\n",
            "[10:04.680 --> 10:07.880] いろんなタイプございますがどのようなタイプ利用されてますか\n",
            "[10:13.940 --> 10:15.300] スティック型のやつか\n",
            "[10:17.580 --> 10:19.760] どちらのメーカーのものとか分かります\n",
            "[10:28.680 --> 10:30.200] 軽いやつですかね結構ね\n",
            "[10:31.400 --> 10:31.720] はい\n",
            "[10:32.860 --> 10:34.400] バッテリー式のものですか\n",
            "[10:34.400 --> 10:35.200] それとも有線\n",
            "[10:41.340 --> 10:43.180] もう今何年ぐらいお使いですか\n",
            "[10:48.340 --> 10:50.420] 分かりました\n",
            "[10:53.020 --> 10:58.320] 掃除機を購入されるときやはり一番重視されたものというのはどちらでしょうか\n",
            "[11:01.460 --> 11:02.920] 今のありがたいですよ\n",
            "[11:02.920 --> 11:04.380] 今のありがたいですよ\n",
            "[11:04.380 --> 11:04.380] 今のありがたいですよ\n",
            "[11:04.380 --> 11:04.380] 今のありがたいですよ\n",
            "[11:04.380 --> 11:10.720] あれですか家電って結構今ご引越しされて今お住まいのところに入られるときに揃えたみたいな感じですかね\n",
            "[11:12.020 --> 11:15.660] 分かりましたありがとうございます\n",
            "[11:16.500 --> 11:19.780] 次にまだ家電製品シリーズ大変恐縮ですが\n",
            "[11:21.140 --> 11:23.120] 今お使いの電子レンジ\n",
            "[11:24.120 --> 11:26.120] 電子レンジをご利用だと思うんですけども\n",
            "[11:26.120 --> 11:31.200] 電子レンジを購入する際に最も注目した点というのはどちらですか\n",
            "[11:31.200 --> 11:32.760] やはりお値段とかですかね\n",
            "[11:38.400 --> 11:42.440] 基本的に電子レンジもですね高機能なものから\n",
            "[11:42.440 --> 11:46.720] 本当に温めるだけのものからいろいろあるかと思うんですけども\n",
            "[11:47.340 --> 11:48.940] 今どのようなタイプ\n",
            "[11:51.120 --> 11:54.360] どのような機能がついたものを利用されてますか\n",
            "[11:55.860 --> 11:56.200] はい\n",
            "[12:00.680 --> 12:04.360] タウンテーブル式のものでしょうかそれとも固定式のものでしょうか\n",
            "[12:04.360 --> 12:04.360] タウンテーブル式のものでしょうかそれとも固定式のものでしょうか\n",
            "[12:04.360 --> 12:04.360] それとも固定式のものでしょうか\n",
            "[12:06.160 --> 12:06.960] 固定式です\n",
            "[12:07.980 --> 12:09.680] はい分かりました\n",
            "[12:10.280 --> 12:12.580] 続いてまた家電シリーズですが\n",
            "[12:13.420 --> 12:16.880] テレビをご利用されてますかお持ちですか\n",
            "[12:18.320 --> 12:22.660] はいテレビについては液晶テレビかと思うんですけども\n",
            "[12:22.660 --> 12:26.300] 画面のサイズは何インチのものをご利用されてますか\n",
            "[12:31.580 --> 12:33.540] メーカー名とか分かりますか\n",
            "[12:33.960 --> 12:34.360] メーカー名とか分かりますか\n",
            "[12:34.360 --> 12:34.360] メーカー名とか分かりますか\n",
            "[12:34.360 --> 12:34.360] メーカー名とか分かりますか\n",
            "[12:41.520 --> 12:50.120] 基本的にあれですか いわゆる民放であるとかNHKであるとか\n",
            "[12:50.120 --> 12:55.600] いわゆる電波放送ベースの映像を参照されることが多いのか\n",
            "[12:55.600 --> 13:00.160] あるいは最近流行っているネットフリックスとかの\n",
            "[13:00.160 --> 13:04.560] オンライン系のサービスを利用されることが多いのかどうでしょうか\n",
            "[13:09.680 --> 13:12.880] ネットフリックスはどのような形で見られてますか\n",
            "[13:12.880 --> 13:16.680] 見方としてはFire TVをつけたりとか\n",
            "[13:18.800 --> 13:21.660] テレビそのものにアプリケーションが載っていたりとか\n",
            "[13:22.000 --> 13:23.860] 何パターンかあるかと思うんですけども\n",
            "[13:27.340 --> 13:28.200] Fire TVで\n",
            "[13:28.200 --> 13:31.880] わかりました ありがとうございます\n",
            "[13:31.880 --> 13:34.380] じゃあ高橋からは以上となります\n",
            "[13:35.280 --> 13:36.120] はい\n",
            "[13:54.760 --> 13:57.320] はい 大丈夫です\n",
            "[14:02.020 --> 14:06.120] はい すいません 連日ありがとうございます\n",
            "[14:06.120 --> 14:07.060] ありがとうございます\n",
            "[14:07.060 --> 14:11.860] はい ありがとうございます\n",
            "[14:29.820 --> 14:31.220] ありがとうございました\n",
            "[14:31.220 --> 14:31.220] ありがとうございました\n",
            "[14:31.220 --> 14:31.220] ありがとうございました\n",
            "---- ./ee93aa2994411ebff28d459c4711228b_1731555758981__uid_s_907719631__uid_e_audio.wav ----\n",
            "[00:23.880 --> 00:24.840] お疲れ様です\n",
            "[00:25.560 --> 00:26.660] すみませんお待たせいたしました\n",
            "[00:30.000 --> 00:30.980] すみません\n",
            "[01:04.540 --> 01:05.460] はい\n",
            "[01:07.600 --> 01:09.480] あ使ってます\n",
            "[01:18.860 --> 01:19.800] ほい\n",
            "[01:35.680 --> 01:37.080] はい\n",
            "[01:41.540 --> 01:42.940] はい\n",
            "[01:52.220 --> 01:53.000] はい\n",
            "[01:53.620 --> 01:53.640] はい\n",
            "[01:53.640 --> 01:53.660] はい\n",
            "[02:00.460 --> 02:01.860] はい\n",
            "[02:01.860 --> 02:02.740] あります\n",
            "[02:34.260 --> 02:35.660] はい\n",
            "[02:38.040 --> 02:39.440] はい\n",
            "[02:39.440 --> 02:41.360] はい\n",
            "[02:46.060 --> 02:46.440] あります\n",
            "[02:48.220 --> 02:49.620] はい\n",
            "[02:58.420 --> 02:59.820] あります\n",
            "[03:09.000 --> 03:10.400] はい\n",
            "[03:10.400 --> 03:11.000] あります\n",
            "[03:13.020 --> 03:14.420] え\n",
            "[03:25.560 --> 03:28.040] それはないです\n",
            "[03:28.040 --> 03:29.260] はい\n",
            "[03:29.260 --> 03:29.980] はい\n",
            "[03:42.340 --> 03:43.180] ないです\n",
            "[03:48.480 --> 03:49.040] えー\n",
            "[03:54.500 --> 03:57.300] 3ヶ月以内には使ってますね\n",
            "[04:00.000 --> 04:00.340] はい\n",
            "[04:00.340 --> 04:00.480] はい\n",
            "[04:14.000 --> 04:15.000] では\n",
            "[04:15.000 --> 04:15.100] さん\n",
            "[04:15.100 --> 04:16.360] だ\n",
            "[04:16.360 --> 04:16.440] お\n",
            "[04:16.440 --> 04:17.200] 何\n",
            "[04:17.200 --> 04:17.200] ありえ\n",
            "[04:17.200 --> 04:17.700] さ\n",
            "[04:17.700 --> 04:17.700] すん\n",
            "[04:17.700 --> 04:17.700] ぁ\n",
            "[04:17.700 --> 04:17.700] ん\n",
            "[04:18.860 --> 04:19.860] て\n",
            "[04:19.860 --> 04:19.920]  icon\n",
            "[04:29.160 --> 04:29.520] oro\n",
            "[04:33.940 --> 04:35.340] はい\n",
            "[04:40.840 --> 04:42.240] はい\n",
            "[04:47.140 --> 04:48.540] はい\n",
            "[05:15.360 --> 05:18.540] いないです\n",
            "[05:25.020 --> 05:28.100] いないです\n",
            "[05:33.540 --> 05:34.940] はい\n",
            "[05:34.940 --> 05:35.580] いないです\n",
            "[05:35.580 --> 05:43.720] いないです\n",
            "[05:47.060 --> 05:48.460] はい\n",
            "[05:48.460 --> 05:48.840] います\n",
            "[05:51.000 --> 05:52.400] はい\n",
            "[05:59.520 --> 06:01.700] ではないですね\n",
            "[06:03.740 --> 06:05.960] じゃないですね\n",
            "[06:09.760 --> 06:11.660] ないです\n",
            "[06:15.000 --> 06:16.400] いや\n",
            "[06:16.400 --> 06:18.740] 違います\n",
            "[06:21.680 --> 06:23.080] はい\n",
            "[06:30.040 --> 06:30.680] はい\n",
            "[06:30.680 --> 06:31.000] はい\n",
            "[06:31.000 --> 06:31.760] 一人暮らしです\n",
            "[06:34.340 --> 06:34.980] はい\n",
            "[06:40.580 --> 06:41.220] はい\n",
            "[06:42.480 --> 06:43.120] はい\n",
            "[06:54.680 --> 06:56.420] マンションです\n",
            "[06:56.420 --> 06:57.440] はい\n",
            "[06:58.860 --> 06:59.500] はい\n",
            "[06:59.520 --> 06:59.520]  incentives\n",
            "[07:04.820 --> 07:05.780] はい\n",
            "[07:05.780 --> 07:05.780] 取り付け\n",
            "[07:05.780 --> 07:05.780] 君\n",
            "[07:05.780 --> 07:05.780] 感じや insurance\n",
            "[07:05.780 --> 07:05.780] わ\n",
            "[07:05.780 --> 07:06.460] どっちも\n",
            "[07:06.460 --> 07:06.760] から\n",
            "[07:06.760 --> 07:07.240] 違います\n",
            "[07:07.240 --> 07:11.420] one loom\n",
            "[07:11.420 --> 07:11.600] ロールです\n",
            "[07:12.260 --> 07:24.280] 流してみたい\n",
            "[07:24.280 --> 07:24.280] はい\n",
            "[07:24.280 --> 07:25.700] でも\n",
            "[07:25.700 --> 07:27.580] ついに\n",
            "[07:27.580 --> 07:29.500]  continueというのが\n",
            "[07:30.320 --> 07:31.120] はい\n",
            "[07:34.920 --> 07:36.260] はい、してます\n",
            "[07:38.540 --> 07:40.380] はい、してます\n",
            "[07:41.580 --> 07:42.640] してます\n",
            "[07:46.640 --> 07:47.400] はい\n",
            "[07:49.000 --> 07:50.360] はいしてます\n",
            "[07:52.300 --> 07:53.860] はいしてます\n",
            "[07:56.080 --> 07:57.440] してます\n",
            "[07:59.300 --> 08:00.300] してます\n",
            "[08:02.840 --> 08:05.260] あー玄関してないかも\n",
            "[08:05.260 --> 08:06.160] してないですね\n",
            "[08:09.780 --> 08:11.220] はいしてます\n",
            "[08:14.540 --> 08:15.120] はい\n",
            "[08:15.120 --> 08:16.700] はいやってます\n",
            "[08:21.700 --> 08:23.120] はいしてます\n",
            "[08:26.300 --> 08:28.300] アイロンはしてないですね\n",
            "[08:32.960 --> 08:33.540] はい\n",
            "[08:34.220 --> 08:35.080] してます\n",
            "[08:39.160 --> 08:39.740] はい\n",
            "[08:39.740 --> 08:39.780] はい\n",
            "[08:41.220 --> 08:41.360] はいしてます\n",
            "[08:55.540 --> 08:59.900] 家事は特にないですね\n",
            "[08:59.900 --> 09:04.760] 家事\n",
            "[09:04.760 --> 09:07.260] まあして\n",
            "[09:07.260 --> 09:09.760] 言うなら\n",
            "[09:12.760 --> 09:13.160] あれ\n",
            "[09:13.160 --> 09:14.660] 家事その洗濯\n",
            "[09:14.660 --> 09:16.160] ワンルームで狭いので\n",
            "[09:16.160 --> 09:18.400] 部屋干しするスペースが狭いので\n",
            "[09:18.400 --> 09:20.520] なんか干すやつ乾燥機とか\n",
            "[09:21.440 --> 09:22.600] なんかそこらへん\n",
            "[09:24.040 --> 09:25.080] 困ってますね\n",
            "[09:31.020 --> 09:31.420] あ\n",
            "[09:31.940 --> 09:33.580] あることはあるんですけど\n",
            "[09:33.580 --> 09:35.760] 隣の人めっちゃガーディングやってて\n",
            "[09:35.760 --> 09:37.040] 土とか飛んでくるんですよ\n",
            "[09:38.880 --> 09:39.280] なので\n",
            "[09:39.280 --> 09:39.780] なので\n",
            "[09:39.780 --> 09:41.560]  Quebeci a\n",
            "[09:41.560 --> 09:42.280] Yeah\n",
            "[09:42.280 --> 09:42.400] so\n",
            "[09:42.400 --> 09:42.900] ipad\n",
            "[09:42.900 --> 09:43.560]  när\n",
            "[09:43.560 --> 09:43.620] d im\n",
            "[09:43.620 --> 09:43.660] here\n",
            "[09:43.660 --> 09:43.980] here\n",
            "[09:43.980 --> 09:44.360]  Mulch\n",
            "[09:44.360 --> 09:44.840] いっぱい\n",
            "[09:44.840 --> 09:44.840] 1\n",
            "[09:44.840 --> 09:44.840] 今日は\n",
            "[09:46.840 --> 09:47.340] ontem\n",
            "[09:47.340 --> 09:47.700] a\n",
            "[09:47.700 --> 09:47.700] 1\n",
            "[10:05.420 --> 10:05.900] f\n",
            "[10:06.800 --> 10:07.600] 祝福\n",
            "[10:07.600 --> 10:10.020] はいまあしてますね\n",
            "[10:10.020 --> 10:12.060] できるだけトイレ掃除とかも\n",
            "[10:12.060 --> 10:14.480] 週に以上はやるようにするとか\n",
            "[10:14.480 --> 10:16.000] 頻度とかは\n",
            "[10:16.000 --> 10:16.680] 気にしてます\n",
            "[10:16.680 --> 10:18.480] 本当ですか\n",
            "[10:19.260 --> 10:19.740] ありがとうございます\n",
            "[10:24.960 --> 10:25.440] はい\n",
            "[10:40.160 --> 10:40.640] はい\n",
            "[10:45.000 --> 10:47.480] 乾燥機は入れたいなって\n",
            "[10:47.480 --> 10:48.540] 思ったのと\n",
            "[10:49.900 --> 10:50.380] あと\n",
            "[10:52.440 --> 10:53.660] 乾燥機\n",
            "[10:53.660 --> 10:55.940] 布団乾燥機のやつも欲しくて\n",
            "[10:57.600 --> 10:58.860] 乾燥周り\n",
            "[10:58.860 --> 10:59.660] あと掃除機\n",
            "[10:59.660 --> 11:01.680] 布団とかを吸える\n",
            "[11:02.180 --> 11:03.480] ハンディみたいな\n",
            "[11:03.480 --> 11:05.000] あれも欲しいなって思いました\n",
            "[11:05.000 --> 11:05.340] はい\n",
            "[11:17.160 --> 11:19.460] はないですね\n",
            "[11:29.860 --> 11:32.820] はないですね\n",
            "[11:32.820 --> 11:33.440] はい\n",
            "[11:38.060 --> 11:40.200] はしてないです\n",
            "[12:16.800 --> 12:17.440] はい\n",
            "[12:21.040 --> 12:21.680] はい\n",
            "[12:23.920 --> 12:25.320] イエーイ\n",
            "[12:28.900 --> 12:29.540] あ\n",
            "[12:29.540 --> 12:30.540] イエーイ\n",
            "[12:34.020 --> 12:35.080] イエーイ\n",
            "[12:39.300 --> 12:41.180] イエーイ\n",
            "[12:48.300 --> 12:50.020] イエーイ\n",
            "[12:50.780 --> 12:51.280] イエーイ\n",
            "[12:51.280 --> 12:53.000] イエーイ\n",
            "[12:53.000 --> 12:53.160] イエーイ\n",
            "[12:53.160 --> 13:02.160] イエーイ\n",
            "[13:05.080 --> 13:05.400] はい、はい。\n",
            "[13:37.580 --> 13:39.540] はい、聞こえてます。\n",
            "[13:46.480 --> 13:47.200] はい。\n",
            "[13:53.340 --> 13:54.540] 縦型です。\n",
            "[13:55.980 --> 13:56.420] はい。\n",
            "[14:01.300 --> 14:03.560] 1年も経ってないですね。\n",
            "[14:10.400 --> 14:10.760] はい。\n",
            "[14:10.760 --> 14:10.760] はい。\n",
            "[14:10.760 --> 14:11.100] うん、うん。\n",
            "[14:13.060 --> 14:13.420] はい。\n",
            "[14:15.460 --> 14:15.460] はい。\n",
            "[14:16.040 --> 14:16.040] はい。\n",
            "[14:17.240 --> 14:17.320] はい。\n",
            "[14:17.660 --> 14:17.700] はい。\n",
            "[14:20.980 --> 14:27.300] 金額と、でもドラム式を検討したんですけど、普通に幅が足りなくて断念したっていう背景があります。\n",
            "[14:28.200 --> 14:28.560] はい。\n",
            "[14:29.860 --> 14:29.940] はい。\n",
            "[14:30.540 --> 14:30.540] はい。\n",
            "[14:32.340 --> 14:32.700] はい。\n",
            "[14:35.080 --> 14:36.260] ちょっと分からないです。\n",
            "[14:43.540 --> 14:44.460] ハイ。\n",
            "[14:47.820 --> 14:49.420] ハイ。\n",
            "[14:49.420 --> 14:54.540] ハイ。\n",
            "[14:54.580 --> 14:54.880] そうですね。\n",
            "[14:56.160 --> 14:56.960] はい。\n",
            "[14:56.960 --> 14:56.960] はい。\n",
            "[14:56.960 --> 14:56.960] そうです。\n",
            "[15:01.940 --> 15:02.740] はい。\n",
            "[15:02.860 --> 15:03.400] はい。\n",
            "[15:05.180 --> 15:05.580] ん\n",
            "[15:06.540 --> 15:06.940] ん\n",
            "[15:13.700 --> 15:19.240] わああのサイトブサイよくあるやつてでもったまま やるやつ\n",
            "[15:20.020 --> 15:21.700] アースティック型あそれぞれ\n",
            "[15:21.700 --> 15:31.560] うわぁわからないん どこだろう一番安かったやつってのは覚えてます\n",
            "[15:31.560 --> 15:31.760] ん\n",
            "[15:35.320 --> 15:36.240] ああそうです\n",
            "[15:41.720 --> 15:43.700] 優先ですね\n",
            "[15:48.700 --> 15:51.840] それも1年経ってないですね\n",
            "[16:01.560 --> 16:01.560] ん\n",
            "[16:04.220 --> 16:06.860] は金額と軽さですね\n",
            "[16:14.760 --> 16:17.180] あ おしゃれとりです\n",
            "[16:19.540 --> 16:20.620] a\n",
            "[16:29.320 --> 16:29.780] はいっ\n",
            "[16:36.680 --> 16:37.640] ん\n",
            "[16:37.640 --> 16:39.760] あそうですね値段ですね\n",
            "[16:43.500 --> 16:44.460] ん\n",
            "[16:56.240 --> 16:57.540] はいもう本当にあっ\n",
            "[16:57.540 --> 16:57.540] ん\n",
            "[16:59.900 --> 17:04.640] はい本当にあっためるだけのやつですねオーブン機能とかないです\n",
            "[17:10.000 --> 17:11.560] は固定式です\n",
            "[17:18.000 --> 17:18.620] はいっ\n",
            "[17:22.280 --> 17:23.700] はいしてまーす\n",
            "[17:23.700 --> 17:24.220] ん\n",
            "[17:27.880 --> 17:29.080] はいっ\n",
            "[17:29.080 --> 17:30.240] ん\n",
            "[17:31.740 --> 17:35.900] わーすいませんわかんないですね\n",
            "[17:36.540 --> 17:36.880] ん\n",
            "[17:36.880 --> 17:38.420] ん\n",
            "[17:40.180 --> 17:45.540] わーシャープだったような気がします\n",
            "[17:46.720 --> 17:47.740] ん\n",
            "[17:47.740 --> 17:48.540] うん\n",
            "[17:50.140 --> 17:51.160] ん\n",
            "[17:51.160 --> 17:51.600] ん\n",
            "[17:51.600 --> 17:52.200] ん\n",
            "[17:53.260 --> 17:54.280] ん\n",
            "[17:54.280 --> 18:24.280] \n",
            "[18:24.280 --> 18:24.280] ん\n",
            "[18:25.140 --> 18:25.620] ん\n",
            "[18:25.620 --> 18:26.500] ん\n",
            "[18:29.520 --> 18:30.140] はいっ\n",
            "[18:30.140 --> 18:32.280] はいっはファイアティービーツ投げてますね\n",
            "[18:33.720 --> 18:34.340] はいっ\n",
            "[18:35.100 --> 18:35.580] ん\n",
            "[18:39.560 --> 18:40.720] はーいありがとうございます\n",
            "[18:41.620 --> 18:42.100] ん\n",
            "[18:44.900 --> 18:45.380] ん\n",
            "[18:46.620 --> 18:47.100] ん\n",
            "[18:47.100 --> 18:47.300] ん\n",
            "[18:47.920 --> 18:48.400] ん\n",
            "[18:48.400 --> 18:48.400] ん\n",
            "[18:48.400 --> 18:48.400] ん\n",
            "[18:49.260 --> 18:49.740] ん\n",
            "[18:49.740 --> 18:49.740] ん\n",
            "[19:08.920 --> 19:09.280] はい\n",
            "[19:10.840 --> 19:11.200] はい\n",
            "[19:11.800 --> 19:14.340] あ、いえと、すいません冒頭遅れちゃって\n",
            "[19:14.340 --> 19:15.160] 失礼いたしました\n",
            "[19:16.620 --> 19:17.320] はい、では\n",
            "[19:17.320 --> 19:18.960] 失礼いたします\n",
            "[19:30.940 --> 19:32.340] はい\n"
          ]
        }
      ]
    },
    {
      "cell_type": "code",
      "source": [
        "\n",
        "\n",
        "\n",
        "\n",
        "\n"
      ],
      "metadata": {
        "id": "du7yMlxqsi-O"
      },
      "execution_count": null,
      "outputs": []
    },
    {
      "cell_type": "code",
      "source": [
        "whisper_result = {}\n",
        "whisper_segment = []\n",
        "for asr in asr_result['segments']:\n",
        "    if asr['end'] - asr['start'] >= 0.6 and len(asr['text']) >= 2:\n",
        "        asr['text'] += '。'\n",
        "        whisper_segment.append(asr)\n",
        "whisper_result['segments'] = whisper_segment"
      ],
      "metadata": {
        "id": "HI_bYFi2kFcX"
      },
      "execution_count": null,
      "outputs": []
    },
    {
      "cell_type": "code",
      "source": [
        "whisper_result"
      ],
      "metadata": {
        "id": "Zq59lbJNnJ0l"
      },
      "execution_count": null,
      "outputs": []
    },
    {
      "cell_type": "code",
      "source": [
        "#speaker_count = 2\n",
        "speaker_count = 3\n",
        "\n",
        "import torch\n",
        "pipeline.to(torch.device(\"cuda\"))\n",
        "diarization_result = pipeline(audio_path, num_speakers=speaker_count)\n",
        "#diarization_result = pipeline(audio_path, min_speakers=2, max_speakers=5)"
      ],
      "metadata": {
        "id": "4FVUQIrkXKEr"
      },
      "execution_count": null,
      "outputs": []
    },
    {
      "cell_type": "code",
      "source": [
        "diarization_result"
      ],
      "metadata": {
        "id": "9RsGrxvMw-xN"
      },
      "execution_count": null,
      "outputs": []
    },
    {
      "cell_type": "code",
      "source": [
        "#final_result = diarize_text(asr_result, diarization_result)\n",
        "final_result = diarize_text(whisper_result, diarization_result)"
      ],
      "metadata": {
        "id": "WETpYo84XUGm"
      },
      "execution_count": null,
      "outputs": []
    },
    {
      "cell_type": "code",
      "source": [
        "prog = re.compile('教えて|聞か|聞き|願い|ください|ですか|でしょうか|ましたか|されましたか|いつ頃')\n",
        "INTERVIEW = []\n",
        "INT_COUNT = []\n",
        "for seg, spk, sent in final_result:\n",
        "  if spk is None:\n",
        "    spk = INTERVIEW[-1]['spk']\n",
        "  count = len(prog.findall(sent))\n",
        "  spk_no = int(spk.split('_')[-1])\n",
        "  if count > 0: print(str(sent))\n",
        "  _seg = {'start': round(seg.start, 2), 'end': round(seg.end, 2), 'text': sent, 'count': count, 'spk': spk, 'spk_no': spk_no}\n",
        "  INTERVIEW.append(_seg)\n",
        "  INT_COUNT.append(int(spk[-1]))\n",
        "\n",
        "speaker_count = max(INT_COUNT) + 1\n",
        "\n",
        "speek = [0] * speaker_count\n",
        "for INT in INTERVIEW:\n",
        "    speek[INT[\"spk_no\"]] += INT[\"count\"]\n",
        "inteviewer_index = np.argmax(speek)\n",
        "monitor_index = np.argmin(speek)\n",
        "\n",
        "print(speek)\n",
        "print(f'インタービューア ： SPEAKER_0{inteviewer_index}')\n",
        "print(f'モニター　　　　 ： SPEAKER_0{monitor_index}')"
      ],
      "metadata": {
        "id": "g7vH5Jh0Qmgh"
      },
      "execution_count": null,
      "outputs": []
    },
    {
      "cell_type": "code",
      "source": [
        "for seg, spk, sent in final_result:\n",
        "    speeker_name = spk\n",
        "    #speeker_name =   'モニタ　　　　'\n",
        "    #if spk == 'SPEAKER_0' + str(inteviewer_index):\n",
        "    #  speeker_name = 'インタビューア'\n",
        "    line = f'{seg.start:.2f}s~{seg.end:.2f}s {speeker_name} {sent}'\n",
        "    print(line)"
      ],
      "metadata": {
        "id": "7s_fnLsNQj8f"
      },
      "execution_count": null,
      "outputs": []
    },
    {
      "cell_type": "code",
      "source": [
        "InterReview_json = {\"movie_name\": video_name}\n",
        "speak_json = []\n",
        "for seg, spk, sent in final_result:\n",
        "    _speak = {\"start\": f'{seg.start:.2f}s', \"end\": f'{seg.end:.2f}s', 'speaker': spk, 'speak': sent}\n",
        "    speak_json.append(_speak)\n",
        "InterReview_json['InterReview'] = speak_json\n",
        "\n",
        "json_path = '.'.join(video_path.split('.')[:-1]) + '.json'\n",
        "with open(json_path, 'w', encoding='utf-8') as f:\n",
        "    json.dump(InterReview_json, f, indent=4, ensure_ascii=False)\n"
      ],
      "metadata": {
        "id": "Q3H660Ljx-XY"
      },
      "execution_count": null,
      "outputs": []
    },
    {
      "cell_type": "code",
      "source": [
        "!ls -alh ./"
      ],
      "metadata": {
        "id": "JVo964bKAgPL"
      },
      "execution_count": null,
      "outputs": []
    },
    {
      "cell_type": "code",
      "source": [
        "!cp ./InterviewZero_0_audio_mask.json ./drive/MyDrive"
      ],
      "metadata": {
        "id": "Reu1aUW8_iX8"
      },
      "execution_count": null,
      "outputs": []
    },
    {
      "cell_type": "code",
      "source": [
        "!cp ./InterviewZero_1_audio_mask.json ./drive/MyDrive"
      ],
      "metadata": {
        "id": "UUx_tPR-Brjw"
      },
      "execution_count": null,
      "outputs": []
    },
    {
      "cell_type": "code",
      "source": [
        "!cp ./InterviewZero_2_audio_mask.json ./drive/MyDrive"
      ],
      "metadata": {
        "id": "I5D_hrldBsLm"
      },
      "execution_count": null,
      "outputs": []
    }
  ]
}