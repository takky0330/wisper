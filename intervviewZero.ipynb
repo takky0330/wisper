{
  "nbformat": 4,
  "nbformat_minor": 0,
  "metadata": {
    "colab": {
      "provenance": [],
      "machine_shape": "hm",
      "gpuType": "T4",
      "mount_file_id": "https://github.com/takky0330/wisper/blob/main/intervviewZero.ipynb",
      "authorship_tag": "ABX9TyNuPhWPDioozypR1PXzE4to",
      "include_colab_link": true
    },
    "kernelspec": {
      "name": "python3",
      "display_name": "Python 3"
    },
    "language_info": {
      "name": "python"
    },
    "accelerator": "GPU"
  },
  "cells": [
    {
      "cell_type": "markdown",
      "metadata": {
        "id": "view-in-github",
        "colab_type": "text"
      },
      "source": [
        "<a href=\"https://colab.research.google.com/github/takky0330/wisper/blob/main/intervviewZero.ipynb\" target=\"_parent\"><img src=\"https://colab.research.google.com/assets/colab-badge.svg\" alt=\"Open In Colab\"/></a>"
      ]
    },
    {
      "cell_type": "code",
      "source": [
        "!pip install m3u8"
      ],
      "metadata": {
        "id": "cRGcsIobNapm",
        "outputId": "83587b8b-4a6d-4ddd-f9d7-5768055877c0",
        "colab": {
          "base_uri": "https://localhost:8080/"
        }
      },
      "execution_count": 1,
      "outputs": [
        {
          "output_type": "stream",
          "name": "stdout",
          "text": [
            "Requirement already satisfied: m3u8 in /usr/local/lib/python3.10/dist-packages (6.0.0)\n",
            "Requirement already satisfied: backports-datetime-fromisoformat in /usr/local/lib/python3.10/dist-packages (from m3u8) (2.0.2)\n"
          ]
        }
      ]
    },
    {
      "cell_type": "code",
      "execution_count": 2,
      "metadata": {
        "id": "N_oGHqinTJxz",
        "outputId": "7de472e6-760a-4914-a9f7-b4cb8c92a2df",
        "colab": {
          "base_uri": "https://localhost:8080/"
        }
      },
      "outputs": [
        {
          "output_type": "stream",
          "name": "stdout",
          "text": [
            "Collecting git+https://github.com/openai/whisper.git\n",
            "  Cloning https://github.com/openai/whisper.git to /tmp/pip-req-build-ul1wnbfn\n",
            "  Running command git clone --filter=blob:none --quiet https://github.com/openai/whisper.git /tmp/pip-req-build-ul1wnbfn\n",
            "  Resolved https://github.com/openai/whisper.git to commit 173ff7dd1d9fb1c4fddea0d41d704cfefeb8908c\n",
            "  Installing build dependencies ... \u001b[?25l\u001b[?25hdone\n",
            "  Getting requirements to build wheel ... \u001b[?25l\u001b[?25hdone\n",
            "  Preparing metadata (pyproject.toml) ... \u001b[?25l\u001b[?25hdone\n",
            "Requirement already satisfied: numba in /usr/local/lib/python3.10/dist-packages (from openai-whisper==20240930) (0.60.0)\n",
            "Requirement already satisfied: numpy in /usr/local/lib/python3.10/dist-packages (from openai-whisper==20240930) (1.26.4)\n",
            "Requirement already satisfied: torch in /usr/local/lib/python3.10/dist-packages (from openai-whisper==20240930) (2.5.1+cu121)\n",
            "Requirement already satisfied: tqdm in /usr/local/lib/python3.10/dist-packages (from openai-whisper==20240930) (4.66.6)\n",
            "Requirement already satisfied: more-itertools in /usr/local/lib/python3.10/dist-packages (from openai-whisper==20240930) (10.5.0)\n",
            "Collecting tiktoken (from openai-whisper==20240930)\n",
            "  Downloading tiktoken-0.8.0-cp310-cp310-manylinux_2_17_x86_64.manylinux2014_x86_64.whl.metadata (6.6 kB)\n",
            "Collecting triton>=2.0.0 (from openai-whisper==20240930)\n",
            "  Downloading triton-3.1.0-cp310-cp310-manylinux_2_17_x86_64.manylinux2014_x86_64.whl.metadata (1.3 kB)\n",
            "Requirement already satisfied: filelock in /usr/local/lib/python3.10/dist-packages (from triton>=2.0.0->openai-whisper==20240930) (3.16.1)\n",
            "Requirement already satisfied: llvmlite<0.44,>=0.43.0dev0 in /usr/local/lib/python3.10/dist-packages (from numba->openai-whisper==20240930) (0.43.0)\n",
            "Requirement already satisfied: regex>=2022.1.18 in /usr/local/lib/python3.10/dist-packages (from tiktoken->openai-whisper==20240930) (2024.9.11)\n",
            "Requirement already satisfied: requests>=2.26.0 in /usr/local/lib/python3.10/dist-packages (from tiktoken->openai-whisper==20240930) (2.32.3)\n",
            "Requirement already satisfied: typing-extensions>=4.8.0 in /usr/local/lib/python3.10/dist-packages (from torch->openai-whisper==20240930) (4.12.2)\n",
            "Requirement already satisfied: networkx in /usr/local/lib/python3.10/dist-packages (from torch->openai-whisper==20240930) (3.4.2)\n",
            "Requirement already satisfied: jinja2 in /usr/local/lib/python3.10/dist-packages (from torch->openai-whisper==20240930) (3.1.4)\n",
            "Requirement already satisfied: fsspec in /usr/local/lib/python3.10/dist-packages (from torch->openai-whisper==20240930) (2024.10.0)\n",
            "Requirement already satisfied: sympy==1.13.1 in /usr/local/lib/python3.10/dist-packages (from torch->openai-whisper==20240930) (1.13.1)\n",
            "Requirement already satisfied: mpmath<1.4,>=1.1.0 in /usr/local/lib/python3.10/dist-packages (from sympy==1.13.1->torch->openai-whisper==20240930) (1.3.0)\n",
            "Requirement already satisfied: charset-normalizer<4,>=2 in /usr/local/lib/python3.10/dist-packages (from requests>=2.26.0->tiktoken->openai-whisper==20240930) (3.4.0)\n",
            "Requirement already satisfied: idna<4,>=2.5 in /usr/local/lib/python3.10/dist-packages (from requests>=2.26.0->tiktoken->openai-whisper==20240930) (3.10)\n",
            "Requirement already satisfied: urllib3<3,>=1.21.1 in /usr/local/lib/python3.10/dist-packages (from requests>=2.26.0->tiktoken->openai-whisper==20240930) (2.2.3)\n",
            "Requirement already satisfied: certifi>=2017.4.17 in /usr/local/lib/python3.10/dist-packages (from requests>=2.26.0->tiktoken->openai-whisper==20240930) (2024.8.30)\n",
            "Requirement already satisfied: MarkupSafe>=2.0 in /usr/local/lib/python3.10/dist-packages (from jinja2->torch->openai-whisper==20240930) (3.0.2)\n",
            "Downloading triton-3.1.0-cp310-cp310-manylinux_2_17_x86_64.manylinux2014_x86_64.whl (209.5 MB)\n",
            "\u001b[2K   \u001b[90m━━━━━━━━━━━━━━━━━━━━━━━━━━━━━━━━━━━━━━━━\u001b[0m \u001b[32m209.5/209.5 MB\u001b[0m \u001b[31m4.8 MB/s\u001b[0m eta \u001b[36m0:00:00\u001b[0m\n",
            "\u001b[?25hDownloading tiktoken-0.8.0-cp310-cp310-manylinux_2_17_x86_64.manylinux2014_x86_64.whl (1.2 MB)\n",
            "\u001b[2K   \u001b[90m━━━━━━━━━━━━━━━━━━━━━━━━━━━━━━━━━━━━━━━━\u001b[0m \u001b[32m1.2/1.2 MB\u001b[0m \u001b[31m51.5 MB/s\u001b[0m eta \u001b[36m0:00:00\u001b[0m\n",
            "\u001b[?25hBuilding wheels for collected packages: openai-whisper\n",
            "  Building wheel for openai-whisper (pyproject.toml) ... \u001b[?25l\u001b[?25hdone\n",
            "  Created wheel for openai-whisper: filename=openai_whisper-20240930-py3-none-any.whl size=803556 sha256=4827cc3ee66a4f073397f8f8e306850ff4d7a77e23243717e32abf487d6c0043\n",
            "  Stored in directory: /tmp/pip-ephem-wheel-cache-ny8wd10c/wheels/8b/6c/d0/622666868c179f156cf595c8b6f06f88bc5d80c4b31dccaa03\n",
            "Successfully built openai-whisper\n",
            "Installing collected packages: triton, tiktoken, openai-whisper\n",
            "Successfully installed openai-whisper-20240930 tiktoken-0.8.0 triton-3.1.0\n"
          ]
        }
      ],
      "source": [
        "!pip install git+https://github.com/openai/whisper.git\n",
        "#!pip install -U git+https://github.com/jianfch/stable-ts.git"
      ]
    },
    {
      "cell_type": "code",
      "source": [
        "!pip install moviepy"
      ],
      "metadata": {
        "id": "iLJk39Pl9X3I",
        "outputId": "8436d6ad-bfde-4694-fb9d-2be74b9a9f88",
        "colab": {
          "base_uri": "https://localhost:8080/"
        }
      },
      "execution_count": 3,
      "outputs": [
        {
          "output_type": "stream",
          "name": "stdout",
          "text": [
            "Requirement already satisfied: moviepy in /usr/local/lib/python3.10/dist-packages (1.0.3)\n",
            "Requirement already satisfied: decorator<5.0,>=4.0.2 in /usr/local/lib/python3.10/dist-packages (from moviepy) (4.4.2)\n",
            "Requirement already satisfied: imageio<3.0,>=2.5 in /usr/local/lib/python3.10/dist-packages (from moviepy) (2.36.0)\n",
            "Requirement already satisfied: imageio_ffmpeg>=0.2.0 in /usr/local/lib/python3.10/dist-packages (from moviepy) (0.5.1)\n",
            "Requirement already satisfied: tqdm<5.0,>=4.11.2 in /usr/local/lib/python3.10/dist-packages (from moviepy) (4.66.6)\n",
            "Requirement already satisfied: numpy>=1.17.3 in /usr/local/lib/python3.10/dist-packages (from moviepy) (1.26.4)\n",
            "Requirement already satisfied: requests<3.0,>=2.8.1 in /usr/local/lib/python3.10/dist-packages (from moviepy) (2.32.3)\n",
            "Requirement already satisfied: proglog<=1.0.0 in /usr/local/lib/python3.10/dist-packages (from moviepy) (0.1.10)\n",
            "Requirement already satisfied: pillow>=8.3.2 in /usr/local/lib/python3.10/dist-packages (from imageio<3.0,>=2.5->moviepy) (11.0.0)\n",
            "Requirement already satisfied: setuptools in /usr/local/lib/python3.10/dist-packages (from imageio_ffmpeg>=0.2.0->moviepy) (75.1.0)\n",
            "Requirement already satisfied: charset-normalizer<4,>=2 in /usr/local/lib/python3.10/dist-packages (from requests<3.0,>=2.8.1->moviepy) (3.4.0)\n",
            "Requirement already satisfied: idna<4,>=2.5 in /usr/local/lib/python3.10/dist-packages (from requests<3.0,>=2.8.1->moviepy) (3.10)\n",
            "Requirement already satisfied: urllib3<3,>=1.21.1 in /usr/local/lib/python3.10/dist-packages (from requests<3.0,>=2.8.1->moviepy) (2.2.3)\n",
            "Requirement already satisfied: certifi>=2017.4.17 in /usr/local/lib/python3.10/dist-packages (from requests<3.0,>=2.8.1->moviepy) (2024.8.30)\n"
          ]
        }
      ]
    },
    {
      "cell_type": "code",
      "source": [
        "!pip install ffmpeg-python"
      ],
      "metadata": {
        "id": "MT_AwBERdCH-",
        "outputId": "9e893d73-60fc-4c6b-a9e4-b6c279f2c193",
        "colab": {
          "base_uri": "https://localhost:8080/"
        }
      },
      "execution_count": 4,
      "outputs": [
        {
          "output_type": "stream",
          "name": "stdout",
          "text": [
            "Collecting ffmpeg-python\n",
            "  Downloading ffmpeg_python-0.2.0-py3-none-any.whl.metadata (1.7 kB)\n",
            "Requirement already satisfied: future in /usr/local/lib/python3.10/dist-packages (from ffmpeg-python) (1.0.0)\n",
            "Downloading ffmpeg_python-0.2.0-py3-none-any.whl (25 kB)\n",
            "Installing collected packages: ffmpeg-python\n",
            "Successfully installed ffmpeg-python-0.2.0\n"
          ]
        }
      ]
    },
    {
      "cell_type": "code",
      "source": [
        "!pip install pydub"
      ],
      "metadata": {
        "id": "faua_Zz20kRl",
        "outputId": "550ecdaa-e48a-405b-f808-4b00bb622d54",
        "colab": {
          "base_uri": "https://localhost:8080/"
        }
      },
      "execution_count": 5,
      "outputs": [
        {
          "output_type": "stream",
          "name": "stdout",
          "text": [
            "Collecting pydub\n",
            "  Downloading pydub-0.25.1-py2.py3-none-any.whl.metadata (1.4 kB)\n",
            "Downloading pydub-0.25.1-py2.py3-none-any.whl (32 kB)\n",
            "Installing collected packages: pydub\n",
            "Successfully installed pydub-0.25.1\n"
          ]
        }
      ]
    },
    {
      "cell_type": "code",
      "source": [
        "import whisper\n",
        "#import stable_whisper\n",
        "import ffmpeg\n",
        "from pydub import AudioSegment\n",
        "import numpy as np\n",
        "import json, re, os\n",
        "from datetime import datetime\n",
        "import glob\n",
        "import locale\n",
        "locale.getpreferredencoding = lambda: \"UTF-8\"\n",
        "from moviepy.editor import VideoFileClip, CompositeVideoClip\n",
        "from moviepy.editor import AudioFileClip, CompositeAudioClip, concatenate_audioclips\n",
        "from moviepy.audio.AudioClip import AudioArrayClip\n",
        "import m3u8"
      ],
      "metadata": {
        "id": "FBaUgrssTrus",
        "outputId": "fd3aaa6c-1fc0-4f2d-c8e7-d8f2813881f9",
        "colab": {
          "base_uri": "https://localhost:8080/"
        }
      },
      "execution_count": 6,
      "outputs": [
        {
          "output_type": "stream",
          "name": "stderr",
          "text": [
            "WARNING:py.warnings:/usr/local/lib/python3.10/dist-packages/moviepy/video/io/sliders.py:61: SyntaxWarning: \"is\" with a literal. Did you mean \"==\"?\n",
            "  if event.key is 'enter':\n",
            "\n"
          ]
        }
      ]
    },
    {
      "cell_type": "code",
      "source": [
        "!cp ./drive/MyDrive/IZ-2218確認５/*.* ./\n",
        "#!cp ./drive/MyDrive/IZ-2218確認４/*.* ./\n",
        "#!cp ./drive/MyDrive/IZ-2218確認３/*.* ./"
      ],
      "metadata": {
        "id": "8ZZr3sOuBEDU"
      },
      "execution_count": 7,
      "outputs": []
    },
    {
      "cell_type": "code",
      "source": [
        "def is_webm(path):\n",
        "    with open('./' + path) as f:\n",
        "        for _line in f:\n",
        "            if _line.rstrip()[-5:] == '.webm':\n",
        "                return True\n",
        "    return False"
      ],
      "metadata": {
        "id": "YiH52CTdeaai"
      },
      "execution_count": 8,
      "outputs": []
    },
    {
      "cell_type": "code",
      "source": [
        "def conv_webm(input_file):\n",
        "    #!ffmpeg -allowed_extensions ALL -f hls -i ./drive/MyDrive/IZ-2218確認３/ee93aa2994411ebff28d459c4711228b_1731555758981__uid_s_907719631__uid_e_video.m3u8 -c:v copy -y ./ee93aa2994411ebff28d459c4711228b_1731555758981__uid_s_907719631__uid_e_video.webm\n",
        "    webm_tmp = '.'.join(input_file.split('.')[:-1]) + '.webm'\n",
        "    try:\n",
        "        (\n",
        "            ffmpeg\n",
        "            .input('./' + input_file, allowed_extensions='ALL')\n",
        "            .output(webm_tmp, vcodec=\"copy\")\n",
        "            .overwrite_output()\n",
        "            .run(capture_stderr=True, capture_stdout=True)\n",
        "        )\n",
        "        _clip = VideoFileClip(webm_tmp)\n",
        "    except ffmpeg.Error as e:\n",
        "        print(f\"{e.stderr.decode()}\")\n",
        "        print(f\"標準出力: {e.stdout.decode()}\")\n",
        "        _clip = None\n",
        "    return _clip, webm_tmp"
      ],
      "metadata": {
        "id": "9o52BsqOfiQV"
      },
      "execution_count": 9,
      "outputs": []
    },
    {
      "cell_type": "code",
      "source": [
        "def get_video_list(path):\n",
        "    video_path = f'{path}*_video.m3u8'\n",
        "    video_paths = glob.glob(video_path)\n",
        "    video_paths.sort()\n",
        "    return video_paths\n",
        "def get_audio_list(path):\n",
        "    audio_path = f'{path}*_audio.m3u8'\n",
        "    audio_paths = glob.glob(audio_path)\n",
        "    audio_paths.sort()\n",
        "    return audio_paths"
      ],
      "metadata": {
        "id": "4DqRD33Bh4yy"
      },
      "execution_count": 10,
      "outputs": []
    },
    {
      "cell_type": "code",
      "source": [
        "def conv_unix_time(date_string):\n",
        "    year = int(date_string[:4])\n",
        "    month = int(date_string[4:6])\n",
        "    day = int(date_string[6:8])\n",
        "    hour = int(date_string[8:10])\n",
        "    minute = int(date_string[10:12])\n",
        "    second = int(date_string[12:14])\n",
        "    millisecond = int(date_string[14:])\n",
        "    dt = datetime(year, month, day, hour, minute, second)\n",
        "    unix_time = int(dt.timestamp()) * 1000 + millisecond\n",
        "    return unix_time"
      ],
      "metadata": {
        "id": "n6nhjzO-NbHc"
      },
      "execution_count": 11,
      "outputs": []
    },
    {
      "cell_type": "code",
      "source": [
        "def add_silent_segment(input_audio_path, check=False):\n",
        "    m3u8_obj = m3u8.load(input_audio_path)\n",
        "    segments = m3u8_obj.segments\n",
        "\n",
        "    audio_clips = []\n",
        "    previous_end_time = 0  # 無音の計算用\n",
        "    duration = 0\n",
        "\n",
        "    for segment in segments:\n",
        "        segment_url = segment.uri\n",
        "        segment_duration = segment.duration\n",
        "        segment_start_time = conv_unix_time(segment.uri.split('_')[-1].split('.')[0])\n",
        "\n",
        "        audio = AudioFileClip(segment_url)\n",
        "\n",
        "        # 無音が必要なら追加\n",
        "        _check = False\n",
        "        if  segment.media_sequence > 0 and previous_end_time < segment_start_time:\n",
        "            if check == True:\n",
        "                _check = True\n",
        "                break\n",
        "            else:\n",
        "                print(segment.media_sequence, '無音', segment_start_time, ' > ', previous_end_time, (segment_start_time - previous_end_time) / 1000, flush=True)\n",
        "\n",
        "            silence_duration = (segment_start_time - previous_end_time) / 1000\n",
        "            silence = AudioArrayClip(np.zeros((int(silence_duration * audio.fps), 2)), fps=audio.fps)\n",
        "            audio_clips.append(silence)\n",
        "            duration += silence_duration\n",
        "\n",
        "        if check == True:\n",
        "            if _check == True:\n",
        "                return True\n",
        "\n",
        "        previous_end_time = segment_start_time + int(segment_duration * 1000)\n",
        "        # 音声をリストに追加\n",
        "        audio_clips.append(audio)\n",
        "\n",
        "    if check == True:\n",
        "        return _check\n",
        "\n",
        "    # すべての音声を結合\n",
        "    final_audio = concatenate_audioclips(audio_clips)\n",
        "    return final_audio\n"
      ],
      "metadata": {
        "id": "smF5h4yTNa25"
      },
      "execution_count": 12,
      "outputs": []
    },
    {
      "cell_type": "code",
      "source": [
        "def get_speaker_monitor(result, sorted, video_paths):\n",
        "    prog = re.compile('教えて|聞か|聞き|願い|ください|ですか(?!ね)|でしょうか(?!ね)|ましたか|されましたか|いつ頃')\n",
        "    character = {}\n",
        "    INT_COUNT = []\n",
        "    for c in range(len(result)):\n",
        "        INT_COUNT.append([0, 0, 0, ''])\n",
        "    for srt, end, txt, spk in sorted:\n",
        "        count = len(prog.findall(txt))\n",
        "        spk_no = int(spk.split('_')[-1])\n",
        "        INT_COUNT[spk_no][0] += 1\n",
        "        INT_COUNT[spk_no][3] = spk\n",
        "        if count > 0:\n",
        "            INT_COUNT[spk_no][1] += count\n",
        "    for c, cnt in enumerate(INT_COUNT):\n",
        "        INT_COUNT[c][2] = cnt[1] / cnt[0]\n",
        "    INT_COUNT.index(min(INT_COUNT))\n",
        "\n",
        "    rate = [c[2] for c in INT_COUNT]\n",
        "    min_index = rate.index(min(rate))\n",
        "\n",
        "    for i, intv in enumerate(INT_COUNT):\n",
        "        user_id = audio_paths[i].split('_')[-5]\n",
        "        if i == min_index:\n",
        "            character[intv[3]] = {'character': \"モニター\", 'user_id': user_id, 'video_path' : video_paths[i]}\n",
        "        else:\n",
        "            character[intv[3]] = {'character': \"インタビューア_\" + intv[3].split('_')[-1], 'user_id': user_id, 'video_path' : video_paths[i]}\n",
        "    return character"
      ],
      "metadata": {
        "id": "1TYp74Tq4LTm"
      },
      "execution_count": 13,
      "outputs": []
    },
    {
      "cell_type": "code",
      "source": [
        "path = './'\n",
        "video_paths = get_video_list(path)\n",
        "audio_paths = get_audio_list(path)\n",
        "interview_video_name = '_'.join(video_paths[0].split('/')[1].split('_')[0: 2]) + '.mp4'\n",
        "interview_audio_name = '_'.join(video_paths[0].split('/')[1].split('_')[0: 2]) + '.wav'\n",
        "interview_json_name = '_'.join(video_paths[0].split('/')[1].split('_')[0: 2]) + '.json'"
      ],
      "metadata": {
        "id": "XT68uSsBMEwJ"
      },
      "execution_count": 14,
      "outputs": []
    },
    {
      "cell_type": "code",
      "source": [
        "video = []\n",
        "for v, video_path in enumerate(video_paths):\n",
        "    _video, _path = conv_webm(video_path) if is_webm(video_path) else (VideoFileClip(video_path), None)\n",
        "    if _path is not None:\n",
        "        video_paths[v] = _path\n",
        "    video.append(_video)\n",
        "video_paths"
      ],
      "metadata": {
        "id": "p2r1n94mMKzy",
        "collapsed": true,
        "outputId": "cb720ed4-0843-454a-9e6b-8291f937644a",
        "colab": {
          "base_uri": "https://localhost:8080/"
        }
      },
      "execution_count": 15,
      "outputs": [
        {
          "output_type": "execute_result",
          "data": {
            "text/plain": [
              "['./6b7324461e471fbd08e36580ed0681c7_1732186534941__uid_s_344708796__uid_e_video.m3u8',\n",
              " './6b7324461e471fbd08e36580ed0681c7_1732186534941__uid_s_347846695__uid_e_video.m3u8',\n",
              " './6b7324461e471fbd08e36580ed0681c7_1732186534941__uid_s_480128781__uid_e_video.m3u8',\n",
              " './6b7324461e471fbd08e36580ed0681c7_1732186534941__uid_s_687092031__uid_e_video.m3u8']"
            ]
          },
          "metadata": {},
          "execution_count": 15
        }
      ]
    },
    {
      "cell_type": "code",
      "source": [
        "audio = []\n",
        "wav_paths = []\n",
        "for audio_path in audio_paths:\n",
        "    wav_path = '.'.join(audio_path.split('.')[:-1]) + '.wav'\n",
        "    check = add_silent_segment(audio_path, check=True)\n",
        "    if check:\n",
        "        audio_tmp = add_silent_segment(audio_path)\n",
        "    else:\n",
        "        audio_tmp = AudioFileClip(audio_path)\n",
        "    audio_tmp.write_audiofile(wav_path, ffmpeg_params=[\"-ac\", \"1\"])\n",
        "    print(f'duration : {audio_tmp.duration}')\n",
        "    audio.append(audio_tmp)\n",
        "    wav_paths.append(wav_path)\n",
        "print(audio)"
      ],
      "metadata": {
        "id": "3JW5DgVSK5AU",
        "outputId": "fe8a4342-a71e-40ed-9f18-fe705555cee8",
        "colab": {
          "base_uri": "https://localhost:8080/"
        }
      },
      "execution_count": 16,
      "outputs": [
        {
          "output_type": "stream",
          "name": "stdout",
          "text": [
            "MoviePy - Writing audio in ./6b7324461e471fbd08e36580ed0681c7_1732186534941__uid_s_344708796__uid_e_audio.wav\n"
          ]
        },
        {
          "output_type": "stream",
          "name": "stderr",
          "text": []
        },
        {
          "output_type": "stream",
          "name": "stdout",
          "text": [
            "MoviePy - Done.\n",
            "duration : 1788.77\n",
            "MoviePy - Writing audio in ./6b7324461e471fbd08e36580ed0681c7_1732186534941__uid_s_347846695__uid_e_audio.wav\n"
          ]
        },
        {
          "output_type": "stream",
          "name": "stderr",
          "text": []
        },
        {
          "output_type": "stream",
          "name": "stdout",
          "text": [
            "MoviePy - Done.\n",
            "duration : 1790.59\n",
            "2 無音 1732241612718  >  1732240887989 724.729\n",
            "MoviePy - Writing audio in ./6b7324461e471fbd08e36580ed0681c7_1732186534941__uid_s_480128781__uid_e_audio.wav\n"
          ]
        },
        {
          "output_type": "stream",
          "name": "stderr",
          "text": [
            "                                                                        "
          ]
        },
        {
          "output_type": "stream",
          "name": "stdout",
          "text": [
            "MoviePy - Done.\n",
            "duration : 1791.0389795918356\n",
            "[<moviepy.audio.io.AudioFileClip.AudioFileClip object at 0x7bfbbc394a90>, <moviepy.audio.io.AudioFileClip.AudioFileClip object at 0x7bfbba49bf10>, <moviepy.audio.AudioClip.CompositeAudioClip object at 0x7bfbb990b130>]\n"
          ]
        },
        {
          "output_type": "stream",
          "name": "stderr",
          "text": [
            "\r"
          ]
        }
      ]
    },
    {
      "cell_type": "code",
      "source": [
        "model = whisper.load_model('large')\n",
        "#model = stable_whisper.load_model('large')\n",
        "#stable_whisper.modify_model(model)"
      ],
      "metadata": {
        "id": "tQ_TEOh7swqx",
        "outputId": "37705815-3e20-4cca-b532-8fecb2717e06",
        "colab": {
          "base_uri": "https://localhost:8080/"
        }
      },
      "execution_count": 17,
      "outputs": [
        {
          "output_type": "stream",
          "name": "stderr",
          "text": [
            "100%|██████████████████████████████████████| 2.88G/2.88G [00:30<00:00, 102MiB/s]\n",
            "WARNING:py.warnings:/usr/local/lib/python3.10/dist-packages/whisper/__init__.py:150: FutureWarning: You are using `torch.load` with `weights_only=False` (the current default value), which uses the default pickle module implicitly. It is possible to construct malicious pickle data which will execute arbitrary code during unpickling (See https://github.com/pytorch/pytorch/blob/main/SECURITY.md#untrusted-models for more details). In a future release, the default value for `weights_only` will be flipped to `True`. This limits the functions that could be executed during unpickling. Arbitrary objects will no longer be allowed to be loaded via this mode unless they are explicitly allowlisted by the user via `torch.serialization.add_safe_globals`. We recommend you start setting `weights_only=True` for any use case where you don't have full control of the loaded file. Please open an issue on GitHub for any issues related to this experimental feature.\n",
            "  checkpoint = torch.load(fp, map_location=device)\n",
            "\n"
          ]
        }
      ]
    },
    {
      "cell_type": "code",
      "source": [
        "asr_result = []\n",
        "for wav_patn in wav_paths:\n",
        "    print(f'\\n---- {wav_patn} ----')\n",
        "    #_result = model.transcribe(wav_patn, verbose=True, fp16=False, language=\"ja\", word_timestamps=True)\n",
        "    #_result = model.transcribe(wav_patn, verbose=True, fp16=False, language=\"ja\", word_timestamps=True, logprob_threshold=0, no_speech_threshold=0.4, compression_ratio_threshold=2.6)\n",
        "    _result = model.transcribe(wav_patn, verbose=True, fp16=False, language=\"ja\", word_timestamps=True, logprob_threshold=0, no_speech_threshold=0.5, compression_ratio_threshold=2.1)\n",
        "\n",
        "    asr_result.append(_result)"
      ],
      "metadata": {
        "id": "v-IhvxuSHL72",
        "outputId": "d6cb5008-40c0-4025-d73e-60458c51a805",
        "colab": {
          "base_uri": "https://localhost:8080/"
        }
      },
      "execution_count": 33,
      "outputs": [
        {
          "output_type": "stream",
          "name": "stdout",
          "text": [
            "\n",
            "---- ./6b7324461e471fbd08e36580ed0681c7_1732186534941__uid_s_344708796__uid_e_audio.wav ----\n",
            "[00:02.580 --> 00:03.800] どうも はじめまして\n",
            "[00:05.980 --> 00:06.960] 聞こえますか\n",
            "[00:11.100 --> 00:14.140] はい ビトルモーター株式会社の 高橋と申します\n",
            "[00:14.140 --> 00:16.960] 本日はですね 自動車購入に関する\n",
            "[00:16.960 --> 00:19.680] インタビューにご協力いただき ありがとうございます\n",
            "[00:20.800 --> 00:24.180] このインタビューがですね お客様が自動車購入する際に\n",
            "[00:24.180 --> 00:28.880] 何しらの車種を選択し その理由は 何だったのか という事を理解する 目的としております\n",
            "[00:29.480 --> 00:34.800] 所要時間は30分です インタビューの内容はすべて匿名で扱われ\n",
            "[00:34.800 --> 00:41.500] 統計的な分析にのみ利用させていただきます 録音録画させていただきますので ご了承ください\n",
            "[00:43.920 --> 00:49.680] はい では早速始めさせていただきます まず現在車を所有されてますか\n",
            "[00:52.560 --> 00:55.080] 車種とか年始をお伺いしてよろしいでしょうか\n",
            "[01:07.220 --> 01:08.720] 2023年\n",
            "[01:10.060 --> 01:11.500] まだ新しいですね\n",
            "[01:17.400 --> 01:24.180] はい その車種を選んだ理由なんですけども 何か具体的にございますか\n",
            "[01:24.180 --> 01:26.800] 今、ディーラーに騙されたという ご話をいただきましたが\n",
            "[01:28.300 --> 01:35.100] 例としては環境への配慮とか燃費のよさとか 価格とか走行性能、デザイン、ブランドイメージ\n",
            "[01:35.100 --> 01:40.280] 機能、装備、税金、補助金、その他 いろいろあるんですけども\n",
            "[01:41.220 --> 01:42.240] あるかと思いますが\n",
            "[02:44.700 --> 02:47.720] はい 今エンジンについてのお話もいただきましたけども\n",
            "[02:48.620 --> 02:53.500] 今 2023年にご購入されたものもガソリン車 エンジンの車でしょうか\n",
            "[02:56.080 --> 02:57.640] うんうんうんうん\n",
            "[03:06.580 --> 03:23.480] そうです あと車を購入された際に\n",
            "[03:23.480 --> 03:29.980] いいですね、これももうすでに、 頂いたかもしれないんですが、どのような方法で 情報収集を行いましたか?\n",
            "[03:41.320 --> 03:47.320] インターネットとか雑誌とか、口コミとか、 実際に乗車されたりとか、いかがですか?\n",
            "[03:48.380 --> 03:53.200] あるいは備 containersだけで twiceで乗り切る。\n",
            "[03:53.480 --> 03:55.500] はい\n",
            "[03:55.500 --> 03:55.520]  requires\n",
            "[04:11.920 --> 04:12.360] はい\n",
            "[04:13.260 --> 04:13.700] はい\n",
            "[04:16.360 --> 04:16.800] はい\n",
            "[04:16.800 --> 04:19.120] 分かりました\n",
            "[04:19.660 --> 04:24.740] これもですね 今いただいたお話の中で ご回答いただいたものもあるんですけども\n",
            "[04:24.740 --> 04:30.020] 最終的には購入決めた理由というのは営業マンの対応であるとか\n",
            "[04:30.020 --> 04:32.520] 価格交渉結果であるとか納費であるとか\n",
            "[04:33.000 --> 04:36.880] 試乗した時の乗り心地であるとか色々考えられると思うんですけども\n",
            "[04:38.180 --> 04:39.720] 決め手は何でしたかね\n",
            "[05:21.080 --> 05:21.640] はい\n",
            "[05:26.020 --> 05:26.580] はい\n",
            "[05:26.580 --> 05:32.920] はい、わかりました\n",
            "[05:32.920 --> 05:36.020] 居住性がやっぱりすごい重視されたということですね\n",
            "[05:39.200 --> 05:41.560] はい 分かりました\n",
            "[05:41.560 --> 05:46.680] あと 今後ですね 今のお乗りになってる車もそうなんですけども\n",
            "[05:46.680 --> 05:50.920] 今後 先々ですね 車そのものに求めるものとして\n",
            "[05:51.600 --> 05:57.520] 最近 自動運転の技術であるとか 安全性能ももちろん高まってますし\n",
            "[05:57.520 --> 06:00.760] あと 居住性ですね 今お話ししたいわゆる快適性\n",
            "[06:01.540 --> 06:06.380] で あと車そのものの環境性能も 色々言われたりとか\n",
            "[06:07.460 --> 06:10.780] あと これもですね 久しぶりですけど コネクテッド機能といって\n",
            "[06:10.780 --> 06:15.680] ネット環境が利用できたりとか あとエンターテイメント機能دي Entonces\n",
            "[06:15.680 --> 06:21.060] 等々ありますけども 期待する部分としては 将来車にどんな期待されてますか\n",
            "[06:25.740 --> 06:27.400] 今のままで はい はい\n",
            "[06:57.460 --> 06:58.140] うーん\n",
            "[07:00.980 --> 07:05.700] ファミー それ電気自動車現彦女ですね厳密助手に対して\n",
            "[07:13.860 --> 07:14.540] はいっ\n",
            "[07:45.260 --> 07:47.940] うん あーそうですか\n",
            "[07:52.140 --> 07:52.320] はい\n",
            "[07:52.320 --> 08:00.040] ああそうですか\n",
            "[08:00.040 --> 08:11.520] っか\n",
            "[08:12.580 --> 08:13.900] はいはい\n",
            "[08:17.060 --> 08:17.120] はい\n",
            "[08:22.000 --> 08:24.340] ナビがそのものがあっています\n",
            "[08:30.040 --> 08:32.100] はいはいはいはいはい\n",
            "[08:32.100 --> 08:43.140] はいはい今Androidオープンになっちゃったですね\n",
            "[08:49.360 --> 08:50.320] おー\n",
            "[08:53.000 --> 08:53.960] よかった\n",
            "[10:24.240 --> 10:28.280] 位置情報がメインですけども どこにいてどこに向かっているのか\n",
            "[10:28.280 --> 10:29.640] っていう把握がしづらい\n",
            "[10:41.520 --> 10:42.360] はいはいはい\n",
            "[10:42.360 --> 10:42.500] はい\n",
            "[10:44.200 --> 10:45.200] うん イライラする\n",
            "[10:46.520 --> 10:46.840] はい\n",
            "[10:51.240 --> 10:51.560] はい\n",
            "[10:51.560 --> 10:51.680] はい\n",
            "[10:52.740 --> 10:53.380] わかりました\n",
            "[10:55.820 --> 10:56.800] あと 最後にですね\n",
            "[10:56.800 --> 10:59.540] ボルボに乗られてるということで\n",
            "[10:59.540 --> 11:02.140] ボルボ かなり電気自動車に傾倒する\n",
            "[11:02.600 --> 11:04.900] 欧州はメインの市場だと思うので\n",
            "[11:05.440 --> 11:06.640] してるメーカーだと思う\n",
            "[11:06.640 --> 11:08.000] ブランドさんだと思うんですけども\n",
            "[11:08.000 --> 11:12.160] その辺りかなり営業マンから押されたりとかしませんでしょうか\n",
            "[11:12.160 --> 11:15.620] まあまあ sword エンジンが好きということはいまお伺いしたんです\n",
            "[11:18.860 --> 11:19.500] ああん\n",
            "[11:19.500 --> 11:28.800] あああそうですかやっぱり営業営業さんのアレですねとの関係ぴーかそこがすごく強そ\n",
            "[11:36.420 --> 11:38.320] あ円花自動車としてはっ\n",
            "[11:38.320 --> 11:38.740] ん\n",
            "[12:13.340 --> 12:21.560] ですねはいっ わかりましたでは8インタビュー以上となります8本日インタビューに御協力いただき\n",
            "[12:21.560 --> 12:22.940] ましょ 對き乃ございました\n",
            "[12:23.760 --> 12:30.300] はいあの貴重なご受けいただき誠に有難うございました はい またご機会ありましたらよろしくお願い致します\n",
            "[12:30.300 --> 12:31.120] あのちゃんっ\n",
            "[12:35.680 --> 12:36.640]  buyer とっ\n",
            "[12:38.920 --> 12:41.960] 奥さんもしていいですかosing baby dimension lo\n",
            "[12:43.600 --> 12:47.560] ゲイで議論課題とは気 BACK\n",
            "[12:47.560 --> 12:51.540] グッロウノンで学校アプリを学ぶ 手話\n",
            "[12:53.300 --> 12:56.380] あーやっ 外国増や現金税進撃\n",
            "[12:57.160 --> 12:57.640] 、\n",
            "[12:57.540 --> 13:04.680]  canon\n",
            "[12:57.640 --> 12:58.680] ジャンダーマンで入れてもいいのかな って\n",
            "[13:00.320 --> 13:03.440] お客さんが来たときにねそうそう こんなこと聞きたいんだけど\n",
            "[13:03.440 --> 13:06.620] どんなインタビューすればいいのかなって こんななん、パン!みたり\n",
            "[13:09.440 --> 13:13.700] うんうん、案件作るときで\n",
            "[13:15.160 --> 13:15.400] うん\n",
            "[13:17.660 --> 13:17.900] うん\n",
            "[13:21.960 --> 13:22.200] うん\n",
            "[13:23.700 --> 13:23.940] うん\n",
            "[13:23.940 --> 13:24.080] うん\n",
            "[13:26.180 --> 13:26.420] うん\n",
            "[13:26.420 --> 13:26.500] うん\n",
            "[13:36.240 --> 13:56.480]  Q2.レコードの使い方\n",
            "[14:41.640 --> 14:43.560] 確かに プロモーションネタですね\n",
            "[14:44.380 --> 14:46.200] まぁいいや ちょっと全然余談になりましたが\n",
            "[14:46.200 --> 14:51.480] はい ということで 一旦これで終了させていただきます\n",
            "[14:51.940 --> 14:53.060] はい 新さん何かある?\n",
            "[15:26.480 --> 15:26.920] うっ\n",
            "[15:33.020 --> 15:38.260] どうすんだろうね実はインタビューでこんなです あれもそれ事前にてアンケートしてるから大丈夫なんです\n",
            "[15:39.560 --> 15:44.240] そう、ほんとにやってたのに今 辛い使ったことないと思ってたら facilities\n",
            "[16:49.780 --> 16:53.080] 要は住民税で払う分を買い物に使えるだけの話\n",
            "[16:53.760 --> 16:58.760] 住民税って払ってるやつを その分をふるさと納税で使っても\n",
            "[16:59.220 --> 17:01.180] そこが 税金向上される\n",
            "[17:07.680 --> 17:08.220] うん\n",
            "[17:11.600 --> 17:12.140] うん\n",
            "[17:12.800 --> 17:13.060] うん\n",
            "[17:16.980 --> 17:17.520] そう\n",
            "[17:17.520 --> 17:18.580] うん\n",
            "[17:19.800 --> 17:20.340] うん\n",
            "[17:22.160 --> 17:24.340] 税金が減るわけではない\n",
            "[17:24.340 --> 17:26.880] 税金が減るわけではないね\n",
            "[17:28.880 --> 17:29.420] うん\n",
            "[17:29.420 --> 17:29.680] うん\n",
            "[17:29.680 --> 17:30.140] うん\n",
            "[17:37.480 --> 17:43.360] 税対象から控除されるかもしれない 仕組み 証かもしれない\n",
            "[17:43.360 --> 17:46.540] で 結果的になったら だいたい2年これくらいの人は\n",
            "[17:46.540 --> 17:49.100] いくらぐらいまで使うと多分 効果があるっていうのは\n",
            "[17:49.100 --> 17:50.980] ちゃんとなんか計算してくれるのって\n",
            "[17:56.700 --> 17:57.020] うん。\n",
            "[18:09.160 --> 18:19.860] だから、ある分上からそもそも住んでるところについては税金をハラーずに別の地方で税金をハラー。\n",
            "[18:22.580 --> 18:28.940] ただ、税金が5万円とiş給されて quitting inapplicable benefit\n",
            "[18:28.940 --> 18:34.020] それはただ単純に毎日業務をしない限り、 地元である横浜市の方へ稲слиがを支払 moment\n",
            "[18:34.020 --> 18:42.060] これがふるさと納税で九州事業へ5万円と、 そしてお礼くして牛肉を稲司に支払うのです\n",
            "[18:44.100 --> 18:45.140] やはり摂取の得です\n",
            "[18:45.140 --> 18:45.740] だからね、それは得だよ やっぱ得\n",
            "[18:48.360 --> 18:49.600] だよね震度3.0\n",
            "[18:50.320 --> 18:51.200] そういうことだよ\n",
            "[18:54.200 --> 18:56.060] そうそうじゃない? みたいな\n",
            "[18:56.060 --> 18:56.300] さっきの establish\n",
            "[19:03.740 --> 19:06.900] 画面共有してみようか 画面共有した。\n",
            "[19:09.780 --> 19:10.640] あんまり\n",
            "[19:14.180 --> 19:15.040] それけれども\n",
            "[19:25.020 --> 19:26.740] だから税金として納めない分\n",
            "[19:27.480 --> 19:29.800] それもあってねうちの奥さんは否定派なんだよね\n",
            "[19:31.580 --> 19:33.420] 地元に落とすべきだ\n",
            "[19:33.420 --> 19:36.560] 社会福祉とかも自分の地域に対して\n",
            "[19:37.080 --> 19:38.500] それが支援になっているはずだから\n",
            "[19:38.500 --> 19:40.500] うちの奥さんは否定派なのよ\n",
            "[19:47.480 --> 19:52.900] 個人レベルで見ると 例えば5万円住んでるとこに払うのと\n",
            "[19:54.620 --> 19:58.640] 例えば 九州 どっかどこでもいける 東北の方に払うと\n",
            "[19:59.280 --> 20:02.400] 牛タングの肉がくれるとかさ そんな話だよね\n",
            "[20:05.560 --> 20:09.800] それを払います それをふらさと納税しました ってやつを確定申告してはできないんで\n",
            "[20:40.420 --> 20:41.820] ん\n",
            "[20:41.820 --> 20:42.600] い\n",
            "[20:42.600 --> 20:42.720] ん\n",
            "[20:45.020 --> 20:46.420] 6\n",
            "[20:48.180 --> 20:49.580] 主\n",
            "[21:17.600 --> 21:19.640] 画面共有 解像度ずいぶん荒いね\n",
            "[21:22.680 --> 21:23.560] 今落ちたね\n",
            "[21:23.560 --> 21:24.420] 今落ちたね\n",
            "[21:29.040 --> 21:30.140] 通信状況かな\n",
            "[21:30.140 --> 21:32.840] うちの会社の中のネットワークその予報があないかな\n",
            "[22:32.920 --> 22:33.320] うん\n",
            "[22:36.280 --> 22:41.100] 心配になるほど油の重量課金量が全然あがながらないんだよ\n",
            "[22:44.140 --> 22:49.940] 本当だ本 Order 元ham カープ通信間研究所ぴょん動的に変えています\n",
            "[22:49.940 --> 22:50.060] ん\n",
            "[22:54.320 --> 23:00.140] なんかはれわれ are 会議やってこれ使う彼 if 巾自分たちでロックフードじゃないけどさ\n",
            "[23:00.140 --> 23:00.760] わかる\n",
            "[23:00.760 --> 23:00.820] ん\n",
            "[23:04.760 --> 23:05.120] ん\n",
            "[23:10.680 --> 23:11.040] お\n",
            "[23:21.720 --> 23:24.280] あ そうだね なんかそうだね\n",
            "[23:24.280 --> 23:26.680] 考えると なんかあれだね これ エクスプレスモード\n",
            "[23:26.680 --> 23:32.340] みたいなさ はんとに 何 いつものさ\n",
            "[23:33.440 --> 23:36.300] なんだっけ チームウス と同じような感じ\n",
            "[23:36.300 --> 23:39.160] でぱっと作ってすぐ来れる人って いまいる\n",
            "[23:39.160 --> 23:41.380] 人 みたいな感じでやれたらいいのかな\n",
            "[23:41.380 --> 23:46.900] そうしたら うんうん\n",
            "[23:48.820 --> 23:49.920] そうなん って チーム happen\n",
            "[24:39.320 --> 24:49.900] 確かにね\n",
            "[25:19.900 --> 25:24.160] 上体をきちんと鳥居さんと共有して 鳥居さんも入ってもらって\n",
            "[25:24.160 --> 25:26.820] こんな画面でこれだと 我々は十分だと思うんだけど\n",
            "[25:26.820 --> 25:31.780] ただ通信状況によって荒くなる場合があっていうことは 他の我々も経験してるんだけど\n",
            "[26:10.200 --> 26:15.880] いやちっちゃいよ多分 でピンチで拡大してみないと見え Remember\n",
            "[26:19.060 --> 26:19.620] やった\n",
            "[26:50.180 --> 26:50.400] うん\n",
            "[26:50.400 --> 26:53.840] ak does\n",
            "[27:06.080 --> 27:07.240] はいっ\n",
            "[27:07.240 --> 27:09.740] はいっ\n",
            "[28:11.760 --> 28:15.820] いいじゃないですか ただ確定申告は必要\n",
            "[29:16.120 --> 29:20.220] 自分のとこにもう住民税払わなくちゃいけないっていう20 払いなんだよ\n",
            "[29:22.180 --> 29:22.860] そうそうそうそう\n",
            "[29:24.120 --> 29:25.140] 今どっちだ\n",
            "[29:27.080 --> 29:27.420] はい\n",
            "[29:30.900 --> 29:31.240] もう\n",
            "\n",
            "---- ./6b7324461e471fbd08e36580ed0681c7_1732186534941__uid_s_347846695__uid_e_audio.wav ----\n",
            "[01:01.420 --> 01:06.640] 去年だから2023年です\n",
            "[01:08.500 --> 01:08.980] はい\n",
            "[01:12.420 --> 01:12.900] はい\n",
            "[01:12.900 --> 01:13.140] はい\n",
            "[01:13.140 --> 01:15.660] ディーラーに騙されて入れ替えました\n",
            "[01:25.540 --> 01:26.020] はい\n",
            "[01:26.980 --> 01:27.460] はい\n",
            "[01:27.460 --> 01:27.560] はい\n",
            "[01:42.660 --> 01:46.380] 前と同じ車種を騙されたので\n",
            "[01:46.820 --> 01:47.900] 入れ替えました\n",
            "[01:49.400 --> 01:49.800] ですね\n",
            "[01:51.820 --> 01:53.740] もうその入れ替えたのが\n",
            "[01:55.020 --> 01:58.720] 今回が同じ車種が5代目なので\n",
            "[02:28.820 --> 02:43.060] 15、10何年前だけども、そろそろでっかいエンジンはなくなっていくだろうなという時代だったので、最後に3リッターのターボ、4リッタークラスのエンジンを乗っておきたかったなというのも一つあります。\n",
            "[02:56.240 --> 03:06.460]  48Vのマイルドハイブリッドの、だけどもほぼ効果なしという感じのガソリンエンジンです\n",
            "[03:10.160 --> 03:11.420] 2リッターですね\n",
            "[05:11.420 --> 05:18.780] 二人しか乗らないんだけども包内が広めでゆったりとして後ろに座った時にもちゃんと 膝は\n",
            "[05:19.420 --> 05:29.520] あのぶつからずにっていうのはまあ 実際にあの比較をしていくとそういうところが気になっちゃうっていう\n",
            "[05:36.780 --> 05:38.980] 最後の最後の決め手はそうでしたね\n",
            "[06:22.780 --> 06:25.920] 今のままでいてほしいなっていう感じですね\n",
            "[06:27.040 --> 06:31.640] 今のままガソリンでいてもらったほうが\n",
            "[06:33.140 --> 06:35.660] 遠出をよくかけるので\n",
            "[06:36.800 --> 06:43.140] 150キロ単位でPAに泊まって充電しなきゃいけないような車には乗りたくないですね\n",
            "[06:44.760 --> 06:49.180] まずね なのでバッテリーなんだとしたらバッテリーでもいいんだけども\n",
            "[06:49.180 --> 06:57.240] やっぱり700キロはノンストップで走れるぐらいの容量があるべきだと思っているので\n",
            "[06:57.780 --> 07:00.900] 今のガソリンの代わりにはならないですね\n",
            "[09:00.900 --> 09:03.720] アップルの地図の方が見やすかった\n",
            "[09:08.980 --> 09:13.960] どっか行きたいときに探すのは\n",
            "[09:13.960 --> 09:18.600] Googleの検索に近いものがあるので\n",
            "[09:19.640 --> 09:21.080] なかなかいいんだけども\n",
            "[09:22.160 --> 09:23.400] Googleさんもね\n",
            "[09:23.400 --> 09:27.940] でも住所を入れてなかなか住所を最後まで聞き届けてくれない\n",
            "[09:27.940 --> 09:29.380] ということとか\n",
            "[09:59.380 --> 10:06.340] 今ここのでここからここに行きたいんですけど 急に変えようとした時にランドマークが見えないんで\n",
            "[10:06.340 --> 10:10.500] 自分の 位置が分からない。 eness日本が分かるんだけどもあの\n",
            "[10:11.340 --> 10:18.080] 現実的にどこに自分がいるのかっていう ところがすごくわかりづらくてあれを走り\n",
            "[10:18.080 --> 10:22.400] ながら認識するのは無理ですね とかafe\n",
            "[10:29.880 --> 10:30.360] そうですね\n",
            "[10:31.820 --> 10:33.460] あと拡大縮小\n",
            "[10:33.460 --> 10:34.740] これはもう車の\n",
            "[10:34.740 --> 10:36.880] ハードウェアの問題なんですけど\n",
            "[10:36.880 --> 10:38.420] 拡大縮小が\n",
            "[10:38.940 --> 10:41.620] 指の広げるやつで\n",
            "[10:41.620 --> 10:43.300] 綺麗にいかなくて\n",
            "[10:44.740 --> 10:46.200] イライラしますね\n",
            "[10:48.160 --> 10:49.620] とかいろいろと\n",
            "[10:49.620 --> 10:50.540] 改悪があります\n",
            "[12:21.700 --> 12:22.400] ありがとうございます\n",
            "[12:26.260 --> 12:26.960] あの\n",
            "[12:30.100 --> 12:33.060] ディーラーへの\n",
            "[12:33.620 --> 12:35.520] 転職をお勧めします\n",
            "[12:36.900 --> 12:39.320] 素晴らしい質問\n",
            "[12:39.320 --> 12:39.980] たちでした\n",
            "[12:42.560 --> 12:43.720] そうなんだ\n",
            "[12:43.720 --> 12:44.480] すご\n",
            "[12:48.740 --> 12:50.140] そうなんだ\n",
            "[12:59.680 --> 13:00.280] そうですね\n",
            "[13:06.760 --> 13:07.960] だからここ\n",
            "[13:07.960 --> 13:12.240] ここでは遅すぎると思うので\n",
            "[13:13.520 --> 13:17.240] 作ってやり取りをしている間に\n",
            "[13:19.840 --> 13:23.140] プロンプトになるものを4つぐらい入れてもらえると\n",
            "[13:24.720 --> 13:28.600] 事例として生成されているっていうのはいいでしょうね\n",
            "[13:59.140 --> 14:02.740] そういう意味ではもっとプロモーションのところでやるべきですよね\n",
            "[14:04.720 --> 14:06.180] もうこれをやると決めて\n",
            "[14:06.180 --> 14:09.200] お金を前払いで払った人たちっていうのは\n",
            "[14:09.200 --> 14:11.560] 何を聞こうとしてるのかは分かっているので\n",
            "[14:41.560 --> 14:42.240] そういう気がしますよね。\n",
            "[14:43.600 --> 14:44.460] そうですね。\n",
            "[14:46.500 --> 14:47.360] ありがとうございます。\n",
            "[15:17.080 --> 15:18.780] ありません\n",
            "[15:20.620 --> 15:22.340] ないです\n",
            "[15:25.960 --> 15:28.860] 終わった\n",
            "[15:28.860 --> 15:30.240] 終わった\n",
            "[15:35.680 --> 15:38.480] そうそうそうそう\n",
            "[15:38.480 --> 15:38.840] そうそう\n",
            "[15:44.420 --> 15:51.020] やってなかった人が対象だと思って 勧めてもらえたら嬉しいですね\n",
            "[15:51.020 --> 15:51.300] ・・・\n",
            "[16:00.380 --> 16:01.680] 何だろうな\n",
            "[16:02.780 --> 16:06.720] 調べてもいないので、メリット感が\n",
            "[16:06.720 --> 16:12.760] 行くので、直接的に把握できてない、理解できていない\n",
            "[16:13.360 --> 16:13.840] ですね\n",
            "[16:21.340 --> 16:24.180] 勧められた\n",
            "[16:24.180 --> 16:25.820] ことはないと思います\n",
            "[16:27.400 --> 16:28.760] うん\n",
            "[16:28.760 --> 16:29.380] ん\n",
            "[16:29.900 --> 16:33.180] 終わった\n",
            "[16:36.020 --> 16:37.560] 逆に\n",
            "[16:38.740 --> 16:40.800] 何がいいんですか\n",
            "[16:43.440 --> 16:44.800] うん\n",
            "[17:52.860 --> 17:56.680] だから払う税金が減るんだったらすごいメリットだなと思うんだけど\n",
            "[17:56.680 --> 17:59.040] そんなの誰も許さないと思うのね\n",
            "[18:01.400 --> 18:06.320] 税金で高級肉をもらいましたって変じゃないですか\n",
            "[18:46.860 --> 18:52.060] そういうことなんですか\n",
            "[18:53.760 --> 18:55.160] うん\n",
            "[19:02.600 --> 19:02.920] はい\n",
            "[19:13.860 --> 19:16.040] でもそうするとさ\n",
            "[19:16.040 --> 19:17.040] あれだよね\n",
            "[19:17.040 --> 19:20.020] 自分が住んでいるところの\n",
            "[19:21.280 --> 19:23.260] サービスが悪くなるってことだよね\n",
            "[19:26.980 --> 19:27.420] うん\n",
            "[19:29.940 --> 19:30.380] うん\n",
            "[19:30.380 --> 19:31.560] うわぁ Grand Jean ћれる\n",
            "[19:31.560 --> 19:31.900] そうなの\n",
            "[19:31.900 --> 19:32.500] 言ったって\n",
            "[19:33.200 --> 19:33.680] 64\n",
            "[19:35.280 --> 19:35.760] ん\n",
            "[19:41.220 --> 19:42.180] 思う\n",
            "[19:42.180 --> 19:42.420] そう\n",
            "[19:42.420 --> 19:43.100] 思う\n",
            "[19:43.720 --> 19:43.860] 後\n",
            "[19:46.580 --> 19:47.060] ん\n",
            "[19:50.140 --> 19:50.640] うん\n",
            "[20:10.100 --> 20:11.100] そうだよね\n",
            "[20:11.100 --> 20:15.500] 多分俺が一番やる気がないのはそこです\n",
            "[22:45.500 --> 22:45.880] うーん\n",
            "[22:47.340 --> 22:48.340] そうだね\n",
            "[22:48.340 --> 22:50.520] うーん\n",
            "[22:53.080 --> 22:54.700] なんであれだね\n",
            "[23:01.620 --> 23:03.160] うんそうね\n",
            "[23:04.360 --> 23:05.040] うん\n",
            "[23:06.560 --> 23:06.640] ただ\n",
            "[23:08.700 --> 23:09.620] ただね\n",
            "[23:10.380 --> 23:12.300] ただ1時間前\n",
            "[23:12.300 --> 23:13.480] 1時間前に\n",
            "[23:14.000 --> 23:14.500] えへへ\n",
            "[24:15.700 --> 24:16.340] 今回も\n",
            "[24:17.100 --> 24:19.020] 今のだったらいいと思うのね\n",
            "[24:20.180 --> 24:20.500] うん\n",
            "[24:20.500 --> 24:24.300] 今だったら俺これ以上上げなくてもいいと思っているので\n",
            "[24:26.160 --> 24:27.060] 次もしね\n",
            "[24:28.200 --> 24:29.180] もしさっきの\n",
            "[24:29.180 --> 24:30.260] 良くなかったのが\n",
            "[24:30.260 --> 24:32.540] その帯域のネットワークの\n",
            "[24:33.440 --> 24:35.180] クオリティの問題だとすると\n",
            "[24:35.780 --> 24:37.420] 固定するしかなくなっちゃうと思う\n",
            "[24:37.420 --> 24:40.500] 変動させないでくれ\n",
            "[26:12.740 --> 26:40.460] で 上平さんも 上平さんも\n",
            "[26:40.460 --> 26:43.800] トリーさんの目的が何かまだ分からないけども\n",
            "[26:44.280 --> 26:47.100] 両方ちゃんと考えなきゃ\n",
            "[26:47.100 --> 26:50.520] みんなで話をしなきゃいけないような気がしますね\n",
            "[26:53.960 --> 26:56.640] スマホで画面共有っていうのがちょっと\n",
            "[28:58.320 --> 28:58.680] ね\n",
            "[28:58.680 --> 29:01.780] 分かりました\n",
            "[29:02.740 --> 29:04.620] でも多分確定申告が\n",
            "[29:04.620 --> 29:06.300] めんどちいいのでやらないと思います\n",
            "[29:08.300 --> 29:10.320] 確定申告しなかったらどうなるのこれ\n",
            "[29:13.560 --> 29:13.920] え\n",
            "[29:20.700 --> 29:21.820] そういうことだよね\n",
            "[29:21.820 --> 29:23.960] そんなリスクを負えないよね\n",
            "[29:27.580 --> 29:28.980] ありがとうございました\n",
            "[29:28.980 --> 29:30.260] ありがとうございました\n",
            "\n",
            "---- ./6b7324461e471fbd08e36580ed0681c7_1732186534941__uid_s_480128781__uid_e_audio.wav ----\n",
            "[15:05.380 --> 15:11.200] ふるさと納税についてお伺いしたいなと思います\n",
            "[15:13.040 --> 15:18.560] これまで ふるさと納税でお買い物したことがありますか\n",
            "[15:20.320 --> 15:21.880] あ、無いですか\n",
            "[15:24.000 --> 15:26.660] これから何かしら\n",
            "[15:28.020 --> 15:31.220] フルサド終わったんです\n",
            "[15:31.220 --> 15:31.980] はい\n",
            "[15:36.000 --> 15:36.720] そうですね\n",
            "[15:40.440 --> 15:41.160] はい\n",
            "[15:44.380 --> 15:45.100] はい\n",
            "[15:45.100 --> 15:46.100] やった振りに\n",
            "[15:47.120 --> 15:47.840] はい\n",
            "[15:51.240 --> 15:51.960] はい\n",
            "[15:51.960 --> 15:52.820] そして\n",
            "[15:52.820 --> 15:58.400] そしてフルザド納税で 買い物しない理由を聞いてもいいですか\n",
            "[16:14.060 --> 16:14.520] はい\n",
            "[16:15.520 --> 16:20.820] おまわりのお友達とかご家族に勧められたことがありますか\n",
            "[16:26.680 --> 16:29.600] はいわかりました\n",
            "[16:29.600 --> 16:30.460] たーーーー\n",
            "[16:34.800 --> 16:36.420] してはい えっとーもう\n",
            "[16:36.420 --> 16:47.100] ふるさと納税 ふるさと納税って\n",
            "[16:47.100 --> 16:52.340] 自分が そうです\n",
            "[16:53.220 --> 16:53.780] はい\n",
            "[18:59.600 --> 19:03.160] 合作は報 Legislation!\n",
            "[19:03.160 --> 19:03.840] asha\n",
            "[20:04.980 --> 20:20.240] お越しいただきです\n",
            "[20:20.240 --> 20:23.240] 一回だけ使ったことがあります\n",
            "[20:25.160 --> 20:26.640] 確定申告しました\n",
            "[20:56.640 --> 20:56.680] どうぞ\n",
            "[22:27.080 --> 22:31.300] 画面共有の時だけ開像度を上げますので\n",
            "[22:32.240 --> 22:34.840] 一旦これでやってみたいと思います\n",
            "[23:02.900 --> 23:08.980] あっ そうかもしれないですね ただ12人\n",
            "[25:46.200 --> 25:47.340] 沢山です\n",
            "[25:47.340 --> 25:47.340] 承 flashes\n",
            "[25:47.340 --> 25:50.020] 今 使っている端末はスマホですか\n",
            "[25:50.020 --> 25:54.120] しびりデータ\n",
            "[26:02.900 --> 26:04.500] 分かりました\n",
            "[27:04.780 --> 27:05.660] 分かりました。\n",
            "[27:07.320 --> 27:10.780] じゃあ 本日は以上をもちまして インタビュー\n",
            "[29:28.700 --> 29:30.100] ありがとうございました\n"
          ]
        }
      ]
    },
    {
      "cell_type": "code",
      "source": [
        "_seg = []\n",
        "for spk, res in enumerate(asr_result):\n",
        "    for seg in res['segments']:\n",
        "        _seg.append([seg['start'], seg['end'], seg['text'], f'speaker_{format(spk, \"02\") }'])\n",
        "#_seg = []\n",
        "#for spk, res in enumerate(asr_result):\n",
        "#    for seg in res.segments:\n",
        "#        _seg.append([seg.start, seg.end, seg.text, f'speaker_{format(spk, \"02\") }'])"
      ],
      "metadata": {
        "id": "e-ve0CjbIy0q"
      },
      "execution_count": 34,
      "outputs": []
    },
    {
      "cell_type": "code",
      "source": [
        "segments_sorted = sorted(_seg, key=lambda x:(x[0], x[1]))"
      ],
      "metadata": {
        "id": "BhIidIwe7kwi"
      },
      "execution_count": 35,
      "outputs": []
    },
    {
      "cell_type": "code",
      "source": [
        "characters = get_speaker_monitor(asr_result, segments_sorted, video_paths)\n",
        "print(characters)"
      ],
      "metadata": {
        "id": "IhxE59xwwZx1",
        "outputId": "9eb449f5-aa84-4a95-ee9a-0299dbfcffa5",
        "colab": {
          "base_uri": "https://localhost:8080/"
        }
      },
      "execution_count": 36,
      "outputs": [
        {
          "output_type": "stream",
          "name": "stdout",
          "text": [
            "{'speaker_00': {'character': 'インタビューア_00', 'user_id': '344708796', 'video_path': './6b7324461e471fbd08e36580ed0681c7_1732186534941__uid_s_344708796__uid_e_video.m3u8'}, 'speaker_01': {'character': 'モニター', 'user_id': '347846695', 'video_path': './6b7324461e471fbd08e36580ed0681c7_1732186534941__uid_s_347846695__uid_e_video.m3u8'}, 'speaker_02': {'character': 'インタビューア_02', 'user_id': '480128781', 'video_path': './6b7324461e471fbd08e36580ed0681c7_1732186534941__uid_s_480128781__uid_e_video.m3u8'}}\n"
          ]
        }
      ]
    },
    {
      "cell_type": "code",
      "source": [
        "InterReview_json = {\"movie_name\": interview_video_name}\n",
        "speak_json = []\n",
        "for start, end, text, speaker in segments_sorted:\n",
        "    _speak = {\"start\": f'{start:.2f}s', \"end\": f'{end:.2f}s', 'speaker': characters[speaker]['character'], 'speak': text}\n",
        "    speak_json.append(_speak)\n",
        "InterReview_json['InterReview'] = speak_json\n",
        "\n",
        "with open('./' + interview_json_name, 'w', encoding='utf-8') as f:\n",
        "    json.dump(InterReview_json, f, indent=4, ensure_ascii=False)"
      ],
      "metadata": {
        "id": "Q3H660Ljx-XY"
      },
      "execution_count": 37,
      "outputs": []
    },
    {
      "cell_type": "code",
      "source": [
        "video_part = ['']  * len(characters)\n",
        "cnt = 1\n",
        "for c, char in enumerate(characters):\n",
        "    if characters[char]['character'] == 'モニター':\n",
        "        #video_part[0] = video[c]\n",
        "        video_part[0] = characters[char]['video_path']\n",
        "    else:\n",
        "        #video_part[cnt] = video[c]\n",
        "        video_part[cnt] = characters[char]['video_path']\n",
        "        cnt += 1"
      ],
      "metadata": {
        "id": "lR1jYPl1XeNG"
      },
      "execution_count": 38,
      "outputs": []
    },
    {
      "cell_type": "code",
      "source": [
        "#w,h = moviesize = video_part[0].size\n",
        "main_w, main_h = moviesize = VideoFileClip(video_part[0]).size\n",
        "wipe_w = 128\n",
        "wipe_h = 72\n",
        "wipe_margin_right = 4\n",
        "wipe_margin_top = 4"
      ],
      "metadata": {
        "id": "A560gy3thpzF"
      },
      "execution_count": 39,
      "outputs": []
    },
    {
      "cell_type": "code",
      "source": [
        "#################### moviepy は出力が遅いので ffmpeg-python を利用\n",
        "\n",
        "#comp_mp4 = [video_part[0]]\n",
        "#for v in range(len(video_part) - 1):\n",
        "#    _wipe = (video_part[v + 1].\n",
        "#            resize((wipe_w, wipe_h)).\n",
        "#            margin(top=wipe_margin_top, right=wipe_margin_right, opacity=0).\n",
        "#            set_pos((main_w - wipe_w - wipe_margin_right, wipe_h * 0 + wipe_margin_right * 1)) )\n",
        "#    comp_mp4.append(_wipe)"
      ],
      "metadata": {
        "id": "hnK4Qe3jb17_"
      },
      "execution_count": 25,
      "outputs": []
    },
    {
      "cell_type": "code",
      "source": [
        "#################### moviepy は出力が遅いので ffmpeg-python を利用\n",
        "#audio_clip = AudioFileClip(interview_audio_name)\n",
        "\n",
        "#combined_clip = CompositeVideoClip(comp_mp4)\n",
        "#combined_clip = combined_clip.set_audio(audio_clip)\n",
        "\n",
        "#wav_clips = []\n",
        "#for w_path in wav_paths:\n",
        "#    print(w_path)\n",
        "#    wav_clip = AudioFileClip(w_path)\n",
        "#    wav_clip.set_fps(44100)\n",
        "#    wav_clips.append(wav_clip)\n",
        "#composite_audio = CompositeAudioClip(wav_clips)\n",
        "#composite_audio.write_audiofile('./' + interview_audio_name, ffmpeg_params=[\"-ac\", \"1\"])"
      ],
      "metadata": {
        "id": "B4hVkFNWoxwE"
      },
      "execution_count": 26,
      "outputs": []
    },
    {
      "cell_type": "code",
      "source": [
        "#################### moviepy は出力が遅いので ffmpeg-python を利用\n",
        "\n",
        "#combined_clip.write_videofile(interview_vido_name, fps=30, audio_codec = 'aac')"
      ],
      "metadata": {
        "id": "KyqTxNMbc-Gx"
      },
      "execution_count": 27,
      "outputs": []
    },
    {
      "cell_type": "code",
      "source": [
        "comp_wav = AudioSegment.from_file(wav_paths[0])\n",
        "for w in range(len(wav_paths) - 1):\n",
        "    orver_wav = AudioSegment.from_file(wav_paths[w + 1])\n",
        "    comp_wav = comp_wav.overlay(orver_wav, position=0)\n",
        "comp_wav.export(interview_audio_name, format=\"wav\")"
      ],
      "metadata": {
        "id": "KjcjvU_049HE",
        "outputId": "b37ced0b-d6db-4d97-f279-ae4ed7f5c34a",
        "colab": {
          "base_uri": "https://localhost:8080/"
        }
      },
      "execution_count": 40,
      "outputs": [
        {
          "output_type": "execute_result",
          "data": {
            "text/plain": [
              "<_io.BufferedRandom name='6b7324461e471fbd08e36580ed0681c7_1732186534941.wav'>"
            ]
          },
          "metadata": {},
          "execution_count": 40
        }
      ]
    },
    {
      "cell_type": "code",
      "source": [
        "voice = ffmpeg.input(interview_audio_name)\n",
        "\n",
        "video_clip = []\n",
        "for part in video_part:\n",
        "    _clop = ffmpeg.input(part)\n",
        "    video_clip.append(_clop)\n",
        "\n",
        "sub_scaled = []\n",
        "for c, clip in enumerate(video_clip):\n",
        "    if c == 0: continue\n",
        "    _scaled = clip.filter('scale', wipe_w, wipe_h)\n",
        "    sub_scaled.append(_scaled)\n",
        "\n",
        "orverlay = []\n",
        "for s, scl in enumerate(sub_scaled):\n",
        "    if s == 0:\n",
        "        sub1 = video_clip[0]\n",
        "        sub1 = sub1.filter('fps', fps=24, round='up')\n",
        "    else:\n",
        "        sub1 = orverlay[s - 1]\n",
        "    sub2 = scl\n",
        "    _orverlay = ffmpeg.overlay(sub1, sub2, x=(main_w - wipe_w - wipe_margin_right), y=(wipe_h * s + wipe_margin_top * (s + 1)) )\n",
        "    orverlay.append(_orverlay)\n",
        "\n",
        "output = ffmpeg.output(\n",
        "    orverlay[len(orverlay) - 1], voice.audio,\n",
        "    interview_video_name,\n",
        "    vcodec='libx264', acodec='aac', audio_bitrate='192k', preset='fast'\n",
        ")\n",
        "\n",
        "output = output.overwrite_output()\n"
      ],
      "metadata": {
        "id": "_pfG_4F6Lvk1"
      },
      "execution_count": 41,
      "outputs": []
    },
    {
      "cell_type": "code",
      "source": [
        "try:\n",
        "    ffmpeg.run(output, capture_stderr=True, capture_stdout=True)\n",
        "except ffmpeg.Error as e:\n",
        "    print(f\"標準エラー{e.stderr.decode()}\")\n",
        "    print(f\"標準出力: {e.stdout.decode()}\")"
      ],
      "metadata": {
        "id": "Q7yCG-fo5aS2"
      },
      "execution_count": 42,
      "outputs": []
    },
    {
      "cell_type": "code",
      "source": [
        "!cp ./6b7324461e471fbd08e36580ed0681c7_1732186534941.json ./drive/MyDrive/\n",
        "!cp ./6b7324461e471fbd08e36580ed0681c7_1732186534941.mp4 ./drive/MyDrive/\n",
        "!ls /drive/MyDrive/"
      ],
      "metadata": {
        "id": "UWsVLnwsfF_J",
        "outputId": "30676ace-0ada-41c6-a45f-a5deb433431d",
        "colab": {
          "base_uri": "https://localhost:8080/"
        }
      },
      "execution_count": 45,
      "outputs": [
        {
          "output_type": "stream",
          "name": "stdout",
          "text": [
            "ls: cannot access '/drive/MyDrive/': No such file or directory\n"
          ]
        }
      ]
    },
    {
      "cell_type": "code",
      "source": [
        "'''\n",
        "# 入力映像と音声ファイルの設定\n",
        "main = ffmpeg.input('ee93aa2994411ebff28d459c4711228b_1731555758981__uid_s_907719631__uid_e_video.webm')\n",
        "sub1 = ffmpeg.input('ee93aa2994411ebff28d459c4711228b_1731555758981__uid_s_462504175__uid_e_video.m3u8')\n",
        "sub2 = ffmpeg.input('ee93aa2994411ebff28d459c4711228b_1731555758981__uid_s_369679075__uid_e_video.m3u8')\n",
        "audio = ffmpeg.input('ee93aa2994411ebff28d459c4711228b_1731555758981.wav')\n",
        "\n",
        "# サブ映像のリサイズ\n",
        "sub1_scaled = sub1.filter('scale', wipe_w, wipe_h)\n",
        "sub2_scaled = sub2.filter('scale', wipe_w, wipe_h)\n",
        "\n",
        "# サブ映像1を右下にオーバーレイ\n",
        "overlay1 = ffmpeg.overlay(main, sub1_scaled, x=(main_w - wipe_w - wipe_margin_right), y=(wipe_h * 0 + wipe_margin_top * (0 + 1)))\n",
        "\n",
        "# サブ映像2を左上にオーバーレイ\n",
        "overlay2 = ffmpeg.overlay(overlay1, sub2_scaled, x=(main_w - wipe_w - wipe_margin_right), y=(wipe_h * s + wipe_margin_top * (1 + 1)))\n",
        "\n",
        "# 映像ストリームを取得\n",
        "#video_stream = overlay2.video\n",
        "\n",
        "# メイン映像の音声ストリームを取得\n",
        "#main_audio = main.audio\n",
        "\n",
        "# 音声のミックス（メイン映像の音声と外部音声をミックス）\n",
        "#mixed_audio = ffmpeg.filter([main_audio, audio], 'amix', inputs=2, duration='longest')\n",
        "\n",
        "# 映像と音声を結合して出力\n",
        "output = ffmpeg.output(\n",
        "    overlay2, audio.audio,\n",
        "    interview_video_name,\n",
        "    vcodec='libx264', acodec='aac', audio_bitrate='192k', preset='fast'\n",
        ")\n",
        "output = output.overwrite_output()\n",
        "\n",
        "# 実行\n",
        "ffmpeg.run(output)\n",
        "'''"
      ],
      "metadata": {
        "id": "kXqb5LJzPnVS",
        "outputId": "dcf9662f-f8b2-4aa3-9c00-b8cb892abc1d",
        "colab": {
          "base_uri": "https://localhost:8080/",
          "height": 139
        }
      },
      "execution_count": 31,
      "outputs": [
        {
          "output_type": "execute_result",
          "data": {
            "text/plain": [
              "\"\\n# 入力映像と音声ファイルの設定\\nmain = ffmpeg.input('ee93aa2994411ebff28d459c4711228b_1731555758981__uid_s_907719631__uid_e_video.webm')\\nsub1 = ffmpeg.input('ee93aa2994411ebff28d459c4711228b_1731555758981__uid_s_462504175__uid_e_video.m3u8')\\nsub2 = ffmpeg.input('ee93aa2994411ebff28d459c4711228b_1731555758981__uid_s_369679075__uid_e_video.m3u8')\\naudio = ffmpeg.input('ee93aa2994411ebff28d459c4711228b_1731555758981.wav')\\n\\n# サブ映像のリサイズ\\nsub1_scaled = sub1.filter('scale', wipe_w, wipe_h)\\nsub2_scaled = sub2.filter('scale', wipe_w, wipe_h)\\n\\n# サブ映像1を右下にオーバーレイ\\noverlay1 = ffmpeg.overlay(main, sub1_scaled, x=(main_w - wipe_w - wipe_margin_right), y=(wipe_h * 0 + wipe_margin_top * (0 + 1)))\\n\\n# サブ映像2を左上にオーバーレイ\\noverlay2 = ffmpeg.overlay(overlay1, sub2_scaled, x=(main_w - wipe_w - wipe_margin_right), y=(wipe_h * s + wipe_margin_top * (1 + 1)))\\n\\n# 映像ストリームを取得\\n#video_stream = overlay2.video\\n\\n# メイン映像の音声ストリームを取得\\n#main_audio = main.audio\\n\\n# 音声のミックス（メイン映像の音声と外部音声をミックス）\\n#mixed_audio = ffmpeg.filter([main_audio, audio], 'amix', inputs=2, duration='longest')\\n\\n# 映像と音声を結合して出力\\noutput = ffmpeg.output(\\n    overlay2, audio.audio,\\n    interview_video_name,\\n    vcodec='libx264', acodec='aac', audio_bitrate='192k', preset='fast'\\n)\\noutput = output.overwrite_output()\\n\\n# 実行\\nffmpeg.run(output)\\n\""
            ],
            "application/vnd.google.colaboratory.intrinsic+json": {
              "type": "string"
            }
          },
          "metadata": {},
          "execution_count": 31
        }
      ]
    }
  ]
}