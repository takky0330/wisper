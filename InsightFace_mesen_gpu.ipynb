{
  "nbformat": 4,
  "nbformat_minor": 0,
  "metadata": {
    "colab": {
      "provenance": [],
      "machine_shape": "hm",
      "gpuType": "A100",
      "mount_file_id": "https://github.com/takky0330/wisper/blob/main/InsightFace_mesen_gpu.ipynb",
      "authorship_tag": "ABX9TyMgiTPWpIaREJC4O71uSoTn",
      "include_colab_link": true
    },
    "kernelspec": {
      "name": "python3",
      "display_name": "Python 3"
    },
    "language_info": {
      "name": "python"
    },
    "accelerator": "GPU"
  },
  "cells": [
    {
      "cell_type": "markdown",
      "metadata": {
        "id": "view-in-github",
        "colab_type": "text"
      },
      "source": [
        "<a href=\"https://colab.research.google.com/github/takky0330/wisper/blob/main/InsightFace_mesen_gpu.ipynb\" target=\"_parent\"><img src=\"https://colab.research.google.com/assets/colab-badge.svg\" alt=\"Open In Colab\"/></a>"
      ]
    },
    {
      "cell_type": "code",
      "source": [
        "!ls -d /usr/local/cuda-*\n",
        "!nvcc --version"
      ],
      "metadata": {
        "colab": {
          "base_uri": "https://localhost:8080/"
        },
        "id": "mBYWLgmosUPB",
        "outputId": "41a60672-d390-4084-dead-a44f0bc4cac1"
      },
      "execution_count": null,
      "outputs": [
        {
          "output_type": "stream",
          "name": "stdout",
          "text": [
            "/usr/local/cuda-12  /usr/local/cuda-12.2\n",
            "nvcc: NVIDIA (R) Cuda compiler driver\n",
            "Copyright (c) 2005-2023 NVIDIA Corporation\n",
            "Built on Tue_Aug_15_22:02:13_PDT_2023\n",
            "Cuda compilation tools, release 12.2, V12.2.140\n",
            "Build cuda_12.2.r12.2/compiler.33191640_0\n"
          ]
        }
      ]
    },
    {
      "cell_type": "code",
      "source": [
        "!wget https://developer.download.nvidia.com/compute/cuda/repos/ubuntu1804/x86_64/cuda-ubuntu1804.pin\n",
        "!sudo mv cuda-ubuntu1804.pin /etc/apt/preferences.d/cuda-repository-pin-600\n",
        "!wget https://developer.download.nvidia.com/compute/cuda/11.8.0/local_installers/cuda-repo-ubuntu1804-11-8-local_11.8.0-520.61.05-1_amd64.deb\n",
        "!sudo dpkg -i cuda-repo-ubuntu1804-11-8-local_11.8.0-520.61.05-1_amd64.deb\n",
        "!sudo cp /var/cuda-repo-ubuntu1804-11-8-local/cuda-*-keyring.gpg /usr/share/keyrings/\n",
        "!sudo apt-get update\n",
        "!sudo apt-get -y install cuda-11-8"
      ],
      "metadata": {
        "colab": {
          "base_uri": "https://localhost:8080/"
        },
        "id": "nwlwqPoWTzb6",
        "outputId": "1a3814d0-7c6d-496c-d16a-9f9f3f80a773"
      },
      "execution_count": null,
      "outputs": [
        {
          "output_type": "stream",
          "name": "stdout",
          "text": [
            "--2024-10-23 07:50:35--  https://developer.download.nvidia.com/compute/cuda/repos/ubuntu1804/x86_64/cuda-ubuntu1804.pin\n",
            "Resolving developer.download.nvidia.com (developer.download.nvidia.com)... 152.195.19.142\n",
            "Connecting to developer.download.nvidia.com (developer.download.nvidia.com)|152.195.19.142|:443... connected.\n",
            "HTTP request sent, awaiting response... 200 OK\n",
            "Length: 190 [application/octet-stream]\n",
            "Saving to: ‘cuda-ubuntu1804.pin’\n",
            "\n",
            "\rcuda-ubuntu1804.pin   0%[                    ]       0  --.-KB/s               \rcuda-ubuntu1804.pin 100%[===================>]     190  --.-KB/s    in 0s      \n",
            "\n",
            "2024-10-23 07:50:35 (3.62 MB/s) - ‘cuda-ubuntu1804.pin’ saved [190/190]\n",
            "\n",
            "--2024-10-23 07:50:35--  https://developer.download.nvidia.com/compute/cuda/11.8.0/local_installers/cuda-repo-ubuntu1804-11-8-local_11.8.0-520.61.05-1_amd64.deb\n",
            "Resolving developer.download.nvidia.com (developer.download.nvidia.com)... 152.195.19.142\n",
            "Connecting to developer.download.nvidia.com (developer.download.nvidia.com)|152.195.19.142|:443... connected.\n",
            "HTTP request sent, awaiting response... 200 OK\n",
            "Length: 3181868504 (3.0G) [application/x-deb]\n",
            "Saving to: ‘cuda-repo-ubuntu1804-11-8-local_11.8.0-520.61.05-1_amd64.deb’\n",
            "\n",
            "cuda-repo-ubuntu180 100%[===================>]   2.96G   100MB/s    in 29s     \n",
            "\n",
            "2024-10-23 07:51:04 (103 MB/s) - ‘cuda-repo-ubuntu1804-11-8-local_11.8.0-520.61.05-1_amd64.deb’ saved [3181868504/3181868504]\n",
            "\n",
            "Selecting previously unselected package cuda-repo-ubuntu1804-11-8-local.\n",
            "(Reading database ... 123622 files and directories currently installed.)\n",
            "Preparing to unpack cuda-repo-ubuntu1804-11-8-local_11.8.0-520.61.05-1_amd64.deb ...\n",
            "Unpacking cuda-repo-ubuntu1804-11-8-local (11.8.0-520.61.05-1) ...\n",
            "Setting up cuda-repo-ubuntu1804-11-8-local (11.8.0-520.61.05-1) ...\n",
            "\n",
            "The public cuda-repo-ubuntu1804-11-8-local GPG key does not appear to be installed.\n",
            "To install the key, run this command:\n",
            "sudo cp /var/cuda-repo-ubuntu1804-11-8-local/cuda-7D65C20C-keyring.gpg /usr/share/keyrings/\n",
            "\n",
            "Get:1 file:/var/cuda-repo-ubuntu1804-11-8-local  InRelease [1,575 B]\n",
            "Get:1 file:/var/cuda-repo-ubuntu1804-11-8-local  InRelease [1,575 B]\n",
            "Get:2 http://security.ubuntu.com/ubuntu jammy-security InRelease [129 kB]\n",
            "Get:3 https://cloud.r-project.org/bin/linux/ubuntu jammy-cran40/ InRelease [3,626 B]\n",
            "Get:4 file:/var/cuda-repo-ubuntu1804-11-8-local  Packages [33.6 kB]\n",
            "Get:5 https://developer.download.nvidia.com/compute/cuda/repos/ubuntu2204/x86_64  InRelease [1,581 B]\n",
            "Ign:6 https://r2u.stat.illinois.edu/ubuntu jammy InRelease\n",
            "Hit:7 http://archive.ubuntu.com/ubuntu jammy InRelease\n",
            "Get:8 https://r2u.stat.illinois.edu/ubuntu jammy Release [5,713 B]\n",
            "Get:9 https://r2u.stat.illinois.edu/ubuntu jammy Release.gpg [793 B]\n",
            "Get:10 https://developer.download.nvidia.com/compute/cuda/repos/ubuntu2204/x86_64  Packages [1,068 kB]\n",
            "Get:11 http://archive.ubuntu.com/ubuntu jammy-updates InRelease [128 kB]\n",
            "Get:12 http://security.ubuntu.com/ubuntu jammy-security/universe amd64 Packages [1,162 kB]\n",
            "Get:13 http://security.ubuntu.com/ubuntu jammy-security/main amd64 Packages [2,374 kB]\n",
            "Hit:14 https://ppa.launchpadcontent.net/deadsnakes/ppa/ubuntu jammy InRelease\n",
            "Get:15 https://r2u.stat.illinois.edu/ubuntu jammy/main all Packages [8,412 kB]\n",
            "Hit:16 https://ppa.launchpadcontent.net/graphics-drivers/ppa/ubuntu jammy InRelease\n",
            "Hit:17 https://ppa.launchpadcontent.net/ubuntugis/ppa/ubuntu jammy InRelease\n",
            "Get:18 http://archive.ubuntu.com/ubuntu jammy-backports InRelease [127 kB]\n",
            "Get:19 https://r2u.stat.illinois.edu/ubuntu jammy/main amd64 Packages [2,601 kB]\n",
            "Get:20 http://archive.ubuntu.com/ubuntu jammy-updates/universe amd64 Packages [1,450 kB]\n",
            "Get:21 http://archive.ubuntu.com/ubuntu jammy-updates/restricted amd64 Packages [3,283 kB]\n",
            "Get:22 http://archive.ubuntu.com/ubuntu jammy-updates/main amd64 Packages [2,654 kB]\n",
            "Fetched 23.4 MB in 2s (11.9 MB/s)\n",
            "Reading package lists... Done\n",
            "W: Skipping acquire of configured file 'main/source/Sources' as repository 'https://r2u.stat.illinois.edu/ubuntu jammy InRelease' does not seem to provide it (sources.list entry misspelt?)\n",
            "Reading package lists... Done\n",
            "Building dependency tree... Done\n",
            "Reading state information... Done\n",
            "The following additional packages will be installed:\n",
            "  cpp-12 cuda-cccl-11-8 cuda-command-line-tools-11-8 cuda-compiler-11-8\n",
            "  cuda-cudart-11-8 cuda-cudart-dev-11-8 cuda-cuobjdump-11-8 cuda-cupti-11-8\n",
            "  cuda-cupti-dev-11-8 cuda-cuxxfilt-11-8 cuda-demo-suite-11-8\n",
            "  cuda-documentation-11-8 cuda-driver-dev-11-8 cuda-drivers cuda-drivers-560\n",
            "  cuda-gdb-11-8 cuda-libraries-11-8 cuda-libraries-dev-11-8 cuda-memcheck-11-8\n",
            "  cuda-nsight-11-8 cuda-nsight-compute-11-8 cuda-nsight-systems-11-8\n",
            "  cuda-nvcc-11-8 cuda-nvdisasm-11-8 cuda-nvml-dev-11-8 cuda-nvprof-11-8\n",
            "  cuda-nvprune-11-8 cuda-nvrtc-11-8 cuda-nvrtc-dev-11-8 cuda-nvtx-11-8\n",
            "  cuda-nvvp-11-8 cuda-profiler-api-11-8 cuda-runtime-11-8 cuda-sanitizer-11-8\n",
            "  cuda-toolkit-11-8 cuda-toolkit-11-8-config-common\n",
            "  cuda-toolkit-11-config-common cuda-tools-11-8 cuda-visual-tools-11-8\n",
            "  dctrl-tools default-jre default-jre-headless dkms fakeroot fonts-dejavu-core\n",
            "  fonts-dejavu-extra gcc-12 gds-tools-11-8 keyboard-configuration libasan8\n",
            "  libatk-wrapper-java libatk-wrapper-java-jni libcublas-11-8\n",
            "  libcublas-dev-11-8 libcufft-11-8 libcufft-dev-11-8 libcufile-11-8\n",
            "  libcufile-dev-11-8 libcurand-11-8 libcurand-dev-11-8 libcusolver-11-8\n",
            "  libcusolver-dev-11-8 libcusparse-11-8 libcusparse-dev-11-8 libfakeroot\n",
            "  libfontenc1 libgail-common libgail18 libgcc-12-dev libgtk2.0-0 libgtk2.0-bin\n",
            "  libgtk2.0-common libjansson4 liblocale-gettext-perl libnpp-11-8\n",
            "  libnpp-dev-11-8 libnvidia-cfg1-560 libnvidia-common-560\n",
            "  libnvidia-compute-560 libnvidia-decode-560 libnvidia-encode-560\n",
            "  libnvidia-extra-560 libnvidia-fbc1-560 libnvidia-gl-560 libnvjpeg-11-8\n",
            "  libnvjpeg-dev-11-8 librsvg2-common libtinfo5 libtsan2 libudev1 libxcb-icccm4\n",
            "  libxcb-image0 libxcb-keysyms1 libxcb-render-util0 libxcb-util1\n",
            "  libxcb-xinerama0 libxcb-xinput0 libxcb-xkb1 libxcvt0 libxfont2\n",
            "  libxkbcommon-x11-0 libxkbfile1 libxtst6 libxxf86dga1 nsight-compute-2022.3.0\n",
            "  nsight-systems-2022.4.2 nvidia-compute-utils-560 nvidia-dkms-560\n",
            "  nvidia-driver-560 nvidia-firmware-560-560.35.03 nvidia-kernel-common-560\n",
            "  nvidia-kernel-source-560 nvidia-prime nvidia-settings nvidia-utils-560\n",
            "  openjdk-11-jre python3-xkit screen-resolution-extra systemd-hwe-hwdb udev\n",
            "  x11-utils x11-xkb-utils xcvt xfonts-base xfonts-encodings xfonts-utils\n",
            "  xserver-common xserver-xorg-core xserver-xorg-video-nvidia-560\n",
            "Suggested packages:\n",
            "  gcc-12-locales cpp-12-doc debtags menu gcc-12-multilib gcc-12-doc gvfs\n",
            "  mesa-utils xfs | xserver xfonts-100dpi | xfonts-75dpi xfonts-scalable\n",
            "Recommended packages:\n",
            "  libnvidia-compute-560:i386 libnvidia-decode-560:i386\n",
            "  libnvidia-encode-560:i386 libnvidia-fbc1-560:i386 libnvidia-gl-560:i386\n",
            "The following NEW packages will be installed:\n",
            "  cpp-12 cuda-11-8 cuda-cccl-11-8 cuda-command-line-tools-11-8\n",
            "  cuda-compiler-11-8 cuda-cudart-11-8 cuda-cudart-dev-11-8 cuda-cuobjdump-11-8\n",
            "  cuda-cupti-11-8 cuda-cupti-dev-11-8 cuda-cuxxfilt-11-8 cuda-demo-suite-11-8\n",
            "  cuda-documentation-11-8 cuda-driver-dev-11-8 cuda-drivers cuda-drivers-560\n",
            "  cuda-gdb-11-8 cuda-libraries-11-8 cuda-libraries-dev-11-8 cuda-memcheck-11-8\n",
            "  cuda-nsight-11-8 cuda-nsight-compute-11-8 cuda-nsight-systems-11-8\n",
            "  cuda-nvcc-11-8 cuda-nvdisasm-11-8 cuda-nvml-dev-11-8 cuda-nvprof-11-8\n",
            "  cuda-nvprune-11-8 cuda-nvrtc-11-8 cuda-nvrtc-dev-11-8 cuda-nvtx-11-8\n",
            "  cuda-nvvp-11-8 cuda-profiler-api-11-8 cuda-runtime-11-8 cuda-sanitizer-11-8\n",
            "  cuda-toolkit-11-8 cuda-toolkit-11-8-config-common\n",
            "  cuda-toolkit-11-config-common cuda-tools-11-8 cuda-visual-tools-11-8\n",
            "  dctrl-tools default-jre default-jre-headless dkms fakeroot fonts-dejavu-core\n",
            "  fonts-dejavu-extra gcc-12 gds-tools-11-8 keyboard-configuration libasan8\n",
            "  libatk-wrapper-java libatk-wrapper-java-jni libcublas-11-8\n",
            "  libcublas-dev-11-8 libcufft-11-8 libcufft-dev-11-8 libcufile-11-8\n",
            "  libcufile-dev-11-8 libcurand-11-8 libcurand-dev-11-8 libcusolver-11-8\n",
            "  libcusolver-dev-11-8 libcusparse-11-8 libcusparse-dev-11-8 libfakeroot\n",
            "  libfontenc1 libgail-common libgail18 libgcc-12-dev libgtk2.0-0 libgtk2.0-bin\n",
            "  libgtk2.0-common libjansson4 liblocale-gettext-perl libnpp-11-8\n",
            "  libnpp-dev-11-8 libnvidia-cfg1-560 libnvidia-common-560\n",
            "  libnvidia-compute-560 libnvidia-decode-560 libnvidia-encode-560\n",
            "  libnvidia-extra-560 libnvidia-fbc1-560 libnvidia-gl-560 libnvjpeg-11-8\n",
            "  libnvjpeg-dev-11-8 librsvg2-common libtinfo5 libtsan2 libxcb-icccm4\n",
            "  libxcb-image0 libxcb-keysyms1 libxcb-render-util0 libxcb-util1\n",
            "  libxcb-xinerama0 libxcb-xinput0 libxcb-xkb1 libxcvt0 libxfont2\n",
            "  libxkbcommon-x11-0 libxkbfile1 libxtst6 libxxf86dga1 nsight-compute-2022.3.0\n",
            "  nsight-systems-2022.4.2 nvidia-compute-utils-560 nvidia-dkms-560\n",
            "  nvidia-driver-560 nvidia-firmware-560-560.35.03 nvidia-kernel-common-560\n",
            "  nvidia-kernel-source-560 nvidia-prime nvidia-settings nvidia-utils-560\n",
            "  openjdk-11-jre python3-xkit screen-resolution-extra systemd-hwe-hwdb udev\n",
            "  x11-utils x11-xkb-utils xcvt xfonts-base xfonts-encodings xfonts-utils\n",
            "  xserver-common xserver-xorg-core xserver-xorg-video-nvidia-560\n",
            "The following packages will be upgraded:\n",
            "  libudev1\n",
            "1 upgraded, 129 newly installed, 0 to remove and 49 not upgraded.\n",
            "Need to get 631 MB/3,060 MB of archives.\n",
            "After this operation, 7,628 MB of additional disk space will be used.\n",
            "Get:1 file:/var/cuda-repo-ubuntu1804-11-8-local  cuda-toolkit-11-config-common 11.8.89-1 [16.4 kB]\n",
            "Get:2 file:/var/cuda-repo-ubuntu1804-11-8-local  cuda-toolkit-11-8-config-common 11.8.89-1 [16.3 kB]\n",
            "Get:3 file:/var/cuda-repo-ubuntu1804-11-8-local  cuda-cudart-11-8 11.8.89-1 [165 kB]\n",
            "Get:4 http://archive.ubuntu.com/ubuntu jammy/main amd64 liblocale-gettext-perl amd64 1.07-4build3 [17.1 kB]\n",
            "Get:5 https://developer.download.nvidia.com/compute/cuda/repos/ubuntu2204/x86_64  libnvidia-common-560 560.35.03-0ubuntu1 [17.2 kB]\n",
            "Get:6 http://archive.ubuntu.com/ubuntu jammy/main amd64 keyboard-configuration all 1.205ubuntu3 [206 kB]\n",
            "Get:7 file:/var/cuda-repo-ubuntu1804-11-8-local  cuda-nvrtc-11-8 11.8.89-1 [16.4 MB]\n",
            "Get:8 https://developer.download.nvidia.com/compute/cuda/repos/ubuntu2204/x86_64  libnvidia-compute-560 560.35.03-0ubuntu1 [48.5 MB]\n",
            "Get:9 http://archive.ubuntu.com/ubuntu jammy-updates/main amd64 cpp-12 amd64 12.3.0-1ubuntu1~22.04 [10.8 MB]\n",
            "Get:10 http://archive.ubuntu.com/ubuntu jammy-updates/main amd64 libasan8 amd64 12.3.0-1ubuntu1~22.04 [2,442 kB]\n",
            "Get:11 http://archive.ubuntu.com/ubuntu jammy-updates/main amd64 libtsan2 amd64 12.3.0-1ubuntu1~22.04 [2,477 kB]\n",
            "Get:12 http://archive.ubuntu.com/ubuntu jammy-updates/main amd64 libgcc-12-dev amd64 12.3.0-1ubuntu1~22.04 [2,618 kB]\n",
            "Get:13 http://archive.ubuntu.com/ubuntu jammy-updates/main amd64 gcc-12 amd64 12.3.0-1ubuntu1~22.04 [21.7 MB]\n",
            "Get:14 https://developer.download.nvidia.com/compute/cuda/repos/ubuntu2204/x86_64  libnvidia-gl-560 560.35.03-0ubuntu1 [137 MB]\n",
            "Get:15 http://archive.ubuntu.com/ubuntu jammy/main amd64 dctrl-tools amd64 2.24-3build2 [66.9 kB]\n",
            "Get:16 http://archive.ubuntu.com/ubuntu jammy-updates/main amd64 dkms all 2.8.7-2ubuntu2.2 [70.1 kB]\n",
            "Get:17 http://archive.ubuntu.com/ubuntu jammy-updates/main amd64 libudev1 amd64 249.11-0ubuntu3.12 [78.2 kB]\n",
            "Get:18 http://archive.ubuntu.com/ubuntu jammy-updates/main amd64 udev amd64 249.11-0ubuntu3.12 [1,557 kB]\n",
            "Get:19 http://archive.ubuntu.com/ubuntu jammy/main amd64 libjansson4 amd64 2.13.1-1.1build3 [32.4 kB]\n",
            "Get:20 http://archive.ubuntu.com/ubuntu jammy/main amd64 libxkbfile1 amd64 1:1.1.0-1build3 [71.8 kB]\n",
            "Get:21 http://archive.ubuntu.com/ubuntu jammy/main amd64 x11-xkb-utils amd64 7.7+5build4 [172 kB]\n",
            "Get:22 http://archive.ubuntu.com/ubuntu jammy-updates/main amd64 xserver-common all 2:21.1.4-2ubuntu1.7~22.04.11 [28.6 kB]\n",
            "Get:23 http://archive.ubuntu.com/ubuntu jammy/main amd64 libxcvt0 amd64 0.1.1-3 [5,494 B]\n",
            "Get:24 http://archive.ubuntu.com/ubuntu jammy/main amd64 libfontenc1 amd64 1:1.1.4-1build3 [14.7 kB]\n",
            "Get:25 http://archive.ubuntu.com/ubuntu jammy/main amd64 libxfont2 amd64 1:2.0.5-1build1 [94.5 kB]\n",
            "Get:26 http://archive.ubuntu.com/ubuntu jammy-updates/main amd64 xserver-xorg-core amd64 2:21.1.4-2ubuntu1.7~22.04.11 [1,477 kB]\n",
            "Get:27 http://archive.ubuntu.com/ubuntu jammy-updates/universe amd64 libtinfo5 amd64 6.3-2ubuntu0.1 [100 kB]\n",
            "Get:28 http://archive.ubuntu.com/ubuntu jammy/main amd64 libxcb-xinerama0 amd64 1.14-3ubuntu3 [5,414 B]\n",
            "Get:29 http://archive.ubuntu.com/ubuntu jammy/main amd64 libxcb-icccm4 amd64 0.4.1-1.1build2 [11.5 kB]\n",
            "Get:30 http://archive.ubuntu.com/ubuntu jammy/main amd64 libxcb-util1 amd64 0.4.0-1build2 [11.4 kB]\n",
            "Get:31 http://archive.ubuntu.com/ubuntu jammy/main amd64 libxcb-image0 amd64 0.4.0-2 [11.5 kB]\n",
            "Get:32 http://archive.ubuntu.com/ubuntu jammy/main amd64 libxcb-keysyms1 amd64 0.4.0-1build3 [8,746 B]\n",
            "Get:33 http://archive.ubuntu.com/ubuntu jammy/main amd64 libxcb-render-util0 amd64 0.3.9-1build3 [10.3 kB]\n",
            "Get:34 http://archive.ubuntu.com/ubuntu jammy/main amd64 libxcb-xkb1 amd64 1.14-3ubuntu3 [32.8 kB]\n",
            "Get:35 http://archive.ubuntu.com/ubuntu jammy/main amd64 libxkbcommon-x11-0 amd64 1.4.0-1 [14.4 kB]\n",
            "Get:36 http://archive.ubuntu.com/ubuntu jammy/main amd64 libxcb-xinput0 amd64 1.14-3ubuntu3 [34.3 kB]\n",
            "Get:37 http://archive.ubuntu.com/ubuntu jammy/main amd64 default-jre-headless amd64 2:1.11-72build2 [3,042 B]\n",
            "Get:38 http://archive.ubuntu.com/ubuntu jammy/main amd64 libxtst6 amd64 2:1.2.3-1build4 [13.4 kB]\n",
            "Get:39 http://archive.ubuntu.com/ubuntu jammy-updates/main amd64 openjdk-11-jre amd64 11.0.24+8-1ubuntu3~22.04 [214 kB]\n",
            "Get:40 http://archive.ubuntu.com/ubuntu jammy/main amd64 default-jre amd64 2:1.11-72build2 [896 B]\n",
            "Get:41 http://archive.ubuntu.com/ubuntu jammy/main amd64 libfakeroot amd64 1.28-1ubuntu1 [31.5 kB]\n",
            "Get:42 http://archive.ubuntu.com/ubuntu jammy/main amd64 fakeroot amd64 1.28-1ubuntu1 [60.4 kB]\n",
            "Get:43 http://archive.ubuntu.com/ubuntu jammy/main amd64 fonts-dejavu-core all 2.37-2build1 [1,041 kB]\n",
            "Get:44 http://archive.ubuntu.com/ubuntu jammy/main amd64 fonts-dejavu-extra all 2.37-2build1 [2,041 kB]\n",
            "Get:45 http://archive.ubuntu.com/ubuntu jammy/main amd64 libxxf86dga1 amd64 2:1.1.5-0ubuntu3 [12.6 kB]\n",
            "Get:46 http://archive.ubuntu.com/ubuntu jammy/main amd64 x11-utils amd64 7.7+5build2 [206 kB]\n",
            "Get:47 http://archive.ubuntu.com/ubuntu jammy/main amd64 libatk-wrapper-java all 0.38.0-5build1 [53.1 kB]\n",
            "Get:48 http://archive.ubuntu.com/ubuntu jammy/main amd64 libatk-wrapper-java-jni amd64 0.38.0-5build1 [49.0 kB]\n",
            "Get:49 http://archive.ubuntu.com/ubuntu jammy-updates/main amd64 libgtk2.0-common all 2.24.33-2ubuntu2.1 [125 kB]\n",
            "Get:50 http://archive.ubuntu.com/ubuntu jammy-updates/main amd64 libgtk2.0-0 amd64 2.24.33-2ubuntu2.1 [2,038 kB]\n",
            "Get:51 http://archive.ubuntu.com/ubuntu jammy-updates/main amd64 libgail18 amd64 2.24.33-2ubuntu2.1 [15.9 kB]\n",
            "Get:52 http://archive.ubuntu.com/ubuntu jammy-updates/main amd64 libgail-common amd64 2.24.33-2ubuntu2.1 [132 kB]\n",
            "Get:53 http://archive.ubuntu.com/ubuntu jammy-updates/main amd64 libgtk2.0-bin amd64 2.24.33-2ubuntu2.1 [7,936 B]\n",
            "Get:54 http://archive.ubuntu.com/ubuntu jammy-updates/main amd64 librsvg2-common amd64 2.52.5+dfsg-3ubuntu0.2 [17.7 kB]\n",
            "Get:55 http://archive.ubuntu.com/ubuntu jammy/main amd64 nvidia-prime all 0.8.17.1 [9,956 B]\n",
            "Get:56 http://archive.ubuntu.com/ubuntu jammy/main amd64 python3-xkit all 0.5.0ubuntu5 [18.5 kB]\n",
            "Get:57 http://archive.ubuntu.com/ubuntu jammy/main amd64 screen-resolution-extra all 0.18.2 [4,396 B]\n",
            "Get:58 http://archive.ubuntu.com/ubuntu jammy-updates/main amd64 systemd-hwe-hwdb all 249.11.5 [3,228 B]\n",
            "Get:59 http://archive.ubuntu.com/ubuntu jammy/main amd64 xcvt amd64 0.1.1-3 [7,140 B]\n",
            "Get:60 http://archive.ubuntu.com/ubuntu jammy/main amd64 xfonts-encodings all 1:1.0.5-0ubuntu2 [578 kB]\n",
            "Get:61 http://archive.ubuntu.com/ubuntu jammy/main amd64 xfonts-utils amd64 1:7.7+6build2 [94.6 kB]\n",
            "Get:62 http://archive.ubuntu.com/ubuntu jammy/main amd64 xfonts-base all 1:1.0.5 [5,896 kB]\n",
            "Get:63 https://developer.download.nvidia.com/compute/cuda/repos/ubuntu2204/x86_64  nvidia-kernel-source-560 560.35.03-0ubuntu1 [50.9 MB]\n",
            "Get:64 file:/var/cuda-repo-ubuntu1804-11-8-local  libcublas-11-8 11.11.3.6-1 [248 MB]\n",
            "Get:65 https://developer.download.nvidia.com/compute/cuda/repos/ubuntu2204/x86_64  nvidia-firmware-560-560.35.03 560.35.03-0ubuntu1 [45.1 MB]\n",
            "Get:66 https://developer.download.nvidia.com/compute/cuda/repos/ubuntu2204/x86_64  nvidia-kernel-common-560 560.35.03-0ubuntu1 [109 kB]\n",
            "Get:67 https://developer.download.nvidia.com/compute/cuda/repos/ubuntu2204/x86_64  nvidia-dkms-560 560.35.03-0ubuntu1 [36.2 kB]\n",
            "Get:68 https://developer.download.nvidia.com/compute/cuda/repos/ubuntu2204/x86_64  libnvidia-extra-560 560.35.03-0ubuntu1 [73.1 kB]\n",
            "Get:69 file:/var/cuda-repo-ubuntu1804-11-8-local  libcufft-11-8 10.9.0.58-1 [94.2 MB]\n",
            "Get:70 https://developer.download.nvidia.com/compute/cuda/repos/ubuntu2204/x86_64  nvidia-compute-utils-560 560.35.03-0ubuntu1 [119 kB]\n",
            "Get:71 file:/var/cuda-repo-ubuntu1804-11-8-local  libcufile-11-8 1.4.0.31-1 [474 kB]\n",
            "Get:72 https://developer.download.nvidia.com/compute/cuda/repos/ubuntu2204/x86_64  libnvidia-decode-560 560.35.03-0ubuntu1 [1,910 kB]\n",
            "Get:73 https://developer.download.nvidia.com/compute/cuda/repos/ubuntu2204/x86_64  libnvidia-encode-560 560.35.03-0ubuntu1 [105 kB]\n",
            "Get:74 https://developer.download.nvidia.com/compute/cuda/repos/ubuntu2204/x86_64  nvidia-utils-560 560.35.03-0ubuntu1 [498 kB]\n",
            "Get:75 https://developer.download.nvidia.com/compute/cuda/repos/ubuntu2204/x86_64  libnvidia-cfg1-560 560.35.03-0ubuntu1 [146 kB]\n",
            "Get:76 https://developer.download.nvidia.com/compute/cuda/repos/ubuntu2204/x86_64  xserver-xorg-video-nvidia-560 560.35.03-0ubuntu1 [1,617 kB]\n",
            "Get:77 https://developer.download.nvidia.com/compute/cuda/repos/ubuntu2204/x86_64  libnvidia-fbc1-560 560.35.03-0ubuntu1 [94.7 kB]\n",
            "Get:78 https://developer.download.nvidia.com/compute/cuda/repos/ubuntu2204/x86_64  nvidia-driver-560 560.35.03-0ubuntu1 [496 kB]\n",
            "Get:79 https://developer.download.nvidia.com/compute/cuda/repos/ubuntu2204/x86_64  cuda-drivers-560 560.35.03-1 [2,542 B]\n",
            "Get:80 https://developer.download.nvidia.com/compute/cuda/repos/ubuntu2204/x86_64  cuda-drivers 560.35.03-1 [2,506 B]\n",
            "Get:81 https://developer.download.nvidia.com/compute/cuda/repos/ubuntu2204/x86_64  nsight-systems-2022.4.2 2022.4.2.50-32196742v0 [286 MB]\n",
            "Get:82 file:/var/cuda-repo-ubuntu1804-11-8-local  libcurand-11-8 10.3.0.86-1 [42.2 MB]\n",
            "Get:83 file:/var/cuda-repo-ubuntu1804-11-8-local  libcusolver-11-8 11.4.1.48-1 [52.3 MB]\n",
            "Get:84 file:/var/cuda-repo-ubuntu1804-11-8-local  libcusparse-11-8 11.7.5.86-1 [116 MB]\n",
            "Get:85 file:/var/cuda-repo-ubuntu1804-11-8-local  libnpp-11-8 11.8.0.86-1 [102 MB]\n",
            "Get:86 file:/var/cuda-repo-ubuntu1804-11-8-local  libnvjpeg-11-8 11.9.0.86-1 [1,865 kB]\n",
            "Get:87 file:/var/cuda-repo-ubuntu1804-11-8-local  cuda-libraries-11-8 11.8.0-1 [2,524 B]\n",
            "Get:88 file:/var/cuda-repo-ubuntu1804-11-8-local  cuda-runtime-11-8 11.8.0-1 [2,436 B]\n",
            "Get:89 file:/var/cuda-repo-ubuntu1804-11-8-local  cuda-cuobjdump-11-8 11.8.86-1 [165 kB]\n",
            "Get:90 file:/var/cuda-repo-ubuntu1804-11-8-local  cuda-cuxxfilt-11-8 11.8.86-1 [189 kB]\n",
            "Get:91 file:/var/cuda-repo-ubuntu1804-11-8-local  cuda-cccl-11-8 11.8.89-1 [1,040 kB]\n",
            "Get:92 file:/var/cuda-repo-ubuntu1804-11-8-local  cuda-driver-dev-11-8 11.8.89-1 [27.3 kB]\n",
            "Get:93 file:/var/cuda-repo-ubuntu1804-11-8-local  cuda-cudart-dev-11-8 11.8.89-1 [820 kB]\n",
            "Get:94 file:/var/cuda-repo-ubuntu1804-11-8-local  cuda-nvcc-11-8 11.8.89-1 [43.5 MB]\n",
            "Get:95 file:/var/cuda-repo-ubuntu1804-11-8-local  cuda-nvprune-11-8 11.8.86-1 [58.1 kB]\n",
            "Get:96 file:/var/cuda-repo-ubuntu1804-11-8-local  cuda-compiler-11-8 11.8.0-1 [2,438 B]\n",
            "Get:97 file:/var/cuda-repo-ubuntu1804-11-8-local  cuda-profiler-api-11-8 11.8.86-1 [18.6 kB]\n",
            "Get:98 file:/var/cuda-repo-ubuntu1804-11-8-local  cuda-nvrtc-dev-11-8 11.8.89-1 [13.5 MB]\n",
            "Get:99 https://developer.download.nvidia.com/compute/cuda/repos/ubuntu2204/x86_64  nvidia-settings 560.35.03-0ubuntu1 [963 kB]\n",
            "Get:100 file:/var/cuda-repo-ubuntu1804-11-8-local  libcublas-dev-11-8 11.11.3.6-1 [269 MB]\n",
            "Get:101 file:/var/cuda-repo-ubuntu1804-11-8-local  libcufft-dev-11-8 10.9.0.58-1 [189 MB]\n",
            "Get:102 file:/var/cuda-repo-ubuntu1804-11-8-local  libcufile-dev-11-8 1.4.0.31-1 [1,062 kB]\n",
            "Get:103 file:/var/cuda-repo-ubuntu1804-11-8-local  libcurand-dev-11-8 10.3.0.86-1 [42.9 MB]\n",
            "Get:104 file:/var/cuda-repo-ubuntu1804-11-8-local  libcusolver-dev-11-8 11.4.1.48-1 [35.7 MB]\n",
            "Get:105 file:/var/cuda-repo-ubuntu1804-11-8-local  libcusparse-dev-11-8 11.7.5.86-1 [116 MB]\n",
            "Get:106 file:/var/cuda-repo-ubuntu1804-11-8-local  libnpp-dev-11-8 11.8.0.86-1 [100 MB]\n",
            "Get:107 file:/var/cuda-repo-ubuntu1804-11-8-local  libnvjpeg-dev-11-8 11.9.0.86-1 [1,536 kB]\n",
            "Get:108 file:/var/cuda-repo-ubuntu1804-11-8-local  cuda-libraries-dev-11-8 11.8.0-1 [2,562 B]\n",
            "Get:109 file:/var/cuda-repo-ubuntu1804-11-8-local  cuda-cupti-11-8 11.8.87-1 [15.4 MB]\n",
            "Get:110 file:/var/cuda-repo-ubuntu1804-11-8-local  cuda-cupti-dev-11-8 11.8.87-1 [2,552 kB]\n",
            "Get:111 file:/var/cuda-repo-ubuntu1804-11-8-local  cuda-nvdisasm-11-8 11.8.86-1 [50.8 MB]\n",
            "Get:112 file:/var/cuda-repo-ubuntu1804-11-8-local  cuda-gdb-11-8 11.8.86-1 [4,138 kB]\n",
            "Get:113 file:/var/cuda-repo-ubuntu1804-11-8-local  cuda-memcheck-11-8 11.8.86-1 [142 kB]\n",
            "Get:114 file:/var/cuda-repo-ubuntu1804-11-8-local  cuda-nvprof-11-8 11.8.87-1 [1,959 kB]\n",
            "Get:115 file:/var/cuda-repo-ubuntu1804-11-8-local  cuda-nvtx-11-8 11.8.86-1 [51.3 kB]\n",
            "Get:116 file:/var/cuda-repo-ubuntu1804-11-8-local  cuda-sanitizer-11-8 11.8.86-1 [8,784 kB]\n",
            "Get:117 file:/var/cuda-repo-ubuntu1804-11-8-local  cuda-command-line-tools-11-8 11.8.0-1 [2,478 B]\n",
            "Get:118 file:/var/cuda-repo-ubuntu1804-11-8-local  nsight-compute-2022.3.0 2022.3.0.22-1 [580 MB]\n",
            "Get:119 file:/var/cuda-repo-ubuntu1804-11-8-local  cuda-nsight-compute-11-8 11.8.0-1 [3,794 B]\n",
            "Get:120 file:/var/cuda-repo-ubuntu1804-11-8-local  cuda-nsight-systems-11-8 11.8.0-1 [3,318 B]\n",
            "Get:121 file:/var/cuda-repo-ubuntu1804-11-8-local  cuda-nsight-11-8 11.8.86-1 [119 MB]\n",
            "Get:122 file:/var/cuda-repo-ubuntu1804-11-8-local  cuda-nvml-dev-11-8 11.8.86-1 [81.4 kB]\n",
            "Get:123 file:/var/cuda-repo-ubuntu1804-11-8-local  cuda-nvvp-11-8 11.8.87-1 [114 MB]\n",
            "Get:124 file:/var/cuda-repo-ubuntu1804-11-8-local  cuda-visual-tools-11-8 11.8.0-1 [2,882 B]\n",
            "Get:125 file:/var/cuda-repo-ubuntu1804-11-8-local  gds-tools-11-8 1.4.0.31-1 [38.7 MB]\n",
            "Get:126 file:/var/cuda-repo-ubuntu1804-11-8-local  cuda-tools-11-8 11.8.0-1 [2,400 B]\n",
            "Get:127 file:/var/cuda-repo-ubuntu1804-11-8-local  cuda-documentation-11-8 11.8.86-1 [49.8 kB]\n",
            "Get:128 file:/var/cuda-repo-ubuntu1804-11-8-local  cuda-toolkit-11-8 11.8.0-1 [3,380 B]\n",
            "Get:129 file:/var/cuda-repo-ubuntu1804-11-8-local  cuda-demo-suite-11-8 11.8.86-1 [3,997 kB]\n",
            "Get:130 file:/var/cuda-repo-ubuntu1804-11-8-local  cuda-11-8 11.8.0-1 [2,456 B]\n",
            "Fetched 631 MB in 20s (31.8 MB/s)\n",
            "debconf: unable to initialize frontend: Dialog\n",
            "debconf: (No usable dialog-like program is installed, so the dialog based frontend cannot be used. at /usr/share/perl5/Debconf/FrontEnd/Dialog.pm line 78, <> line 130.)\n",
            "debconf: falling back to frontend: Readline\n",
            "debconf: unable to initialize frontend: Readline\n",
            "debconf: (This frontend requires a controlling tty.)\n",
            "debconf: falling back to frontend: Teletype\n",
            "dpkg-preconfigure: unable to re-open stdin: \n",
            "Selecting previously unselected package liblocale-gettext-perl.\n",
            "(Reading database ... 123756 files and directories currently installed.)\n",
            "Preparing to unpack .../0-liblocale-gettext-perl_1.07-4build3_amd64.deb ...\n",
            "Unpacking liblocale-gettext-perl (1.07-4build3) ...\n",
            "Selecting previously unselected package keyboard-configuration.\n",
            "Preparing to unpack .../1-keyboard-configuration_1.205ubuntu3_all.deb ...\n",
            "Unpacking keyboard-configuration (1.205ubuntu3) ...\n",
            "Selecting previously unselected package cpp-12.\n",
            "Preparing to unpack .../2-cpp-12_12.3.0-1ubuntu1~22.04_amd64.deb ...\n",
            "Unpacking cpp-12 (12.3.0-1ubuntu1~22.04) ...\n",
            "Selecting previously unselected package libasan8:amd64.\n",
            "Preparing to unpack .../3-libasan8_12.3.0-1ubuntu1~22.04_amd64.deb ...\n",
            "Unpacking libasan8:amd64 (12.3.0-1ubuntu1~22.04) ...\n",
            "Selecting previously unselected package libtsan2:amd64.\n",
            "Preparing to unpack .../4-libtsan2_12.3.0-1ubuntu1~22.04_amd64.deb ...\n",
            "Unpacking libtsan2:amd64 (12.3.0-1ubuntu1~22.04) ...\n",
            "Selecting previously unselected package libgcc-12-dev:amd64.\n",
            "Preparing to unpack .../5-libgcc-12-dev_12.3.0-1ubuntu1~22.04_amd64.deb ...\n",
            "Unpacking libgcc-12-dev:amd64 (12.3.0-1ubuntu1~22.04) ...\n",
            "Selecting previously unselected package gcc-12.\n",
            "Preparing to unpack .../6-gcc-12_12.3.0-1ubuntu1~22.04_amd64.deb ...\n",
            "Unpacking gcc-12 (12.3.0-1ubuntu1~22.04) ...\n",
            "Selecting previously unselected package dctrl-tools.\n",
            "Preparing to unpack .../7-dctrl-tools_2.24-3build2_amd64.deb ...\n",
            "Unpacking dctrl-tools (2.24-3build2) ...\n",
            "Selecting previously unselected package dkms.\n",
            "Preparing to unpack .../8-dkms_2.8.7-2ubuntu2.2_all.deb ...\n",
            "Unpacking dkms (2.8.7-2ubuntu2.2) ...\n",
            "Preparing to unpack .../9-libudev1_249.11-0ubuntu3.12_amd64.deb ...\n",
            "Unpacking libudev1:amd64 (249.11-0ubuntu3.12) over (249.11-0ubuntu3.10) ...\n",
            "Setting up libudev1:amd64 (249.11-0ubuntu3.12) ...\n",
            "Selecting previously unselected package udev.\n",
            "(Reading database ... 124116 files and directories currently installed.)\n",
            "Preparing to unpack .../000-udev_249.11-0ubuntu3.12_amd64.deb ...\n",
            "Unpacking udev (249.11-0ubuntu3.12) ...\n",
            "Selecting previously unselected package libjansson4:amd64.\n",
            "Preparing to unpack .../001-libjansson4_2.13.1-1.1build3_amd64.deb ...\n",
            "Unpacking libjansson4:amd64 (2.13.1-1.1build3) ...\n",
            "Selecting previously unselected package cuda-toolkit-11-config-common.\n",
            "Preparing to unpack .../002-cuda-toolkit-11-config-common_11.8.89-1_all.deb ...\n",
            "Unpacking cuda-toolkit-11-config-common (11.8.89-1) ...\n",
            "Selecting previously unselected package cuda-toolkit-11-8-config-common.\n",
            "Preparing to unpack .../003-cuda-toolkit-11-8-config-common_11.8.89-1_all.deb ...\n",
            "Unpacking cuda-toolkit-11-8-config-common (11.8.89-1) ...\n",
            "Selecting previously unselected package cuda-cudart-11-8.\n",
            "Preparing to unpack .../004-cuda-cudart-11-8_11.8.89-1_amd64.deb ...\n",
            "Unpacking cuda-cudart-11-8 (11.8.89-1) ...\n",
            "Selecting previously unselected package cuda-nvrtc-11-8.\n",
            "Preparing to unpack .../005-cuda-nvrtc-11-8_11.8.89-1_amd64.deb ...\n",
            "Unpacking cuda-nvrtc-11-8 (11.8.89-1) ...\n",
            "Selecting previously unselected package libcublas-11-8.\n",
            "Preparing to unpack .../006-libcublas-11-8_11.11.3.6-1_amd64.deb ...\n",
            "Unpacking libcublas-11-8 (11.11.3.6-1) ...\n",
            "Selecting previously unselected package libcufft-11-8.\n",
            "Preparing to unpack .../007-libcufft-11-8_10.9.0.58-1_amd64.deb ...\n",
            "Unpacking libcufft-11-8 (10.9.0.58-1) ...\n",
            "Selecting previously unselected package libcufile-11-8.\n",
            "Preparing to unpack .../008-libcufile-11-8_1.4.0.31-1_amd64.deb ...\n",
            "Unpacking libcufile-11-8 (1.4.0.31-1) ...\n",
            "Selecting previously unselected package libcurand-11-8.\n",
            "Preparing to unpack .../009-libcurand-11-8_10.3.0.86-1_amd64.deb ...\n",
            "Unpacking libcurand-11-8 (10.3.0.86-1) ...\n",
            "Selecting previously unselected package libcusolver-11-8.\n",
            "Preparing to unpack .../010-libcusolver-11-8_11.4.1.48-1_amd64.deb ...\n",
            "Unpacking libcusolver-11-8 (11.4.1.48-1) ...\n",
            "Selecting previously unselected package libcusparse-11-8.\n",
            "Preparing to unpack .../011-libcusparse-11-8_11.7.5.86-1_amd64.deb ...\n",
            "Unpacking libcusparse-11-8 (11.7.5.86-1) ...\n",
            "Selecting previously unselected package libnpp-11-8.\n",
            "Preparing to unpack .../012-libnpp-11-8_11.8.0.86-1_amd64.deb ...\n",
            "Unpacking libnpp-11-8 (11.8.0.86-1) ...\n",
            "Selecting previously unselected package libnvjpeg-11-8.\n",
            "Preparing to unpack .../013-libnvjpeg-11-8_11.9.0.86-1_amd64.deb ...\n",
            "Unpacking libnvjpeg-11-8 (11.9.0.86-1) ...\n",
            "Selecting previously unselected package cuda-libraries-11-8.\n",
            "Preparing to unpack .../014-cuda-libraries-11-8_11.8.0-1_amd64.deb ...\n",
            "Unpacking cuda-libraries-11-8 (11.8.0-1) ...\n",
            "Selecting previously unselected package libnvidia-common-560.\n",
            "Preparing to unpack .../015-libnvidia-common-560_560.35.03-0ubuntu1_all.deb ...\n",
            "Unpacking libnvidia-common-560 (560.35.03-0ubuntu1) ...\n",
            "Selecting previously unselected package libnvidia-compute-560:amd64.\n",
            "Preparing to unpack .../016-libnvidia-compute-560_560.35.03-0ubuntu1_amd64.deb ...\n",
            "Unpacking libnvidia-compute-560:amd64 (560.35.03-0ubuntu1) ...\n"
          ]
        }
      ]
    },
    {
      "cell_type": "code",
      "source": [
        "!ls -d /usr/local/cuda-*\n",
        "!nvcc --version"
      ],
      "metadata": {
        "id": "bOJ3G0YmsW4h"
      },
      "execution_count": null,
      "outputs": []
    },
    {
      "cell_type": "code",
      "source": [
        "import os\n",
        "p = os.getenv('PATH')\n",
        "ld = os.getenv('LD_LIBRARY_PATH')\n",
        "os.environ['PATH'] = f\"/usr/local/cuda-11.8/bin:{p}\"\n",
        "os.environ['LD_LIBRARY_PATH'] = f\"/usr/local/cuda-11.8/lib64:{ld}\""
      ],
      "metadata": {
        "id": "ah1h_ybytSco"
      },
      "execution_count": null,
      "outputs": []
    },
    {
      "cell_type": "code",
      "source": [
        "!ls -d /usr/local/cuda-*\n",
        "!nvcc --version"
      ],
      "metadata": {
        "id": "k0yO1TVptW6C"
      },
      "execution_count": null,
      "outputs": []
    },
    {
      "cell_type": "code",
      "source": [
        "!cat /usr/include/cudnn_version.h | grep CUDNN_MAJOR -A 2"
      ],
      "metadata": {
        "id": "E-5YqrE91AGQ"
      },
      "execution_count": null,
      "outputs": []
    },
    {
      "cell_type": "code",
      "source": [
        "!pip install insightface"
      ],
      "metadata": {
        "id": "btUL-4ArV7eB",
        "collapsed": true
      },
      "execution_count": null,
      "outputs": []
    },
    {
      "cell_type": "code",
      "source": [
        "#!pip install onnxruntime-gpu --extra-index-url https://aiinfra.pkgs.visualstudio.com/PublicPackages/_packaging/onnxruntime-cuda-12/pypi/simple/\n",
        "!pip install onnxruntime-gpu"
      ],
      "metadata": {
        "id": "66nB7Ez5j7XC"
      },
      "execution_count": null,
      "outputs": []
    },
    {
      "cell_type": "code",
      "source": [
        "from insightface.app import FaceAnalysis"
      ],
      "metadata": {
        "id": "4Y6BFYjhn0GE"
      },
      "execution_count": null,
      "outputs": []
    },
    {
      "cell_type": "code",
      "source": [
        "!pip install moviepy"
      ],
      "metadata": {
        "id": "5akzm-I-QoXB"
      },
      "execution_count": null,
      "outputs": []
    },
    {
      "cell_type": "code",
      "source": [
        "!pip install numpy==1.23.5              #最新VerではInseight実行時にエラーが出るためこのバージョンに下げる。このVerでは初回Import時に失敗する。 ランタイムの再起動も発生。"
      ],
      "metadata": {
        "id": "ab8cnxIEy2s9"
      },
      "execution_count": null,
      "outputs": []
    },
    {
      "cell_type": "code",
      "source": [
        "import cv2\n",
        "import numpy as np\n",
        "from tqdm import tqdm\n",
        "from insightface.app import FaceAnalysis                      #もう一度インポート\n",
        "from moviepy.editor import VideoFileClip, AudioFileClip"
      ],
      "metadata": {
        "id": "URJk1fDeWA9D"
      },
      "execution_count": null,
      "outputs": []
    },
    {
      "cell_type": "code",
      "source": [
        "class INSIGHTFACE(object):\n",
        "    def __init__(self, ctx_id=0, det_size_x=640, det_size_y=640):\n",
        "        #self.app = FaceAnalysis(root='./.insightface')\n",
        "        self.app = FaceAnalysis(root='./.insightface', providers=['CUDAExecutionProvider'])\n",
        "        self.app.prepare(ctx_id=ctx_id, det_size=(det_size_x, det_size_y))\n",
        "        self.faces = []\n",
        "\n",
        "    def get_InsightFace(self, img):\n",
        "        self.faces = self.app.get(np.asarray(img))\n",
        "        #for face in faces:\n",
        "        #    kps   = face.kps.astype(np.int)\n",
        "        #    print(kps)\n",
        "        rimg  = self.app.draw_on(img, self.faces)\n",
        "        #cv2.imwrite(\"./output.jpg\", rimg)\n",
        "        return img, rimg, self.faces\n",
        "\n",
        "    def draw_mesen(self, img):\n",
        "        KPS = []\n",
        "        for face in self.faces:\n",
        "            kps = face.kps.astype(np.int)\n",
        "            KPS.append(kps)\n",
        "        EYE = _EYE = [[]] * 2\n",
        "        out_img = img\n",
        "        for _eye in KPS:\n",
        "            EYE[0] = _eye[0]\n",
        "            EYE[1] = _eye[1]\n",
        "            lineSize  = abs(np.linalg.norm(np.array(EYE[0])-np.array(EYE[1])))\n",
        "            lineWidth = int(lineSize / 4)\n",
        "            if lineWidth <= 10:\n",
        "                lineWidth = 10\n",
        "            lineAngle = 1\n",
        "            if EYE[1][0]-EYE[0][0] != 0:\n",
        "                lineAngle   = (EYE[1][1]-EYE[0][1])/(EYE[1][0]-EYE[0][0])\n",
        "            _EYE[0][0] = EYE[0][0] - (lineSize / 3)\n",
        "            _EYE[0][1] = lineAngle * (_EYE[0][0] - EYE[0][0]) + EYE[0][1]\n",
        "            _EYE[1][0] = EYE[1][0] + (lineSize / 3)\n",
        "            _EYE[1][1] = lineAngle * (_EYE[1][0] - EYE[0][0]) + EYE[0][1]\n",
        "            out_img = cv2.line(out_img,\n",
        "                              (_EYE[0][0], _EYE[0][1]),\n",
        "                              (_EYE[1][0], _EYE[1][1]),\n",
        "                              (0,0,0),\n",
        "                              thickness=lineWidth)\n",
        "        return out_img"
      ],
      "metadata": {
        "id": "WtNLEwqLwjvK"
      },
      "execution_count": null,
      "outputs": []
    },
    {
      "cell_type": "code",
      "source": [
        "IF = INSIGHTFACE()"
      ],
      "metadata": {
        "id": "QtikZ05Uw7cl"
      },
      "execution_count": null,
      "outputs": []
    },
    {
      "cell_type": "code",
      "source": [
        "import onnxruntime as ort\n",
        "\n",
        "print(ort.get_device())\n",
        "print(ort.get_available_providers())\n",
        "\n",
        "provider = ['CUDAExecutionProvider','CPUExecutionProvider']\n",
        "provider = ['CUDAExecutionProvider']\n",
        "ort_sess = ort.InferenceSession('./.insightface/models/buffalo_l/w600k_r50.onnx', providers=provider)\n",
        "print(ort_sess.get_providers())"
      ],
      "metadata": {
        "id": "mv1QskQv_asF"
      },
      "execution_count": null,
      "outputs": []
    },
    {
      "cell_type": "code",
      "source": [
        "!cp ./drive/MyDrive/zoom_480p.mov ./\n",
        "!cp ./drive/MyDrive/InterviewZero_0.mp4 ./\n",
        "!cp ./drive/MyDrive/InterviewZero_1.mp4 ./\n",
        "!cp ./drive/MyDrive/InterviewZero_2.mp4 ./"
      ],
      "metadata": {
        "id": "z7l1qvqKiR__"
      },
      "execution_count": null,
      "outputs": []
    },
    {
      "cell_type": "code",
      "source": [
        "#video_name = \"zoom_480p.mov\"\n",
        "video_name = \"InterviewZero_0.mp4\"\n",
        "#video_name = \"InterviewZero_1.mp4\"\n",
        "#video_name = \"InterviewZero_2.mp4\"\n",
        "video_path = \"./\" + video_name\n",
        "mask_path  = '.'.join(video_path.split('.')[:-1]) + '_mask.mp4'\n",
        "audio_path = '.'.join(video_path.split('.')[:-1]) + '.wav'\n",
        "output_path = '.'.join(video_path.split('.')[:-1]) + '_audio_mask.mp4'\n",
        "video = VideoFileClip(video_path)\n",
        "video.audio.write_audiofile(audio_path, ffmpeg_params=[\"-ac\", \"1\"])  #モノラルで出力"
      ],
      "metadata": {
        "id": "nAOYSr2kQyfW"
      },
      "execution_count": null,
      "outputs": []
    },
    {
      "cell_type": "code",
      "source": [
        "cap = cv2.VideoCapture(video_path)\n",
        "if cap.isOpened() is False:\n",
        "    cap = None"
      ],
      "metadata": {
        "id": "j0kZiU03WZKm"
      },
      "execution_count": null,
      "outputs": []
    },
    {
      "cell_type": "code",
      "source": [
        "width = int(cap.get(cv2.CAP_PROP_FRAME_WIDTH))\n",
        "height = int(cap.get(cv2.CAP_PROP_FRAME_HEIGHT))\n",
        "fps = float(cap.get(cv2.CAP_PROP_FPS))\n",
        "frameNum = int(cap.get(cv2.CAP_PROP_FRAME_COUNT))"
      ],
      "metadata": {
        "id": "KxH4hVn-W3um"
      },
      "execution_count": null,
      "outputs": []
    },
    {
      "cell_type": "code",
      "source": [
        "codec = cv2.VideoWriter_fourcc(*'mp4v')\n",
        "writer = cv2.VideoWriter(mask_path, codec, fps, (width, height), True)"
      ],
      "metadata": {
        "id": "p7Bh-Pc0X_lK"
      },
      "execution_count": null,
      "outputs": []
    },
    {
      "cell_type": "code",
      "source": [
        "bar = tqdm(total=frameNum, dynamic_ncols=True)\n",
        "cap.set(cv2.CAP_PROP_POS_FRAMES, 1)\n",
        "ret, img = cap.read()\n",
        "while ret :\n",
        "    input_img, draw_img, faces = IF.get_InsightFace(img)\n",
        "    out_img = IF.draw_mesen(input_img)\n",
        "    writer.write(out_img)\n",
        "    ret, img = cap.read()\n",
        "    bar.update(1)\n",
        "writer.release()"
      ],
      "metadata": {
        "id": "r6Avsu9xXTG_",
        "collapsed": true
      },
      "execution_count": null,
      "outputs": []
    },
    {
      "cell_type": "code",
      "source": [
        "video_clip = VideoFileClip(mask_path)\n",
        "audio_clip = AudioFileClip(audio_path)\n",
        "video_clip = video_clip.set_audio(audio_clip)\n",
        "video_clip.write_videofile(output_path, audio_codec = 'aac')"
      ],
      "metadata": {
        "id": "3eAXj2QwSiC2"
      },
      "execution_count": null,
      "outputs": []
    },
    {
      "cell_type": "code",
      "source": [
        "! ls -alh"
      ],
      "metadata": {
        "id": "9cMBbmA-iPfW",
        "collapsed": true
      },
      "execution_count": null,
      "outputs": []
    },
    {
      "cell_type": "code",
      "source": [
        "!cp ./zoom_480p_mask.mp4 ./drive/MyDrive\n",
        "!cp ./zoom_480p.mp3 ./drive/MyDrive\n",
        "!cp ./zoom_480p_audio_mask.mp4 ./drive/MyDrive"
      ],
      "metadata": {
        "id": "f8t-ICvtwEML"
      },
      "execution_count": null,
      "outputs": []
    },
    {
      "cell_type": "code",
      "source": [],
      "metadata": {
        "id": "xA-8v_wUzL8G"
      },
      "execution_count": null,
      "outputs": []
    }
  ]
}