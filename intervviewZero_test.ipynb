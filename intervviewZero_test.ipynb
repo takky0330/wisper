{
  "nbformat": 4,
  "nbformat_minor": 0,
  "metadata": {
    "colab": {
      "provenance": [],
      "machine_shape": "hm",
      "gpuType": "T4",
      "mount_file_id": "https://github.com/takky0330/wisper/blob/main/intervviewZero.ipynb",
      "authorship_tag": "ABX9TyPOEY5OditbAZ7ABu7ck836",
      "include_colab_link": true
    },
    "kernelspec": {
      "name": "python3",
      "display_name": "Python 3"
    },
    "language_info": {
      "name": "python"
    },
    "accelerator": "GPU"
  },
  "cells": [
    {
      "cell_type": "markdown",
      "metadata": {
        "id": "view-in-github",
        "colab_type": "text"
      },
      "source": [
        "<a href=\"https://colab.research.google.com/github/takky0330/wisper/blob/main/intervviewZero_test.ipynb\" target=\"_parent\"><img src=\"https://colab.research.google.com/assets/colab-badge.svg\" alt=\"Open In Colab\"/></a>"
      ]
    },
    {
      "cell_type": "code",
      "execution_count": 1,
      "metadata": {
        "id": "N_oGHqinTJxz",
        "outputId": "4d9991ae-faef-40c0-9353-d2ae2e2a62df",
        "colab": {
          "base_uri": "https://localhost:8080/"
        }
      },
      "outputs": [
        {
          "output_type": "stream",
          "name": "stdout",
          "text": [
            "Collecting git+https://github.com/openai/whisper.git\n",
            "  Cloning https://github.com/openai/whisper.git to /tmp/pip-req-build-5t2fqqch\n",
            "  Running command git clone --filter=blob:none --quiet https://github.com/openai/whisper.git /tmp/pip-req-build-5t2fqqch\n",
            "  Resolved https://github.com/openai/whisper.git to commit 173ff7dd1d9fb1c4fddea0d41d704cfefeb8908c\n",
            "  Installing build dependencies ... \u001b[?25l\u001b[?25hdone\n",
            "  Getting requirements to build wheel ... \u001b[?25l\u001b[?25hdone\n",
            "  Preparing metadata (pyproject.toml) ... \u001b[?25l\u001b[?25hdone\n",
            "Requirement already satisfied: numba in /usr/local/lib/python3.10/dist-packages (from openai-whisper==20240930) (0.60.0)\n",
            "Requirement already satisfied: numpy in /usr/local/lib/python3.10/dist-packages (from openai-whisper==20240930) (1.26.4)\n",
            "Requirement already satisfied: torch in /usr/local/lib/python3.10/dist-packages (from openai-whisper==20240930) (2.5.1+cu121)\n",
            "Requirement already satisfied: tqdm in /usr/local/lib/python3.10/dist-packages (from openai-whisper==20240930) (4.66.6)\n",
            "Requirement already satisfied: more-itertools in /usr/local/lib/python3.10/dist-packages (from openai-whisper==20240930) (10.5.0)\n",
            "Collecting tiktoken (from openai-whisper==20240930)\n",
            "  Downloading tiktoken-0.8.0-cp310-cp310-manylinux_2_17_x86_64.manylinux2014_x86_64.whl.metadata (6.6 kB)\n",
            "Collecting triton>=2.0.0 (from openai-whisper==20240930)\n",
            "  Downloading triton-3.1.0-cp310-cp310-manylinux_2_17_x86_64.manylinux2014_x86_64.whl.metadata (1.3 kB)\n",
            "Requirement already satisfied: filelock in /usr/local/lib/python3.10/dist-packages (from triton>=2.0.0->openai-whisper==20240930) (3.16.1)\n",
            "Requirement already satisfied: llvmlite<0.44,>=0.43.0dev0 in /usr/local/lib/python3.10/dist-packages (from numba->openai-whisper==20240930) (0.43.0)\n",
            "Requirement already satisfied: regex>=2022.1.18 in /usr/local/lib/python3.10/dist-packages (from tiktoken->openai-whisper==20240930) (2024.9.11)\n",
            "Requirement already satisfied: requests>=2.26.0 in /usr/local/lib/python3.10/dist-packages (from tiktoken->openai-whisper==20240930) (2.32.3)\n",
            "Requirement already satisfied: typing-extensions>=4.8.0 in /usr/local/lib/python3.10/dist-packages (from torch->openai-whisper==20240930) (4.12.2)\n",
            "Requirement already satisfied: networkx in /usr/local/lib/python3.10/dist-packages (from torch->openai-whisper==20240930) (3.4.2)\n",
            "Requirement already satisfied: jinja2 in /usr/local/lib/python3.10/dist-packages (from torch->openai-whisper==20240930) (3.1.4)\n",
            "Requirement already satisfied: fsspec in /usr/local/lib/python3.10/dist-packages (from torch->openai-whisper==20240930) (2024.10.0)\n",
            "Requirement already satisfied: sympy==1.13.1 in /usr/local/lib/python3.10/dist-packages (from torch->openai-whisper==20240930) (1.13.1)\n",
            "Requirement already satisfied: mpmath<1.4,>=1.1.0 in /usr/local/lib/python3.10/dist-packages (from sympy==1.13.1->torch->openai-whisper==20240930) (1.3.0)\n",
            "Requirement already satisfied: charset-normalizer<4,>=2 in /usr/local/lib/python3.10/dist-packages (from requests>=2.26.0->tiktoken->openai-whisper==20240930) (3.4.0)\n",
            "Requirement already satisfied: idna<4,>=2.5 in /usr/local/lib/python3.10/dist-packages (from requests>=2.26.0->tiktoken->openai-whisper==20240930) (3.10)\n",
            "Requirement already satisfied: urllib3<3,>=1.21.1 in /usr/local/lib/python3.10/dist-packages (from requests>=2.26.0->tiktoken->openai-whisper==20240930) (2.2.3)\n",
            "Requirement already satisfied: certifi>=2017.4.17 in /usr/local/lib/python3.10/dist-packages (from requests>=2.26.0->tiktoken->openai-whisper==20240930) (2024.8.30)\n",
            "Requirement already satisfied: MarkupSafe>=2.0 in /usr/local/lib/python3.10/dist-packages (from jinja2->torch->openai-whisper==20240930) (3.0.2)\n",
            "Downloading triton-3.1.0-cp310-cp310-manylinux_2_17_x86_64.manylinux2014_x86_64.whl (209.5 MB)\n",
            "\u001b[2K   \u001b[90m━━━━━━━━━━━━━━━━━━━━━━━━━━━━━━━━━━━━━━━━\u001b[0m \u001b[32m209.5/209.5 MB\u001b[0m \u001b[31m4.5 MB/s\u001b[0m eta \u001b[36m0:00:00\u001b[0m\n",
            "\u001b[?25hDownloading tiktoken-0.8.0-cp310-cp310-manylinux_2_17_x86_64.manylinux2014_x86_64.whl (1.2 MB)\n",
            "\u001b[2K   \u001b[90m━━━━━━━━━━━━━━━━━━━━━━━━━━━━━━━━━━━━━━━━\u001b[0m \u001b[32m1.2/1.2 MB\u001b[0m \u001b[31m59.5 MB/s\u001b[0m eta \u001b[36m0:00:00\u001b[0m\n",
            "\u001b[?25hBuilding wheels for collected packages: openai-whisper\n",
            "  Building wheel for openai-whisper (pyproject.toml) ... \u001b[?25l\u001b[?25hdone\n",
            "  Created wheel for openai-whisper: filename=openai_whisper-20240930-py3-none-any.whl size=803556 sha256=e58df87ff05d9a679d365f39d84423feada5cda0e31ef391122af53d6ec29d9a\n",
            "  Stored in directory: /tmp/pip-ephem-wheel-cache-gmemk8zj/wheels/8b/6c/d0/622666868c179f156cf595c8b6f06f88bc5d80c4b31dccaa03\n",
            "Successfully built openai-whisper\n",
            "Installing collected packages: triton, tiktoken, openai-whisper\n",
            "Successfully installed openai-whisper-20240930 tiktoken-0.8.0 triton-3.1.0\n"
          ]
        }
      ],
      "source": [
        "!pip install git+https://github.com/openai/whisper.git\n",
        "#!pip install -U git+https://github.com/jianfch/stable-ts.git"
      ]
    },
    {
      "cell_type": "code",
      "source": [
        "!pip install moviepy"
      ],
      "metadata": {
        "id": "iLJk39Pl9X3I",
        "outputId": "ff890095-c3c1-4d12-fb11-dbc295910996",
        "colab": {
          "base_uri": "https://localhost:8080/"
        }
      },
      "execution_count": 2,
      "outputs": [
        {
          "output_type": "stream",
          "name": "stdout",
          "text": [
            "Requirement already satisfied: moviepy in /usr/local/lib/python3.10/dist-packages (1.0.3)\n",
            "Requirement already satisfied: decorator<5.0,>=4.0.2 in /usr/local/lib/python3.10/dist-packages (from moviepy) (4.4.2)\n",
            "Requirement already satisfied: imageio<3.0,>=2.5 in /usr/local/lib/python3.10/dist-packages (from moviepy) (2.36.0)\n",
            "Requirement already satisfied: imageio_ffmpeg>=0.2.0 in /usr/local/lib/python3.10/dist-packages (from moviepy) (0.5.1)\n",
            "Requirement already satisfied: tqdm<5.0,>=4.11.2 in /usr/local/lib/python3.10/dist-packages (from moviepy) (4.66.6)\n",
            "Requirement already satisfied: numpy>=1.17.3 in /usr/local/lib/python3.10/dist-packages (from moviepy) (1.26.4)\n",
            "Requirement already satisfied: requests<3.0,>=2.8.1 in /usr/local/lib/python3.10/dist-packages (from moviepy) (2.32.3)\n",
            "Requirement already satisfied: proglog<=1.0.0 in /usr/local/lib/python3.10/dist-packages (from moviepy) (0.1.10)\n",
            "Requirement already satisfied: pillow>=8.3.2 in /usr/local/lib/python3.10/dist-packages (from imageio<3.0,>=2.5->moviepy) (11.0.0)\n",
            "Requirement already satisfied: setuptools in /usr/local/lib/python3.10/dist-packages (from imageio_ffmpeg>=0.2.0->moviepy) (75.1.0)\n",
            "Requirement already satisfied: charset-normalizer<4,>=2 in /usr/local/lib/python3.10/dist-packages (from requests<3.0,>=2.8.1->moviepy) (3.4.0)\n",
            "Requirement already satisfied: idna<4,>=2.5 in /usr/local/lib/python3.10/dist-packages (from requests<3.0,>=2.8.1->moviepy) (3.10)\n",
            "Requirement already satisfied: urllib3<3,>=1.21.1 in /usr/local/lib/python3.10/dist-packages (from requests<3.0,>=2.8.1->moviepy) (2.2.3)\n",
            "Requirement already satisfied: certifi>=2017.4.17 in /usr/local/lib/python3.10/dist-packages (from requests<3.0,>=2.8.1->moviepy) (2024.8.30)\n"
          ]
        }
      ]
    },
    {
      "cell_type": "code",
      "source": [
        "!pip install ffmpeg-python"
      ],
      "metadata": {
        "id": "MT_AwBERdCH-",
        "outputId": "5ae31ea6-2ca4-4c27-a5cb-88227e6db62a",
        "colab": {
          "base_uri": "https://localhost:8080/"
        }
      },
      "execution_count": 3,
      "outputs": [
        {
          "output_type": "stream",
          "name": "stdout",
          "text": [
            "Collecting ffmpeg-python\n",
            "  Downloading ffmpeg_python-0.2.0-py3-none-any.whl.metadata (1.7 kB)\n",
            "Requirement already satisfied: future in /usr/local/lib/python3.10/dist-packages (from ffmpeg-python) (1.0.0)\n",
            "Downloading ffmpeg_python-0.2.0-py3-none-any.whl (25 kB)\n",
            "Installing collected packages: ffmpeg-python\n",
            "Successfully installed ffmpeg-python-0.2.0\n"
          ]
        }
      ]
    },
    {
      "cell_type": "code",
      "source": [
        "!pip install pydub"
      ],
      "metadata": {
        "id": "faua_Zz20kRl",
        "outputId": "5ed9ce5f-1385-4aa4-e6c9-fcca3ed3a636",
        "colab": {
          "base_uri": "https://localhost:8080/"
        }
      },
      "execution_count": 4,
      "outputs": [
        {
          "output_type": "stream",
          "name": "stdout",
          "text": [
            "Collecting pydub\n",
            "  Downloading pydub-0.25.1-py2.py3-none-any.whl.metadata (1.4 kB)\n",
            "Downloading pydub-0.25.1-py2.py3-none-any.whl (32 kB)\n",
            "Installing collected packages: pydub\n",
            "Successfully installed pydub-0.25.1\n"
          ]
        }
      ]
    },
    {
      "cell_type": "code",
      "source": [
        "import whisper\n",
        "#import stable_whisper\n",
        "import ffmpeg\n",
        "from pydub import AudioSegment\n",
        "import numpy as np\n",
        "import json, re, os\n",
        "import glob\n",
        "import locale\n",
        "locale.getpreferredencoding = lambda: \"UTF-8\"\n",
        "from moviepy.editor import VideoFileClip, CompositeVideoClip\n",
        "from moviepy.editor import AudioFileClip, CompositeAudioClip"
      ],
      "metadata": {
        "id": "FBaUgrssTrus",
        "outputId": "c79956f7-9721-40d8-f29b-fef05dfca179",
        "colab": {
          "base_uri": "https://localhost:8080/"
        }
      },
      "execution_count": 5,
      "outputs": [
        {
          "output_type": "stream",
          "name": "stderr",
          "text": [
            "WARNING:py.warnings:/usr/local/lib/python3.10/dist-packages/moviepy/video/io/sliders.py:61: SyntaxWarning: \"is\" with a literal. Did you mean \"==\"?\n",
            "  if event.key is 'enter':\n",
            "\n"
          ]
        }
      ]
    },
    {
      "cell_type": "code",
      "source": [
        "!cp ./drive/MyDrive/IZ-2218確認５/*.* ./\n",
        "#!cp ./drive/MyDrive/IZ-2218確認４/*.* ./\n",
        "#!cp ./drive/MyDrive/IZ-2218確認３/*.* ./"
      ],
      "metadata": {
        "id": "8ZZr3sOuBEDU"
      },
      "execution_count": 6,
      "outputs": []
    },
    {
      "cell_type": "code",
      "source": [
        "!pip install m3u8"
      ],
      "metadata": {
        "id": "cRGcsIobNapm",
        "outputId": "381fe688-11c4-4c40-9af0-275c7870d0ac",
        "colab": {
          "base_uri": "https://localhost:8080/"
        }
      },
      "execution_count": 7,
      "outputs": [
        {
          "output_type": "stream",
          "name": "stdout",
          "text": [
            "Collecting m3u8\n",
            "  Downloading m3u8-6.0.0-py3-none-any.whl.metadata (4.9 kB)\n",
            "Collecting backports-datetime-fromisoformat (from m3u8)\n",
            "  Downloading backports_datetime_fromisoformat-2.0.2-cp310-cp310-manylinux_2_5_x86_64.manylinux1_x86_64.manylinux_2_17_x86_64.manylinux2014_x86_64.whl.metadata (6.3 kB)\n",
            "Downloading m3u8-6.0.0-py3-none-any.whl (24 kB)\n",
            "Downloading backports_datetime_fromisoformat-2.0.2-cp310-cp310-manylinux_2_5_x86_64.manylinux1_x86_64.manylinux_2_17_x86_64.manylinux2014_x86_64.whl (51 kB)\n",
            "\u001b[?25l   \u001b[90m━━━━━━━━━━━━━━━━━━━━━━━━━━━━━━━━━━━━━━━━\u001b[0m \u001b[32m0.0/51.9 kB\u001b[0m \u001b[31m?\u001b[0m eta \u001b[36m-:--:--\u001b[0m\r\u001b[2K   \u001b[90m━━━━━━━━━━━━━━━━━━━━━━━━━━━━━━━━━━━━━━━━\u001b[0m \u001b[32m51.9/51.9 kB\u001b[0m \u001b[31m4.8 MB/s\u001b[0m eta \u001b[36m0:00:00\u001b[0m\n",
            "\u001b[?25hInstalling collected packages: backports-datetime-fromisoformat, m3u8\n",
            "Successfully installed backports-datetime-fromisoformat-2.0.2 m3u8-6.0.0\n"
          ]
        }
      ]
    },
    {
      "cell_type": "code",
      "source": [
        "import m3u8\n",
        "import moviepy.editor as mp\n",
        "import requests\n",
        "from moviepy.audio.AudioClip import AudioArrayClip\n",
        "import numpy as np\n",
        "import os"
      ],
      "metadata": {
        "id": "TjtcYWzgNavy"
      },
      "execution_count": 8,
      "outputs": []
    },
    {
      "cell_type": "code",
      "source": [
        "# m3u8ファイルのURLまたはローカルパス\n",
        "m3u8_url = \"./6b7324461e471fbd08e36580ed0681c7_1732186534941__uid_s_480128781__uid_e_audio.m3u8\"\n",
        "\n",
        "# m3u8ファイルの解析\n",
        "m3u8_obj = m3u8.load(m3u8_url)\n",
        "segments = m3u8_obj.segments\n",
        "\n",
        "# 各セグメントをダウンロードして処理\n",
        "audio_clips = []\n",
        "previous_end_time = 0  # 無音の計算用\n",
        "\n",
        "for segment in segments:\n",
        "    # セグメントのURIと開始時間\n",
        "    segment_url = segment.absolute_uri\n",
        "    segment_duration = segment.duration\n",
        "    segment_start_time = previous_end_time\n",
        "    previous_end_time += segment_duration\n",
        "    print(segment_duration, previous_end_time, segment_start_time)\n",
        "\n",
        "    audio = mp.AudioFileClip(segment_url)\n",
        "\n",
        "    # 無音が必要なら追加\n",
        "#    print('無音', segment_start_time, ' > ', previous_end_time)\n",
        "    if segment_start_time > previous_end_time:\n",
        "#        print('無音', segment_start_time, ' > ', previous_end_time)\n",
        "        silence_duration = segment_start_time - previous_end_time\n",
        "        silence = AudioArrayClip(np.zeros((int(silence_duration * audio.fps), 2)), fps=audio.fps)\n",
        "        audio_clips.append(silence)\n",
        "\n",
        "    # 音声をリストに追加\n",
        "    audio_clips.append(audio)\n",
        "\n",
        "    # 一時ファイル削除\n",
        "    #os.remove(temp_filename)\n",
        "\n",
        "# すべての音声を結合\n",
        "final_audio = mp.concatenate_audioclips(audio_clips)\n",
        "\n",
        "# WAVファイルとして保存\n",
        "#output_filename = \"output.wav\"\n",
        "output_filename = \"output.mp3\"\n",
        "#final_audio.write_audiofile(output_filename, codec=\"pcm_s16le\")\n",
        "final_audio.write_audiofile(output_filename, codec=\"libmp3lame\")\n",
        "\n",
        "print(f\"WAVファイルを出力しました: {output_filename}\")\n"
      ],
      "metadata": {
        "id": "smF5h4yTNa25",
        "outputId": "2a1bd143-b535-4c25-bcc6-7ad638bc0711",
        "colab": {
          "base_uri": "https://localhost:8080/",
          "height": 1000
        }
      },
      "execution_count": 24,
      "outputs": [
        {
          "output_type": "stream",
          "name": "stdout",
          "text": [
            "15.01 15.01 0\n",
            "2.88 17.89 15.01\n",
            "15.01 32.9 17.89\n",
            "15.02 47.92 32.9\n",
            "15.02 62.94 47.92\n",
            "15.02 77.96 62.94\n",
            "15.02 92.97999999999999 77.96\n",
            "15.02 107.99999999999999 92.97999999999999\n",
            "15.02 123.01999999999998 107.99999999999999\n",
            "15.02 138.04 123.01999999999998\n",
            "15.01 153.04999999999998 138.04\n",
            "15.02 168.07 153.04999999999998\n",
            "15.02 183.09 168.07\n",
            "15.02 198.11 183.09\n",
            "15.02 213.13000000000002 198.11\n",
            "15.02 228.15000000000003 213.13000000000002\n",
            "15.02 243.17000000000004 228.15000000000003\n",
            "15.01 258.18000000000006 243.17000000000004\n",
            "15.02 273.20000000000005 258.18000000000006\n",
            "15.02 288.22 273.20000000000005\n",
            "15.02 303.24 288.22\n",
            "15.02 318.26 303.24\n",
            "15.02 333.28 318.26\n",
            "15.02 348.29999999999995 333.28\n",
            "15.02 363.31999999999994 348.29999999999995\n",
            "15.01 378.3299999999999 363.31999999999994\n",
            "15.02 393.3499999999999 378.3299999999999\n",
            "15.02 408.3699999999999 393.3499999999999\n",
            "15.02 423.3899999999999 408.3699999999999\n",
            "15.02 438.40999999999985 423.3899999999999\n",
            "15.02 453.42999999999984 438.40999999999985\n",
            "15.02 468.4499999999998 453.42999999999984\n",
            "15.01 483.4599999999998 468.4499999999998\n",
            "15.02 498.4799999999998 483.4599999999998\n",
            "15.02 513.4999999999998 498.4799999999998\n",
            "15.02 528.5199999999998 513.4999999999998\n",
            "15.02 543.5399999999997 528.5199999999998\n",
            "15.02 558.5599999999997 543.5399999999997\n",
            "15.02 573.5799999999997 558.5599999999997\n"
          ]
        },
        {
          "output_type": "error",
          "ename": "KeyboardInterrupt",
          "evalue": "",
          "traceback": [
            "\u001b[0;31m---------------------------------------------------------------------------\u001b[0m",
            "\u001b[0;31mKeyboardInterrupt\u001b[0m                         Traceback (most recent call last)",
            "\u001b[0;32m<ipython-input-24-06130a19fb41>\u001b[0m in \u001b[0;36m<cell line: 12>\u001b[0;34m()\u001b[0m\n\u001b[1;32m     18\u001b[0m     \u001b[0mprint\u001b[0m\u001b[0;34m(\u001b[0m\u001b[0msegment_duration\u001b[0m\u001b[0;34m,\u001b[0m \u001b[0mprevious_end_time\u001b[0m\u001b[0;34m,\u001b[0m \u001b[0msegment_start_time\u001b[0m\u001b[0;34m)\u001b[0m\u001b[0;34m\u001b[0m\u001b[0;34m\u001b[0m\u001b[0m\n\u001b[1;32m     19\u001b[0m \u001b[0;34m\u001b[0m\u001b[0m\n\u001b[0;32m---> 20\u001b[0;31m     \u001b[0maudio\u001b[0m \u001b[0;34m=\u001b[0m \u001b[0mmp\u001b[0m\u001b[0;34m.\u001b[0m\u001b[0mAudioFileClip\u001b[0m\u001b[0;34m(\u001b[0m\u001b[0msegment_url\u001b[0m\u001b[0;34m)\u001b[0m\u001b[0;34m\u001b[0m\u001b[0;34m\u001b[0m\u001b[0m\n\u001b[0m\u001b[1;32m     21\u001b[0m \u001b[0;34m\u001b[0m\u001b[0m\n\u001b[1;32m     22\u001b[0m     \u001b[0;31m# 無音が必要なら追加\u001b[0m\u001b[0;34m\u001b[0m\u001b[0;34m\u001b[0m\u001b[0m\n",
            "\u001b[0;32m/usr/local/lib/python3.10/dist-packages/moviepy/audio/io/AudioFileClip.py\u001b[0m in \u001b[0;36m__init__\u001b[0;34m(self, filename, buffersize, nbytes, fps)\u001b[0m\n\u001b[1;32m     68\u001b[0m \u001b[0;34m\u001b[0m\u001b[0m\n\u001b[1;32m     69\u001b[0m         \u001b[0mself\u001b[0m\u001b[0;34m.\u001b[0m\u001b[0mfilename\u001b[0m \u001b[0;34m=\u001b[0m \u001b[0mfilename\u001b[0m\u001b[0;34m\u001b[0m\u001b[0;34m\u001b[0m\u001b[0m\n\u001b[0;32m---> 70\u001b[0;31m         self.reader = FFMPEG_AudioReader(filename, fps=fps, nbytes=nbytes,\n\u001b[0m\u001b[1;32m     71\u001b[0m                                          buffersize=buffersize)\n\u001b[1;32m     72\u001b[0m         \u001b[0mself\u001b[0m\u001b[0;34m.\u001b[0m\u001b[0mfps\u001b[0m \u001b[0;34m=\u001b[0m \u001b[0mfps\u001b[0m\u001b[0;34m\u001b[0m\u001b[0;34m\u001b[0m\u001b[0m\n",
            "\u001b[0;32m/usr/local/lib/python3.10/dist-packages/moviepy/audio/io/readers.py\u001b[0m in \u001b[0;36m__init__\u001b[0;34m(self, filename, buffersize, print_infos, fps, nbytes, nchannels)\u001b[0m\n\u001b[1;32m     63\u001b[0m         \u001b[0mself\u001b[0m\u001b[0;34m.\u001b[0m\u001b[0mbuffer_startframe\u001b[0m \u001b[0;34m=\u001b[0m \u001b[0;36m1\u001b[0m\u001b[0;34m\u001b[0m\u001b[0;34m\u001b[0m\u001b[0m\n\u001b[1;32m     64\u001b[0m         \u001b[0mself\u001b[0m\u001b[0;34m.\u001b[0m\u001b[0minitialize\u001b[0m\u001b[0;34m(\u001b[0m\u001b[0;34m)\u001b[0m\u001b[0;34m\u001b[0m\u001b[0;34m\u001b[0m\u001b[0m\n\u001b[0;32m---> 65\u001b[0;31m         \u001b[0mself\u001b[0m\u001b[0;34m.\u001b[0m\u001b[0mbuffer_around\u001b[0m\u001b[0;34m(\u001b[0m\u001b[0;36m1\u001b[0m\u001b[0;34m)\u001b[0m\u001b[0;34m\u001b[0m\u001b[0;34m\u001b[0m\u001b[0m\n\u001b[0m\u001b[1;32m     66\u001b[0m \u001b[0;34m\u001b[0m\u001b[0m\n\u001b[1;32m     67\u001b[0m     \u001b[0;32mdef\u001b[0m \u001b[0minitialize\u001b[0m\u001b[0;34m(\u001b[0m\u001b[0mself\u001b[0m\u001b[0;34m,\u001b[0m \u001b[0mstarttime\u001b[0m \u001b[0;34m=\u001b[0m \u001b[0;36m0\u001b[0m\u001b[0;34m)\u001b[0m\u001b[0;34m:\u001b[0m\u001b[0;34m\u001b[0m\u001b[0;34m\u001b[0m\u001b[0m\n",
            "\u001b[0;32m/usr/local/lib/python3.10/dist-packages/moviepy/audio/io/readers.py\u001b[0m in \u001b[0;36mbuffer_around\u001b[0;34m(self, framenumber)\u001b[0m\n\u001b[1;32m    245\u001b[0m         \u001b[0;32melse\u001b[0m\u001b[0;34m:\u001b[0m\u001b[0;34m\u001b[0m\u001b[0;34m\u001b[0m\u001b[0m\n\u001b[1;32m    246\u001b[0m             \u001b[0mself\u001b[0m\u001b[0;34m.\u001b[0m\u001b[0mseek\u001b[0m\u001b[0;34m(\u001b[0m\u001b[0mnew_bufferstart\u001b[0m\u001b[0;34m)\u001b[0m\u001b[0;34m\u001b[0m\u001b[0;34m\u001b[0m\u001b[0m\n\u001b[0;32m--> 247\u001b[0;31m             \u001b[0mself\u001b[0m\u001b[0;34m.\u001b[0m\u001b[0mbuffer\u001b[0m \u001b[0;34m=\u001b[0m  \u001b[0mself\u001b[0m\u001b[0;34m.\u001b[0m\u001b[0mread_chunk\u001b[0m\u001b[0;34m(\u001b[0m\u001b[0mself\u001b[0m\u001b[0;34m.\u001b[0m\u001b[0mbuffersize\u001b[0m\u001b[0;34m)\u001b[0m\u001b[0;34m\u001b[0m\u001b[0;34m\u001b[0m\u001b[0m\n\u001b[0m\u001b[1;32m    248\u001b[0m \u001b[0;34m\u001b[0m\u001b[0m\n\u001b[1;32m    249\u001b[0m         \u001b[0mself\u001b[0m\u001b[0;34m.\u001b[0m\u001b[0mbuffer_startframe\u001b[0m \u001b[0;34m=\u001b[0m \u001b[0mnew_bufferstart\u001b[0m\u001b[0;34m\u001b[0m\u001b[0;34m\u001b[0m\u001b[0m\n",
            "\u001b[0;32m/usr/local/lib/python3.10/dist-packages/moviepy/audio/io/readers.py\u001b[0m in \u001b[0;36mread_chunk\u001b[0;34m(self, chunksize)\u001b[0m\n\u001b[1;32m    111\u001b[0m         \u001b[0mchunksize\u001b[0m \u001b[0;34m=\u001b[0m \u001b[0mint\u001b[0m\u001b[0;34m(\u001b[0m\u001b[0mround\u001b[0m\u001b[0;34m(\u001b[0m\u001b[0mchunksize\u001b[0m\u001b[0;34m)\u001b[0m\u001b[0;34m)\u001b[0m\u001b[0;34m\u001b[0m\u001b[0;34m\u001b[0m\u001b[0m\n\u001b[1;32m    112\u001b[0m         \u001b[0mL\u001b[0m \u001b[0;34m=\u001b[0m \u001b[0mself\u001b[0m\u001b[0;34m.\u001b[0m\u001b[0mnchannels\u001b[0m\u001b[0;34m*\u001b[0m\u001b[0mchunksize\u001b[0m\u001b[0;34m*\u001b[0m\u001b[0mself\u001b[0m\u001b[0;34m.\u001b[0m\u001b[0mnbytes\u001b[0m\u001b[0;34m\u001b[0m\u001b[0;34m\u001b[0m\u001b[0m\n\u001b[0;32m--> 113\u001b[0;31m         \u001b[0ms\u001b[0m \u001b[0;34m=\u001b[0m \u001b[0mself\u001b[0m\u001b[0;34m.\u001b[0m\u001b[0mproc\u001b[0m\u001b[0;34m.\u001b[0m\u001b[0mstdout\u001b[0m\u001b[0;34m.\u001b[0m\u001b[0mread\u001b[0m\u001b[0;34m(\u001b[0m\u001b[0mL\u001b[0m\u001b[0;34m)\u001b[0m\u001b[0;34m\u001b[0m\u001b[0;34m\u001b[0m\u001b[0m\n\u001b[0m\u001b[1;32m    114\u001b[0m         \u001b[0mdt\u001b[0m \u001b[0;34m=\u001b[0m \u001b[0;34m{\u001b[0m\u001b[0;36m1\u001b[0m\u001b[0;34m:\u001b[0m \u001b[0;34m'int8'\u001b[0m\u001b[0;34m,\u001b[0m\u001b[0;36m2\u001b[0m\u001b[0;34m:\u001b[0m\u001b[0;34m'int16'\u001b[0m\u001b[0;34m,\u001b[0m\u001b[0;36m4\u001b[0m\u001b[0;34m:\u001b[0m\u001b[0;34m'int32'\u001b[0m\u001b[0;34m}\u001b[0m\u001b[0;34m[\u001b[0m\u001b[0mself\u001b[0m\u001b[0;34m.\u001b[0m\u001b[0mnbytes\u001b[0m\u001b[0;34m]\u001b[0m\u001b[0;34m\u001b[0m\u001b[0;34m\u001b[0m\u001b[0m\n\u001b[1;32m    115\u001b[0m         \u001b[0;32mif\u001b[0m \u001b[0mhasattr\u001b[0m\u001b[0;34m(\u001b[0m\u001b[0mnp\u001b[0m\u001b[0;34m,\u001b[0m \u001b[0;34m'frombuffer'\u001b[0m\u001b[0;34m)\u001b[0m\u001b[0;34m:\u001b[0m\u001b[0;34m\u001b[0m\u001b[0;34m\u001b[0m\u001b[0m\n",
            "\u001b[0;31mKeyboardInterrupt\u001b[0m: "
          ]
        }
      ]
    },
    {
      "cell_type": "code",
      "source": [
        "    wav_path = \"./output.wav\"\n",
        "    audio_tmp = AudioFileClip(\"./output.mp3\")\n",
        "    audio_tmp.write_audiofile(wav_path, ffmpeg_params=[\"-ac\", \"1\"])"
      ],
      "metadata": {
        "id": "jsUa042_Na87",
        "outputId": "4a3f116c-d43e-4d40-a25d-1db98dad1d49",
        "colab": {
          "base_uri": "https://localhost:8080/"
        }
      },
      "execution_count": 10,
      "outputs": [
        {
          "output_type": "stream",
          "name": "stdout",
          "text": [
            "MoviePy - Writing audio in ./output.wav\n"
          ]
        },
        {
          "output_type": "stream",
          "name": "stderr",
          "text": [
            "                                                                          "
          ]
        },
        {
          "output_type": "stream",
          "name": "stdout",
          "text": [
            "MoviePy - Done.\n"
          ]
        },
        {
          "output_type": "stream",
          "name": "stderr",
          "text": [
            "\r"
          ]
        }
      ]
    },
    {
      "cell_type": "code",
      "source": [],
      "metadata": {
        "id": "n6nhjzO-NbHc"
      },
      "execution_count": null,
      "outputs": []
    },
    {
      "cell_type": "code",
      "source": [],
      "metadata": {
        "id": "sApo9xiiNbVA"
      },
      "execution_count": null,
      "outputs": []
    },
    {
      "cell_type": "code",
      "source": [
        "def is_webm(path):\n",
        "    with open('./' + path) as f:\n",
        "        for _line in f:\n",
        "            if _line.rstrip()[-5:] == '.webm':\n",
        "                return True\n",
        "    return False"
      ],
      "metadata": {
        "id": "YiH52CTdeaai"
      },
      "execution_count": null,
      "outputs": []
    },
    {
      "cell_type": "code",
      "source": [
        "def conv_webm(input_file):\n",
        "    #!ffmpeg -allowed_extensions ALL -f hls -i ./drive/MyDrive/IZ-2218確認３/ee93aa2994411ebff28d459c4711228b_1731555758981__uid_s_907719631__uid_e_video.m3u8 -c:v copy -y ./ee93aa2994411ebff28d459c4711228b_1731555758981__uid_s_907719631__uid_e_video.webm\n",
        "    webm_tmp = '.'.join(input_file.split('.')[:-1]) + '.webm'\n",
        "    try:\n",
        "        (\n",
        "            ffmpeg\n",
        "            .input('./' + input_file, allowed_extensions='ALL')\n",
        "            .output(webm_tmp, vcodec=\"copy\")\n",
        "            .overwrite_output()\n",
        "            .run(capture_stderr=True, capture_stdout=True)\n",
        "        )\n",
        "        _clip = VideoFileClip(webm_tmp)\n",
        "    except ffmpeg.Error as e:\n",
        "        print(f\"{e.stderr.decode()}\")\n",
        "        print(f\"標準出力: {e.stdout.decode()}\")\n",
        "        _clip = None\n",
        "    return _clip, webm_tmp"
      ],
      "metadata": {
        "id": "9o52BsqOfiQV"
      },
      "execution_count": null,
      "outputs": []
    },
    {
      "cell_type": "code",
      "source": [
        "def get_video_list(path):\n",
        "    video_path = f'{path}*_video.m3u8'\n",
        "    video_paths = glob.glob(video_path)\n",
        "    video_paths.sort()\n",
        "    return video_paths\n",
        "def get_audio_list(path):\n",
        "    audio_path = f'{path}*_audio.m3u8'\n",
        "    audio_paths = glob.glob(audio_path)\n",
        "    audio_paths.sort()\n",
        "    return audio_paths"
      ],
      "metadata": {
        "id": "4DqRD33Bh4yy"
      },
      "execution_count": null,
      "outputs": []
    },
    {
      "cell_type": "code",
      "source": [
        "def get_speaker_monitor(result, sorted, video_paths):\n",
        "    prog = re.compile('教えて|聞か|聞き|願い|ください|ですか(?!ね)|でしょうか(?!ね)|ましたか|されましたか|いつ頃')\n",
        "    character = {}\n",
        "    INT_COUNT = []\n",
        "    for c in range(len(result)):\n",
        "        INT_COUNT.append([0, 0, 0, ''])\n",
        "    for srt, end, txt, spk in sorted:\n",
        "        count = len(prog.findall(txt))\n",
        "        spk_no = int(spk.split('_')[-1])\n",
        "        INT_COUNT[spk_no][0] += 1\n",
        "        INT_COUNT[spk_no][3] = spk\n",
        "        if count > 0:\n",
        "            INT_COUNT[spk_no][1] += count\n",
        "    for c, cnt in enumerate(INT_COUNT):\n",
        "        INT_COUNT[c][2] = cnt[1] / cnt[0]\n",
        "    INT_COUNT.index(min(INT_COUNT))\n",
        "\n",
        "    rate = [c[2] for c in INT_COUNT]\n",
        "    min_index = rate.index(min(rate))\n",
        "\n",
        "    for i, intv in enumerate(INT_COUNT):\n",
        "        user_id = audio_paths[i].split('_')[-5]\n",
        "        if i == min_index:\n",
        "            character[intv[3]] = {'character': \"モニター\", 'user_id': user_id, 'video_path' : video_paths[i]}\n",
        "        else:\n",
        "            character[intv[3]] = {'character': \"インタビューア_\" + intv[3].split('_')[-1], 'user_id': user_id, 'video_path' : video_paths[i]}\n",
        "    return character"
      ],
      "metadata": {
        "id": "1TYp74Tq4LTm"
      },
      "execution_count": null,
      "outputs": []
    },
    {
      "cell_type": "code",
      "source": [
        "path = './'\n",
        "video_paths = get_video_list(path)\n",
        "audio_paths = get_audio_list(path)\n",
        "interview_video_name = '_'.join(video_paths[0].split('/')[1].split('_')[0: 2]) + '.mp4'\n",
        "interview_audio_name = '_'.join(video_paths[0].split('/')[1].split('_')[0: 2]) + '.wav'\n",
        "interview_json_name = '_'.join(video_paths[0].split('/')[1].split('_')[0: 2]) + '.json'"
      ],
      "metadata": {
        "id": "XT68uSsBMEwJ"
      },
      "execution_count": null,
      "outputs": []
    },
    {
      "cell_type": "code",
      "source": [
        "video = []\n",
        "for v, video_path in enumerate(video_paths):\n",
        "    _video, _path = conv_webm(video_path) if is_webm(video_path) else (VideoFileClip(video_path), None)\n",
        "    if _path is not None:\n",
        "        video_paths[v] = _path\n",
        "    video.append(_video)\n",
        "video_paths"
      ],
      "metadata": {
        "id": "p2r1n94mMKzy",
        "collapsed": true
      },
      "execution_count": null,
      "outputs": []
    },
    {
      "cell_type": "code",
      "source": [
        "audio = []\n",
        "wav_paths = []\n",
        "for audio_path in audio_paths:\n",
        "    wav_path = '.'.join(audio_path.split('.')[:-1]) + '.wav'\n",
        "    audio_tmp = AudioFileClip(audio_path)\n",
        "    audio_tmp.write_audiofile(wav_path, ffmpeg_params=[\"-ac\", \"1\"])\n",
        "    audio.append(audio_tmp)\n",
        "    wav_paths.append(wav_path)\n",
        "print(audio)"
      ],
      "metadata": {
        "id": "3JW5DgVSK5AU"
      },
      "execution_count": null,
      "outputs": []
    },
    {
      "cell_type": "code",
      "source": [
        "model = whisper.load_model('large')\n",
        "#model = stable_whisper.load_model('large')\n",
        "#stable_whisper.modify_model(model)"
      ],
      "metadata": {
        "id": "tQ_TEOh7swqx"
      },
      "execution_count": null,
      "outputs": []
    },
    {
      "cell_type": "code",
      "source": [
        "asr_result = []\n",
        "for wav_patn in wav_paths:\n",
        "    print(f'\\n---- {wav_patn} ----')\n",
        "    #_result = model.transcribe(wav_patn, verbose=True, fp16=False, language=\"ja\", word_timestamps=True)\n",
        "    _result = model.transcribe(wav_patn, verbose=True, fp16=False, language=\"ja\", word_timestamps=True, logprob_threshold=0, no_speech_threshold=0.4, compression_ratio_threshold=2.6)\n",
        "    asr_result.append(_result)"
      ],
      "metadata": {
        "id": "v-IhvxuSHL72"
      },
      "execution_count": null,
      "outputs": []
    },
    {
      "cell_type": "code",
      "source": [
        "_seg = []\n",
        "for spk, res in enumerate(asr_result):\n",
        "    for seg in res['segments']:\n",
        "        _seg.append([seg['start'], seg['end'], seg['text'], f'speaker_{format(spk, \"02\") }'])\n",
        "#_seg = []\n",
        "#for spk, res in enumerate(asr_result):\n",
        "#    for seg in res.segments:\n",
        "#        _seg.append([seg.start, seg.end, seg.text, f'speaker_{format(spk, \"02\") }'])"
      ],
      "metadata": {
        "id": "e-ve0CjbIy0q"
      },
      "execution_count": null,
      "outputs": []
    },
    {
      "cell_type": "code",
      "source": [
        "segments_sorted = sorted(_seg, key=lambda x:(x[0], x[1]))"
      ],
      "metadata": {
        "id": "BhIidIwe7kwi"
      },
      "execution_count": null,
      "outputs": []
    },
    {
      "cell_type": "code",
      "source": [
        "characters = get_speaker_monitor(asr_result, segments_sorted, video_paths)\n",
        "print(characters)"
      ],
      "metadata": {
        "id": "IhxE59xwwZx1"
      },
      "execution_count": null,
      "outputs": []
    },
    {
      "cell_type": "code",
      "source": [
        "InterReview_json = {\"movie_name\": interview_video_name}\n",
        "speak_json = []\n",
        "for start, end, text, speaker in segments_sorted:\n",
        "    _speak = {\"start\": f'{start:.2f}s', \"end\": f'{end:.2f}s', 'speaker': characters[speaker]['character'], 'speak': text}\n",
        "    speak_json.append(_speak)\n",
        "InterReview_json['InterReview'] = speak_json\n",
        "\n",
        "with open('./' + interview_json_name, 'w', encoding='utf-8') as f:\n",
        "    json.dump(InterReview_json, f, indent=4, ensure_ascii=False)"
      ],
      "metadata": {
        "id": "Q3H660Ljx-XY"
      },
      "execution_count": null,
      "outputs": []
    },
    {
      "cell_type": "code",
      "source": [
        "video_part = ['']  * len(characters)\n",
        "cnt = 1\n",
        "for c, char in enumerate(characters):\n",
        "    if characters[char]['character'] == 'モニター':\n",
        "        #video_part[0] = video[c]\n",
        "        video_part[0] = characters[char]['video_path']\n",
        "    else:\n",
        "        #video_part[cnt] = video[c]\n",
        "        video_part[cnt] = characters[char]['video_path']\n",
        "        cnt += 1"
      ],
      "metadata": {
        "id": "lR1jYPl1XeNG"
      },
      "execution_count": null,
      "outputs": []
    },
    {
      "cell_type": "code",
      "source": [
        "#w,h = moviesize = video_part[0].size\n",
        "main_w, main_h = moviesize = VideoFileClip(video_part[0]).size\n",
        "wipe_w = 128\n",
        "wipe_h = 72\n",
        "wipe_margin_right = 4\n",
        "wipe_margin_top = 4"
      ],
      "metadata": {
        "id": "A560gy3thpzF"
      },
      "execution_count": null,
      "outputs": []
    },
    {
      "cell_type": "code",
      "source": [
        "#################### moviepy は出力が遅いので ffmpeg-python を利用\n",
        "\n",
        "#comp_mp4 = [video_part[0]]\n",
        "#for v in range(len(video_part) - 1):\n",
        "#    _wipe = (video_part[v + 1].\n",
        "#            resize((wipe_w, wipe_h)).\n",
        "#            margin(top=wipe_margin_top, right=wipe_margin_right, opacity=0).\n",
        "#            set_pos((main_w - wipe_w - wipe_margin_right, wipe_h * 0 + wipe_margin_right * 1)) )\n",
        "#    comp_mp4.append(_wipe)"
      ],
      "metadata": {
        "id": "hnK4Qe3jb17_"
      },
      "execution_count": null,
      "outputs": []
    },
    {
      "cell_type": "code",
      "source": [
        "#################### moviepy は出力が遅いので ffmpeg-python を利用\n",
        "#audio_clip = AudioFileClip(interview_audio_name)\n",
        "\n",
        "#combined_clip = CompositeVideoClip(comp_mp4)\n",
        "#combined_clip = combined_clip.set_audio(audio_clip)\n",
        "\n",
        "#wav_clips = []\n",
        "#for w_path in wav_paths:\n",
        "#    print(w_path)\n",
        "#    wav_clip = AudioFileClip(w_path)\n",
        "#    wav_clip.set_fps(44100)\n",
        "#    wav_clips.append(wav_clip)\n",
        "#composite_audio = CompositeAudioClip(wav_clips)\n",
        "#composite_audio.write_audiofile('./' + interview_audio_name, ffmpeg_params=[\"-ac\", \"1\"])"
      ],
      "metadata": {
        "id": "B4hVkFNWoxwE"
      },
      "execution_count": null,
      "outputs": []
    },
    {
      "cell_type": "code",
      "source": [
        "#################### moviepy は出力が遅いので ffmpeg-python を利用\n",
        "\n",
        "#combined_clip.write_videofile(interview_vido_name, fps=30, audio_codec = 'aac')"
      ],
      "metadata": {
        "id": "KyqTxNMbc-Gx"
      },
      "execution_count": null,
      "outputs": []
    },
    {
      "cell_type": "code",
      "source": [
        "comp_wav = AudioSegment.from_file(wav_paths[0])\n",
        "for w in range(len(wav_paths) - 1):\n",
        "    orver_wav = AudioSegment.from_file(wav_paths[w + 1])\n",
        "    comp_wav = comp_wav.overlay(orver_wav, position=0)\n",
        "comp_wav.export(interview_audio_name, format=\"wav\")"
      ],
      "metadata": {
        "id": "KjcjvU_049HE"
      },
      "execution_count": null,
      "outputs": []
    },
    {
      "cell_type": "code",
      "source": [
        "voice = ffmpeg.input(interview_audio_name)\n",
        "\n",
        "video_clip = []\n",
        "for part in video_part:\n",
        "    _clop = ffmpeg.input(part)\n",
        "    video_clip.append(_clop)\n",
        "\n",
        "sub_scaled = []\n",
        "for c, clip in enumerate(video_clip):\n",
        "    if c == 0: continue\n",
        "    _scaled = clip.filter('scale', wipe_w, wipe_h)\n",
        "    sub_scaled.append(_scaled)\n",
        "\n",
        "orverlay = []\n",
        "for s, scl in enumerate(sub_scaled):\n",
        "    if s == 0:\n",
        "        sub1 = video_clip[0]\n",
        "        sub1 = sub1.filter('fps', fps=24, round='up')\n",
        "    else:\n",
        "        sub1 = orverlay[s - 1]\n",
        "    sub2 = scl\n",
        "    _orverlay = ffmpeg.overlay(sub1, sub2, x=(main_w - wipe_w - wipe_margin_right), y=(wipe_h * s + wipe_margin_top * (s + 1)) )\n",
        "    orverlay.append(_orverlay)\n",
        "\n",
        "output = ffmpeg.output(\n",
        "    orverlay[len(orverlay) - 1], voice.audio,\n",
        "    interview_video_name,\n",
        "    vcodec='libx264', acodec='aac', audio_bitrate='192k', preset='fast'\n",
        ")\n",
        "\n",
        "output = output.overwrite_output()\n"
      ],
      "metadata": {
        "id": "_pfG_4F6Lvk1"
      },
      "execution_count": null,
      "outputs": []
    },
    {
      "cell_type": "code",
      "source": [
        "try:\n",
        "    ffmpeg.run(output, capture_stderr=True, capture_stdout=True)\n",
        "except ffmpeg.Error as e:\n",
        "    print(f\"標準エラー{e.stderr.decode()}\")\n",
        "    print(f\"標準出力: {e.stdout.decode()}\")"
      ],
      "metadata": {
        "id": "Q7yCG-fo5aS2"
      },
      "execution_count": null,
      "outputs": []
    },
    {
      "cell_type": "code",
      "source": [
        "'''\n",
        "# 入力映像と音声ファイルの設定\n",
        "main = ffmpeg.input('ee93aa2994411ebff28d459c4711228b_1731555758981__uid_s_907719631__uid_e_video.webm')\n",
        "sub1 = ffmpeg.input('ee93aa2994411ebff28d459c4711228b_1731555758981__uid_s_462504175__uid_e_video.m3u8')\n",
        "sub2 = ffmpeg.input('ee93aa2994411ebff28d459c4711228b_1731555758981__uid_s_369679075__uid_e_video.m3u8')\n",
        "audio = ffmpeg.input('ee93aa2994411ebff28d459c4711228b_1731555758981.wav')\n",
        "\n",
        "# サブ映像のリサイズ\n",
        "sub1_scaled = sub1.filter('scale', wipe_w, wipe_h)\n",
        "sub2_scaled = sub2.filter('scale', wipe_w, wipe_h)\n",
        "\n",
        "# サブ映像1を右下にオーバーレイ\n",
        "overlay1 = ffmpeg.overlay(main, sub1_scaled, x=(main_w - wipe_w - wipe_margin_right), y=(wipe_h * 0 + wipe_margin_top * (0 + 1)))\n",
        "\n",
        "# サブ映像2を左上にオーバーレイ\n",
        "overlay2 = ffmpeg.overlay(overlay1, sub2_scaled, x=(main_w - wipe_w - wipe_margin_right), y=(wipe_h * s + wipe_margin_top * (1 + 1)))\n",
        "\n",
        "# 映像ストリームを取得\n",
        "#video_stream = overlay2.video\n",
        "\n",
        "# メイン映像の音声ストリームを取得\n",
        "#main_audio = main.audio\n",
        "\n",
        "# 音声のミックス（メイン映像の音声と外部音声をミックス）\n",
        "#mixed_audio = ffmpeg.filter([main_audio, audio], 'amix', inputs=2, duration='longest')\n",
        "\n",
        "# 映像と音声を結合して出力\n",
        "output = ffmpeg.output(\n",
        "    overlay2, audio.audio,\n",
        "    interview_video_name,\n",
        "    vcodec='libx264', acodec='aac', audio_bitrate='192k', preset='fast'\n",
        ")\n",
        "output = output.overwrite_output()\n",
        "\n",
        "# 実行\n",
        "ffmpeg.run(output)\n",
        "'''"
      ],
      "metadata": {
        "id": "kXqb5LJzPnVS"
      },
      "execution_count": null,
      "outputs": []
    }
  ]
}