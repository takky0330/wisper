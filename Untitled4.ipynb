{
  "nbformat": 4,
  "nbformat_minor": 0,
  "metadata": {
    "colab": {
      "provenance": [],
      "machine_shape": "hm",
      "gpuType": "A100",
      "authorship_tag": "ABX9TyPXJO9OCPeEJcu1z+kGYWX6",
      "include_colab_link": true
    },
    "kernelspec": {
      "name": "python3",
      "display_name": "Python 3"
    },
    "language_info": {
      "name": "python"
    },
    "accelerator": "GPU"
  },
  "cells": [
    {
      "cell_type": "markdown",
      "metadata": {
        "id": "view-in-github",
        "colab_type": "text"
      },
      "source": [
        "<a href=\"https://colab.research.google.com/github/takky0330/wisper/blob/main/Untitled4.ipynb\" target=\"_parent\"><img src=\"https://colab.research.google.com/assets/colab-badge.svg\" alt=\"Open In Colab\"/></a>"
      ]
    },
    {
      "cell_type": "code",
      "execution_count": 1,
      "metadata": {
        "id": "fV1atOVMdDMw"
      },
      "outputs": [],
      "source": [
        "import transformers"
      ]
    },
    {
      "cell_type": "code",
      "source": [
        "pipeline = transformers.pipeline(\n",
        "    \"text-generation\",\n",
        "    model=\"microsoft/phi-4\",\n",
        "    model_kwargs={\"torch_dtype\": \"auto\"},\n",
        "    device_map=\"auto\",\n",
        ")"
      ],
      "metadata": {
        "id": "59RVYw1jdEnL"
      },
      "execution_count": null,
      "outputs": []
    },
    {
      "cell_type": "code",
      "source": [
        "messages = [\n",
        "    {\"role\": \"system\", \"content\": \"あなたは優秀な体育の先生です。\"},\n",
        "    {\"role\": \"user\", \"content\": \"逆上がりが上手になるアドバイスをしてください。\"},\n",
        "]"
      ],
      "metadata": {
        "id": "2FqjIYt3iBh1"
      },
      "execution_count": 17,
      "outputs": []
    },
    {
      "cell_type": "code",
      "source": [
        "outputs = pipeline(messages, max_new_tokens=1024)"
      ],
      "metadata": {
        "id": "9zz75TlVdN3k"
      },
      "execution_count": 23,
      "outputs": []
    },
    {
      "cell_type": "code",
      "source": [
        "outputs[0][\"generated_text\"][-1]"
      ],
      "metadata": {
        "colab": {
          "base_uri": "https://localhost:8080/"
        },
        "id": "mUzG0ygag5R_",
        "outputId": "3146cf9f-5b4d-405d-b38d-1f6e04d95533"
      },
      "execution_count": 24,
      "outputs": [
        {
          "output_type": "execute_result",
          "data": {
            "text/plain": [
              "{'role': 'assistant',\n",
              " 'content': '逆上がりは、バランス感覚や体幹の強化に役立つ素晴らしいスキルです。以下のステップを参考にして、逆上がりが上手になるためのアドバイスをいくつか紹介します。\\n\\n### 1. 基礎体力と筋力の強化\\n- **体幹トレーニング**: プランクやサイドプランクを行い、体幹を強化します。\\n- **腕立て伏せ**: 上半身の筋力をつけるために、腕立て伏せを練習します。\\n- **腹筋**: 腹筋を鍛えることで、体を安定させる力をつけましょう。\\n\\n### 2. バランス感覚の向上\\n- **片足立ち**: 両足を揃えて立ち、片足ずつバランスを取る練習をします。\\n- **バランスボード**: バランスボードや安定板を使って、バランス感覚を養います。\\n\\n### 3. 逆上がりの基本ステップ\\n- **手すりを使った練習**: 手すりやバーを使って、逆上がりの基本動作を練習します。\\n  - 手をバーにつけ、足を持ち上げて逆さまになります。\\n  - 体を回転させ、足をバーにつけて立ち上がります。\\n\\n### 4. 逆上がりの練習方法\\n- **ステップ1: 手すりを使う**  \\n  手すりに片手をつけ、もう一方の手をバーにつけます。体を回転させ、足をバーにつけて立ち上がります。\\n\\n- **ステップ2: 両手を使う**  \\n  両手をバーにつけ、体を回転させます。足をバーにつけて立ち上がる練習をします。\\n\\n- **ステップ3: 手すりなしでの練習**  \\n  手すりを使わずに、バーだけを使って逆上がりを練習します。最初は手すりに近づいて練習し、徐々に離れていきます。\\n\\n### 5. 安全に注意\\n- **安全な環境**: 硬い地面ではなく、クッション性のあるマットの上で練習しましょう。\\n- **大人のサポート**: 初めての練習では、大人が近くで見守り、必要に応じてサポートしてください。\\n\\n### 6. 忍耐と継続\\n- **練習の継続**: 逆上がりは練習を重ねることで上達します。焦らずに毎日少しずつ練習を続けましょう。\\n- **成功体験を積む**: 小さな成功を積み重ねることで、自信がつきます。\\n\\nこれらのステップを実践しながら、自分のペースで進めていくことが大切です。逆上がりが上手になると、自信もついてきますよ！'}"
            ]
          },
          "metadata": {},
          "execution_count": 24
        }
      ]
    }
  ]
}