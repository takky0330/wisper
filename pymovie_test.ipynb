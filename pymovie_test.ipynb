{
  "nbformat": 4,
  "nbformat_minor": 0,
  "metadata": {
    "colab": {
      "provenance": [],
      "machine_shape": "hm",
      "mount_file_id": "https://github.com/takky0330/wisper/blob/main/pymovie_test.ipynb",
      "authorship_tag": "ABX9TyPsLCBl1pfE/h4TJIGAk4nQ",
      "include_colab_link": true
    },
    "kernelspec": {
      "name": "python3",
      "display_name": "Python 3"
    },
    "language_info": {
      "name": "python"
    }
  },
  "cells": [
    {
      "cell_type": "markdown",
      "metadata": {
        "id": "view-in-github",
        "colab_type": "text"
      },
      "source": [
        "<a href=\"https://colab.research.google.com/github/takky0330/wisper/blob/main/pymovie_test.ipynb\" target=\"_parent\"><img src=\"https://colab.research.google.com/assets/colab-badge.svg\" alt=\"Open In Colab\"/></a>"
      ]
    },
    {
      "cell_type": "code",
      "source": [
        "!pip install moviepy"
      ],
      "metadata": {
        "id": "iLJk39Pl9X3I",
        "outputId": "473ca09b-46ca-4dd3-f5e8-632b5fe3df6e",
        "colab": {
          "base_uri": "https://localhost:8080/"
        }
      },
      "execution_count": 1,
      "outputs": [
        {
          "output_type": "stream",
          "name": "stdout",
          "text": [
            "Requirement already satisfied: moviepy in /usr/local/lib/python3.10/dist-packages (1.0.3)\n",
            "Requirement already satisfied: decorator<5.0,>=4.0.2 in /usr/local/lib/python3.10/dist-packages (from moviepy) (4.4.2)\n",
            "Requirement already satisfied: tqdm<5.0,>=4.11.2 in /usr/local/lib/python3.10/dist-packages (from moviepy) (4.66.5)\n",
            "Requirement already satisfied: requests<3.0,>=2.8.1 in /usr/local/lib/python3.10/dist-packages (from moviepy) (2.32.3)\n",
            "Requirement already satisfied: proglog<=1.0.0 in /usr/local/lib/python3.10/dist-packages (from moviepy) (0.1.10)\n",
            "Requirement already satisfied: numpy>=1.17.3 in /usr/local/lib/python3.10/dist-packages (from moviepy) (1.26.4)\n",
            "Requirement already satisfied: imageio<3.0,>=2.5 in /usr/local/lib/python3.10/dist-packages (from moviepy) (2.35.1)\n",
            "Requirement already satisfied: imageio-ffmpeg>=0.2.0 in /usr/local/lib/python3.10/dist-packages (from moviepy) (0.5.1)\n",
            "Requirement already satisfied: pillow>=8.3.2 in /usr/local/lib/python3.10/dist-packages (from imageio<3.0,>=2.5->moviepy) (10.4.0)\n",
            "Requirement already satisfied: setuptools in /usr/local/lib/python3.10/dist-packages (from imageio-ffmpeg>=0.2.0->moviepy) (75.1.0)\n",
            "Requirement already satisfied: charset-normalizer<4,>=2 in /usr/local/lib/python3.10/dist-packages (from requests<3.0,>=2.8.1->moviepy) (3.4.0)\n",
            "Requirement already satisfied: idna<4,>=2.5 in /usr/local/lib/python3.10/dist-packages (from requests<3.0,>=2.8.1->moviepy) (3.10)\n",
            "Requirement already satisfied: urllib3<3,>=1.21.1 in /usr/local/lib/python3.10/dist-packages (from requests<3.0,>=2.8.1->moviepy) (2.2.3)\n",
            "Requirement already satisfied: certifi>=2017.4.17 in /usr/local/lib/python3.10/dist-packages (from requests<3.0,>=2.8.1->moviepy) (2024.8.30)\n"
          ]
        }
      ]
    },
    {
      "cell_type": "code",
      "source": [
        "from moviepy.editor import VideoFileClip\n",
        "from moviepy.editor import AudioFileClip\n",
        "from moviepy.editor import CompositeVideoClip"
      ],
      "metadata": {
        "id": "on77oE6iI-VG"
      },
      "execution_count": 2,
      "outputs": []
    },
    {
      "cell_type": "code",
      "source": [
        "!cp ./drive/MyDrive/InterviewZero_2.mp4 ./"
      ],
      "metadata": {
        "id": "2VoHifd_IZVf"
      },
      "execution_count": 3,
      "outputs": []
    },
    {
      "cell_type": "code",
      "source": [
        "video_path = \"./InterviewZero_2.mp4\"\n",
        "audio_path = '.'.join(video_path.split('.')[:-1]) + '.wav'\n",
        "silent_path = '.'.join(video_path.split('.')[:-1]) + '_silent.mp4'\n",
        "wipe_path = silent_path\n",
        "combined_path = '.'.join(video_path.split('.')[:-1]) + '_combined.mp4'"
      ],
      "metadata": {
        "id": "u6s-guDAP5QK"
      },
      "execution_count": 4,
      "outputs": []
    },
    {
      "cell_type": "code",
      "source": [
        "video = VideoFileClip(video_path)\n",
        "video.audio.write_audiofile(audio_path, ffmpeg_params=[\"-ac\", \"1\"])  #モノラルで出力"
      ],
      "metadata": {
        "id": "3JW5DgVSK5AU",
        "outputId": "5b880779-d8bd-4f03-b0fb-c6c94b6ee621",
        "colab": {
          "base_uri": "https://localhost:8080/"
        }
      },
      "execution_count": 5,
      "outputs": [
        {
          "output_type": "stream",
          "name": "stdout",
          "text": [
            "MoviePy - Writing audio in ./InterviewZero_2.wav\n"
          ]
        },
        {
          "output_type": "stream",
          "name": "stderr",
          "text": [
            "                                                                        "
          ]
        },
        {
          "output_type": "stream",
          "name": "stdout",
          "text": [
            "MoviePy - Done.\n"
          ]
        },
        {
          "output_type": "stream",
          "name": "stderr",
          "text": [
            "\r"
          ]
        }
      ]
    },
    {
      "cell_type": "code",
      "source": [
        "video.write_videofile(silent_path, audio=False)"
      ],
      "metadata": {
        "id": "5HRNWb_ZTiTY",
        "colab": {
          "base_uri": "https://localhost:8080/"
        },
        "outputId": "a8231c30-eef7-488d-be49-1572bbda1b08"
      },
      "execution_count": 6,
      "outputs": [
        {
          "output_type": "stream",
          "name": "stdout",
          "text": [
            "Moviepy - Building video ./InterviewZero_2_silent.mp4.\n",
            "Moviepy - Writing video ./InterviewZero_2_silent.mp4\n",
            "\n"
          ]
        },
        {
          "output_type": "stream",
          "name": "stderr",
          "text": [
            "t: 100%|█████████▉| 52384/52410 [01:46<00:00, 492.82it/s, now=None]WARNING:py.warnings:/usr/local/lib/python3.10/dist-packages/moviepy/video/io/ffmpeg_reader.py:123: UserWarning: Warning: in file ./InterviewZero_2.mp4, 691200 bytes wanted but 0 bytes read,at frame 52398/52410, at time 3454.05/3454.82 sec. Using the last valid frame instead.\n",
            "  warnings.warn(\"Warning: in file %s, \"%(self.filename)+\n",
            "\n",
            "WARNING:py.warnings:/usr/local/lib/python3.10/dist-packages/moviepy/video/io/ffmpeg_reader.py:123: UserWarning: Warning: in file ./InterviewZero_2.mp4, 691200 bytes wanted but 0 bytes read,at frame 52399/52410, at time 3454.12/3454.82 sec. Using the last valid frame instead.\n",
            "  warnings.warn(\"Warning: in file %s, \"%(self.filename)+\n",
            "\n",
            "WARNING:py.warnings:/usr/local/lib/python3.10/dist-packages/moviepy/video/io/ffmpeg_reader.py:123: UserWarning: Warning: in file ./InterviewZero_2.mp4, 691200 bytes wanted but 0 bytes read,at frame 52400/52410, at time 3454.19/3454.82 sec. Using the last valid frame instead.\n",
            "  warnings.warn(\"Warning: in file %s, \"%(self.filename)+\n",
            "\n",
            "WARNING:py.warnings:/usr/local/lib/python3.10/dist-packages/moviepy/video/io/ffmpeg_reader.py:123: UserWarning: Warning: in file ./InterviewZero_2.mp4, 691200 bytes wanted but 0 bytes read,at frame 52401/52410, at time 3454.25/3454.82 sec. Using the last valid frame instead.\n",
            "  warnings.warn(\"Warning: in file %s, \"%(self.filename)+\n",
            "\n",
            "WARNING:py.warnings:/usr/local/lib/python3.10/dist-packages/moviepy/video/io/ffmpeg_reader.py:123: UserWarning: Warning: in file ./InterviewZero_2.mp4, 691200 bytes wanted but 0 bytes read,at frame 52402/52410, at time 3454.32/3454.82 sec. Using the last valid frame instead.\n",
            "  warnings.warn(\"Warning: in file %s, \"%(self.filename)+\n",
            "\n",
            "WARNING:py.warnings:/usr/local/lib/python3.10/dist-packages/moviepy/video/io/ffmpeg_reader.py:123: UserWarning: Warning: in file ./InterviewZero_2.mp4, 691200 bytes wanted but 0 bytes read,at frame 52403/52410, at time 3454.38/3454.82 sec. Using the last valid frame instead.\n",
            "  warnings.warn(\"Warning: in file %s, \"%(self.filename)+\n",
            "\n",
            "WARNING:py.warnings:/usr/local/lib/python3.10/dist-packages/moviepy/video/io/ffmpeg_reader.py:123: UserWarning: Warning: in file ./InterviewZero_2.mp4, 691200 bytes wanted but 0 bytes read,at frame 52404/52410, at time 3454.45/3454.82 sec. Using the last valid frame instead.\n",
            "  warnings.warn(\"Warning: in file %s, \"%(self.filename)+\n",
            "\n",
            "WARNING:py.warnings:/usr/local/lib/python3.10/dist-packages/moviepy/video/io/ffmpeg_reader.py:123: UserWarning: Warning: in file ./InterviewZero_2.mp4, 691200 bytes wanted but 0 bytes read,at frame 52405/52410, at time 3454.52/3454.82 sec. Using the last valid frame instead.\n",
            "  warnings.warn(\"Warning: in file %s, \"%(self.filename)+\n",
            "\n",
            "WARNING:py.warnings:/usr/local/lib/python3.10/dist-packages/moviepy/video/io/ffmpeg_reader.py:123: UserWarning: Warning: in file ./InterviewZero_2.mp4, 691200 bytes wanted but 0 bytes read,at frame 52406/52410, at time 3454.58/3454.82 sec. Using the last valid frame instead.\n",
            "  warnings.warn(\"Warning: in file %s, \"%(self.filename)+\n",
            "\n",
            "WARNING:py.warnings:/usr/local/lib/python3.10/dist-packages/moviepy/video/io/ffmpeg_reader.py:123: UserWarning: Warning: in file ./InterviewZero_2.mp4, 691200 bytes wanted but 0 bytes read,at frame 52407/52410, at time 3454.65/3454.82 sec. Using the last valid frame instead.\n",
            "  warnings.warn(\"Warning: in file %s, \"%(self.filename)+\n",
            "\n",
            "WARNING:py.warnings:/usr/local/lib/python3.10/dist-packages/moviepy/video/io/ffmpeg_reader.py:123: UserWarning: Warning: in file ./InterviewZero_2.mp4, 691200 bytes wanted but 0 bytes read,at frame 52408/52410, at time 3454.71/3454.82 sec. Using the last valid frame instead.\n",
            "  warnings.warn(\"Warning: in file %s, \"%(self.filename)+\n",
            "\n",
            "WARNING:py.warnings:/usr/local/lib/python3.10/dist-packages/moviepy/video/io/ffmpeg_reader.py:123: UserWarning: Warning: in file ./InterviewZero_2.mp4, 691200 bytes wanted but 0 bytes read,at frame 52409/52410, at time 3454.78/3454.82 sec. Using the last valid frame instead.\n",
            "  warnings.warn(\"Warning: in file %s, \"%(self.filename)+\n",
            "\n"
          ]
        },
        {
          "output_type": "stream",
          "name": "stdout",
          "text": [
            "Moviepy - Done !\n",
            "Moviepy - video ready ./InterviewZero_2_silent.mp4\n"
          ]
        }
      ]
    },
    {
      "cell_type": "code",
      "source": [
        "silent_video = VideoFileClip(silent_path)"
      ],
      "metadata": {
        "id": "4ADUyexlNtiP"
      },
      "execution_count": 7,
      "outputs": []
    },
    {
      "cell_type": "code",
      "source": [
        "w,h = moviesize = silent_video.size#動画サイズを取得"
      ],
      "metadata": {
        "id": "zC81dt8QKmSc"
      },
      "execution_count": 8,
      "outputs": []
    },
    {
      "cell_type": "code",
      "source": [
        "wipe_video1 = VideoFileClip(wipe_path)\n",
        "wipe_video2 = VideoFileClip(wipe_path)"
      ],
      "metadata": {
        "id": "89llPVdtKsbA"
      },
      "execution_count": 15,
      "outputs": []
    },
    {
      "cell_type": "code",
      "source": [
        "wipe_w = 128\n",
        "wipe_h = 72\n",
        "wipe_margin_right = 4\n",
        "wipe_margin_top = 4\n",
        "wipe1 = (wipe_video1.\n",
        "        resize((wipe_w, wipe_h)).\n",
        "        margin(top=wipe_margin_top, right=wipe_margin_right, opacity=0).\n",
        "        set_pos((w - wipe_w - wipe_margin_right, wipe_h * 0 + wipe_margin_right * 1)) )\n",
        "wipe2 = (wipe_video2.\n",
        "        resize((wipe_w, wipe_h)).\n",
        "        margin(top=wipe_margin_top, right=wipe_margin_right, opacity=0).\n",
        "        set_pos((w - wipe_w - wipe_margin_right, wipe_h * 1 + wipe_margin_right * 2)) )"
      ],
      "metadata": {
        "id": "d2ZG5R-ZLYr6"
      },
      "execution_count": 16,
      "outputs": []
    },
    {
      "cell_type": "code",
      "source": [
        "combined_clip = CompositeVideoClip([silent_video, wipe1, wipe2])"
      ],
      "metadata": {
        "id": "E8TfpWdINcFv"
      },
      "execution_count": 17,
      "outputs": []
    },
    {
      "cell_type": "code",
      "source": [
        "audio_clip = AudioFileClip(audio_path)\n",
        "combined_clip = combined_clip.set_audio(audio_clip)"
      ],
      "metadata": {
        "id": "OuQ5-qKmPEDW"
      },
      "execution_count": 18,
      "outputs": []
    },
    {
      "cell_type": "code",
      "source": [
        "combined_clip.write_videofile(combined_path, fps=30, audio_codec = 'aac')"
      ],
      "metadata": {
        "colab": {
          "base_uri": "https://localhost:8080/"
        },
        "id": "ayAeiB8VOesZ",
        "outputId": "94fef795-bd6f-4c63-be05-7d07d9e90149"
      },
      "execution_count": 19,
      "outputs": [
        {
          "output_type": "stream",
          "name": "stdout",
          "text": [
            "Moviepy - Building video ./InterviewZero_2_combined.mp4.\n",
            "MoviePy - Writing audio in InterviewZero_2_combinedTEMP_MPY_wvf_snd.mp4\n"
          ]
        },
        {
          "output_type": "stream",
          "name": "stderr",
          "text": []
        },
        {
          "output_type": "stream",
          "name": "stdout",
          "text": [
            "MoviePy - Done.\n",
            "Moviepy - Writing video ./InterviewZero_2_combined.mp4\n",
            "\n"
          ]
        },
        {
          "output_type": "stream",
          "name": "stderr",
          "text": []
        },
        {
          "output_type": "stream",
          "name": "stdout",
          "text": [
            "Moviepy - Done !\n",
            "Moviepy - video ready ./InterviewZero_2_combined.mp4\n"
          ]
        }
      ]
    },
    {
      "cell_type": "code",
      "source": [
        "!ls -alh"
      ],
      "metadata": {
        "colab": {
          "base_uri": "https://localhost:8080/"
        },
        "id": "yzAgQ53oQ7uF",
        "outputId": "155fd37e-0f42-4a6f-ee86-c4c1d6865b70"
      },
      "execution_count": 20,
      "outputs": [
        {
          "output_type": "stream",
          "name": "stdout",
          "text": [
            "total 595M\n",
            "drwxr-xr-x 1 root root 4.0K Oct 25 17:42 .\n",
            "drwxr-xr-x 1 root root 4.0K Oct 25 15:47 ..\n",
            "drwxr-xr-x 4 root root 4.0K Oct 23 13:21 .config\n",
            "drwx------ 7 root root 4.0K Oct 25 16:00 drive\n",
            "-rw-r--r-- 1 root root 105M Oct 25 17:42 InterviewZero_2_combined.mp4\n",
            "-rw------- 1 root root 152M Oct 25 17:19 InterviewZero_2.mp4\n",
            "-rw-r--r-- 1 root root  48M Oct 25 17:22 InterviewZero_2_silent.mp4\n",
            "-rw-r--r-- 1 root root 291M Oct 25 17:20 InterviewZero_2.wav\n",
            "drwxr-xr-x 1 root root 4.0K Oct 23 13:21 sample_data\n"
          ]
        }
      ]
    }
  ]
}