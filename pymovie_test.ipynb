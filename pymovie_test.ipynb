{
  "nbformat": 4,
  "nbformat_minor": 0,
  "metadata": {
    "colab": {
      "provenance": [],
      "machine_shape": "hm",
      "mount_file_id": "https://github.com/takky0330/wisper/blob/main/pymovie_test.ipynb",
      "authorship_tag": "ABX9TyMfdUBIgwveEaIq6bEO0QFP",
      "include_colab_link": true
    },
    "kernelspec": {
      "name": "python3",
      "display_name": "Python 3"
    },
    "language_info": {
      "name": "python"
    }
  },
  "cells": [
    {
      "cell_type": "markdown",
      "metadata": {
        "id": "view-in-github",
        "colab_type": "text"
      },
      "source": [
        "<a href=\"https://colab.research.google.com/github/takky0330/wisper/blob/main/pymovie_test.ipynb\" target=\"_parent\"><img src=\"https://colab.research.google.com/assets/colab-badge.svg\" alt=\"Open In Colab\"/></a>"
      ]
    },
    {
      "cell_type": "code",
      "source": [
        "!pip install moviepy"
      ],
      "metadata": {
        "id": "iLJk39Pl9X3I"
      },
      "execution_count": null,
      "outputs": []
    },
    {
      "cell_type": "code",
      "source": [
        "from moviepy.editor import VideoFileClip\n",
        "from moviepy.editor import AudioFileClip\n",
        "from moviepy.editor import CompositeVideoClip"
      ],
      "metadata": {
        "id": "on77oE6iI-VG"
      },
      "execution_count": null,
      "outputs": []
    },
    {
      "cell_type": "code",
      "source": [
        "!cp ./drive/MyDrive/InterviewZero_2.mp4 ./"
      ],
      "metadata": {
        "id": "2VoHifd_IZVf"
      },
      "execution_count": 3,
      "outputs": []
    },
    {
      "cell_type": "code",
      "source": [
        "video_path = \"./InterviewZero_2.mp4\"\n",
        "audio_path = '.'.join(video_path.split('.')[:-1]) + '.wav'\n",
        "silent_path = '.'.join(video_path.split('.')[:-1]) + '_silent.mp4'\n",
        "wipe_path = silent_path\n",
        "combined_path = '.'.join(video_path.split('.')[:-1]) + '_combined.mp4'"
      ],
      "metadata": {
        "id": "u6s-guDAP5QK"
      },
      "execution_count": 4,
      "outputs": []
    },
    {
      "cell_type": "code",
      "source": [
        "video = VideoFileClip(video_path)\n",
        "video.audio.write_audiofile(audio_path, ffmpeg_params=[\"-ac\", \"1\"])  #モノラルで出力"
      ],
      "metadata": {
        "id": "3JW5DgVSK5AU"
      },
      "execution_count": null,
      "outputs": []
    },
    {
      "cell_type": "code",
      "source": [
        "video.write_videofile(silent_path, audio=False)"
      ],
      "metadata": {
        "id": "5HRNWb_ZTiTY"
      },
      "execution_count": null,
      "outputs": []
    },
    {
      "cell_type": "code",
      "source": [
        "silent_video = VideoFileClip(silent_path)"
      ],
      "metadata": {
        "id": "4ADUyexlNtiP"
      },
      "execution_count": 7,
      "outputs": []
    },
    {
      "cell_type": "code",
      "source": [
        "w,h = moviesize = silent_video.size#動画サイズを取得"
      ],
      "metadata": {
        "id": "zC81dt8QKmSc"
      },
      "execution_count": 8,
      "outputs": []
    },
    {
      "cell_type": "code",
      "source": [
        "wipe_video = VideoFileClip(wipe_path)"
      ],
      "metadata": {
        "id": "89llPVdtKsbA"
      },
      "execution_count": 9,
      "outputs": []
    },
    {
      "cell_type": "code",
      "source": [
        "wipe_w = 128\n",
        "wipe_h = 72\n",
        "wipe_margin_right = 4\n",
        "wipe_margin_top = 4\n",
        "#wipe = (wipe_video.\n",
        "#        resize((wipe_w, wipe_h)).\n",
        "#        margin( 6,color=(255,255,255)).\n",
        "#        margin( top = wipe_margin_top, right = wipe_margin_right, opacity = 0).\n",
        "#        set_pos((w - wipe_w - wipe_margin_right, wipe_margin_right)) )\n",
        "wipe = (wipe_video.\n",
        "        resize((wipe_w, wipe_h)).\n",
        "        margin(top=wipe_margin_top, right=wipe_margin_right, opacity=0).\n",
        "        set_pos((w - wipe_w - wipe_margin_right, wipe_h * 0 + wipe_margin_right)) )"
      ],
      "metadata": {
        "id": "d2ZG5R-ZLYr6"
      },
      "execution_count": 35,
      "outputs": []
    },
    {
      "cell_type": "code",
      "source": [
        "combined_clip = CompositeVideoClip([silent_video, wipe])"
      ],
      "metadata": {
        "id": "E8TfpWdINcFv"
      },
      "execution_count": 37,
      "outputs": []
    },
    {
      "cell_type": "code",
      "source": [
        "audio_clip = AudioFileClip(audio_path)\n",
        "combined_clip = combined_clip.set_audio(audio_clip)"
      ],
      "metadata": {
        "id": "OuQ5-qKmPEDW"
      },
      "execution_count": 38,
      "outputs": []
    },
    {
      "cell_type": "code",
      "source": [
        "combined_clip.write_videofile(combined_path, fps=30, audio_codec = 'aac')"
      ],
      "metadata": {
        "id": "ayAeiB8VOesZ"
      },
      "execution_count": null,
      "outputs": []
    },
    {
      "cell_type": "code",
      "source": [
        "!ls -alh"
      ],
      "metadata": {
        "id": "yzAgQ53oQ7uF"
      },
      "execution_count": null,
      "outputs": []
    }
  ]
}