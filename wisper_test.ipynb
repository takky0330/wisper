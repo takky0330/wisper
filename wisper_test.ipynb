{
  "nbformat": 4,
  "nbformat_minor": 0,
  "metadata": {
    "colab": {
      "provenance": [],
      "authorship_tag": "ABX9TyNey2ukAxSq0WIz594SjAav",
      "include_colab_link": true
    },
    "kernelspec": {
      "name": "python3",
      "display_name": "Python 3"
    },
    "language_info": {
      "name": "python"
    }
  },
  "cells": [
    {
      "cell_type": "markdown",
      "metadata": {
        "id": "view-in-github",
        "colab_type": "text"
      },
      "source": [
        "<a href=\"https://colab.research.google.com/github/takky0330/wisper/blob/main/wisper_test.ipynb\" target=\"_parent\"><img src=\"https://colab.research.google.com/assets/colab-badge.svg\" alt=\"Open In Colab\"/></a>"
      ]
    },
    {
      "cell_type": "code",
      "source": [
        "!pip install moviepy pyannote-audio"
      ],
      "metadata": {
        "id": "lhxBgonIP5PW",
        "outputId": "7d3ad6a9-e907-4cf1-b605-64576c3b8555",
        "colab": {
          "base_uri": "https://localhost:8080/"
        }
      },
      "execution_count": 1,
      "outputs": [
        {
          "output_type": "stream",
          "name": "stdout",
          "text": [
            "Requirement already satisfied: moviepy in /usr/local/lib/python3.10/dist-packages (1.0.3)\n",
            "Requirement already satisfied: pyannote-audio in /usr/local/lib/python3.10/dist-packages (3.3.2)\n",
            "Requirement already satisfied: decorator<5.0,>=4.0.2 in /usr/local/lib/python3.10/dist-packages (from moviepy) (4.4.2)\n",
            "Requirement already satisfied: tqdm<5.0,>=4.11.2 in /usr/local/lib/python3.10/dist-packages (from moviepy) (4.66.5)\n",
            "Requirement already satisfied: requests<3.0,>=2.8.1 in /usr/local/lib/python3.10/dist-packages (from moviepy) (2.32.3)\n",
            "Requirement already satisfied: proglog<=1.0.0 in /usr/local/lib/python3.10/dist-packages (from moviepy) (0.1.10)\n",
            "Requirement already satisfied: numpy>=1.17.3 in /usr/local/lib/python3.10/dist-packages (from moviepy) (1.26.4)\n",
            "Requirement already satisfied: imageio<3.0,>=2.5 in /usr/local/lib/python3.10/dist-packages (from moviepy) (2.34.2)\n",
            "Requirement already satisfied: imageio-ffmpeg>=0.2.0 in /usr/local/lib/python3.10/dist-packages (from moviepy) (0.5.1)\n",
            "Requirement already satisfied: asteroid-filterbanks>=0.4 in /usr/local/lib/python3.10/dist-packages (from pyannote-audio) (0.4.0)\n",
            "Requirement already satisfied: einops>=0.6.0 in /usr/local/lib/python3.10/dist-packages (from pyannote-audio) (0.8.0)\n",
            "Requirement already satisfied: huggingface-hub>=0.13.0 in /usr/local/lib/python3.10/dist-packages (from pyannote-audio) (0.24.6)\n",
            "Requirement already satisfied: lightning>=2.0.1 in /usr/local/lib/python3.10/dist-packages (from pyannote-audio) (2.4.0)\n",
            "Requirement already satisfied: omegaconf<3.0,>=2.1 in /usr/local/lib/python3.10/dist-packages (from pyannote-audio) (2.3.0)\n",
            "Requirement already satisfied: pyannote.core>=5.0.0 in /usr/local/lib/python3.10/dist-packages (from pyannote-audio) (5.0.0)\n",
            "Requirement already satisfied: pyannote.database>=5.0.1 in /usr/local/lib/python3.10/dist-packages (from pyannote-audio) (5.1.0)\n",
            "Requirement already satisfied: pyannote.metrics>=3.2 in /usr/local/lib/python3.10/dist-packages (from pyannote-audio) (3.2.1)\n",
            "Requirement already satisfied: pyannote.pipeline>=3.0.1 in /usr/local/lib/python3.10/dist-packages (from pyannote-audio) (3.0.1)\n",
            "Requirement already satisfied: pytorch-metric-learning>=2.1.0 in /usr/local/lib/python3.10/dist-packages (from pyannote-audio) (2.6.0)\n",
            "Requirement already satisfied: rich>=12.0.0 in /usr/local/lib/python3.10/dist-packages (from pyannote-audio) (13.8.1)\n",
            "Requirement already satisfied: semver>=3.0.0 in /usr/local/lib/python3.10/dist-packages (from pyannote-audio) (3.0.2)\n",
            "Requirement already satisfied: soundfile>=0.12.1 in /usr/local/lib/python3.10/dist-packages (from pyannote-audio) (0.12.1)\n",
            "Requirement already satisfied: speechbrain>=1.0.0 in /usr/local/lib/python3.10/dist-packages (from pyannote-audio) (1.0.1)\n",
            "Requirement already satisfied: tensorboardX>=2.6 in /usr/local/lib/python3.10/dist-packages (from pyannote-audio) (2.6.2.2)\n",
            "Requirement already satisfied: torch>=2.0.0 in /usr/local/lib/python3.10/dist-packages (from pyannote-audio) (2.4.0+cu121)\n",
            "Requirement already satisfied: torch-audiomentations>=0.11.0 in /usr/local/lib/python3.10/dist-packages (from pyannote-audio) (0.11.1)\n",
            "Requirement already satisfied: torchaudio>=2.2.0 in /usr/local/lib/python3.10/dist-packages (from pyannote-audio) (2.4.0+cu121)\n",
            "Requirement already satisfied: torchmetrics>=0.11.0 in /usr/local/lib/python3.10/dist-packages (from pyannote-audio) (1.4.2)\n",
            "Requirement already satisfied: typing-extensions in /usr/local/lib/python3.10/dist-packages (from asteroid-filterbanks>=0.4->pyannote-audio) (4.12.2)\n",
            "Requirement already satisfied: filelock in /usr/local/lib/python3.10/dist-packages (from huggingface-hub>=0.13.0->pyannote-audio) (3.16.0)\n",
            "Requirement already satisfied: fsspec>=2023.5.0 in /usr/local/lib/python3.10/dist-packages (from huggingface-hub>=0.13.0->pyannote-audio) (2024.6.1)\n",
            "Requirement already satisfied: packaging>=20.9 in /usr/local/lib/python3.10/dist-packages (from huggingface-hub>=0.13.0->pyannote-audio) (24.1)\n",
            "Requirement already satisfied: pyyaml>=5.1 in /usr/local/lib/python3.10/dist-packages (from huggingface-hub>=0.13.0->pyannote-audio) (6.0.2)\n",
            "Requirement already satisfied: pillow>=8.3.2 in /usr/local/lib/python3.10/dist-packages (from imageio<3.0,>=2.5->moviepy) (9.4.0)\n",
            "Requirement already satisfied: setuptools in /usr/local/lib/python3.10/dist-packages (from imageio-ffmpeg>=0.2.0->moviepy) (71.0.4)\n",
            "Requirement already satisfied: lightning-utilities<2.0,>=0.10.0 in /usr/local/lib/python3.10/dist-packages (from lightning>=2.0.1->pyannote-audio) (0.11.7)\n",
            "Requirement already satisfied: pytorch-lightning in /usr/local/lib/python3.10/dist-packages (from lightning>=2.0.1->pyannote-audio) (2.4.0)\n",
            "Requirement already satisfied: antlr4-python3-runtime==4.9.* in /usr/local/lib/python3.10/dist-packages (from omegaconf<3.0,>=2.1->pyannote-audio) (4.9.3)\n",
            "Requirement already satisfied: sortedcontainers>=2.0.4 in /usr/local/lib/python3.10/dist-packages (from pyannote.core>=5.0.0->pyannote-audio) (2.4.0)\n",
            "Requirement already satisfied: scipy>=1.1 in /usr/local/lib/python3.10/dist-packages (from pyannote.core>=5.0.0->pyannote-audio) (1.13.1)\n",
            "Requirement already satisfied: pandas>=0.19 in /usr/local/lib/python3.10/dist-packages (from pyannote.database>=5.0.1->pyannote-audio) (2.1.4)\n",
            "Requirement already satisfied: typer>=0.12.1 in /usr/local/lib/python3.10/dist-packages (from pyannote.database>=5.0.1->pyannote-audio) (0.12.5)\n",
            "Requirement already satisfied: scikit-learn>=0.17.1 in /usr/local/lib/python3.10/dist-packages (from pyannote.metrics>=3.2->pyannote-audio) (1.3.2)\n",
            "Requirement already satisfied: docopt>=0.6.2 in /usr/local/lib/python3.10/dist-packages (from pyannote.metrics>=3.2->pyannote-audio) (0.6.2)\n",
            "Requirement already satisfied: tabulate>=0.7.7 in /usr/local/lib/python3.10/dist-packages (from pyannote.metrics>=3.2->pyannote-audio) (0.9.0)\n",
            "Requirement already satisfied: matplotlib>=2.0.0 in /usr/local/lib/python3.10/dist-packages (from pyannote.metrics>=3.2->pyannote-audio) (3.7.1)\n",
            "Requirement already satisfied: sympy>=1.1 in /usr/local/lib/python3.10/dist-packages (from pyannote.metrics>=3.2->pyannote-audio) (1.13.2)\n",
            "Requirement already satisfied: optuna>=3.1 in /usr/local/lib/python3.10/dist-packages (from pyannote.pipeline>=3.0.1->pyannote-audio) (4.0.0)\n",
            "Requirement already satisfied: charset-normalizer<4,>=2 in /usr/local/lib/python3.10/dist-packages (from requests<3.0,>=2.8.1->moviepy) (3.3.2)\n",
            "Requirement already satisfied: idna<4,>=2.5 in /usr/local/lib/python3.10/dist-packages (from requests<3.0,>=2.8.1->moviepy) (3.8)\n",
            "Requirement already satisfied: urllib3<3,>=1.21.1 in /usr/local/lib/python3.10/dist-packages (from requests<3.0,>=2.8.1->moviepy) (2.0.7)\n",
            "Requirement already satisfied: certifi>=2017.4.17 in /usr/local/lib/python3.10/dist-packages (from requests<3.0,>=2.8.1->moviepy) (2024.8.30)\n",
            "Requirement already satisfied: markdown-it-py>=2.2.0 in /usr/local/lib/python3.10/dist-packages (from rich>=12.0.0->pyannote-audio) (3.0.0)\n",
            "Requirement already satisfied: pygments<3.0.0,>=2.13.0 in /usr/local/lib/python3.10/dist-packages (from rich>=12.0.0->pyannote-audio) (2.16.1)\n",
            "Requirement already satisfied: cffi>=1.0 in /usr/local/lib/python3.10/dist-packages (from soundfile>=0.12.1->pyannote-audio) (1.17.1)\n",
            "Requirement already satisfied: hyperpyyaml in /usr/local/lib/python3.10/dist-packages (from speechbrain>=1.0.0->pyannote-audio) (1.2.2)\n",
            "Requirement already satisfied: joblib in /usr/local/lib/python3.10/dist-packages (from speechbrain>=1.0.0->pyannote-audio) (1.4.2)\n",
            "Requirement already satisfied: sentencepiece in /usr/local/lib/python3.10/dist-packages (from speechbrain>=1.0.0->pyannote-audio) (0.1.99)\n",
            "Requirement already satisfied: protobuf>=3.20 in /usr/local/lib/python3.10/dist-packages (from tensorboardX>=2.6->pyannote-audio) (3.20.3)\n",
            "Requirement already satisfied: networkx in /usr/local/lib/python3.10/dist-packages (from torch>=2.0.0->pyannote-audio) (3.3)\n",
            "Requirement already satisfied: jinja2 in /usr/local/lib/python3.10/dist-packages (from torch>=2.0.0->pyannote-audio) (3.1.4)\n",
            "Requirement already satisfied: julius<0.3,>=0.2.3 in /usr/local/lib/python3.10/dist-packages (from torch-audiomentations>=0.11.0->pyannote-audio) (0.2.7)\n",
            "Requirement already satisfied: librosa>=0.6.0 in /usr/local/lib/python3.10/dist-packages (from torch-audiomentations>=0.11.0->pyannote-audio) (0.10.2.post1)\n",
            "Requirement already satisfied: torch-pitch-shift>=1.2.2 in /usr/local/lib/python3.10/dist-packages (from torch-audiomentations>=0.11.0->pyannote-audio) (1.2.4)\n",
            "Requirement already satisfied: pycparser in /usr/local/lib/python3.10/dist-packages (from cffi>=1.0->soundfile>=0.12.1->pyannote-audio) (2.22)\n",
            "Requirement already satisfied: aiohttp!=4.0.0a0,!=4.0.0a1 in /usr/local/lib/python3.10/dist-packages (from fsspec[http]<2026.0,>=2022.5.0->lightning>=2.0.1->pyannote-audio) (3.10.5)\n",
            "Requirement already satisfied: audioread>=2.1.9 in /usr/local/lib/python3.10/dist-packages (from librosa>=0.6.0->torch-audiomentations>=0.11.0->pyannote-audio) (3.0.1)\n",
            "Requirement already satisfied: numba>=0.51.0 in /usr/local/lib/python3.10/dist-packages (from librosa>=0.6.0->torch-audiomentations>=0.11.0->pyannote-audio) (0.60.0)\n",
            "Requirement already satisfied: pooch>=1.1 in /usr/local/lib/python3.10/dist-packages (from librosa>=0.6.0->torch-audiomentations>=0.11.0->pyannote-audio) (1.8.2)\n",
            "Requirement already satisfied: soxr>=0.3.2 in /usr/local/lib/python3.10/dist-packages (from librosa>=0.6.0->torch-audiomentations>=0.11.0->pyannote-audio) (0.5.0.post1)\n",
            "Requirement already satisfied: lazy-loader>=0.1 in /usr/local/lib/python3.10/dist-packages (from librosa>=0.6.0->torch-audiomentations>=0.11.0->pyannote-audio) (0.4)\n",
            "Requirement already satisfied: msgpack>=1.0 in /usr/local/lib/python3.10/dist-packages (from librosa>=0.6.0->torch-audiomentations>=0.11.0->pyannote-audio) (1.0.8)\n",
            "Requirement already satisfied: mdurl~=0.1 in /usr/local/lib/python3.10/dist-packages (from markdown-it-py>=2.2.0->rich>=12.0.0->pyannote-audio) (0.1.2)\n",
            "Requirement already satisfied: contourpy>=1.0.1 in /usr/local/lib/python3.10/dist-packages (from matplotlib>=2.0.0->pyannote.metrics>=3.2->pyannote-audio) (1.3.0)\n",
            "Requirement already satisfied: cycler>=0.10 in /usr/local/lib/python3.10/dist-packages (from matplotlib>=2.0.0->pyannote.metrics>=3.2->pyannote-audio) (0.12.1)\n",
            "Requirement already satisfied: fonttools>=4.22.0 in /usr/local/lib/python3.10/dist-packages (from matplotlib>=2.0.0->pyannote.metrics>=3.2->pyannote-audio) (4.53.1)\n",
            "Requirement already satisfied: kiwisolver>=1.0.1 in /usr/local/lib/python3.10/dist-packages (from matplotlib>=2.0.0->pyannote.metrics>=3.2->pyannote-audio) (1.4.7)\n",
            "Requirement already satisfied: pyparsing>=2.3.1 in /usr/local/lib/python3.10/dist-packages (from matplotlib>=2.0.0->pyannote.metrics>=3.2->pyannote-audio) (3.1.4)\n",
            "Requirement already satisfied: python-dateutil>=2.7 in /usr/local/lib/python3.10/dist-packages (from matplotlib>=2.0.0->pyannote.metrics>=3.2->pyannote-audio) (2.8.2)\n",
            "Requirement already satisfied: alembic>=1.5.0 in /usr/local/lib/python3.10/dist-packages (from optuna>=3.1->pyannote.pipeline>=3.0.1->pyannote-audio) (1.13.2)\n",
            "Requirement already satisfied: colorlog in /usr/local/lib/python3.10/dist-packages (from optuna>=3.1->pyannote.pipeline>=3.0.1->pyannote-audio) (6.8.2)\n",
            "Requirement already satisfied: sqlalchemy>=1.3.0 in /usr/local/lib/python3.10/dist-packages (from optuna>=3.1->pyannote.pipeline>=3.0.1->pyannote-audio) (2.0.34)\n",
            "Requirement already satisfied: pytz>=2020.1 in /usr/local/lib/python3.10/dist-packages (from pandas>=0.19->pyannote.database>=5.0.1->pyannote-audio) (2024.2)\n",
            "Requirement already satisfied: tzdata>=2022.1 in /usr/local/lib/python3.10/dist-packages (from pandas>=0.19->pyannote.database>=5.0.1->pyannote-audio) (2024.1)\n",
            "Requirement already satisfied: threadpoolctl>=2.0.0 in /usr/local/lib/python3.10/dist-packages (from scikit-learn>=0.17.1->pyannote.metrics>=3.2->pyannote-audio) (3.5.0)\n",
            "Requirement already satisfied: mpmath<1.4,>=1.1.0 in /usr/local/lib/python3.10/dist-packages (from sympy>=1.1->pyannote.metrics>=3.2->pyannote-audio) (1.3.0)\n",
            "Requirement already satisfied: primePy>=1.3 in /usr/local/lib/python3.10/dist-packages (from torch-pitch-shift>=1.2.2->torch-audiomentations>=0.11.0->pyannote-audio) (1.3)\n",
            "Requirement already satisfied: click>=8.0.0 in /usr/local/lib/python3.10/dist-packages (from typer>=0.12.1->pyannote.database>=5.0.1->pyannote-audio) (8.1.7)\n",
            "Requirement already satisfied: shellingham>=1.3.0 in /usr/local/lib/python3.10/dist-packages (from typer>=0.12.1->pyannote.database>=5.0.1->pyannote-audio) (1.5.4)\n",
            "Requirement already satisfied: ruamel.yaml>=0.17.28 in /usr/local/lib/python3.10/dist-packages (from hyperpyyaml->speechbrain>=1.0.0->pyannote-audio) (0.18.6)\n",
            "Requirement already satisfied: MarkupSafe>=2.0 in /usr/local/lib/python3.10/dist-packages (from jinja2->torch>=2.0.0->pyannote-audio) (2.1.5)\n",
            "Requirement already satisfied: aiohappyeyeballs>=2.3.0 in /usr/local/lib/python3.10/dist-packages (from aiohttp!=4.0.0a0,!=4.0.0a1->fsspec[http]<2026.0,>=2022.5.0->lightning>=2.0.1->pyannote-audio) (2.4.0)\n",
            "Requirement already satisfied: aiosignal>=1.1.2 in /usr/local/lib/python3.10/dist-packages (from aiohttp!=4.0.0a0,!=4.0.0a1->fsspec[http]<2026.0,>=2022.5.0->lightning>=2.0.1->pyannote-audio) (1.3.1)\n",
            "Requirement already satisfied: attrs>=17.3.0 in /usr/local/lib/python3.10/dist-packages (from aiohttp!=4.0.0a0,!=4.0.0a1->fsspec[http]<2026.0,>=2022.5.0->lightning>=2.0.1->pyannote-audio) (24.2.0)\n",
            "Requirement already satisfied: frozenlist>=1.1.1 in /usr/local/lib/python3.10/dist-packages (from aiohttp!=4.0.0a0,!=4.0.0a1->fsspec[http]<2026.0,>=2022.5.0->lightning>=2.0.1->pyannote-audio) (1.4.1)\n",
            "Requirement already satisfied: multidict<7.0,>=4.5 in /usr/local/lib/python3.10/dist-packages (from aiohttp!=4.0.0a0,!=4.0.0a1->fsspec[http]<2026.0,>=2022.5.0->lightning>=2.0.1->pyannote-audio) (6.1.0)\n",
            "Requirement already satisfied: yarl<2.0,>=1.0 in /usr/local/lib/python3.10/dist-packages (from aiohttp!=4.0.0a0,!=4.0.0a1->fsspec[http]<2026.0,>=2022.5.0->lightning>=2.0.1->pyannote-audio) (1.11.1)\n",
            "Requirement already satisfied: async-timeout<5.0,>=4.0 in /usr/local/lib/python3.10/dist-packages (from aiohttp!=4.0.0a0,!=4.0.0a1->fsspec[http]<2026.0,>=2022.5.0->lightning>=2.0.1->pyannote-audio) (4.0.3)\n",
            "Requirement already satisfied: Mako in /usr/local/lib/python3.10/dist-packages (from alembic>=1.5.0->optuna>=3.1->pyannote.pipeline>=3.0.1->pyannote-audio) (1.3.5)\n",
            "Requirement already satisfied: llvmlite<0.44,>=0.43.0dev0 in /usr/local/lib/python3.10/dist-packages (from numba>=0.51.0->librosa>=0.6.0->torch-audiomentations>=0.11.0->pyannote-audio) (0.43.0)\n",
            "Requirement already satisfied: platformdirs>=2.5.0 in /usr/local/lib/python3.10/dist-packages (from pooch>=1.1->librosa>=0.6.0->torch-audiomentations>=0.11.0->pyannote-audio) (4.3.2)\n",
            "Requirement already satisfied: six>=1.5 in /usr/local/lib/python3.10/dist-packages (from python-dateutil>=2.7->matplotlib>=2.0.0->pyannote.metrics>=3.2->pyannote-audio) (1.16.0)\n",
            "Requirement already satisfied: ruamel.yaml.clib>=0.2.7 in /usr/local/lib/python3.10/dist-packages (from ruamel.yaml>=0.17.28->hyperpyyaml->speechbrain>=1.0.0->pyannote-audio) (0.2.8)\n",
            "Requirement already satisfied: greenlet!=0.4.17 in /usr/local/lib/python3.10/dist-packages (from sqlalchemy>=1.3.0->optuna>=3.1->pyannote.pipeline>=3.0.1->pyannote-audio) (3.1.0)\n"
          ]
        }
      ]
    },
    {
      "cell_type": "code",
      "source": [
        "import numpy as np\n",
        "from pyannote.audio import Pipeline, Audio\n",
        "from pyannote.core import Segment\n",
        "from pyannote.audio.pipelines.speaker_verification import PretrainedSpeakerEmbedding"
      ],
      "metadata": {
        "id": "CJeWPXJFQjlN"
      },
      "execution_count": 2,
      "outputs": []
    },
    {
      "cell_type": "code",
      "source": [
        "!pip install moviepy"
      ],
      "metadata": {
        "id": "iLJk39Pl9X3I",
        "outputId": "bbdf34d3-55ea-4cf0-90c5-01986349a03f",
        "colab": {
          "base_uri": "https://localhost:8080/"
        }
      },
      "execution_count": 3,
      "outputs": [
        {
          "output_type": "stream",
          "name": "stdout",
          "text": [
            "Requirement already satisfied: moviepy in /usr/local/lib/python3.10/dist-packages (1.0.3)\n",
            "Requirement already satisfied: decorator<5.0,>=4.0.2 in /usr/local/lib/python3.10/dist-packages (from moviepy) (4.4.2)\n",
            "Requirement already satisfied: tqdm<5.0,>=4.11.2 in /usr/local/lib/python3.10/dist-packages (from moviepy) (4.66.5)\n",
            "Requirement already satisfied: requests<3.0,>=2.8.1 in /usr/local/lib/python3.10/dist-packages (from moviepy) (2.32.3)\n",
            "Requirement already satisfied: proglog<=1.0.0 in /usr/local/lib/python3.10/dist-packages (from moviepy) (0.1.10)\n",
            "Requirement already satisfied: numpy>=1.17.3 in /usr/local/lib/python3.10/dist-packages (from moviepy) (1.26.4)\n",
            "Requirement already satisfied: imageio<3.0,>=2.5 in /usr/local/lib/python3.10/dist-packages (from moviepy) (2.34.2)\n",
            "Requirement already satisfied: imageio-ffmpeg>=0.2.0 in /usr/local/lib/python3.10/dist-packages (from moviepy) (0.5.1)\n",
            "Requirement already satisfied: pillow>=8.3.2 in /usr/local/lib/python3.10/dist-packages (from imageio<3.0,>=2.5->moviepy) (9.4.0)\n",
            "Requirement already satisfied: setuptools in /usr/local/lib/python3.10/dist-packages (from imageio-ffmpeg>=0.2.0->moviepy) (71.0.4)\n",
            "Requirement already satisfied: charset-normalizer<4,>=2 in /usr/local/lib/python3.10/dist-packages (from requests<3.0,>=2.8.1->moviepy) (3.3.2)\n",
            "Requirement already satisfied: idna<4,>=2.5 in /usr/local/lib/python3.10/dist-packages (from requests<3.0,>=2.8.1->moviepy) (3.8)\n",
            "Requirement already satisfied: urllib3<3,>=1.21.1 in /usr/local/lib/python3.10/dist-packages (from requests<3.0,>=2.8.1->moviepy) (2.0.7)\n",
            "Requirement already satisfied: certifi>=2017.4.17 in /usr/local/lib/python3.10/dist-packages (from requests<3.0,>=2.8.1->moviepy) (2024.8.30)\n"
          ]
        }
      ]
    },
    {
      "cell_type": "code",
      "source": [
        "from moviepy.editor import VideoFileClip"
      ],
      "metadata": {
        "id": "FKtnurNW9mBM"
      },
      "execution_count": 4,
      "outputs": []
    },
    {
      "cell_type": "code",
      "source": [
        "video_path = \"./9d4fc932d442ef2ffb17d0a8086390e6_1725887318814_0.mp4\"\n",
        "audio_path = '.'.join(video_path.split('.')[:-1]) + '.wav'\n",
        "video = VideoFileClip(video_path)\n",
        "video.audio.write_audiofile(audio_path, ffmpeg_params=[\"-ac\", \"1\"])  #モノラルで出力"
      ],
      "metadata": {
        "id": "3JW5DgVSK5AU",
        "outputId": "2ecf7dbc-dd18-4eab-cbf8-2eabd91b95b0",
        "colab": {
          "base_uri": "https://localhost:8080/"
        }
      },
      "execution_count": 5,
      "outputs": [
        {
          "output_type": "stream",
          "name": "stdout",
          "text": [
            "MoviePy - Writing audio in ./9d4fc932d442ef2ffb17d0a8086390e6_1725887318814_0.wav\n"
          ]
        },
        {
          "output_type": "stream",
          "name": "stderr",
          "text": [
            "                                                                      "
          ]
        },
        {
          "output_type": "stream",
          "name": "stdout",
          "text": [
            "MoviePy - Done.\n"
          ]
        },
        {
          "output_type": "stream",
          "name": "stderr",
          "text": [
            "\r"
          ]
        }
      ]
    },
    {
      "cell_type": "code",
      "execution_count": 6,
      "metadata": {
        "id": "N_oGHqinTJxz",
        "outputId": "d9d32e84-820f-42c9-fff3-aa1accf2d4b8",
        "colab": {
          "base_uri": "https://localhost:8080/"
        }
      },
      "outputs": [
        {
          "output_type": "stream",
          "name": "stdout",
          "text": [
            "Collecting git+https://github.com/openai/whisper.git\n",
            "  Cloning https://github.com/openai/whisper.git to /tmp/pip-req-build-m9nem_1_\n",
            "  Running command git clone --filter=blob:none --quiet https://github.com/openai/whisper.git /tmp/pip-req-build-m9nem_1_\n",
            "  Resolved https://github.com/openai/whisper.git to commit 279133e3107392276dc509148da1f41bfb532c7e\n",
            "  Installing build dependencies ... \u001b[?25l\u001b[?25hdone\n",
            "  Getting requirements to build wheel ... \u001b[?25l\u001b[?25hdone\n",
            "  Preparing metadata (pyproject.toml) ... \u001b[?25l\u001b[?25hdone\n",
            "Requirement already satisfied: numba in /usr/local/lib/python3.10/dist-packages (from openai-whisper==20231117) (0.60.0)\n",
            "Requirement already satisfied: numpy in /usr/local/lib/python3.10/dist-packages (from openai-whisper==20231117) (1.26.4)\n",
            "Requirement already satisfied: torch in /usr/local/lib/python3.10/dist-packages (from openai-whisper==20231117) (2.4.0+cu121)\n",
            "Requirement already satisfied: tqdm in /usr/local/lib/python3.10/dist-packages (from openai-whisper==20231117) (4.66.5)\n",
            "Requirement already satisfied: more-itertools in /usr/local/lib/python3.10/dist-packages (from openai-whisper==20231117) (10.3.0)\n",
            "Requirement already satisfied: tiktoken in /usr/local/lib/python3.10/dist-packages (from openai-whisper==20231117) (0.7.0)\n",
            "Requirement already satisfied: triton>=2.0.0 in /usr/local/lib/python3.10/dist-packages (from openai-whisper==20231117) (3.0.0)\n",
            "Requirement already satisfied: filelock in /usr/local/lib/python3.10/dist-packages (from triton>=2.0.0->openai-whisper==20231117) (3.16.0)\n",
            "Requirement already satisfied: llvmlite<0.44,>=0.43.0dev0 in /usr/local/lib/python3.10/dist-packages (from numba->openai-whisper==20231117) (0.43.0)\n",
            "Requirement already satisfied: regex>=2022.1.18 in /usr/local/lib/python3.10/dist-packages (from tiktoken->openai-whisper==20231117) (2024.5.15)\n",
            "Requirement already satisfied: requests>=2.26.0 in /usr/local/lib/python3.10/dist-packages (from tiktoken->openai-whisper==20231117) (2.32.3)\n",
            "Requirement already satisfied: typing-extensions>=4.8.0 in /usr/local/lib/python3.10/dist-packages (from torch->openai-whisper==20231117) (4.12.2)\n",
            "Requirement already satisfied: sympy in /usr/local/lib/python3.10/dist-packages (from torch->openai-whisper==20231117) (1.13.2)\n",
            "Requirement already satisfied: networkx in /usr/local/lib/python3.10/dist-packages (from torch->openai-whisper==20231117) (3.3)\n",
            "Requirement already satisfied: jinja2 in /usr/local/lib/python3.10/dist-packages (from torch->openai-whisper==20231117) (3.1.4)\n",
            "Requirement already satisfied: fsspec in /usr/local/lib/python3.10/dist-packages (from torch->openai-whisper==20231117) (2024.6.1)\n",
            "Requirement already satisfied: charset-normalizer<4,>=2 in /usr/local/lib/python3.10/dist-packages (from requests>=2.26.0->tiktoken->openai-whisper==20231117) (3.3.2)\n",
            "Requirement already satisfied: idna<4,>=2.5 in /usr/local/lib/python3.10/dist-packages (from requests>=2.26.0->tiktoken->openai-whisper==20231117) (3.8)\n",
            "Requirement already satisfied: urllib3<3,>=1.21.1 in /usr/local/lib/python3.10/dist-packages (from requests>=2.26.0->tiktoken->openai-whisper==20231117) (2.0.7)\n",
            "Requirement already satisfied: certifi>=2017.4.17 in /usr/local/lib/python3.10/dist-packages (from requests>=2.26.0->tiktoken->openai-whisper==20231117) (2024.8.30)\n",
            "Requirement already satisfied: MarkupSafe>=2.0 in /usr/local/lib/python3.10/dist-packages (from jinja2->torch->openai-whisper==20231117) (2.1.5)\n",
            "Requirement already satisfied: mpmath<1.4,>=1.1.0 in /usr/local/lib/python3.10/dist-packages (from sympy->torch->openai-whisper==20231117) (1.3.0)\n"
          ]
        }
      ],
      "source": [
        "!pip install git+https://github.com/openai/whisper.git"
      ]
    },
    {
      "cell_type": "code",
      "source": [
        "import whisper\n",
        "import json, re"
      ],
      "metadata": {
        "id": "FBaUgrssTrus"
      },
      "execution_count": 7,
      "outputs": []
    },
    {
      "cell_type": "code",
      "source": [
        "model = whisper.load_model(\"small\")"
      ],
      "metadata": {
        "id": "2QjBu_ODTwRA"
      },
      "execution_count": 8,
      "outputs": []
    },
    {
      "cell_type": "code",
      "source": [
        "result = model.transcribe(audio_path, verbose=True, fp16=False, language=\"ja\")"
      ],
      "metadata": {
        "id": "Wc3OYeXGT3SC",
        "outputId": "8287b6ca-461a-4f70-b0f6-89122f87e38d",
        "colab": {
          "base_uri": "https://localhost:8080/"
        }
      },
      "execution_count": 18,
      "outputs": [
        {
          "output_type": "stream",
          "name": "stdout",
          "text": [
            "[00:00.000 --> 00:10.000] どうもこんにちは\n",
            "[00:10.000 --> 00:12.000] ありがとうございます\n",
            "[00:12.000 --> 00:19.000] ごめん 記者の時間いただきましてどうもありがとうございます\n",
            "[00:20.000 --> 00:22.000] おはよう\n",
            "[00:24.000 --> 00:29.000] では早速質問をさせていただきたいと思います\n",
            "[00:29.000 --> 00:31.000] ちょっとだけお願いします\n",
            "[00:31.000 --> 00:49.000] では早速なんですけれども\n",
            "[00:49.000 --> 00:55.000] まずフリーをどうでしたでしょうか\n",
            "[00:56.000 --> 01:02.000] 今ちょっと回線がフリーズして聞こえなかったんですけど\n",
            "[01:02.000 --> 01:07.000] フリーを導入されたのはいつ頃でしたでしょうか\n",
            "[01:07.000 --> 01:19.000] 今から6年前で2018年の4月ですね\n",
            "[01:19.000 --> 01:23.000] すごい そんな前からだったんですね\n",
            "[01:23.000 --> 01:25.000] はい\n",
            "[01:25.000 --> 01:31.000] その当時他の例えばクラウド会計のものとかって\n",
            "[01:31.000 --> 01:33.000] 検討されましたでしょうか\n",
            "[01:33.000 --> 01:41.000] マネーフォアードとフリーとどっちにしようかなという話はちょっと\n",
            "[01:41.000 --> 01:44.000] 私の中だけでありましたけども\n",
            "[01:45.000 --> 01:53.000] フリーの方がどうも私はその会計に詳しい人間ではないので\n",
            "[01:53.000 --> 02:03.000] 初心者向きだという話がちょっとしまったのレビューでありましたので\n",
            "[02:03.000 --> 02:08.000] じゃあフリーの方いいかなと思ってフリーにしました\n",
            "[02:09.000 --> 02:11.000] 少し出しました\n",
            "[02:11.000 --> 02:18.000] 価格とかはその時って検討されましたか企画というか\n",
            "[02:18.000 --> 02:25.000] あまり積極的に企画してないんですけど\n",
            "[02:25.000 --> 02:28.000] 一応フリーの方は\n",
            "[02:28.000 --> 02:30.000] いくらだったかな\n",
            "[02:30.000 --> 02:36.000] 1万2万弱という感じだったので\n",
            "[02:36.000 --> 02:41.000] それぐらいならいいかなと思ってそれにしました\n",
            "[02:41.000 --> 02:46.000] 2万弱というのは\n",
            "[02:46.000 --> 02:48.000] 月月がプレスかな\n",
            "[02:48.000 --> 02:50.000] 年間です\n",
            "[02:50.000 --> 02:52.000] 年間で\n",
            "[02:53.000 --> 02:55.000] 少ししました\n",
            "[02:55.000 --> 03:01.000] これ今使われているのは\n",
            "[03:04.000 --> 03:07.000] ご職業が自営業ってことだったんですけども\n",
            "[03:07.000 --> 03:10.000] ご自身でやっていらっしゃるビジネスにですかね\n",
            "[03:10.000 --> 03:12.000] そうですね\n",
            "[03:12.000 --> 03:18.000] 一応60歳で低年退職をしまして\n",
            "[03:19.000 --> 03:25.000] 会社に残るっていう選択肢もあったんですけど\n",
            "[03:25.000 --> 03:28.000] 給料が差があるのは分かってたので\n",
            "[03:28.000 --> 03:35.000] それぐらいだったら自分で個人事業の市になって\n",
            "[03:35.000 --> 03:47.000] 大体コンピュータシステム関係のサービス業を\n",
            "[03:47.000 --> 03:50.000] 会社でもやってましたので\n",
            "[03:50.000 --> 03:56.000] 同じような仕事を探せばいいかなと思ってやっております\n",
            "[03:56.000 --> 04:00.000] とりあえず\n",
            "[04:00.000 --> 04:02.000] それで一番のネックだったのが\n",
            "[04:02.000 --> 04:05.000] 個人事業の市になった時にネックだったのが\n",
            "[04:05.000 --> 04:08.000] 会計の農税ですよね\n",
            "[04:08.000 --> 04:13.000] 農税のこの辺の話っていうのが\n",
            "[04:14.000 --> 04:18.000] あまりほとんどやったことがなかったので\n",
            "[04:18.000 --> 04:23.000] 一応そういうクラウド会計ソフトがあれば\n",
            "[04:23.000 --> 04:28.000] その辺が楽できるかなと思って同意しました\n",
            "[04:31.000 --> 04:32.000] 生じ出しました\n",
            "[04:32.000 --> 04:36.000] 現在ってこれあの法人統計されてらっしゃいますか\n",
            "[04:36.000 --> 04:38.000] してません\n",
            "[04:38.000 --> 04:41.000] 個人事業の市のままです\n",
            "[04:41.000 --> 04:43.000] 個人事業の市なんですね\n",
            "[04:43.000 --> 04:44.000] 消除させました\n",
            "[04:44.000 --> 04:45.000] すいません\n",
            "[04:45.000 --> 04:51.000] ちょっと今回の面談の前提が法人だったので\n",
            "[04:51.000 --> 04:55.000] ちょっとそれも条件のところに入れていたんですけれども\n",
            "[04:55.000 --> 04:57.000] それは申し訳ない\n",
            "[04:57.000 --> 05:02.000] フリーもしくはMFのみ対象で導入して使用している\n",
            "[05:02.000 --> 05:05.000] ユーザーボシュートということだったので\n",
            "[05:06.000 --> 05:10.000] 法人縛りがあるとは知らなかったです\n",
            "[05:10.000 --> 05:11.000] ごめんなさい\n",
            "[05:11.000 --> 05:12.000] じゃあちょっと\n",
            "[05:12.000 --> 05:13.000] すいません\n",
            "[05:13.000 --> 05:15.000] 要件に合わないんだとは今回の話は\n",
            "[05:15.000 --> 05:18.000] キャンセルした方がよろしいでしょうか\n",
            "[05:20.000 --> 05:23.000] これ今からキャンセルってできるのかな\n",
            "[05:23.000 --> 05:24.000] 分かんないです\n",
            "[05:24.000 --> 05:25.000] ごめんなさい\n",
            "[05:25.000 --> 05:27.000] ちょっと\n",
            "[05:27.000 --> 05:28.000] そうですか\n",
            "[05:28.000 --> 05:30.000] ちょっと\n",
            "[05:30.000 --> 05:32.000] どうしたらいいのかな\n",
            "[05:32.000 --> 05:34.000] とりあえずいいです\n",
            "[05:34.000 --> 05:37.000] 報酬がなくても構いませんので\n",
            "[05:37.000 --> 05:39.000] 申し訳れません\n",
            "[05:39.000 --> 05:42.000] そちらの方で\n",
            "[05:42.000 --> 05:46.000] 納得いくまで一応みたくいただいて\n",
            "[05:46.000 --> 05:48.000] そうしましたら\n",
            "[05:48.000 --> 05:51.000] ちょっと一旦ここで終わらせていただいて\n",
            "[05:51.000 --> 05:53.000] マクロミルの方に\n",
            "[05:53.000 --> 05:56.000] ここはちょっとキャンセルという形にできるか\n",
            "[05:56.000 --> 06:01.000] というのはちょっと交渉していますので\n",
            "[06:01.000 --> 06:02.000] 申し訳れません\n",
            "[06:02.000 --> 06:04.000] お時間いただいたところ\n",
            "[06:04.000 --> 06:05.000] いい\n",
            "[06:05.000 --> 06:07.000] こちらご存知はよく言わないで\n",
            "[06:07.000 --> 06:08.000] すいません\n",
            "[06:08.000 --> 06:09.000] とんでもないです\n",
            "[06:09.000 --> 06:10.000] すいません\n",
            "[06:10.000 --> 06:11.000] どうもありがとうございました\n",
            "[06:11.000 --> 06:12.000] ありがとうございます\n",
            "[06:12.000 --> 06:14.000] 失礼いたします\n"
          ]
        }
      ]
    },
    {
      "cell_type": "code",
      "source": [
        "segments = result['segments']\n",
        "prog = re.compile('教えて|聞か|聞き|願い|ください|ですか|でしょうか|ましたか|されましたか|いつ頃')\n",
        "INTERVIEW = []\n",
        "for seg in segments:\n",
        "  count = len(prog.findall(seg['text']))\n",
        "  if count > 0: print(seg['text'])\n",
        "  _seg = {'start': seg['start'], 'end': seg['end'], 'text': seg['text'], 'count': count}\n",
        "  INTERVIEW.append(_seg)"
      ],
      "metadata": {
        "id": "aBB_x7vpf0az",
        "outputId": "f7d878ff-6e07-4441-c393-e743add2937e",
        "colab": {
          "base_uri": "https://localhost:8080/"
        }
      },
      "execution_count": 10,
      "outputs": [
        {
          "output_type": "stream",
          "name": "stdout",
          "text": [
            "ちょっとだけお願いします\n",
            "まずフリーをどうでしたでしょうか\n",
            "フリーを導入されたのはいつ頃でしたでしょうか\n",
            "検討されましたでしょうか\n",
            "価格とかはその時って検討されましたか企画というか\n",
            "ご自身でやっていらっしゃるビジネスにですかね\n",
            "キャンセルした方がよろしいでしょうか\n",
            "そうですか\n"
          ]
        }
      ]
    },
    {
      "cell_type": "code",
      "source": [
        "segments = result['segments']\n",
        "embedding_model = PretrainedSpeakerEmbedding(\"speechbrain/spkrec-ecapa-voxceleb\", device='cpu')\n",
        "embeddings = np.zeros(shape=(len(segments), 192))\n",
        "\n",
        "duration = video.duration\n",
        "embeddings = []\n",
        "\n",
        "\n",
        "for i, segment in enumerate(segments):\n",
        "    audio = Audio()\n",
        "    start = segment[\"start\"]\n",
        "    end = min(duration, segment[\"end\"])\n",
        "    clip = Segment(start, end)\n",
        "    waveform, sample_rate = audio.crop(audio_path, clip)\n",
        "    print(waveform[0])\n",
        "    _enbed = embedding_model(waveform[None])\n",
        "    #print(_enbed[0])\n",
        "    embeddings.append(_enbed[0])\n",
        "\n",
        "embeddings = np.nan_to_num(embeddings)\n"
      ],
      "metadata": {
        "id": "RJG9GjQwudiK",
        "outputId": "4c6cc471-5f8e-42d8-cd83-5ccb94caa3ae",
        "colab": {
          "base_uri": "https://localhost:8080/"
        }
      },
      "execution_count": 11,
      "outputs": [
        {
          "output_type": "stream",
          "name": "stdout",
          "text": [
            "tensor([ 0.0000,  0.0000,  0.0000,  ..., -0.0009, -0.0007, -0.0003])\n",
            "tensor([-0.0004, -0.0005, -0.0005,  ...,  0.0006,  0.0000, -0.0003])\n",
            "tensor([ 3.3569e-04,  6.1035e-05, -2.4414e-04,  ...,  2.7161e-03,\n",
            "         3.9673e-03,  5.0964e-03])\n",
            "tensor([-0.0007, -0.0009, -0.0014,  ..., -0.0003,  0.0004, -0.0014])\n",
            "tensor([-0.0002,  0.0006,  0.0005,  ..., -0.0003, -0.0002, -0.0005])\n",
            "tensor([ 0.0000e+00,  3.0518e-05, -4.8828e-04,  ..., -1.2207e-04,\n",
            "        -5.4932e-04, -8.5449e-04])\n",
            "tensor([-0.0004, -0.0005, -0.0005,  ...,  0.0202,  0.0183,  0.0204])\n",
            "tensor([2.3346e-02, 2.3987e-02, 2.5177e-02,  ..., 3.9673e-04, 0.0000e+00,\n",
            "        6.1035e-05])\n",
            "tensor([ 0.0003,  0.0003,  0.0005,  ..., -0.0002, -0.0003,  0.0004])\n",
            "tensor([ 1.2207e-04, -1.0071e-03,  9.1553e-05,  ...,  3.1616e-02,\n",
            "         3.3844e-02,  3.3813e-02])\n",
            "tensor([ 3.2440e-02,  3.1708e-02,  2.9846e-02,  ..., -9.1553e-05,\n",
            "        -9.1553e-05, -2.7466e-04])\n",
            "tensor([ 0.0002,  0.0004, -0.0004,  ..., -0.0027, -0.0026, -0.0029])\n",
            "tensor([-0.0037, -0.0023, -0.0014,  ..., -0.0005, -0.0004, -0.0005])\n",
            "tensor([-0.0003, -0.0002, -0.0005,  ..., -0.0198, -0.0220, -0.0240])\n",
            "tensor([-2.4872e-02, -2.4261e-02, -2.5543e-02,  ...,  9.1553e-05,\n",
            "        -1.5259e-04, -4.2725e-04])\n",
            "tensor([-0.0005,  0.0002,  0.0002,  ..., -0.0253, -0.0239, -0.0222])\n",
            "tensor([-0.0201, -0.0196, -0.0197,  ...,  0.0086,  0.0140,  0.0172])\n",
            "tensor([-4.5776e-04, -3.0518e-05, -3.0518e-05,  ...,  1.2817e-03,\n",
            "         1.1902e-03,  9.1553e-04])\n",
            "tensor([0.0008, 0.0009, 0.0008,  ..., 0.0052, 0.0050, 0.0078])\n",
            "tensor([ 0.0059,  0.0038,  0.0065,  ..., -0.0003,  0.0002,  0.0005])\n",
            "tensor([-5.1880e-04, -3.0518e-04, -6.1035e-05,  ..., -2.1362e-04,\n",
            "         4.5776e-04, -1.5259e-04])\n",
            "tensor([ 0.0004,  0.0008, -0.0002,  ..., -0.0005, -0.0009, -0.0005])\n",
            "tensor([-0.0002, -0.0005, -0.0004,  ...,  0.0003,  0.0002,  0.0006])\n",
            "tensor([ 0.0008, -0.0001, -0.0004,  ..., -0.0408,  0.0112,  0.0232])\n",
            "tensor([ 0.0188,  0.0228,  0.0116,  ...,  0.0023, -0.0105, -0.0088])\n",
            "tensor([ 3.2654e-03,  5.3711e-03,  6.8054e-03,  ...,  5.1880e-04,\n",
            "         4.5776e-04, -3.0518e-05])\n",
            "tensor([ 2.4414e-04,  2.1362e-04,  3.0518e-05,  ..., -1.0376e-03,\n",
            "        -2.0752e-03, -1.2512e-03])\n",
            "tensor([-0.0009, -0.0016, -0.0016,  ...,  0.0137,  0.0139,  0.0137])\n",
            "tensor([ 0.0157,  0.0163,  0.0158,  ..., -0.0005, -0.0005, -0.0002])\n",
            "tensor([-0.0003, -0.0007, -0.0003,  ..., -0.0578, -0.0590, -0.0617])\n",
            "tensor([-0.0637, -0.0652, -0.0685,  ..., -0.0008, -0.0008,  0.0011])\n",
            "tensor([-0.0002, -0.0002, -0.0002,  ...,  0.0000,  0.0002, -0.0003])\n",
            "tensor([-0.0006,  0.0007,  0.0004,  ...,  0.0002,  0.0005, -0.0006])\n",
            "tensor([3.0518e-04, 3.0518e-05, 0.0000e+00,  ..., 3.0518e-04, 1.2207e-03,\n",
            "        1.6479e-03])\n",
            "tensor([ 0.0002, -0.0006, -0.0004,  ..., -0.0009, -0.0002, -0.0001])\n",
            "tensor([-0.0002, -0.0002, -0.0002,  ...,  0.0549,  0.0576,  0.0600])\n",
            "tensor([ 0.0606,  0.0616,  0.0644,  ..., -0.0020, -0.0018, -0.0013])\n",
            "tensor([-0.0003,  0.0014, -0.0004,  ..., -0.0023, -0.0020, -0.0020])\n",
            "tensor([-0.0023, -0.0012, -0.0004,  ..., -0.0056, -0.0065, -0.0065])\n",
            "tensor([-6.0425e-03, -6.4087e-03, -5.8594e-03,  ...,  1.2512e-03,\n",
            "        -3.6621e-04, -9.1553e-05])\n",
            "tensor([ 0.0011,  0.0002, -0.0002,  ...,  0.0331,  0.0310,  0.0268])\n",
            "tensor([2.0660e-02, 1.7578e-02, 1.2787e-02,  ..., 3.0518e-05, 0.0000e+00,\n",
            "        1.2207e-04])\n",
            "tensor([ 0.0010,  0.0016,  0.0020,  ..., -0.0002, -0.0026,  0.0006])\n",
            "tensor([ 0.0009, -0.0002, -0.0034,  ...,  0.0212,  0.0208,  0.0182])\n",
            "tensor([0.0187, 0.0192, 0.0190,  ..., 0.0156, 0.0161, 0.0166])\n",
            "tensor([0.0160, 0.0158, 0.0155,  ..., 0.0065, 0.0067, 0.0065])\n",
            "tensor([ 0.0054,  0.0036,  0.0038,  ..., -0.0091, -0.0100, -0.0126])\n",
            "tensor([-0.0129, -0.0126, -0.0139,  ..., -0.0030, -0.0041, -0.0052])\n",
            "tensor([ 2.4414e-04,  1.1597e-03,  3.3569e-04,  ...,  2.4414e-04,\n",
            "        -3.0518e-05,  3.3569e-04])\n",
            "tensor([0.0008, 0.0005, 0.0002,  ..., 0.0222, 0.0243, 0.0243])\n",
            "tensor([ 2.5299e-02,  2.7130e-02,  2.5970e-02,  ...,  2.7466e-04,\n",
            "         2.1362e-04, -6.1035e-05])\n",
            "tensor([ 3.9673e-04, -3.9673e-04, -7.3242e-04,  ..., -1.7700e-03,\n",
            "        -6.1035e-05,  8.5449e-04])\n",
            "tensor([ 2.1362e-04,  9.1553e-04, -6.1035e-05,  ...,  4.7516e-02,\n",
            "         3.9001e-02,  2.7100e-02])\n",
            "tensor([ 1.3367e-02,  9.1553e-05, -1.2299e-02,  ...,  1.1786e-01,\n",
            "         1.1761e-01,  1.1639e-01])\n",
            "tensor([ 0.1165,  0.1215,  0.1347,  ..., -0.0037, -0.0059, -0.0068])\n",
            "tensor([-0.0057, -0.0067, -0.0066,  ...,  0.0004,  0.0008, -0.0008])\n",
            "tensor([-0.0013,  0.0012,  0.0012,  ...,  0.0138, -0.0473, -0.0619])\n",
            "tensor([ 0.0087,  0.0593,  0.0555,  ..., -0.1374, -0.1383, -0.1374])\n",
            "tensor([-0.1325, -0.1295, -0.1291,  ...,  0.0255,  0.0279,  0.0319])\n",
            "tensor([ 0.0364,  0.0393,  0.0415,  ..., -0.0002, -0.0004, -0.0004])\n",
            "tensor([-0.0008, -0.0008, -0.0004,  ..., -0.0009, -0.0009, -0.0002])\n",
            "tensor([ 0.0000, -0.0002, -0.0009,  ..., -0.0541, -0.0560, -0.0594])\n",
            "tensor([-0.0642, -0.0686, -0.0722,  ..., -0.0009, -0.0011, -0.0004])\n",
            "tensor([-0.1008, -0.1021, -0.1025,  ...,  0.0029,  0.0020,  0.0009])\n",
            "tensor([ 0.0007,  0.0006,  0.0018,  ..., -0.0010, -0.0007, -0.0012])\n",
            "tensor([-0.0016, -0.0011, -0.0009,  ..., -0.0447, -0.0446, -0.0444])\n",
            "tensor([-0.0422, -0.0401, -0.0390,  ..., -0.0761, -0.0715, -0.0692])\n",
            "tensor([-0.0658, -0.0636, -0.0670,  ..., -0.0280, -0.0137,  0.0011])\n",
            "tensor([ 0.0135,  0.0149,  0.0107,  ..., -0.0003,  0.0005,  0.0005])\n",
            "tensor([ 0.0464,  0.0435,  0.0376,  ...,  0.0003,  0.0003, -0.0004])\n",
            "tensor([-7.0190e-04, -9.1553e-05,  5.4932e-04,  ..., -8.3618e-03,\n",
            "        -8.4534e-03, -8.8501e-03])\n",
            "tensor([-0.0098, -0.0101, -0.0107,  ...,  0.0006,  0.0009,  0.0005])\n",
            "tensor([ 0.0003,  0.0003, -0.0008,  ..., -0.0364, -0.0391, -0.0404])\n",
            "tensor([-0.0412, -0.0425, -0.0434,  ..., -0.0876, -0.0644, -0.0479])\n",
            "tensor([ 0.0073,  0.0998,  0.1327,  ..., -0.0135, -0.0018,  0.0105])\n",
            "tensor([-0.0053, -0.0178,  0.0028,  ..., -0.0016, -0.0015, -0.0013])\n",
            "tensor([-0.0014, -0.0012, -0.0012,  ...,  0.1668,  0.1877,  0.2013])\n",
            "tensor([ 2.1121e-01,  2.1582e-01,  2.0425e-01,  ..., -3.3569e-04,\n",
            "        -6.7139e-04, -2.1362e-04])\n",
            "tensor([ 0.0002, -0.0007, -0.0011,  ...,  0.0842,  0.0829,  0.0826])\n",
            "tensor([ 0.0833,  0.0854,  0.0895,  ..., -0.0065, -0.0058, -0.0049])\n",
            "tensor([-6.2256e-03, -5.8594e-03, -4.2725e-03,  ..., -7.9346e-04,\n",
            "        -2.4414e-04,  3.0518e-05])\n",
            "tensor([-3.0518e-04, -3.0518e-05, -2.1362e-04,  ..., -1.5594e-02,\n",
            "        -1.7670e-02, -1.8219e-02])\n",
            "tensor([-0.0174, -0.0166, -0.0168,  ..., -0.0169, -0.0198, -0.0198])\n",
            "tensor([-0.0217, -0.0266, -0.0314,  ..., -0.0006,  0.0002, -0.0005])\n",
            "tensor([-0.0010,  0.0012,  0.0016,  ..., -0.0020, -0.0012, -0.0010])\n",
            "tensor([0.0000, 0.0012, 0.0016,  ..., 0.0010, 0.0002, 0.0002])\n",
            "tensor([0.0008, 0.0010, 0.0015,  ..., 0.0093, 0.0094, 0.0116])\n",
            "tensor([0.0111, 0.0096, 0.0106,  ..., 0.0003, 0.0010, 0.0006])\n",
            "tensor([ 0.0003,  0.0005,  0.0006,  ...,  0.0016, -0.0005,  0.0004])\n",
            "tensor([ 0.0012,  0.0004, -0.0003,  ...,  0.0034, -0.0154, -0.0140])\n",
            "tensor([ 0.0006, -0.0059, -0.0078,  ..., -0.0105, -0.0081, -0.0085])\n",
            "tensor([-0.0061, -0.0035, -0.0070,  ..., -0.0132, -0.0144, -0.0138])\n",
            "tensor([-0.0145, -0.0148, -0.0141,  ...,  0.0030,  0.0151,  0.0193])\n",
            "tensor([-0.0159, -0.0279, -0.0132,  ..., -0.0126,  0.0027,  0.0011])\n",
            "tensor([-0.0136, -0.0069,  0.0037,  ...,  0.0005,  0.0005,  0.0005])\n",
            "tensor([ 3.9673e-04, -3.0518e-05, -1.2207e-04,  ...,  2.7466e-04,\n",
            "         4.8828e-04,  9.1553e-05])\n"
          ]
        }
      ]
    },
    {
      "cell_type": "code",
      "source": [
        "from sklearn.cluster import AgglomerativeClustering\n",
        "speaker_count = 2"
      ],
      "metadata": {
        "id": "R0L5jb5VJQo2"
      },
      "execution_count": 12,
      "outputs": []
    },
    {
      "cell_type": "code",
      "source": [
        "len(embeddings)\n",
        "embeddings.shape"
      ],
      "metadata": {
        "id": "Hql5EsVeJx0-",
        "outputId": "8e006f9d-a4dd-471e-b702-90fe74b4b1be",
        "colab": {
          "base_uri": "https://localhost:8080/"
        }
      },
      "execution_count": 13,
      "outputs": [
        {
          "output_type": "execute_result",
          "data": {
            "text/plain": [
              "(96, 192)"
            ]
          },
          "metadata": {},
          "execution_count": 13
        }
      ]
    },
    {
      "cell_type": "code",
      "source": [
        "clustering_agg = AgglomerativeClustering(speaker_count).fit(embeddings)"
      ],
      "metadata": {
        "id": "Q6yQZfN-JbBB"
      },
      "execution_count": 24,
      "outputs": []
    },
    {
      "cell_type": "code",
      "source": [
        "labeled_segments = []\n",
        "for label, segment in zip(clustering_agg.labels_, result[\"segments\"]):\n",
        "    labeled_segments.append((label, segment[\"start\"], segment[\"text\"]))\n",
        "\n",
        "interivew = []\n",
        "print(INTERVIEW)\n",
        "for s, (speaker, _, text) in enumerate(labeled_segments):\n",
        "    stime = INTERVIEW[s][\"start\"]\n",
        "    interivew.append(f\"話者{speaker + 1} :  {stime} 〜 : 「{text}」\")"
      ],
      "metadata": {
        "id": "PN2Y1ZHfMhNd",
        "outputId": "7a875f72-58ff-46cb-c142-5919005fb35e",
        "colab": {
          "base_uri": "https://localhost:8080/"
        }
      },
      "execution_count": 25,
      "outputs": [
        {
          "output_type": "stream",
          "name": "stdout",
          "text": [
            "[{'start': 0.0, 'end': 10.0, 'text': 'どうもこんにちは', 'count': 0}, {'start': 10.0, 'end': 12.0, 'text': 'ありがとうございます', 'count': 0}, {'start': 12.0, 'end': 19.0, 'text': 'ごめん 記者の時間いただきましてどうもありがとうございます', 'count': 0}, {'start': 20.0, 'end': 22.0, 'text': 'おはよう', 'count': 0}, {'start': 24.0, 'end': 29.0, 'text': 'では早速質問をさせていただきたいと思います', 'count': 0}, {'start': 29.0, 'end': 31.0, 'text': 'ちょっとだけお願いします', 'count': 1}, {'start': 31.0, 'end': 49.0, 'text': 'では早速なんですけれども', 'count': 0}, {'start': 49.0, 'end': 55.0, 'text': 'まずフリーをどうでしたでしょうか', 'count': 1}, {'start': 56.0, 'end': 62.0, 'text': '今ちょっと回線がフリーズして聞こえなかったんですけど', 'count': 0}, {'start': 62.0, 'end': 67.0, 'text': 'フリーを導入されたのはいつ頃でしたでしょうか', 'count': 2}, {'start': 67.0, 'end': 79.0, 'text': '今から6年前で2018年の4月ですね', 'count': 0}, {'start': 79.0, 'end': 83.0, 'text': 'すごい そんな前からだったんですね', 'count': 0}, {'start': 83.0, 'end': 85.0, 'text': 'はい', 'count': 0}, {'start': 85.0, 'end': 91.0, 'text': 'その当時他の例えばクラウド会計のものとかって', 'count': 0}, {'start': 91.0, 'end': 93.0, 'text': '検討されましたでしょうか', 'count': 1}, {'start': 93.0, 'end': 101.0, 'text': 'マネーフォアードとフリーとどっちにしようかなという話はちょっと', 'count': 0}, {'start': 101.0, 'end': 104.0, 'text': '私の中だけでありましたけども', 'count': 0}, {'start': 105.0, 'end': 113.0, 'text': 'フリーの方がどうも私はその会計に詳しい人間ではないので', 'count': 0}, {'start': 113.0, 'end': 123.0, 'text': '初心者向きだという話がちょっとしまったのレビューでありましたので', 'count': 0}, {'start': 123.0, 'end': 128.0, 'text': 'じゃあフリーの方いいかなと思ってフリーにしました', 'count': 0}, {'start': 129.0, 'end': 131.0, 'text': '少し出しました', 'count': 0}, {'start': 131.0, 'end': 138.0, 'text': '価格とかはその時って検討されましたか企画というか', 'count': 1}, {'start': 138.0, 'end': 145.0, 'text': 'あまり積極的に企画してないんですけど', 'count': 0}, {'start': 145.0, 'end': 148.0, 'text': '一応フリーの方は', 'count': 0}, {'start': 148.0, 'end': 150.0, 'text': 'いくらだったかな', 'count': 0}, {'start': 150.0, 'end': 156.0, 'text': '1万2万弱という感じだったので', 'count': 0}, {'start': 156.0, 'end': 161.0, 'text': 'それぐらいならいいかなと思ってそれにしました', 'count': 0}, {'start': 161.0, 'end': 166.0, 'text': '2万弱というのは', 'count': 0}, {'start': 166.0, 'end': 168.0, 'text': '月月がプレスかな', 'count': 0}, {'start': 168.0, 'end': 170.0, 'text': '年間です', 'count': 0}, {'start': 170.0, 'end': 172.0, 'text': '年間で', 'count': 0}, {'start': 173.0, 'end': 175.0, 'text': '少ししました', 'count': 0}, {'start': 175.0, 'end': 181.0, 'text': 'これ今使われているのは', 'count': 0}, {'start': 184.0, 'end': 187.0, 'text': 'ご職業が自営業ってことだったんですけども', 'count': 0}, {'start': 187.0, 'end': 190.0, 'text': 'ご自身でやっていらっしゃるビジネスにですかね', 'count': 1}, {'start': 190.0, 'end': 192.0, 'text': 'そうですね', 'count': 0}, {'start': 192.0, 'end': 198.0, 'text': '一応60歳で低年退職をしまして', 'count': 0}, {'start': 199.0, 'end': 205.0, 'text': '会社に残るっていう選択肢もあったんですけど', 'count': 0}, {'start': 205.0, 'end': 208.0, 'text': '給料が差があるのは分かってたので', 'count': 0}, {'start': 208.0, 'end': 215.0, 'text': 'それぐらいだったら自分で個人事業の市になって', 'count': 0}, {'start': 215.0, 'end': 227.0, 'text': '大体コンピュータシステム関係のサービス業を', 'count': 0}, {'start': 227.0, 'end': 230.0, 'text': '会社でもやってましたので', 'count': 0}, {'start': 230.0, 'end': 236.0, 'text': '同じような仕事を探せばいいかなと思ってやっております', 'count': 0}, {'start': 236.0, 'end': 240.0, 'text': 'とりあえず', 'count': 0}, {'start': 240.0, 'end': 242.0, 'text': 'それで一番のネックだったのが', 'count': 0}, {'start': 242.0, 'end': 245.0, 'text': '個人事業の市になった時にネックだったのが', 'count': 0}, {'start': 245.0, 'end': 248.0, 'text': '会計の農税ですよね', 'count': 0}, {'start': 248.0, 'end': 253.0, 'text': '農税のこの辺の話っていうのが', 'count': 0}, {'start': 254.0, 'end': 258.0, 'text': 'あまりほとんどやったことがなかったので', 'count': 0}, {'start': 258.0, 'end': 263.0, 'text': '一応そういうクラウド会計ソフトがあれば', 'count': 0}, {'start': 263.0, 'end': 268.0, 'text': 'その辺が楽できるかなと思って同意しました', 'count': 0}, {'start': 271.0, 'end': 272.0, 'text': '生じ出しました', 'count': 0}, {'start': 272.0, 'end': 276.0, 'text': '現在ってこれあの法人統計されてらっしゃいますか', 'count': 0}, {'start': 276.0, 'end': 278.0, 'text': 'してません', 'count': 0}, {'start': 278.0, 'end': 281.0, 'text': '個人事業の市のままです', 'count': 0}, {'start': 281.0, 'end': 283.0, 'text': '個人事業の市なんですね', 'count': 0}, {'start': 283.0, 'end': 284.0, 'text': '消除させました', 'count': 0}, {'start': 284.0, 'end': 285.0, 'text': 'すいません', 'count': 0}, {'start': 285.0, 'end': 291.0, 'text': 'ちょっと今回の面談の前提が法人だったので', 'count': 0}, {'start': 291.0, 'end': 295.0, 'text': 'ちょっとそれも条件のところに入れていたんですけれども', 'count': 0}, {'start': 295.0, 'end': 297.0, 'text': 'それは申し訳ない', 'count': 0}, {'start': 297.0, 'end': 302.0, 'text': 'フリーもしくはMFのみ対象で導入して使用している', 'count': 0}, {'start': 302.0, 'end': 305.0, 'text': 'ユーザーボシュートということだったので', 'count': 0}, {'start': 306.0, 'end': 310.0, 'text': '法人縛りがあるとは知らなかったです', 'count': 0}, {'start': 310.0, 'end': 311.0, 'text': 'ごめんなさい', 'count': 0}, {'start': 311.0, 'end': 312.0, 'text': 'じゃあちょっと', 'count': 0}, {'start': 312.0, 'end': 313.0, 'text': 'すいません', 'count': 0}, {'start': 313.0, 'end': 315.0, 'text': '要件に合わないんだとは今回の話は', 'count': 0}, {'start': 315.0, 'end': 318.0, 'text': 'キャンセルした方がよろしいでしょうか', 'count': 1}, {'start': 320.0, 'end': 323.0, 'text': 'これ今からキャンセルってできるのかな', 'count': 0}, {'start': 323.0, 'end': 324.0, 'text': '分かんないです', 'count': 0}, {'start': 324.0, 'end': 325.0, 'text': 'ごめんなさい', 'count': 0}, {'start': 325.0, 'end': 327.0, 'text': 'ちょっと', 'count': 0}, {'start': 327.0, 'end': 328.0, 'text': 'そうですか', 'count': 1}, {'start': 328.0, 'end': 330.0, 'text': 'ちょっと', 'count': 0}, {'start': 330.0, 'end': 332.0, 'text': 'どうしたらいいのかな', 'count': 0}, {'start': 332.0, 'end': 334.0, 'text': 'とりあえずいいです', 'count': 0}, {'start': 334.0, 'end': 337.0, 'text': '報酬がなくても構いませんので', 'count': 0}, {'start': 337.0, 'end': 339.0, 'text': '申し訳れません', 'count': 0}, {'start': 339.0, 'end': 342.0, 'text': 'そちらの方で', 'count': 0}, {'start': 342.0, 'end': 346.0, 'text': '納得いくまで一応みたくいただいて', 'count': 0}, {'start': 346.0, 'end': 348.0, 'text': 'そうしましたら', 'count': 0}, {'start': 348.0, 'end': 351.0, 'text': 'ちょっと一旦ここで終わらせていただいて', 'count': 0}, {'start': 351.0, 'end': 353.0, 'text': 'マクロミルの方に', 'count': 0}, {'start': 353.0, 'end': 356.0, 'text': 'ここはちょっとキャンセルという形にできるか', 'count': 0}, {'start': 356.0, 'end': 361.0, 'text': 'というのはちょっと交渉していますので', 'count': 0}, {'start': 361.0, 'end': 362.0, 'text': '申し訳れません', 'count': 0}, {'start': 362.0, 'end': 364.0, 'text': 'お時間いただいたところ', 'count': 0}, {'start': 364.0, 'end': 365.0, 'text': 'いい', 'count': 0}, {'start': 365.0, 'end': 367.0, 'text': 'こちらご存知はよく言わないで', 'count': 0}, {'start': 367.0, 'end': 368.0, 'text': 'すいません', 'count': 0}, {'start': 368.0, 'end': 369.0, 'text': 'とんでもないです', 'count': 0}, {'start': 369.0, 'end': 370.0, 'text': 'すいません', 'count': 0}, {'start': 370.0, 'end': 371.0, 'text': 'どうもありがとうございました', 'count': 0}, {'start': 371.0, 'end': 372.0, 'text': 'ありがとうございます', 'count': 0}, {'start': 372.0, 'end': 374.0, 'text': '失礼いたします', 'count': 0}]\n"
          ]
        }
      ]
    },
    {
      "cell_type": "code",
      "source": [
        "for speek in interivew:\n",
        "  print(speek)"
      ],
      "metadata": {
        "id": "scndYnR8Mqv1",
        "outputId": "25983d6a-1c9c-4ba4-ca1a-f9082d8fab4b",
        "colab": {
          "base_uri": "https://localhost:8080/"
        }
      },
      "execution_count": 26,
      "outputs": [
        {
          "output_type": "stream",
          "name": "stdout",
          "text": [
            "話者1 :  0.0 〜 : 「どうもこんにちは」\n",
            "話者1 :  10.0 〜 : 「ありがとうございます」\n",
            "話者1 :  12.0 〜 : 「ごめん 記者の時間いただきましてどうもありがとうございます」\n",
            "話者1 :  20.0 〜 : 「おはよう」\n",
            "話者1 :  24.0 〜 : 「では早速質問をさせていただきたいと思います」\n",
            "話者1 :  29.0 〜 : 「ちょっとだけお願いします」\n",
            "話者1 :  31.0 〜 : 「では早速なんですけれども」\n",
            "話者1 :  49.0 〜 : 「まずフリーをどうでしたでしょうか」\n",
            "話者1 :  56.0 〜 : 「今ちょっと回線がフリーズして聞こえなかったんですけど」\n",
            "話者1 :  62.0 〜 : 「フリーを導入されたのはいつ頃でしたでしょうか」\n",
            "話者1 :  67.0 〜 : 「今から6年前で2018年の4月ですね」\n",
            "話者1 :  79.0 〜 : 「すごい そんな前からだったんですね」\n",
            "話者1 :  83.0 〜 : 「はい」\n",
            "話者1 :  85.0 〜 : 「その当時他の例えばクラウド会計のものとかって」\n",
            "話者1 :  91.0 〜 : 「検討されましたでしょうか」\n",
            "話者2 :  93.0 〜 : 「マネーフォアードとフリーとどっちにしようかなという話はちょっと」\n",
            "話者2 :  101.0 〜 : 「私の中だけでありましたけども」\n",
            "話者2 :  105.0 〜 : 「フリーの方がどうも私はその会計に詳しい人間ではないので」\n",
            "話者1 :  113.0 〜 : 「初心者向きだという話がちょっとしまったのレビューでありましたので」\n",
            "話者1 :  123.0 〜 : 「じゃあフリーの方いいかなと思ってフリーにしました」\n",
            "話者1 :  129.0 〜 : 「少し出しました」\n",
            "話者1 :  131.0 〜 : 「価格とかはその時って検討されましたか企画というか」\n",
            "話者2 :  138.0 〜 : 「あまり積極的に企画してないんですけど」\n",
            "話者2 :  145.0 〜 : 「一応フリーの方は」\n",
            "話者2 :  148.0 〜 : 「いくらだったかな」\n",
            "話者2 :  150.0 〜 : 「1万2万弱という感じだったので」\n",
            "話者1 :  156.0 〜 : 「それぐらいならいいかなと思ってそれにしました」\n",
            "話者1 :  161.0 〜 : 「2万弱というのは」\n",
            "話者1 :  166.0 〜 : 「月月がプレスかな」\n",
            "話者1 :  168.0 〜 : 「年間です」\n",
            "話者1 :  170.0 〜 : 「年間で」\n",
            "話者1 :  173.0 〜 : 「少ししました」\n",
            "話者1 :  175.0 〜 : 「これ今使われているのは」\n",
            "話者1 :  184.0 〜 : 「ご職業が自営業ってことだったんですけども」\n",
            "話者2 :  187.0 〜 : 「ご自身でやっていらっしゃるビジネスにですかね」\n",
            "話者1 :  190.0 〜 : 「そうですね」\n",
            "話者2 :  192.0 〜 : 「一応60歳で低年退職をしまして」\n",
            "話者2 :  199.0 〜 : 「会社に残るっていう選択肢もあったんですけど」\n",
            "話者2 :  205.0 〜 : 「給料が差があるのは分かってたので」\n",
            "話者1 :  208.0 〜 : 「それぐらいだったら自分で個人事業の市になって」\n",
            "話者1 :  215.0 〜 : 「大体コンピュータシステム関係のサービス業を」\n",
            "話者1 :  227.0 〜 : 「会社でもやってましたので」\n",
            "話者1 :  230.0 〜 : 「同じような仕事を探せばいいかなと思ってやっております」\n",
            "話者1 :  236.0 〜 : 「とりあえず」\n",
            "話者2 :  240.0 〜 : 「それで一番のネックだったのが」\n",
            "話者2 :  242.0 〜 : 「個人事業の市になった時にネックだったのが」\n",
            "話者2 :  245.0 〜 : 「会計の農税ですよね」\n",
            "話者2 :  248.0 〜 : 「農税のこの辺の話っていうのが」\n",
            "話者1 :  254.0 〜 : 「あまりほとんどやったことがなかったので」\n",
            "話者2 :  258.0 〜 : 「一応そういうクラウド会計ソフトがあれば」\n",
            "話者1 :  263.0 〜 : 「その辺が楽できるかなと思って同意しました」\n",
            "話者1 :  271.0 〜 : 「生じ出しました」\n",
            "話者1 :  272.0 〜 : 「現在ってこれあの法人統計されてらっしゃいますか」\n",
            "話者1 :  276.0 〜 : 「してません」\n",
            "話者1 :  278.0 〜 : 「個人事業の市のままです」\n",
            "話者2 :  281.0 〜 : 「個人事業の市なんですね」\n",
            "話者1 :  283.0 〜 : 「消除させました」\n",
            "話者2 :  284.0 〜 : 「すいません」\n",
            "話者1 :  285.0 〜 : 「ちょっと今回の面談の前提が法人だったので」\n",
            "話者2 :  291.0 〜 : 「ちょっとそれも条件のところに入れていたんですけれども」\n",
            "話者2 :  295.0 〜 : 「それは申し訳ない」\n",
            "話者2 :  297.0 〜 : 「フリーもしくはMFのみ対象で導入して使用している」\n",
            "話者2 :  302.0 〜 : 「ユーザーボシュートということだったので」\n",
            "話者2 :  306.0 〜 : 「法人縛りがあるとは知らなかったです」\n",
            "話者2 :  310.0 〜 : 「ごめんなさい」\n",
            "話者2 :  311.0 〜 : 「じゃあちょっと」\n",
            "話者2 :  312.0 〜 : 「すいません」\n",
            "話者2 :  313.0 〜 : 「要件に合わないんだとは今回の話は」\n",
            "話者1 :  315.0 〜 : 「キャンセルした方がよろしいでしょうか」\n",
            "話者1 :  320.0 〜 : 「これ今からキャンセルってできるのかな」\n",
            "話者2 :  323.0 〜 : 「分かんないです」\n",
            "話者2 :  324.0 〜 : 「ごめんなさい」\n",
            "話者1 :  325.0 〜 : 「ちょっと」\n",
            "話者2 :  327.0 〜 : 「そうですか」\n",
            "話者2 :  328.0 〜 : 「ちょっと」\n",
            "話者1 :  330.0 〜 : 「どうしたらいいのかな」\n",
            "話者2 :  332.0 〜 : 「とりあえずいいです」\n",
            "話者2 :  334.0 〜 : 「報酬がなくても構いませんので」\n",
            "話者2 :  337.0 〜 : 「申し訳れません」\n",
            "話者2 :  339.0 〜 : 「そちらの方で」\n",
            "話者2 :  342.0 〜 : 「納得いくまで一応みたくいただいて」\n",
            "話者1 :  346.0 〜 : 「そうしましたら」\n",
            "話者2 :  348.0 〜 : 「ちょっと一旦ここで終わらせていただいて」\n",
            "話者2 :  351.0 〜 : 「マクロミルの方に」\n",
            "話者2 :  353.0 〜 : 「ここはちょっとキャンセルという形にできるか」\n",
            "話者1 :  356.0 〜 : 「というのはちょっと交渉していますので」\n",
            "話者2 :  361.0 〜 : 「申し訳れません」\n",
            "話者2 :  362.0 〜 : 「お時間いただいたところ」\n",
            "話者1 :  364.0 〜 : 「いい」\n",
            "話者2 :  365.0 〜 : 「こちらご存知はよく言わないで」\n",
            "話者2 :  367.0 〜 : 「すいません」\n",
            "話者2 :  368.0 〜 : 「とんでもないです」\n",
            "話者2 :  369.0 〜 : 「すいません」\n",
            "話者2 :  370.0 〜 : 「どうもありがとうございました」\n",
            "話者1 :  371.0 〜 : 「ありがとうございます」\n",
            "話者1 :  372.0 〜 : 「失礼いたします」\n"
          ]
        }
      ]
    },
    {
      "cell_type": "code",
      "source": [
        "from sklearn import cluster\n",
        "import matplotlib.pyplot as plt\n",
        "%matplotlib inline"
      ],
      "metadata": {
        "id": "IL199OrSsFEb"
      },
      "execution_count": 21,
      "outputs": []
    },
    {
      "cell_type": "code",
      "source": [
        "clustering_kmeans = cluster.KMeans(n_clusters=speaker_count)\n",
        "clustering_kmeans.fit(embeddings)"
      ],
      "metadata": {
        "id": "7KMVAl7etief",
        "outputId": "5ad7cec7-0827-4844-ebcf-fd67818926e5",
        "colab": {
          "base_uri": "https://localhost:8080/",
          "height": 74
        }
      },
      "execution_count": 33,
      "outputs": [
        {
          "output_type": "execute_result",
          "data": {
            "text/plain": [
              "KMeans(n_clusters=2)"
            ],
            "text/html": [
              "<style>#sk-container-id-3 {color: black;}#sk-container-id-3 pre{padding: 0;}#sk-container-id-3 div.sk-toggleable {background-color: white;}#sk-container-id-3 label.sk-toggleable__label {cursor: pointer;display: block;width: 100%;margin-bottom: 0;padding: 0.3em;box-sizing: border-box;text-align: center;}#sk-container-id-3 label.sk-toggleable__label-arrow:before {content: \"▸\";float: left;margin-right: 0.25em;color: #696969;}#sk-container-id-3 label.sk-toggleable__label-arrow:hover:before {color: black;}#sk-container-id-3 div.sk-estimator:hover label.sk-toggleable__label-arrow:before {color: black;}#sk-container-id-3 div.sk-toggleable__content {max-height: 0;max-width: 0;overflow: hidden;text-align: left;background-color: #f0f8ff;}#sk-container-id-3 div.sk-toggleable__content pre {margin: 0.2em;color: black;border-radius: 0.25em;background-color: #f0f8ff;}#sk-container-id-3 input.sk-toggleable__control:checked~div.sk-toggleable__content {max-height: 200px;max-width: 100%;overflow: auto;}#sk-container-id-3 input.sk-toggleable__control:checked~label.sk-toggleable__label-arrow:before {content: \"▾\";}#sk-container-id-3 div.sk-estimator input.sk-toggleable__control:checked~label.sk-toggleable__label {background-color: #d4ebff;}#sk-container-id-3 div.sk-label input.sk-toggleable__control:checked~label.sk-toggleable__label {background-color: #d4ebff;}#sk-container-id-3 input.sk-hidden--visually {border: 0;clip: rect(1px 1px 1px 1px);clip: rect(1px, 1px, 1px, 1px);height: 1px;margin: -1px;overflow: hidden;padding: 0;position: absolute;width: 1px;}#sk-container-id-3 div.sk-estimator {font-family: monospace;background-color: #f0f8ff;border: 1px dotted black;border-radius: 0.25em;box-sizing: border-box;margin-bottom: 0.5em;}#sk-container-id-3 div.sk-estimator:hover {background-color: #d4ebff;}#sk-container-id-3 div.sk-parallel-item::after {content: \"\";width: 100%;border-bottom: 1px solid gray;flex-grow: 1;}#sk-container-id-3 div.sk-label:hover label.sk-toggleable__label {background-color: #d4ebff;}#sk-container-id-3 div.sk-serial::before {content: \"\";position: absolute;border-left: 1px solid gray;box-sizing: border-box;top: 0;bottom: 0;left: 50%;z-index: 0;}#sk-container-id-3 div.sk-serial {display: flex;flex-direction: column;align-items: center;background-color: white;padding-right: 0.2em;padding-left: 0.2em;position: relative;}#sk-container-id-3 div.sk-item {position: relative;z-index: 1;}#sk-container-id-3 div.sk-parallel {display: flex;align-items: stretch;justify-content: center;background-color: white;position: relative;}#sk-container-id-3 div.sk-item::before, #sk-container-id-3 div.sk-parallel-item::before {content: \"\";position: absolute;border-left: 1px solid gray;box-sizing: border-box;top: 0;bottom: 0;left: 50%;z-index: -1;}#sk-container-id-3 div.sk-parallel-item {display: flex;flex-direction: column;z-index: 1;position: relative;background-color: white;}#sk-container-id-3 div.sk-parallel-item:first-child::after {align-self: flex-end;width: 50%;}#sk-container-id-3 div.sk-parallel-item:last-child::after {align-self: flex-start;width: 50%;}#sk-container-id-3 div.sk-parallel-item:only-child::after {width: 0;}#sk-container-id-3 div.sk-dashed-wrapped {border: 1px dashed gray;margin: 0 0.4em 0.5em 0.4em;box-sizing: border-box;padding-bottom: 0.4em;background-color: white;}#sk-container-id-3 div.sk-label label {font-family: monospace;font-weight: bold;display: inline-block;line-height: 1.2em;}#sk-container-id-3 div.sk-label-container {text-align: center;}#sk-container-id-3 div.sk-container {/* jupyter's `normalize.less` sets `[hidden] { display: none; }` but bootstrap.min.css set `[hidden] { display: none !important; }` so we also need the `!important` here to be able to override the default hidden behavior on the sphinx rendered scikit-learn.org. See: https://github.com/scikit-learn/scikit-learn/issues/21755 */display: inline-block !important;position: relative;}#sk-container-id-3 div.sk-text-repr-fallback {display: none;}</style><div id=\"sk-container-id-3\" class=\"sk-top-container\"><div class=\"sk-text-repr-fallback\"><pre>KMeans(n_clusters=2)</pre><b>In a Jupyter environment, please rerun this cell to show the HTML representation or trust the notebook. <br />On GitHub, the HTML representation is unable to render, please try loading this page with nbviewer.org.</b></div><div class=\"sk-container\" hidden><div class=\"sk-item\"><div class=\"sk-estimator sk-toggleable\"><input class=\"sk-toggleable__control sk-hidden--visually\" id=\"sk-estimator-id-3\" type=\"checkbox\" checked><label for=\"sk-estimator-id-3\" class=\"sk-toggleable__label sk-toggleable__label-arrow\">KMeans</label><div class=\"sk-toggleable__content\"><pre>KMeans(n_clusters=2)</pre></div></div></div></div></div>"
            ]
          },
          "metadata": {},
          "execution_count": 33
        }
      ]
    },
    {
      "cell_type": "code",
      "source": [
        "labeled_segments = []\n",
        "for label, segment in zip(clustering_kmeans.labels_, result[\"segments\"]):\n",
        "    labeled_segments.append((label, segment[\"start\"], segment[\"text\"]))\n",
        "\n",
        "interivew = []\n",
        "print(INTERVIEW)\n",
        "for s, (speaker, _, text) in enumerate(labeled_segments):\n",
        "    stime = INTERVIEW[s][\"start\"]\n",
        "    interivew.append(f\"話者{speaker + 1} :  {stime} 〜 : 「{text}」\")"
      ],
      "metadata": {
        "id": "1s0_sVlRufiv",
        "outputId": "0a5b73f1-b215-4e3e-c1ed-0a6bbaf0963d",
        "colab": {
          "base_uri": "https://localhost:8080/"
        }
      },
      "execution_count": 28,
      "outputs": [
        {
          "output_type": "stream",
          "name": "stdout",
          "text": [
            "[{'start': 0.0, 'end': 10.0, 'text': 'どうもこんにちは', 'count': 0}, {'start': 10.0, 'end': 12.0, 'text': 'ありがとうございます', 'count': 0}, {'start': 12.0, 'end': 19.0, 'text': 'ごめん 記者の時間いただきましてどうもありがとうございます', 'count': 0}, {'start': 20.0, 'end': 22.0, 'text': 'おはよう', 'count': 0}, {'start': 24.0, 'end': 29.0, 'text': 'では早速質問をさせていただきたいと思います', 'count': 0}, {'start': 29.0, 'end': 31.0, 'text': 'ちょっとだけお願いします', 'count': 1}, {'start': 31.0, 'end': 49.0, 'text': 'では早速なんですけれども', 'count': 0}, {'start': 49.0, 'end': 55.0, 'text': 'まずフリーをどうでしたでしょうか', 'count': 1}, {'start': 56.0, 'end': 62.0, 'text': '今ちょっと回線がフリーズして聞こえなかったんですけど', 'count': 0}, {'start': 62.0, 'end': 67.0, 'text': 'フリーを導入されたのはいつ頃でしたでしょうか', 'count': 2}, {'start': 67.0, 'end': 79.0, 'text': '今から6年前で2018年の4月ですね', 'count': 0}, {'start': 79.0, 'end': 83.0, 'text': 'すごい そんな前からだったんですね', 'count': 0}, {'start': 83.0, 'end': 85.0, 'text': 'はい', 'count': 0}, {'start': 85.0, 'end': 91.0, 'text': 'その当時他の例えばクラウド会計のものとかって', 'count': 0}, {'start': 91.0, 'end': 93.0, 'text': '検討されましたでしょうか', 'count': 1}, {'start': 93.0, 'end': 101.0, 'text': 'マネーフォアードとフリーとどっちにしようかなという話はちょっと', 'count': 0}, {'start': 101.0, 'end': 104.0, 'text': '私の中だけでありましたけども', 'count': 0}, {'start': 105.0, 'end': 113.0, 'text': 'フリーの方がどうも私はその会計に詳しい人間ではないので', 'count': 0}, {'start': 113.0, 'end': 123.0, 'text': '初心者向きだという話がちょっとしまったのレビューでありましたので', 'count': 0}, {'start': 123.0, 'end': 128.0, 'text': 'じゃあフリーの方いいかなと思ってフリーにしました', 'count': 0}, {'start': 129.0, 'end': 131.0, 'text': '少し出しました', 'count': 0}, {'start': 131.0, 'end': 138.0, 'text': '価格とかはその時って検討されましたか企画というか', 'count': 1}, {'start': 138.0, 'end': 145.0, 'text': 'あまり積極的に企画してないんですけど', 'count': 0}, {'start': 145.0, 'end': 148.0, 'text': '一応フリーの方は', 'count': 0}, {'start': 148.0, 'end': 150.0, 'text': 'いくらだったかな', 'count': 0}, {'start': 150.0, 'end': 156.0, 'text': '1万2万弱という感じだったので', 'count': 0}, {'start': 156.0, 'end': 161.0, 'text': 'それぐらいならいいかなと思ってそれにしました', 'count': 0}, {'start': 161.0, 'end': 166.0, 'text': '2万弱というのは', 'count': 0}, {'start': 166.0, 'end': 168.0, 'text': '月月がプレスかな', 'count': 0}, {'start': 168.0, 'end': 170.0, 'text': '年間です', 'count': 0}, {'start': 170.0, 'end': 172.0, 'text': '年間で', 'count': 0}, {'start': 173.0, 'end': 175.0, 'text': '少ししました', 'count': 0}, {'start': 175.0, 'end': 181.0, 'text': 'これ今使われているのは', 'count': 0}, {'start': 184.0, 'end': 187.0, 'text': 'ご職業が自営業ってことだったんですけども', 'count': 0}, {'start': 187.0, 'end': 190.0, 'text': 'ご自身でやっていらっしゃるビジネスにですかね', 'count': 1}, {'start': 190.0, 'end': 192.0, 'text': 'そうですね', 'count': 0}, {'start': 192.0, 'end': 198.0, 'text': '一応60歳で低年退職をしまして', 'count': 0}, {'start': 199.0, 'end': 205.0, 'text': '会社に残るっていう選択肢もあったんですけど', 'count': 0}, {'start': 205.0, 'end': 208.0, 'text': '給料が差があるのは分かってたので', 'count': 0}, {'start': 208.0, 'end': 215.0, 'text': 'それぐらいだったら自分で個人事業の市になって', 'count': 0}, {'start': 215.0, 'end': 227.0, 'text': '大体コンピュータシステム関係のサービス業を', 'count': 0}, {'start': 227.0, 'end': 230.0, 'text': '会社でもやってましたので', 'count': 0}, {'start': 230.0, 'end': 236.0, 'text': '同じような仕事を探せばいいかなと思ってやっております', 'count': 0}, {'start': 236.0, 'end': 240.0, 'text': 'とりあえず', 'count': 0}, {'start': 240.0, 'end': 242.0, 'text': 'それで一番のネックだったのが', 'count': 0}, {'start': 242.0, 'end': 245.0, 'text': '個人事業の市になった時にネックだったのが', 'count': 0}, {'start': 245.0, 'end': 248.0, 'text': '会計の農税ですよね', 'count': 0}, {'start': 248.0, 'end': 253.0, 'text': '農税のこの辺の話っていうのが', 'count': 0}, {'start': 254.0, 'end': 258.0, 'text': 'あまりほとんどやったことがなかったので', 'count': 0}, {'start': 258.0, 'end': 263.0, 'text': '一応そういうクラウド会計ソフトがあれば', 'count': 0}, {'start': 263.0, 'end': 268.0, 'text': 'その辺が楽できるかなと思って同意しました', 'count': 0}, {'start': 271.0, 'end': 272.0, 'text': '生じ出しました', 'count': 0}, {'start': 272.0, 'end': 276.0, 'text': '現在ってこれあの法人統計されてらっしゃいますか', 'count': 0}, {'start': 276.0, 'end': 278.0, 'text': 'してません', 'count': 0}, {'start': 278.0, 'end': 281.0, 'text': '個人事業の市のままです', 'count': 0}, {'start': 281.0, 'end': 283.0, 'text': '個人事業の市なんですね', 'count': 0}, {'start': 283.0, 'end': 284.0, 'text': '消除させました', 'count': 0}, {'start': 284.0, 'end': 285.0, 'text': 'すいません', 'count': 0}, {'start': 285.0, 'end': 291.0, 'text': 'ちょっと今回の面談の前提が法人だったので', 'count': 0}, {'start': 291.0, 'end': 295.0, 'text': 'ちょっとそれも条件のところに入れていたんですけれども', 'count': 0}, {'start': 295.0, 'end': 297.0, 'text': 'それは申し訳ない', 'count': 0}, {'start': 297.0, 'end': 302.0, 'text': 'フリーもしくはMFのみ対象で導入して使用している', 'count': 0}, {'start': 302.0, 'end': 305.0, 'text': 'ユーザーボシュートということだったので', 'count': 0}, {'start': 306.0, 'end': 310.0, 'text': '法人縛りがあるとは知らなかったです', 'count': 0}, {'start': 310.0, 'end': 311.0, 'text': 'ごめんなさい', 'count': 0}, {'start': 311.0, 'end': 312.0, 'text': 'じゃあちょっと', 'count': 0}, {'start': 312.0, 'end': 313.0, 'text': 'すいません', 'count': 0}, {'start': 313.0, 'end': 315.0, 'text': '要件に合わないんだとは今回の話は', 'count': 0}, {'start': 315.0, 'end': 318.0, 'text': 'キャンセルした方がよろしいでしょうか', 'count': 1}, {'start': 320.0, 'end': 323.0, 'text': 'これ今からキャンセルってできるのかな', 'count': 0}, {'start': 323.0, 'end': 324.0, 'text': '分かんないです', 'count': 0}, {'start': 324.0, 'end': 325.0, 'text': 'ごめんなさい', 'count': 0}, {'start': 325.0, 'end': 327.0, 'text': 'ちょっと', 'count': 0}, {'start': 327.0, 'end': 328.0, 'text': 'そうですか', 'count': 1}, {'start': 328.0, 'end': 330.0, 'text': 'ちょっと', 'count': 0}, {'start': 330.0, 'end': 332.0, 'text': 'どうしたらいいのかな', 'count': 0}, {'start': 332.0, 'end': 334.0, 'text': 'とりあえずいいです', 'count': 0}, {'start': 334.0, 'end': 337.0, 'text': '報酬がなくても構いませんので', 'count': 0}, {'start': 337.0, 'end': 339.0, 'text': '申し訳れません', 'count': 0}, {'start': 339.0, 'end': 342.0, 'text': 'そちらの方で', 'count': 0}, {'start': 342.0, 'end': 346.0, 'text': '納得いくまで一応みたくいただいて', 'count': 0}, {'start': 346.0, 'end': 348.0, 'text': 'そうしましたら', 'count': 0}, {'start': 348.0, 'end': 351.0, 'text': 'ちょっと一旦ここで終わらせていただいて', 'count': 0}, {'start': 351.0, 'end': 353.0, 'text': 'マクロミルの方に', 'count': 0}, {'start': 353.0, 'end': 356.0, 'text': 'ここはちょっとキャンセルという形にできるか', 'count': 0}, {'start': 356.0, 'end': 361.0, 'text': 'というのはちょっと交渉していますので', 'count': 0}, {'start': 361.0, 'end': 362.0, 'text': '申し訳れません', 'count': 0}, {'start': 362.0, 'end': 364.0, 'text': 'お時間いただいたところ', 'count': 0}, {'start': 364.0, 'end': 365.0, 'text': 'いい', 'count': 0}, {'start': 365.0, 'end': 367.0, 'text': 'こちらご存知はよく言わないで', 'count': 0}, {'start': 367.0, 'end': 368.0, 'text': 'すいません', 'count': 0}, {'start': 368.0, 'end': 369.0, 'text': 'とんでもないです', 'count': 0}, {'start': 369.0, 'end': 370.0, 'text': 'すいません', 'count': 0}, {'start': 370.0, 'end': 371.0, 'text': 'どうもありがとうございました', 'count': 0}, {'start': 371.0, 'end': 372.0, 'text': 'ありがとうございます', 'count': 0}, {'start': 372.0, 'end': 374.0, 'text': '失礼いたします', 'count': 0}]\n"
          ]
        }
      ]
    },
    {
      "cell_type": "code",
      "source": [
        "for speek in interivew:\n",
        "  print(speek)"
      ],
      "metadata": {
        "id": "nrT6qml2ureE",
        "outputId": "d648f13e-40d0-4716-8615-bb8d75b5cf8a",
        "colab": {
          "base_uri": "https://localhost:8080/"
        }
      },
      "execution_count": 32,
      "outputs": [
        {
          "output_type": "stream",
          "name": "stdout",
          "text": [
            "話者2 :  0.0 〜 : 「どうもこんにちは」\n",
            "話者2 :  10.0 〜 : 「ありがとうございます」\n",
            "話者2 :  12.0 〜 : 「ごめん 記者の時間いただきましてどうもありがとうございます」\n",
            "話者2 :  20.0 〜 : 「おはよう」\n",
            "話者2 :  24.0 〜 : 「では早速質問をさせていただきたいと思います」\n",
            "話者2 :  29.0 〜 : 「ちょっとだけお願いします」\n",
            "話者2 :  31.0 〜 : 「では早速なんですけれども」\n",
            "話者2 :  49.0 〜 : 「まずフリーをどうでしたでしょうか」\n",
            "話者2 :  56.0 〜 : 「今ちょっと回線がフリーズして聞こえなかったんですけど」\n",
            "話者2 :  62.0 〜 : 「フリーを導入されたのはいつ頃でしたでしょうか」\n",
            "話者1 :  67.0 〜 : 「今から6年前で2018年の4月ですね」\n",
            "話者2 :  79.0 〜 : 「すごい そんな前からだったんですね」\n",
            "話者2 :  83.0 〜 : 「はい」\n",
            "話者2 :  85.0 〜 : 「その当時他の例えばクラウド会計のものとかって」\n",
            "話者2 :  91.0 〜 : 「検討されましたでしょうか」\n",
            "話者1 :  93.0 〜 : 「マネーフォアードとフリーとどっちにしようかなという話はちょっと」\n",
            "話者1 :  101.0 〜 : 「私の中だけでありましたけども」\n",
            "話者1 :  105.0 〜 : 「フリーの方がどうも私はその会計に詳しい人間ではないので」\n",
            "話者1 :  113.0 〜 : 「初心者向きだという話がちょっとしまったのレビューでありましたので」\n",
            "話者2 :  123.0 〜 : 「じゃあフリーの方いいかなと思ってフリーにしました」\n",
            "話者2 :  129.0 〜 : 「少し出しました」\n",
            "話者2 :  131.0 〜 : 「価格とかはその時って検討されましたか企画というか」\n",
            "話者1 :  138.0 〜 : 「あまり積極的に企画してないんですけど」\n",
            "話者1 :  145.0 〜 : 「一応フリーの方は」\n",
            "話者1 :  148.0 〜 : 「いくらだったかな」\n",
            "話者1 :  150.0 〜 : 「1万2万弱という感じだったので」\n",
            "話者2 :  156.0 〜 : 「それぐらいならいいかなと思ってそれにしました」\n",
            "話者2 :  161.0 〜 : 「2万弱というのは」\n",
            "話者2 :  166.0 〜 : 「月月がプレスかな」\n",
            "話者2 :  168.0 〜 : 「年間です」\n",
            "話者2 :  170.0 〜 : 「年間で」\n",
            "話者2 :  173.0 〜 : 「少ししました」\n",
            "話者2 :  175.0 〜 : 「これ今使われているのは」\n",
            "話者2 :  184.0 〜 : 「ご職業が自営業ってことだったんですけども」\n",
            "話者1 :  187.0 〜 : 「ご自身でやっていらっしゃるビジネスにですかね」\n",
            "話者2 :  190.0 〜 : 「そうですね」\n",
            "話者1 :  192.0 〜 : 「一応60歳で低年退職をしまして」\n",
            "話者1 :  199.0 〜 : 「会社に残るっていう選択肢もあったんですけど」\n",
            "話者1 :  205.0 〜 : 「給料が差があるのは分かってたので」\n",
            "話者2 :  208.0 〜 : 「それぐらいだったら自分で個人事業の市になって」\n",
            "話者2 :  215.0 〜 : 「大体コンピュータシステム関係のサービス業を」\n",
            "話者2 :  227.0 〜 : 「会社でもやってましたので」\n",
            "話者1 :  230.0 〜 : 「同じような仕事を探せばいいかなと思ってやっております」\n",
            "話者1 :  236.0 〜 : 「とりあえず」\n",
            "話者1 :  240.0 〜 : 「それで一番のネックだったのが」\n",
            "話者1 :  242.0 〜 : 「個人事業の市になった時にネックだったのが」\n",
            "話者1 :  245.0 〜 : 「会計の農税ですよね」\n",
            "話者1 :  248.0 〜 : 「農税のこの辺の話っていうのが」\n",
            "話者2 :  254.0 〜 : 「あまりほとんどやったことがなかったので」\n",
            "話者1 :  258.0 〜 : 「一応そういうクラウド会計ソフトがあれば」\n",
            "話者2 :  263.0 〜 : 「その辺が楽できるかなと思って同意しました」\n",
            "話者2 :  271.0 〜 : 「生じ出しました」\n",
            "話者2 :  272.0 〜 : 「現在ってこれあの法人統計されてらっしゃいますか」\n",
            "話者2 :  276.0 〜 : 「してません」\n",
            "話者2 :  278.0 〜 : 「個人事業の市のままです」\n",
            "話者1 :  281.0 〜 : 「個人事業の市なんですね」\n",
            "話者2 :  283.0 〜 : 「消除させました」\n",
            "話者1 :  284.0 〜 : 「すいません」\n",
            "話者2 :  285.0 〜 : 「ちょっと今回の面談の前提が法人だったので」\n",
            "話者1 :  291.0 〜 : 「ちょっとそれも条件のところに入れていたんですけれども」\n",
            "話者1 :  295.0 〜 : 「それは申し訳ない」\n",
            "話者1 :  297.0 〜 : 「フリーもしくはMFのみ対象で導入して使用している」\n",
            "話者1 :  302.0 〜 : 「ユーザーボシュートということだったので」\n",
            "話者1 :  306.0 〜 : 「法人縛りがあるとは知らなかったです」\n",
            "話者1 :  310.0 〜 : 「ごめんなさい」\n",
            "話者1 :  311.0 〜 : 「じゃあちょっと」\n",
            "話者1 :  312.0 〜 : 「すいません」\n",
            "話者1 :  313.0 〜 : 「要件に合わないんだとは今回の話は」\n",
            "話者2 :  315.0 〜 : 「キャンセルした方がよろしいでしょうか」\n",
            "話者2 :  320.0 〜 : 「これ今からキャンセルってできるのかな」\n",
            "話者1 :  323.0 〜 : 「分かんないです」\n",
            "話者1 :  324.0 〜 : 「ごめんなさい」\n",
            "話者2 :  325.0 〜 : 「ちょっと」\n",
            "話者1 :  327.0 〜 : 「そうですか」\n",
            "話者1 :  328.0 〜 : 「ちょっと」\n",
            "話者2 :  330.0 〜 : 「どうしたらいいのかな」\n",
            "話者1 :  332.0 〜 : 「とりあえずいいです」\n",
            "話者1 :  334.0 〜 : 「報酬がなくても構いませんので」\n",
            "話者1 :  337.0 〜 : 「申し訳れません」\n",
            "話者1 :  339.0 〜 : 「そちらの方で」\n",
            "話者1 :  342.0 〜 : 「納得いくまで一応みたくいただいて」\n",
            "話者2 :  346.0 〜 : 「そうしましたら」\n",
            "話者1 :  348.0 〜 : 「ちょっと一旦ここで終わらせていただいて」\n",
            "話者1 :  351.0 〜 : 「マクロミルの方に」\n",
            "話者1 :  353.0 〜 : 「ここはちょっとキャンセルという形にできるか」\n",
            "話者2 :  356.0 〜 : 「というのはちょっと交渉していますので」\n",
            "話者1 :  361.0 〜 : 「申し訳れません」\n",
            "話者1 :  362.0 〜 : 「お時間いただいたところ」\n",
            "話者2 :  364.0 〜 : 「いい」\n",
            "話者1 :  365.0 〜 : 「こちらご存知はよく言わないで」\n",
            "話者2 :  367.0 〜 : 「すいません」\n",
            "話者1 :  368.0 〜 : 「とんでもないです」\n",
            "話者1 :  369.0 〜 : 「すいません」\n",
            "話者1 :  370.0 〜 : 「どうもありがとうございました」\n",
            "話者2 :  371.0 〜 : 「ありがとうございます」\n",
            "話者2 :  372.0 〜 : 「失礼いたします」\n"
          ]
        }
      ]
    }
  ]
}