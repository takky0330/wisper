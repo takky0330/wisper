{
  "nbformat": 4,
  "nbformat_minor": 0,
  "metadata": {
    "colab": {
      "provenance": [],
      "authorship_tag": "ABX9TyPrrkwbMTjFYEocAoVmlcR/",
      "include_colab_link": true
    },
    "kernelspec": {
      "name": "python3",
      "display_name": "Python 3"
    },
    "language_info": {
      "name": "python"
    }
  },
  "cells": [
    {
      "cell_type": "markdown",
      "metadata": {
        "id": "view-in-github",
        "colab_type": "text"
      },
      "source": [
        "<a href=\"https://colab.research.google.com/github/takky0330/wisper/blob/main/wisper_test.ipynb\" target=\"_parent\"><img src=\"https://colab.research.google.com/assets/colab-badge.svg\" alt=\"Open In Colab\"/></a>"
      ]
    },
    {
      "cell_type": "code",
      "source": [
        "!pip install moviepy pyannote-audio"
      ],
      "metadata": {
        "id": "lhxBgonIP5PW"
      },
      "execution_count": null,
      "outputs": []
    },
    {
      "cell_type": "code",
      "source": [
        "import numpy as np\n",
        "from pyannote.audio import Pipeline, Audio\n",
        "from pyannote.core import Segment\n",
        "from pyannote.audio.pipelines.speaker_verification import PretrainedSpeakerEmbedding"
      ],
      "metadata": {
        "id": "CJeWPXJFQjlN"
      },
      "execution_count": null,
      "outputs": []
    },
    {
      "cell_type": "code",
      "source": [
        "!pip install moviepy"
      ],
      "metadata": {
        "id": "iLJk39Pl9X3I"
      },
      "execution_count": null,
      "outputs": []
    },
    {
      "cell_type": "code",
      "source": [
        "from moviepy.editor import VideoFileClip"
      ],
      "metadata": {
        "id": "FKtnurNW9mBM"
      },
      "execution_count": null,
      "outputs": []
    },
    {
      "cell_type": "code",
      "source": [
        "video_path = \"./9d4fc932d442ef2ffb17d0a8086390e6_1725887318814_0.mp4\"\n",
        "audio_path = '.'.join(video_path.split('.')[:-1]) + '.wav'\n",
        "video = VideoFileClip(video_path)\n",
        "video.audio.write_audiofile(audio_path, ffmpeg_params=[\"-ac\", \"1\"])  #モノラルで出力"
      ],
      "metadata": {
        "id": "3JW5DgVSK5AU"
      },
      "execution_count": null,
      "outputs": []
    },
    {
      "cell_type": "code",
      "execution_count": null,
      "metadata": {
        "id": "N_oGHqinTJxz"
      },
      "outputs": [],
      "source": [
        "!pip install git+https://github.com/openai/whisper.git"
      ]
    },
    {
      "cell_type": "code",
      "source": [
        "import whisper\n",
        "import json, re"
      ],
      "metadata": {
        "id": "FBaUgrssTrus"
      },
      "execution_count": null,
      "outputs": []
    },
    {
      "cell_type": "code",
      "source": [
        "model = whisper.load_model(\"small\")"
      ],
      "metadata": {
        "id": "2QjBu_ODTwRA"
      },
      "execution_count": null,
      "outputs": []
    },
    {
      "cell_type": "code",
      "source": [
        "result = model.transcribe(audio_path, verbose=True, fp16=False, language=\"ja\")"
      ],
      "metadata": {
        "id": "Wc3OYeXGT3SC"
      },
      "execution_count": null,
      "outputs": []
    },
    {
      "cell_type": "code",
      "source": [
        "segments = result['segments']\n",
        "prog = re.compile('教えて|聞か|聞き|願い|ください|ですか|でしょうか|ましたか|されましたか|いつ頃')\n",
        "INTERVIEW = []\n",
        "for seg in segments:\n",
        "  count = len(prog.findall(seg['text']))\n",
        "  if count > 0: print(seg['text'])\n",
        "  _seg = {'start': seg['start'], 'end': seg['end'], 'text': seg['text'], 'count': count}\n",
        "  INTERVIEW.append(_seg)"
      ],
      "metadata": {
        "id": "aBB_x7vpf0az"
      },
      "execution_count": null,
      "outputs": []
    },
    {
      "cell_type": "code",
      "source": [
        "segments = result['segments']\n",
        "embedding_model = PretrainedSpeakerEmbedding(\"speechbrain/spkrec-ecapa-voxceleb\", device='cpu')\n",
        "embeddings = np.zeros(shape=(len(segments), 192))\n",
        "\n",
        "duration = video.duration\n",
        "embeddings = []\n",
        "\n",
        "\n",
        "for i, segment in enumerate(segments):\n",
        "    audio = Audio()\n",
        "    start = segment[\"start\"]\n",
        "    end = min(duration, segment[\"end\"])\n",
        "    clip = Segment(start, end)\n",
        "    waveform, sample_rate = audio.crop(audio_path, clip)\n",
        "    print(waveform[0])\n",
        "    _enbed = embedding_model(waveform[None])\n",
        "    #print(_enbed[0])\n",
        "    embeddings.append(_enbed[0])\n",
        "\n",
        "embeddings = np.nan_to_num(embeddings)\n"
      ],
      "metadata": {
        "id": "RJG9GjQwudiK"
      },
      "execution_count": null,
      "outputs": []
    },
    {
      "cell_type": "code",
      "source": [
        "from sklearn.cluster import AgglomerativeClustering\n",
        "speaker_count = 2"
      ],
      "metadata": {
        "id": "R0L5jb5VJQo2"
      },
      "execution_count": null,
      "outputs": []
    },
    {
      "cell_type": "code",
      "source": [
        "len(embeddings)\n",
        "embeddings.shape"
      ],
      "metadata": {
        "id": "Hql5EsVeJx0-",
        "outputId": "8fd4033f-e104-42d0-b547-e5834e6cfe82",
        "colab": {
          "base_uri": "https://localhost:8080/"
        }
      },
      "execution_count": null,
      "outputs": [
        {
          "output_type": "execute_result",
          "data": {
            "text/plain": [
              "(96, 192)"
            ]
          },
          "metadata": {},
          "execution_count": 56
        }
      ]
    },
    {
      "cell_type": "code",
      "source": [
        "clustering = AgglomerativeClustering(speaker_count).fit(embeddings)"
      ],
      "metadata": {
        "id": "Q6yQZfN-JbBB"
      },
      "execution_count": null,
      "outputs": []
    },
    {
      "cell_type": "code",
      "source": [
        "labeled_segments = []\n",
        "for label, segment in zip(clustering.labels_, result[\"segments\"]):\n",
        "    labeled_segments.append((label, segment[\"start\"], segment[\"text\"]))\n",
        "\n",
        "interivew = []\n",
        "print(INTERVIEW)\n",
        "for s, (speaker, _, text) in enumerate(labeled_segments):\n",
        "    stime = INTERVIEW[s][\"start\"]\n",
        "    interivew.append(f\"話者{speaker + 1} :  {stime} 〜 : 「{text}」\")"
      ],
      "metadata": {
        "id": "PN2Y1ZHfMhNd",
        "outputId": "0243925b-9bd2-4c2c-9607-fd5707c62c25",
        "colab": {
          "base_uri": "https://localhost:8080/"
        }
      },
      "execution_count": null,
      "outputs": [
        {
          "output_type": "stream",
          "name": "stdout",
          "text": [
            "[{'start': 0.0, 'end': 10.0, 'text': 'どうもこんにちは', 'count': 0}, {'start': 10.0, 'end': 12.0, 'text': 'ありがとうございます', 'count': 0}, {'start': 12.0, 'end': 19.0, 'text': 'ごめん 記者の時間いただきましてどうもありがとうございます', 'count': 0}, {'start': 20.0, 'end': 22.0, 'text': 'おはよう', 'count': 0}, {'start': 24.0, 'end': 29.0, 'text': 'では早速質問をさせていただきたいと思います', 'count': 0}, {'start': 29.0, 'end': 31.0, 'text': 'ちょっとだけお願いします', 'count': 1}, {'start': 31.0, 'end': 49.0, 'text': 'では早速なんですけれども', 'count': 0}, {'start': 49.0, 'end': 55.0, 'text': 'まずフリーをどうでしたでしょうか', 'count': 1}, {'start': 56.0, 'end': 62.0, 'text': '今ちょっと回線がフリーズして聞こえなかったんですけど', 'count': 0}, {'start': 62.0, 'end': 67.0, 'text': 'フリーを導入されたのはいつ頃でしたでしょうか', 'count': 2}, {'start': 67.0, 'end': 79.0, 'text': '今から6年前で2018年の4月ですね', 'count': 0}, {'start': 79.0, 'end': 83.0, 'text': 'すごい そんな前からだったんですね', 'count': 0}, {'start': 83.0, 'end': 85.0, 'text': 'はい', 'count': 0}, {'start': 85.0, 'end': 91.0, 'text': 'その当時他の例えばクラウド会計のものとかって', 'count': 0}, {'start': 91.0, 'end': 93.0, 'text': '検討されましたでしょうか', 'count': 1}, {'start': 93.0, 'end': 101.0, 'text': 'マネーフォアードとフリーとどっちにしようかなという話はちょっと', 'count': 0}, {'start': 101.0, 'end': 104.0, 'text': '私の中だけでありましたけども', 'count': 0}, {'start': 105.0, 'end': 113.0, 'text': 'フリーの方がどうも私はその会計に詳しい人間ではないので', 'count': 0}, {'start': 113.0, 'end': 123.0, 'text': '初心者向きだという話がちょっとしまったのレビューでありましたので', 'count': 0}, {'start': 123.0, 'end': 128.0, 'text': 'じゃあフリーの方いいかなと思ってフリーにしました', 'count': 0}, {'start': 129.0, 'end': 131.0, 'text': '少し出しました', 'count': 0}, {'start': 131.0, 'end': 138.0, 'text': '価格とかはその時って検討されましたか企画というか', 'count': 1}, {'start': 138.0, 'end': 145.0, 'text': 'あまり積極的に企画してないんですけど', 'count': 0}, {'start': 145.0, 'end': 148.0, 'text': '一応フリーの方は', 'count': 0}, {'start': 148.0, 'end': 150.0, 'text': 'いくらだったかな', 'count': 0}, {'start': 150.0, 'end': 156.0, 'text': '1万2万弱という感じだったので', 'count': 0}, {'start': 156.0, 'end': 161.0, 'text': 'それぐらいならいいかなと思ってそれにしました', 'count': 0}, {'start': 161.0, 'end': 166.0, 'text': '2万弱というのは', 'count': 0}, {'start': 166.0, 'end': 168.0, 'text': '月月がプレスかな', 'count': 0}, {'start': 168.0, 'end': 170.0, 'text': '年間です', 'count': 0}, {'start': 170.0, 'end': 172.0, 'text': '年間で', 'count': 0}, {'start': 173.0, 'end': 175.0, 'text': '少ししました', 'count': 0}, {'start': 175.0, 'end': 181.0, 'text': 'これ今使われているのは', 'count': 0}, {'start': 184.0, 'end': 187.0, 'text': 'ご職業が自営業ってことだったんですけども', 'count': 0}, {'start': 187.0, 'end': 190.0, 'text': 'ご自身でやっていらっしゃるビジネスにですかね', 'count': 1}, {'start': 190.0, 'end': 192.0, 'text': 'そうですね', 'count': 0}, {'start': 192.0, 'end': 198.0, 'text': '一応60歳で低年退職をしまして', 'count': 0}, {'start': 199.0, 'end': 205.0, 'text': '会社に残るっていう選択肢もあったんですけど', 'count': 0}, {'start': 205.0, 'end': 208.0, 'text': '給料が差があるのは分かってたので', 'count': 0}, {'start': 208.0, 'end': 215.0, 'text': 'それぐらいだったら自分で個人事業の市になって', 'count': 0}, {'start': 215.0, 'end': 227.0, 'text': '大体コンピュータシステム関係のサービス業を', 'count': 0}, {'start': 227.0, 'end': 230.0, 'text': '会社でもやってましたので', 'count': 0}, {'start': 230.0, 'end': 236.0, 'text': '同じような仕事を探せばいいかなと思ってやっております', 'count': 0}, {'start': 236.0, 'end': 240.0, 'text': 'とりあえず', 'count': 0}, {'start': 240.0, 'end': 242.0, 'text': 'それで一番のネックだったのが', 'count': 0}, {'start': 242.0, 'end': 245.0, 'text': '個人事業の市になった時にネックだったのが', 'count': 0}, {'start': 245.0, 'end': 248.0, 'text': '会計の農税ですよね', 'count': 0}, {'start': 248.0, 'end': 253.0, 'text': '農税のこの辺の話っていうのが', 'count': 0}, {'start': 254.0, 'end': 258.0, 'text': 'あまりほとんどやったことがなかったので', 'count': 0}, {'start': 258.0, 'end': 263.0, 'text': '一応そういうクラウド会計ソフトがあれば', 'count': 0}, {'start': 263.0, 'end': 268.0, 'text': 'その辺が楽できるかなと思って同意しました', 'count': 0}, {'start': 271.0, 'end': 272.0, 'text': '生じ出しました', 'count': 0}, {'start': 272.0, 'end': 276.0, 'text': '現在ってこれあの法人統計されてらっしゃいますか', 'count': 0}, {'start': 276.0, 'end': 278.0, 'text': 'してません', 'count': 0}, {'start': 278.0, 'end': 281.0, 'text': '個人事業の市のままです', 'count': 0}, {'start': 281.0, 'end': 283.0, 'text': '個人事業の市なんですね', 'count': 0}, {'start': 283.0, 'end': 284.0, 'text': '消除させました', 'count': 0}, {'start': 284.0, 'end': 285.0, 'text': 'すいません', 'count': 0}, {'start': 285.0, 'end': 291.0, 'text': 'ちょっと今回の面談の前提が法人だったので', 'count': 0}, {'start': 291.0, 'end': 295.0, 'text': 'ちょっとそれも条件のところに入れていたんですけれども', 'count': 0}, {'start': 295.0, 'end': 297.0, 'text': 'それは申し訳ない', 'count': 0}, {'start': 297.0, 'end': 302.0, 'text': 'フリーもしくはMFのみ対象で導入して使用している', 'count': 0}, {'start': 302.0, 'end': 305.0, 'text': 'ユーザーボシュートということだったので', 'count': 0}, {'start': 306.0, 'end': 310.0, 'text': '法人縛りがあるとは知らなかったです', 'count': 0}, {'start': 310.0, 'end': 311.0, 'text': 'ごめんなさい', 'count': 0}, {'start': 311.0, 'end': 312.0, 'text': 'じゃあちょっと', 'count': 0}, {'start': 312.0, 'end': 313.0, 'text': 'すいません', 'count': 0}, {'start': 313.0, 'end': 315.0, 'text': '要件に合わないんだとは今回の話は', 'count': 0}, {'start': 315.0, 'end': 318.0, 'text': 'キャンセルした方がよろしいでしょうか', 'count': 1}, {'start': 320.0, 'end': 323.0, 'text': 'これ今からキャンセルってできるのかな', 'count': 0}, {'start': 323.0, 'end': 324.0, 'text': '分かんないです', 'count': 0}, {'start': 324.0, 'end': 325.0, 'text': 'ごめんなさい', 'count': 0}, {'start': 325.0, 'end': 327.0, 'text': 'ちょっと', 'count': 0}, {'start': 327.0, 'end': 328.0, 'text': 'そうですか', 'count': 1}, {'start': 328.0, 'end': 330.0, 'text': 'ちょっと', 'count': 0}, {'start': 330.0, 'end': 332.0, 'text': 'どうしたらいいのかな', 'count': 0}, {'start': 332.0, 'end': 334.0, 'text': 'とりあえずいいです', 'count': 0}, {'start': 334.0, 'end': 337.0, 'text': '報酬がなくても構いませんので', 'count': 0}, {'start': 337.0, 'end': 339.0, 'text': '申し訳れません', 'count': 0}, {'start': 339.0, 'end': 342.0, 'text': 'そちらの方で', 'count': 0}, {'start': 342.0, 'end': 346.0, 'text': '納得いくまで一応みたくいただいて', 'count': 0}, {'start': 346.0, 'end': 348.0, 'text': 'そうしましたら', 'count': 0}, {'start': 348.0, 'end': 351.0, 'text': 'ちょっと一旦ここで終わらせていただいて', 'count': 0}, {'start': 351.0, 'end': 353.0, 'text': 'マクロミルの方に', 'count': 0}, {'start': 353.0, 'end': 356.0, 'text': 'ここはちょっとキャンセルという形にできるか', 'count': 0}, {'start': 356.0, 'end': 361.0, 'text': 'というのはちょっと交渉していますので', 'count': 0}, {'start': 361.0, 'end': 362.0, 'text': '申し訳れません', 'count': 0}, {'start': 362.0, 'end': 364.0, 'text': 'お時間いただいたところ', 'count': 0}, {'start': 364.0, 'end': 365.0, 'text': 'いい', 'count': 0}, {'start': 365.0, 'end': 367.0, 'text': 'こちらご存知はよく言わないで', 'count': 0}, {'start': 367.0, 'end': 368.0, 'text': 'すいません', 'count': 0}, {'start': 368.0, 'end': 369.0, 'text': 'とんでもないです', 'count': 0}, {'start': 369.0, 'end': 370.0, 'text': 'すいません', 'count': 0}, {'start': 370.0, 'end': 371.0, 'text': 'どうもありがとうございました', 'count': 0}, {'start': 371.0, 'end': 372.0, 'text': 'ありがとうございます', 'count': 0}, {'start': 372.0, 'end': 374.0, 'text': '失礼いたします', 'count': 0}]\n"
          ]
        }
      ]
    },
    {
      "cell_type": "code",
      "source": [
        "for speek in interivew:\n",
        "  print(speek)"
      ],
      "metadata": {
        "id": "scndYnR8Mqv1"
      },
      "execution_count": null,
      "outputs": []
    }
  ]
}