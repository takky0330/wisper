{
  "nbformat": 4,
  "nbformat_minor": 0,
  "metadata": {
    "colab": {
      "provenance": [],
      "authorship_tag": "ABX9TyPQc+yrDOJjmex+qeC7Nax5",
      "include_colab_link": true
    },
    "kernelspec": {
      "name": "python3",
      "display_name": "Python 3"
    },
    "language_info": {
      "name": "python"
    }
  },
  "cells": [
    {
      "cell_type": "markdown",
      "metadata": {
        "id": "view-in-github",
        "colab_type": "text"
      },
      "source": [
        "<a href=\"https://colab.research.google.com/github/takky0330/wisper/blob/main/wisper_test.ipynb\" target=\"_parent\"><img src=\"https://colab.research.google.com/assets/colab-badge.svg\" alt=\"Open In Colab\"/></a>"
      ]
    },
    {
      "cell_type": "code",
      "execution_count": 25,
      "metadata": {
        "colab": {
          "base_uri": "https://localhost:8080/"
        },
        "id": "N_oGHqinTJxz",
        "outputId": "1eabab6f-1a5d-479c-c07d-13cd884fe634"
      },
      "outputs": [
        {
          "output_type": "stream",
          "name": "stdout",
          "text": [
            "Collecting git+https://github.com/openai/whisper.git\n",
            "  Cloning https://github.com/openai/whisper.git to /tmp/pip-req-build-ksaan7ul\n",
            "  Running command git clone --filter=blob:none --quiet https://github.com/openai/whisper.git /tmp/pip-req-build-ksaan7ul\n",
            "  Resolved https://github.com/openai/whisper.git to commit 279133e3107392276dc509148da1f41bfb532c7e\n",
            "  Installing build dependencies ... \u001b[?25l\u001b[?25hdone\n",
            "  Getting requirements to build wheel ... \u001b[?25l\u001b[?25hdone\n",
            "  Preparing metadata (pyproject.toml) ... \u001b[?25l\u001b[?25hdone\n",
            "Requirement already satisfied: numba in /usr/local/lib/python3.10/dist-packages (from openai-whisper==20231117) (0.60.0)\n",
            "Requirement already satisfied: numpy in /usr/local/lib/python3.10/dist-packages (from openai-whisper==20231117) (1.26.4)\n",
            "Requirement already satisfied: torch in /usr/local/lib/python3.10/dist-packages (from openai-whisper==20231117) (2.4.0+cu121)\n",
            "Requirement already satisfied: tqdm in /usr/local/lib/python3.10/dist-packages (from openai-whisper==20231117) (4.66.5)\n",
            "Requirement already satisfied: more-itertools in /usr/local/lib/python3.10/dist-packages (from openai-whisper==20231117) (10.3.0)\n",
            "Requirement already satisfied: tiktoken in /usr/local/lib/python3.10/dist-packages (from openai-whisper==20231117) (0.7.0)\n",
            "Requirement already satisfied: triton>=2.0.0 in /usr/local/lib/python3.10/dist-packages (from openai-whisper==20231117) (3.0.0)\n",
            "Requirement already satisfied: filelock in /usr/local/lib/python3.10/dist-packages (from triton>=2.0.0->openai-whisper==20231117) (3.16.0)\n",
            "Requirement already satisfied: llvmlite<0.44,>=0.43.0dev0 in /usr/local/lib/python3.10/dist-packages (from numba->openai-whisper==20231117) (0.43.0)\n",
            "Requirement already satisfied: regex>=2022.1.18 in /usr/local/lib/python3.10/dist-packages (from tiktoken->openai-whisper==20231117) (2024.5.15)\n",
            "Requirement already satisfied: requests>=2.26.0 in /usr/local/lib/python3.10/dist-packages (from tiktoken->openai-whisper==20231117) (2.32.3)\n",
            "Requirement already satisfied: typing-extensions>=4.8.0 in /usr/local/lib/python3.10/dist-packages (from torch->openai-whisper==20231117) (4.12.2)\n",
            "Requirement already satisfied: sympy in /usr/local/lib/python3.10/dist-packages (from torch->openai-whisper==20231117) (1.13.2)\n",
            "Requirement already satisfied: networkx in /usr/local/lib/python3.10/dist-packages (from torch->openai-whisper==20231117) (3.3)\n",
            "Requirement already satisfied: jinja2 in /usr/local/lib/python3.10/dist-packages (from torch->openai-whisper==20231117) (3.1.4)\n",
            "Requirement already satisfied: fsspec in /usr/local/lib/python3.10/dist-packages (from torch->openai-whisper==20231117) (2024.6.1)\n",
            "Requirement already satisfied: charset-normalizer<4,>=2 in /usr/local/lib/python3.10/dist-packages (from requests>=2.26.0->tiktoken->openai-whisper==20231117) (3.3.2)\n",
            "Requirement already satisfied: idna<4,>=2.5 in /usr/local/lib/python3.10/dist-packages (from requests>=2.26.0->tiktoken->openai-whisper==20231117) (3.8)\n",
            "Requirement already satisfied: urllib3<3,>=1.21.1 in /usr/local/lib/python3.10/dist-packages (from requests>=2.26.0->tiktoken->openai-whisper==20231117) (2.0.7)\n",
            "Requirement already satisfied: certifi>=2017.4.17 in /usr/local/lib/python3.10/dist-packages (from requests>=2.26.0->tiktoken->openai-whisper==20231117) (2024.8.30)\n",
            "Requirement already satisfied: MarkupSafe>=2.0 in /usr/local/lib/python3.10/dist-packages (from jinja2->torch->openai-whisper==20231117) (2.1.5)\n",
            "Requirement already satisfied: mpmath<1.4,>=1.1.0 in /usr/local/lib/python3.10/dist-packages (from sympy->torch->openai-whisper==20231117) (1.3.0)\n"
          ]
        }
      ],
      "source": [
        "!pip install git+https://github.com/openai/whisper.git"
      ]
    },
    {
      "cell_type": "code",
      "source": [
        "import whisper\n",
        "import json, re"
      ],
      "metadata": {
        "id": "FBaUgrssTrus"
      },
      "execution_count": 26,
      "outputs": []
    },
    {
      "cell_type": "code",
      "source": [
        "!pip install moviepy"
      ],
      "metadata": {
        "colab": {
          "base_uri": "https://localhost:8080/"
        },
        "id": "iLJk39Pl9X3I",
        "outputId": "a53e87ee-150c-45a1-b271-f927e2a0c3aa"
      },
      "execution_count": 27,
      "outputs": [
        {
          "output_type": "stream",
          "name": "stdout",
          "text": [
            "Requirement already satisfied: moviepy in /usr/local/lib/python3.10/dist-packages (1.0.3)\n",
            "Requirement already satisfied: decorator<5.0,>=4.0.2 in /usr/local/lib/python3.10/dist-packages (from moviepy) (4.4.2)\n",
            "Requirement already satisfied: tqdm<5.0,>=4.11.2 in /usr/local/lib/python3.10/dist-packages (from moviepy) (4.66.5)\n",
            "Requirement already satisfied: requests<3.0,>=2.8.1 in /usr/local/lib/python3.10/dist-packages (from moviepy) (2.32.3)\n",
            "Requirement already satisfied: proglog<=1.0.0 in /usr/local/lib/python3.10/dist-packages (from moviepy) (0.1.10)\n",
            "Requirement already satisfied: numpy>=1.17.3 in /usr/local/lib/python3.10/dist-packages (from moviepy) (1.26.4)\n",
            "Requirement already satisfied: imageio<3.0,>=2.5 in /usr/local/lib/python3.10/dist-packages (from moviepy) (2.34.2)\n",
            "Requirement already satisfied: imageio-ffmpeg>=0.2.0 in /usr/local/lib/python3.10/dist-packages (from moviepy) (0.5.1)\n",
            "Requirement already satisfied: pillow>=8.3.2 in /usr/local/lib/python3.10/dist-packages (from imageio<3.0,>=2.5->moviepy) (9.4.0)\n",
            "Requirement already satisfied: setuptools in /usr/local/lib/python3.10/dist-packages (from imageio-ffmpeg>=0.2.0->moviepy) (71.0.4)\n",
            "Requirement already satisfied: charset-normalizer<4,>=2 in /usr/local/lib/python3.10/dist-packages (from requests<3.0,>=2.8.1->moviepy) (3.3.2)\n",
            "Requirement already satisfied: idna<4,>=2.5 in /usr/local/lib/python3.10/dist-packages (from requests<3.0,>=2.8.1->moviepy) (3.8)\n",
            "Requirement already satisfied: urllib3<3,>=1.21.1 in /usr/local/lib/python3.10/dist-packages (from requests<3.0,>=2.8.1->moviepy) (2.0.7)\n",
            "Requirement already satisfied: certifi>=2017.4.17 in /usr/local/lib/python3.10/dist-packages (from requests<3.0,>=2.8.1->moviepy) (2024.8.30)\n"
          ]
        }
      ]
    },
    {
      "cell_type": "code",
      "source": [
        "from moviepy.editor import VideoFileClip"
      ],
      "metadata": {
        "id": "FKtnurNW9mBM"
      },
      "execution_count": 28,
      "outputs": []
    },
    {
      "cell_type": "code",
      "source": [
        "video_path = \"./9d4fc932d442ef2ffb17d0a8086390e6_1725887318814_0.mp4\"\n",
        "audio_path = '.'.join(video_path.split('.')[:-1]) + '.wav'\n",
        "video = VideoFileClip(video_path)\n",
        "video.audio.write_audiofile(audio_path)"
      ],
      "metadata": {
        "colab": {
          "base_uri": "https://localhost:8080/"
        },
        "id": "3JW5DgVSK5AU",
        "outputId": "5321163a-f05f-42d4-eb44-20a55c5f22d3"
      },
      "execution_count": 29,
      "outputs": [
        {
          "output_type": "stream",
          "name": "stdout",
          "text": [
            "MoviePy - Writing audio in ./9d4fc932d442ef2ffb17d0a8086390e6_1725887318814_0.wav\n"
          ]
        },
        {
          "output_type": "stream",
          "name": "stderr",
          "text": [
            "                                                                     "
          ]
        },
        {
          "output_type": "stream",
          "name": "stdout",
          "text": [
            "MoviePy - Done.\n"
          ]
        },
        {
          "output_type": "stream",
          "name": "stderr",
          "text": [
            "\r"
          ]
        }
      ]
    },
    {
      "cell_type": "code",
      "source": [
        "model = whisper.load_model(\"small\")"
      ],
      "metadata": {
        "colab": {
          "base_uri": "https://localhost:8080/"
        },
        "id": "2QjBu_ODTwRA",
        "outputId": "1d30c179-28a5-4013-bc9f-e8fa6313dbd2"
      },
      "execution_count": 30,
      "outputs": [
        {
          "output_type": "stream",
          "name": "stderr",
          "text": [
            "WARNING:py.warnings:/usr/local/lib/python3.10/dist-packages/whisper/__init__.py:146: FutureWarning: You are using `torch.load` with `weights_only=False` (the current default value), which uses the default pickle module implicitly. It is possible to construct malicious pickle data which will execute arbitrary code during unpickling (See https://github.com/pytorch/pytorch/blob/main/SECURITY.md#untrusted-models for more details). In a future release, the default value for `weights_only` will be flipped to `True`. This limits the functions that could be executed during unpickling. Arbitrary objects will no longer be allowed to be loaded via this mode unless they are explicitly allowlisted by the user via `torch.serialization.add_safe_globals`. We recommend you start setting `weights_only=True` for any use case where you don't have full control of the loaded file. Please open an issue on GitHub for any issues related to this experimental feature.\n",
            "  checkpoint = torch.load(fp, map_location=device)\n",
            "\n"
          ]
        }
      ]
    },
    {
      "cell_type": "code",
      "source": [
        "result = model.transcribe(audio_path, verbose=True, fp16=False, language=\"ja\")"
      ],
      "metadata": {
        "colab": {
          "base_uri": "https://localhost:8080/"
        },
        "id": "Wc3OYeXGT3SC",
        "outputId": "66e4897b-ecd2-4bb6-d504-eaf6743a89c3"
      },
      "execution_count": 32,
      "outputs": [
        {
          "output_type": "stream",
          "name": "stdout",
          "text": [
            "[00:00.000 --> 00:10.000] どうもこんにちは\n",
            "[00:10.000 --> 00:12.000] ありがとうございます\n",
            "[00:12.000 --> 00:19.000] ごめん 記者の時間いただきましてどうもありがとうございます\n",
            "[00:20.000 --> 00:22.000] おはよう\n",
            "[00:24.000 --> 00:29.000] では早速質問をさせていただきたいと思います\n",
            "[00:29.000 --> 00:31.000] ちょっとだけお願いします\n",
            "[00:31.000 --> 00:49.000] では早速なんですけれども\n",
            "[00:49.000 --> 00:55.000] まずフリーをどうでしたでしょうか\n",
            "[00:56.000 --> 01:02.000] 今ちょっと回線がフリーズして聞こえなかったんですけど\n",
            "[01:02.000 --> 01:07.000] フリーを導入されたのはいつ頃でしたでしょうか\n",
            "[01:07.000 --> 01:19.000] 今から6年前で2018年の4月ですね\n",
            "[01:19.000 --> 01:23.000] すごい そんな前からだったんですね\n",
            "[01:23.000 --> 01:25.000] はい\n",
            "[01:25.000 --> 01:31.000] その当時他の例えばクラウド会計のものとかって\n",
            "[01:31.000 --> 01:33.000] 検討されましたでしょうか\n",
            "[01:33.000 --> 01:41.000] マネーフォアードとフリーとどっちにしようかなという話はちょっと\n",
            "[01:41.000 --> 01:44.000] 私の中だけでありましたけども\n",
            "[01:45.000 --> 01:53.000] フリーの方がどうも私はその会計に詳しい人間ではないので\n",
            "[01:53.000 --> 02:03.000] 初心者向きだという話がちょっとしまったのレビューでありましたので\n",
            "[02:03.000 --> 02:08.000] じゃあフリーの方いいかなと思ってフリーにしました\n",
            "[02:09.000 --> 02:11.000] 少し出しました\n",
            "[02:11.000 --> 02:18.000] 価格とかはその時って検討されましたか企画というか\n",
            "[02:18.000 --> 02:25.000] あまり積極的に企画してないんですけど\n",
            "[02:25.000 --> 02:28.000] 一応フリーの方は\n",
            "[02:28.000 --> 02:30.000] いくらだったかな\n",
            "[02:30.000 --> 02:36.000] 1万2万弱という感じだったので\n",
            "[02:36.000 --> 02:41.000] それぐらいならいいかなと思ってそれにしました\n",
            "[02:41.000 --> 02:46.000] 2万弱というのは\n",
            "[02:46.000 --> 02:48.000] 月月がプレスかな\n",
            "[02:48.000 --> 02:50.000] 年間です\n",
            "[02:50.000 --> 02:52.000] 年間で\n",
            "[02:53.000 --> 02:55.000] 少ししました\n",
            "[02:55.000 --> 03:01.000] これ今使われているのは\n",
            "[03:04.000 --> 03:07.000] ご職業が自営業ってことだったんですけども\n",
            "[03:07.000 --> 03:10.000] ご自身でやっていらっしゃるビジネスにですかね\n",
            "[03:10.000 --> 03:12.000] そうですね\n",
            "[03:12.000 --> 03:18.000] 一応60歳で低年退職をしまして\n",
            "[03:19.000 --> 03:25.000] 会社に残るっていう選択肢もあったんですけど\n",
            "[03:25.000 --> 03:28.000] 給料が差があるのは分かってたので\n",
            "[03:28.000 --> 03:35.000] それぐらいだったら自分で個人事業の市になって\n",
            "[03:35.000 --> 03:47.000] 大体コンピュータシステム関係のサービス業を\n",
            "[03:47.000 --> 03:50.000] 会社でもやってましたので\n",
            "[03:50.000 --> 03:56.000] 同じような仕事を探せばいいかなと思ってやっております\n",
            "[03:56.000 --> 04:00.000] とりあえず\n",
            "[04:00.000 --> 04:02.000] それで一番のネックだったのが\n",
            "[04:02.000 --> 04:05.000] 個人事業の市になった時にネックだったのが\n",
            "[04:05.000 --> 04:08.000] 会計の農税ですよね\n",
            "[04:08.000 --> 04:13.000] 農税のこの辺の話っていうのが\n",
            "[04:14.000 --> 04:18.000] あまりほとんどやったことがなかったので\n",
            "[04:18.000 --> 04:23.000] 一応そういうクラウド会計ソフトがあれば\n",
            "[04:23.000 --> 04:28.000] その辺が楽できるかなと思って同意しました\n",
            "[04:31.000 --> 04:32.000] 生じ出しました\n",
            "[04:32.000 --> 04:36.000] 現在ってこれあの法人統計されてらっしゃいますか\n",
            "[04:36.000 --> 04:38.000] してません\n",
            "[04:38.000 --> 04:41.000] 個人事業の市のままです\n",
            "[04:41.000 --> 04:43.000] 個人事業の市なんですね\n",
            "[04:43.000 --> 04:44.000] 消除させました\n",
            "[04:44.000 --> 04:45.000] すいません\n",
            "[04:45.000 --> 04:51.000] ちょっと今回の面談の前提が法人だったので\n",
            "[04:51.000 --> 04:55.000] ちょっとそれも条件のところに入れていたんですけれども\n",
            "[04:55.000 --> 04:57.000] それは申し訳ない\n",
            "[04:57.000 --> 05:02.000] フリーもしくはMFのみ対象で導入して使用している\n",
            "[05:02.000 --> 05:05.000] ユーザーボシュートということだったので\n",
            "[05:06.000 --> 05:10.000] 法人縛りがあるとは知らなかったです\n",
            "[05:10.000 --> 05:11.000] ごめんなさい\n",
            "[05:11.000 --> 05:12.000] じゃあちょっと\n",
            "[05:12.000 --> 05:13.000] すいません\n",
            "[05:13.000 --> 05:15.000] 要件に合わないんだとは今回の話は\n",
            "[05:15.000 --> 05:18.000] キャンセルした方がよろしいでしょうか\n",
            "[05:20.000 --> 05:23.000] これ今からキャンセルってできるのかな\n",
            "[05:23.000 --> 05:24.000] 分かんないです\n",
            "[05:24.000 --> 05:25.000] ごめんなさい\n",
            "[05:25.000 --> 05:27.000] ちょっと\n",
            "[05:27.000 --> 05:28.000] そうですか\n",
            "[05:28.000 --> 05:30.000] ちょっと\n",
            "[05:30.000 --> 05:32.000] どうしたらいいのかな\n",
            "[05:32.000 --> 05:34.000] とりあえずいいです\n",
            "[05:34.000 --> 05:37.000] 報酬がなくても構いませんので\n",
            "[05:37.000 --> 05:39.000] 申し訳れません\n",
            "[05:39.000 --> 05:42.000] そちらの方で\n",
            "[05:42.000 --> 05:46.000] 納得いくまで一応みたくいただいて\n",
            "[05:46.000 --> 05:48.000] そうしましたら\n",
            "[05:48.000 --> 05:51.000] ちょっと一旦ここで終わらせていただいて\n",
            "[05:51.000 --> 05:53.000] マクロミルの方に\n",
            "[05:53.000 --> 05:56.000] ここはちょっとキャンセルという形にできるか\n",
            "[05:56.000 --> 06:01.000] というのはちょっと交渉していますので\n",
            "[06:01.000 --> 06:02.000] 申し訳れません\n",
            "[06:02.000 --> 06:04.000] お時間いただいたところ\n",
            "[06:04.000 --> 06:05.000] いい\n",
            "[06:05.000 --> 06:07.000] こちらご存知はよく言わないで\n",
            "[06:07.000 --> 06:08.000] すいません\n",
            "[06:08.000 --> 06:09.000] とんでもないです\n",
            "[06:09.000 --> 06:10.000] すいません\n",
            "[06:10.000 --> 06:11.000] どうもありがとうございました\n",
            "[06:11.000 --> 06:12.000] ありがとうございます\n",
            "[06:12.000 --> 06:14.000] 失礼いたします\n"
          ]
        }
      ]
    },
    {
      "cell_type": "code",
      "source": [
        "segments = result['segments']\n",
        "prog = re.compile('教えて|聞か|聞き|願い|ください|ですか|でしょうか|ましたか|されましたか|いつ頃')\n",
        "segment = []\n",
        "for seg in segments:\n",
        "  count = len(prog.findall(seg['text']))\n",
        "  if count > 0: print(seg['text'])\n",
        "  _seg = {'start': seg['start'], 'end': seg['end'], 'text': seg['text'], 'count': count}\n",
        "  segment.append(_seg)"
      ],
      "metadata": {
        "id": "aBB_x7vpf0az",
        "outputId": "4eecc845-7e6c-4931-cae1-e0fd311c1e13",
        "colab": {
          "base_uri": "https://localhost:8080/"
        }
      },
      "execution_count": 33,
      "outputs": [
        {
          "output_type": "stream",
          "name": "stdout",
          "text": [
            "ちょっとだけお願いします\n",
            "まずフリーをどうでしたでしょうか\n",
            "フリーを導入されたのはいつ頃でしたでしょうか\n",
            "検討されましたでしょうか\n",
            "価格とかはその時って検討されましたか企画というか\n",
            "ご自身でやっていらっしゃるビジネスにですかね\n",
            "キャンセルした方がよろしいでしょうか\n",
            "そうですか\n"
          ]
        }
      ]
    }
  ]
}