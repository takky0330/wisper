{
  "nbformat": 4,
  "nbformat_minor": 0,
  "metadata": {
    "colab": {
      "provenance": [],
      "authorship_tag": "ABX9TyOzqBWpTlmaTt50YvOgmozT",
      "include_colab_link": true
    },
    "kernelspec": {
      "name": "python3",
      "display_name": "Python 3"
    },
    "language_info": {
      "name": "python"
    }
  },
  "cells": [
    {
      "cell_type": "markdown",
      "metadata": {
        "id": "view-in-github",
        "colab_type": "text"
      },
      "source": [
        "<a href=\"https://colab.research.google.com/github/takky0330/wisper/blob/main/wisper_test.ipynb\" target=\"_parent\"><img src=\"https://colab.research.google.com/assets/colab-badge.svg\" alt=\"Open In Colab\"/></a>"
      ]
    },
    {
      "cell_type": "code",
      "source": [
        "!pip install pyannote-audio"
      ],
      "metadata": {
        "id": "lhxBgonIP5PW",
        "outputId": "c789a772-8ca3-4e1d-c1e3-1215be500094",
        "colab": {
          "base_uri": "https://localhost:8080/",
          "height": 1000
        }
      },
      "execution_count": 1,
      "outputs": [
        {
          "output_type": "stream",
          "name": "stdout",
          "text": [
            "Collecting pyannote-audio\n",
            "  Downloading pyannote.audio-3.3.2-py2.py3-none-any.whl.metadata (11 kB)\n",
            "Collecting asteroid-filterbanks>=0.4 (from pyannote-audio)\n",
            "  Downloading asteroid_filterbanks-0.4.0-py3-none-any.whl.metadata (3.3 kB)\n",
            "Requirement already satisfied: einops>=0.6.0 in /usr/local/lib/python3.10/dist-packages (from pyannote-audio) (0.8.0)\n",
            "Requirement already satisfied: huggingface-hub>=0.13.0 in /usr/local/lib/python3.10/dist-packages (from pyannote-audio) (0.24.7)\n",
            "Collecting lightning>=2.0.1 (from pyannote-audio)\n",
            "  Downloading lightning-2.4.0-py3-none-any.whl.metadata (38 kB)\n",
            "Collecting omegaconf<3.0,>=2.1 (from pyannote-audio)\n",
            "  Downloading omegaconf-2.3.0-py3-none-any.whl.metadata (3.9 kB)\n",
            "Collecting pyannote.core>=5.0.0 (from pyannote-audio)\n",
            "  Downloading pyannote.core-5.0.0-py3-none-any.whl.metadata (1.4 kB)\n",
            "Collecting pyannote.database>=5.0.1 (from pyannote-audio)\n",
            "  Downloading pyannote.database-5.1.0-py3-none-any.whl.metadata (1.2 kB)\n",
            "Collecting pyannote.metrics>=3.2 (from pyannote-audio)\n",
            "  Downloading pyannote.metrics-3.2.1-py3-none-any.whl.metadata (1.3 kB)\n",
            "Collecting pyannote.pipeline>=3.0.1 (from pyannote-audio)\n",
            "  Downloading pyannote.pipeline-3.0.1-py3-none-any.whl.metadata (897 bytes)\n",
            "Collecting pytorch-metric-learning>=2.1.0 (from pyannote-audio)\n",
            "  Downloading pytorch_metric_learning-2.6.0-py3-none-any.whl.metadata (17 kB)\n",
            "Requirement already satisfied: rich>=12.0.0 in /usr/local/lib/python3.10/dist-packages (from pyannote-audio) (13.8.1)\n",
            "Collecting semver>=3.0.0 (from pyannote-audio)\n",
            "  Downloading semver-3.0.2-py3-none-any.whl.metadata (5.0 kB)\n",
            "Requirement already satisfied: soundfile>=0.12.1 in /usr/local/lib/python3.10/dist-packages (from pyannote-audio) (0.12.1)\n",
            "Collecting speechbrain>=1.0.0 (from pyannote-audio)\n",
            "  Downloading speechbrain-1.0.1-py3-none-any.whl.metadata (24 kB)\n",
            "Collecting tensorboardX>=2.6 (from pyannote-audio)\n",
            "  Downloading tensorboardX-2.6.2.2-py2.py3-none-any.whl.metadata (5.8 kB)\n",
            "Requirement already satisfied: torch>=2.0.0 in /usr/local/lib/python3.10/dist-packages (from pyannote-audio) (2.4.0+cu121)\n",
            "Collecting torch-audiomentations>=0.11.0 (from pyannote-audio)\n",
            "  Downloading torch_audiomentations-0.11.1-py3-none-any.whl.metadata (14 kB)\n",
            "Requirement already satisfied: torchaudio>=2.2.0 in /usr/local/lib/python3.10/dist-packages (from pyannote-audio) (2.4.0+cu121)\n",
            "Collecting torchmetrics>=0.11.0 (from pyannote-audio)\n",
            "  Downloading torchmetrics-1.4.2-py3-none-any.whl.metadata (19 kB)\n",
            "Requirement already satisfied: numpy in /usr/local/lib/python3.10/dist-packages (from asteroid-filterbanks>=0.4->pyannote-audio) (1.26.4)\n",
            "Requirement already satisfied: typing-extensions in /usr/local/lib/python3.10/dist-packages (from asteroid-filterbanks>=0.4->pyannote-audio) (4.12.2)\n",
            "Requirement already satisfied: filelock in /usr/local/lib/python3.10/dist-packages (from huggingface-hub>=0.13.0->pyannote-audio) (3.16.0)\n",
            "Requirement already satisfied: fsspec>=2023.5.0 in /usr/local/lib/python3.10/dist-packages (from huggingface-hub>=0.13.0->pyannote-audio) (2024.6.1)\n",
            "Requirement already satisfied: packaging>=20.9 in /usr/local/lib/python3.10/dist-packages (from huggingface-hub>=0.13.0->pyannote-audio) (24.1)\n",
            "Requirement already satisfied: pyyaml>=5.1 in /usr/local/lib/python3.10/dist-packages (from huggingface-hub>=0.13.0->pyannote-audio) (6.0.2)\n",
            "Requirement already satisfied: requests in /usr/local/lib/python3.10/dist-packages (from huggingface-hub>=0.13.0->pyannote-audio) (2.32.3)\n",
            "Requirement already satisfied: tqdm>=4.42.1 in /usr/local/lib/python3.10/dist-packages (from huggingface-hub>=0.13.0->pyannote-audio) (4.66.5)\n",
            "Collecting lightning-utilities<2.0,>=0.10.0 (from lightning>=2.0.1->pyannote-audio)\n",
            "  Downloading lightning_utilities-0.11.7-py3-none-any.whl.metadata (5.2 kB)\n",
            "Collecting pytorch-lightning (from lightning>=2.0.1->pyannote-audio)\n",
            "  Downloading pytorch_lightning-2.4.0-py3-none-any.whl.metadata (21 kB)\n",
            "Collecting antlr4-python3-runtime==4.9.* (from omegaconf<3.0,>=2.1->pyannote-audio)\n",
            "  Downloading antlr4-python3-runtime-4.9.3.tar.gz (117 kB)\n",
            "\u001b[2K     \u001b[90m━━━━━━━━━━━━━━━━━━━━━━━━━━━━━━━━━━━━━━━━\u001b[0m \u001b[32m117.0/117.0 kB\u001b[0m \u001b[31m8.1 MB/s\u001b[0m eta \u001b[36m0:00:00\u001b[0m\n",
            "\u001b[?25h  Preparing metadata (setup.py) ... \u001b[?25l\u001b[?25hdone\n",
            "Requirement already satisfied: sortedcontainers>=2.0.4 in /usr/local/lib/python3.10/dist-packages (from pyannote.core>=5.0.0->pyannote-audio) (2.4.0)\n",
            "Requirement already satisfied: scipy>=1.1 in /usr/local/lib/python3.10/dist-packages (from pyannote.core>=5.0.0->pyannote-audio) (1.13.1)\n",
            "Requirement already satisfied: pandas>=0.19 in /usr/local/lib/python3.10/dist-packages (from pyannote.database>=5.0.1->pyannote-audio) (2.1.4)\n",
            "Requirement already satisfied: typer>=0.12.1 in /usr/local/lib/python3.10/dist-packages (from pyannote.database>=5.0.1->pyannote-audio) (0.12.5)\n",
            "Requirement already satisfied: scikit-learn>=0.17.1 in /usr/local/lib/python3.10/dist-packages (from pyannote.metrics>=3.2->pyannote-audio) (1.3.2)\n",
            "Collecting docopt>=0.6.2 (from pyannote.metrics>=3.2->pyannote-audio)\n",
            "  Downloading docopt-0.6.2.tar.gz (25 kB)\n",
            "  Preparing metadata (setup.py) ... \u001b[?25l\u001b[?25hdone\n",
            "Requirement already satisfied: tabulate>=0.7.7 in /usr/local/lib/python3.10/dist-packages (from pyannote.metrics>=3.2->pyannote-audio) (0.9.0)\n",
            "Requirement already satisfied: matplotlib>=2.0.0 in /usr/local/lib/python3.10/dist-packages (from pyannote.metrics>=3.2->pyannote-audio) (3.7.1)\n",
            "Requirement already satisfied: sympy>=1.1 in /usr/local/lib/python3.10/dist-packages (from pyannote.metrics>=3.2->pyannote-audio) (1.13.2)\n",
            "Collecting optuna>=3.1 (from pyannote.pipeline>=3.0.1->pyannote-audio)\n",
            "  Downloading optuna-4.0.0-py3-none-any.whl.metadata (16 kB)\n",
            "Requirement already satisfied: markdown-it-py>=2.2.0 in /usr/local/lib/python3.10/dist-packages (from rich>=12.0.0->pyannote-audio) (3.0.0)\n",
            "Requirement already satisfied: pygments<3.0.0,>=2.13.0 in /usr/local/lib/python3.10/dist-packages (from rich>=12.0.0->pyannote-audio) (2.16.1)\n",
            "Requirement already satisfied: cffi>=1.0 in /usr/local/lib/python3.10/dist-packages (from soundfile>=0.12.1->pyannote-audio) (1.17.1)\n",
            "Collecting hyperpyyaml (from speechbrain>=1.0.0->pyannote-audio)\n",
            "  Downloading HyperPyYAML-1.2.2-py3-none-any.whl.metadata (7.6 kB)\n",
            "Requirement already satisfied: joblib in /usr/local/lib/python3.10/dist-packages (from speechbrain>=1.0.0->pyannote-audio) (1.4.2)\n",
            "Requirement already satisfied: sentencepiece in /usr/local/lib/python3.10/dist-packages (from speechbrain>=1.0.0->pyannote-audio) (0.1.99)\n",
            "Requirement already satisfied: protobuf>=3.20 in /usr/local/lib/python3.10/dist-packages (from tensorboardX>=2.6->pyannote-audio) (3.20.3)\n",
            "Requirement already satisfied: networkx in /usr/local/lib/python3.10/dist-packages (from torch>=2.0.0->pyannote-audio) (3.3)\n",
            "Requirement already satisfied: jinja2 in /usr/local/lib/python3.10/dist-packages (from torch>=2.0.0->pyannote-audio) (3.1.4)\n",
            "Collecting julius<0.3,>=0.2.3 (from torch-audiomentations>=0.11.0->pyannote-audio)\n",
            "  Downloading julius-0.2.7.tar.gz (59 kB)\n",
            "\u001b[2K     \u001b[90m━━━━━━━━━━━━━━━━━━━━━━━━━━━━━━━━━━━━━━━━\u001b[0m \u001b[32m59.6/59.6 kB\u001b[0m \u001b[31m3.6 MB/s\u001b[0m eta \u001b[36m0:00:00\u001b[0m\n",
            "\u001b[?25h  Preparing metadata (setup.py) ... \u001b[?25l\u001b[?25hdone\n",
            "Requirement already satisfied: librosa>=0.6.0 in /usr/local/lib/python3.10/dist-packages (from torch-audiomentations>=0.11.0->pyannote-audio) (0.10.2.post1)\n",
            "Collecting torch-pitch-shift>=1.2.2 (from torch-audiomentations>=0.11.0->pyannote-audio)\n",
            "  Downloading torch_pitch_shift-1.2.4-py3-none-any.whl.metadata (2.5 kB)\n",
            "Requirement already satisfied: pycparser in /usr/local/lib/python3.10/dist-packages (from cffi>=1.0->soundfile>=0.12.1->pyannote-audio) (2.22)\n",
            "Requirement already satisfied: aiohttp!=4.0.0a0,!=4.0.0a1 in /usr/local/lib/python3.10/dist-packages (from fsspec[http]<2026.0,>=2022.5.0->lightning>=2.0.1->pyannote-audio) (3.10.5)\n",
            "Requirement already satisfied: audioread>=2.1.9 in /usr/local/lib/python3.10/dist-packages (from librosa>=0.6.0->torch-audiomentations>=0.11.0->pyannote-audio) (3.0.1)\n",
            "Requirement already satisfied: decorator>=4.3.0 in /usr/local/lib/python3.10/dist-packages (from librosa>=0.6.0->torch-audiomentations>=0.11.0->pyannote-audio) (4.4.2)\n",
            "Requirement already satisfied: numba>=0.51.0 in /usr/local/lib/python3.10/dist-packages (from librosa>=0.6.0->torch-audiomentations>=0.11.0->pyannote-audio) (0.60.0)\n",
            "Requirement already satisfied: pooch>=1.1 in /usr/local/lib/python3.10/dist-packages (from librosa>=0.6.0->torch-audiomentations>=0.11.0->pyannote-audio) (1.8.2)\n",
            "Requirement already satisfied: soxr>=0.3.2 in /usr/local/lib/python3.10/dist-packages (from librosa>=0.6.0->torch-audiomentations>=0.11.0->pyannote-audio) (0.5.0.post1)\n",
            "Requirement already satisfied: lazy-loader>=0.1 in /usr/local/lib/python3.10/dist-packages (from librosa>=0.6.0->torch-audiomentations>=0.11.0->pyannote-audio) (0.4)\n",
            "Requirement already satisfied: msgpack>=1.0 in /usr/local/lib/python3.10/dist-packages (from librosa>=0.6.0->torch-audiomentations>=0.11.0->pyannote-audio) (1.0.8)\n",
            "Requirement already satisfied: setuptools in /usr/local/lib/python3.10/dist-packages (from lightning-utilities<2.0,>=0.10.0->lightning>=2.0.1->pyannote-audio) (71.0.4)\n",
            "Requirement already satisfied: mdurl~=0.1 in /usr/local/lib/python3.10/dist-packages (from markdown-it-py>=2.2.0->rich>=12.0.0->pyannote-audio) (0.1.2)\n",
            "Requirement already satisfied: contourpy>=1.0.1 in /usr/local/lib/python3.10/dist-packages (from matplotlib>=2.0.0->pyannote.metrics>=3.2->pyannote-audio) (1.3.0)\n",
            "Requirement already satisfied: cycler>=0.10 in /usr/local/lib/python3.10/dist-packages (from matplotlib>=2.0.0->pyannote.metrics>=3.2->pyannote-audio) (0.12.1)\n",
            "Requirement already satisfied: fonttools>=4.22.0 in /usr/local/lib/python3.10/dist-packages (from matplotlib>=2.0.0->pyannote.metrics>=3.2->pyannote-audio) (4.53.1)\n",
            "Requirement already satisfied: kiwisolver>=1.0.1 in /usr/local/lib/python3.10/dist-packages (from matplotlib>=2.0.0->pyannote.metrics>=3.2->pyannote-audio) (1.4.7)\n",
            "Requirement already satisfied: pillow>=6.2.0 in /usr/local/lib/python3.10/dist-packages (from matplotlib>=2.0.0->pyannote.metrics>=3.2->pyannote-audio) (9.4.0)\n",
            "Requirement already satisfied: pyparsing>=2.3.1 in /usr/local/lib/python3.10/dist-packages (from matplotlib>=2.0.0->pyannote.metrics>=3.2->pyannote-audio) (3.1.4)\n",
            "Requirement already satisfied: python-dateutil>=2.7 in /usr/local/lib/python3.10/dist-packages (from matplotlib>=2.0.0->pyannote.metrics>=3.2->pyannote-audio) (2.8.2)\n",
            "Collecting alembic>=1.5.0 (from optuna>=3.1->pyannote.pipeline>=3.0.1->pyannote-audio)\n",
            "  Downloading alembic-1.13.2-py3-none-any.whl.metadata (7.4 kB)\n",
            "Collecting colorlog (from optuna>=3.1->pyannote.pipeline>=3.0.1->pyannote-audio)\n",
            "  Downloading colorlog-6.8.2-py3-none-any.whl.metadata (10 kB)\n",
            "Requirement already satisfied: sqlalchemy>=1.3.0 in /usr/local/lib/python3.10/dist-packages (from optuna>=3.1->pyannote.pipeline>=3.0.1->pyannote-audio) (2.0.34)\n",
            "Requirement already satisfied: pytz>=2020.1 in /usr/local/lib/python3.10/dist-packages (from pandas>=0.19->pyannote.database>=5.0.1->pyannote-audio) (2024.2)\n",
            "Requirement already satisfied: tzdata>=2022.1 in /usr/local/lib/python3.10/dist-packages (from pandas>=0.19->pyannote.database>=5.0.1->pyannote-audio) (2024.1)\n",
            "Requirement already satisfied: threadpoolctl>=2.0.0 in /usr/local/lib/python3.10/dist-packages (from scikit-learn>=0.17.1->pyannote.metrics>=3.2->pyannote-audio) (3.5.0)\n",
            "Requirement already satisfied: mpmath<1.4,>=1.1.0 in /usr/local/lib/python3.10/dist-packages (from sympy>=1.1->pyannote.metrics>=3.2->pyannote-audio) (1.3.0)\n",
            "Collecting primePy>=1.3 (from torch-pitch-shift>=1.2.2->torch-audiomentations>=0.11.0->pyannote-audio)\n",
            "  Downloading primePy-1.3-py3-none-any.whl.metadata (4.8 kB)\n",
            "Requirement already satisfied: click>=8.0.0 in /usr/local/lib/python3.10/dist-packages (from typer>=0.12.1->pyannote.database>=5.0.1->pyannote-audio) (8.1.7)\n",
            "Requirement already satisfied: shellingham>=1.3.0 in /usr/local/lib/python3.10/dist-packages (from typer>=0.12.1->pyannote.database>=5.0.1->pyannote-audio) (1.5.4)\n",
            "Collecting ruamel.yaml>=0.17.28 (from hyperpyyaml->speechbrain>=1.0.0->pyannote-audio)\n",
            "  Downloading ruamel.yaml-0.18.6-py3-none-any.whl.metadata (23 kB)\n",
            "Requirement already satisfied: MarkupSafe>=2.0 in /usr/local/lib/python3.10/dist-packages (from jinja2->torch>=2.0.0->pyannote-audio) (2.1.5)\n",
            "Requirement already satisfied: charset-normalizer<4,>=2 in /usr/local/lib/python3.10/dist-packages (from requests->huggingface-hub>=0.13.0->pyannote-audio) (3.3.2)\n",
            "Requirement already satisfied: idna<4,>=2.5 in /usr/local/lib/python3.10/dist-packages (from requests->huggingface-hub>=0.13.0->pyannote-audio) (3.8)\n",
            "Requirement already satisfied: urllib3<3,>=1.21.1 in /usr/local/lib/python3.10/dist-packages (from requests->huggingface-hub>=0.13.0->pyannote-audio) (2.0.7)\n",
            "Requirement already satisfied: certifi>=2017.4.17 in /usr/local/lib/python3.10/dist-packages (from requests->huggingface-hub>=0.13.0->pyannote-audio) (2024.8.30)\n",
            "Requirement already satisfied: aiohappyeyeballs>=2.3.0 in /usr/local/lib/python3.10/dist-packages (from aiohttp!=4.0.0a0,!=4.0.0a1->fsspec[http]<2026.0,>=2022.5.0->lightning>=2.0.1->pyannote-audio) (2.4.0)\n",
            "Requirement already satisfied: aiosignal>=1.1.2 in /usr/local/lib/python3.10/dist-packages (from aiohttp!=4.0.0a0,!=4.0.0a1->fsspec[http]<2026.0,>=2022.5.0->lightning>=2.0.1->pyannote-audio) (1.3.1)\n",
            "Requirement already satisfied: attrs>=17.3.0 in /usr/local/lib/python3.10/dist-packages (from aiohttp!=4.0.0a0,!=4.0.0a1->fsspec[http]<2026.0,>=2022.5.0->lightning>=2.0.1->pyannote-audio) (24.2.0)\n",
            "Requirement already satisfied: frozenlist>=1.1.1 in /usr/local/lib/python3.10/dist-packages (from aiohttp!=4.0.0a0,!=4.0.0a1->fsspec[http]<2026.0,>=2022.5.0->lightning>=2.0.1->pyannote-audio) (1.4.1)\n",
            "Requirement already satisfied: multidict<7.0,>=4.5 in /usr/local/lib/python3.10/dist-packages (from aiohttp!=4.0.0a0,!=4.0.0a1->fsspec[http]<2026.0,>=2022.5.0->lightning>=2.0.1->pyannote-audio) (6.1.0)\n",
            "Requirement already satisfied: yarl<2.0,>=1.0 in /usr/local/lib/python3.10/dist-packages (from aiohttp!=4.0.0a0,!=4.0.0a1->fsspec[http]<2026.0,>=2022.5.0->lightning>=2.0.1->pyannote-audio) (1.11.1)\n",
            "Requirement already satisfied: async-timeout<5.0,>=4.0 in /usr/local/lib/python3.10/dist-packages (from aiohttp!=4.0.0a0,!=4.0.0a1->fsspec[http]<2026.0,>=2022.5.0->lightning>=2.0.1->pyannote-audio) (4.0.3)\n",
            "Collecting Mako (from alembic>=1.5.0->optuna>=3.1->pyannote.pipeline>=3.0.1->pyannote-audio)\n",
            "  Downloading Mako-1.3.5-py3-none-any.whl.metadata (2.9 kB)\n",
            "Requirement already satisfied: llvmlite<0.44,>=0.43.0dev0 in /usr/local/lib/python3.10/dist-packages (from numba>=0.51.0->librosa>=0.6.0->torch-audiomentations>=0.11.0->pyannote-audio) (0.43.0)\n",
            "Requirement already satisfied: platformdirs>=2.5.0 in /usr/local/lib/python3.10/dist-packages (from pooch>=1.1->librosa>=0.6.0->torch-audiomentations>=0.11.0->pyannote-audio) (4.3.2)\n",
            "Requirement already satisfied: six>=1.5 in /usr/local/lib/python3.10/dist-packages (from python-dateutil>=2.7->matplotlib>=2.0.0->pyannote.metrics>=3.2->pyannote-audio) (1.16.0)\n",
            "Collecting ruamel.yaml.clib>=0.2.7 (from ruamel.yaml>=0.17.28->hyperpyyaml->speechbrain>=1.0.0->pyannote-audio)\n",
            "  Downloading ruamel.yaml.clib-0.2.8-cp310-cp310-manylinux_2_17_x86_64.manylinux2014_x86_64.manylinux_2_24_x86_64.whl.metadata (2.2 kB)\n",
            "Requirement already satisfied: greenlet!=0.4.17 in /usr/local/lib/python3.10/dist-packages (from sqlalchemy>=1.3.0->optuna>=3.1->pyannote.pipeline>=3.0.1->pyannote-audio) (3.1.0)\n",
            "Downloading pyannote.audio-3.3.2-py2.py3-none-any.whl (898 kB)\n",
            "\u001b[2K   \u001b[90m━━━━━━━━━━━━━━━━━━━━━━━━━━━━━━━━━━━━━━━━\u001b[0m \u001b[32m898.7/898.7 kB\u001b[0m \u001b[31m40.0 MB/s\u001b[0m eta \u001b[36m0:00:00\u001b[0m\n",
            "\u001b[?25hDownloading asteroid_filterbanks-0.4.0-py3-none-any.whl (29 kB)\n",
            "Downloading lightning-2.4.0-py3-none-any.whl (810 kB)\n",
            "\u001b[2K   \u001b[90m━━━━━━━━━━━━━━━━━━━━━━━━━━━━━━━━━━━━━━━━\u001b[0m \u001b[32m811.0/811.0 kB\u001b[0m \u001b[31m40.2 MB/s\u001b[0m eta \u001b[36m0:00:00\u001b[0m\n",
            "\u001b[?25hDownloading omegaconf-2.3.0-py3-none-any.whl (79 kB)\n",
            "\u001b[2K   \u001b[90m━━━━━━━━━━━━━━━━━━━━━━━━━━━━━━━━━━━━━━━━\u001b[0m \u001b[32m79.5/79.5 kB\u001b[0m \u001b[31m6.5 MB/s\u001b[0m eta \u001b[36m0:00:00\u001b[0m\n",
            "\u001b[?25hDownloading pyannote.core-5.0.0-py3-none-any.whl (58 kB)\n",
            "\u001b[2K   \u001b[90m━━━━━━━━━━━━━━━━━━━━━━━━━━━━━━━━━━━━━━━━\u001b[0m \u001b[32m58.5/58.5 kB\u001b[0m \u001b[31m5.6 MB/s\u001b[0m eta \u001b[36m0:00:00\u001b[0m\n",
            "\u001b[?25hDownloading pyannote.database-5.1.0-py3-none-any.whl (48 kB)\n",
            "\u001b[2K   \u001b[90m━━━━━━━━━━━━━━━━━━━━━━━━━━━━━━━━━━━━━━━━\u001b[0m \u001b[32m48.1/48.1 kB\u001b[0m \u001b[31m4.1 MB/s\u001b[0m eta \u001b[36m0:00:00\u001b[0m\n",
            "\u001b[?25hDownloading pyannote.metrics-3.2.1-py3-none-any.whl (51 kB)\n",
            "\u001b[2K   \u001b[90m━━━━━━━━━━━━━━━━━━━━━━━━━━━━━━━━━━━━━━━━\u001b[0m \u001b[32m51.4/51.4 kB\u001b[0m \u001b[31m4.3 MB/s\u001b[0m eta \u001b[36m0:00:00\u001b[0m\n",
            "\u001b[?25hDownloading pyannote.pipeline-3.0.1-py3-none-any.whl (31 kB)\n",
            "Downloading pytorch_metric_learning-2.6.0-py3-none-any.whl (119 kB)\n",
            "\u001b[2K   \u001b[90m━━━━━━━━━━━━━━━━━━━━━━━━━━━━━━━━━━━━━━━━\u001b[0m \u001b[32m119.3/119.3 kB\u001b[0m \u001b[31m8.8 MB/s\u001b[0m eta \u001b[36m0:00:00\u001b[0m\n",
            "\u001b[?25hDownloading semver-3.0.2-py3-none-any.whl (17 kB)\n",
            "Downloading speechbrain-1.0.1-py3-none-any.whl (807 kB)\n",
            "\u001b[2K   \u001b[90m━━━━━━━━━━━━━━━━━━━━━━━━━━━━━━━━━━━━━━━━\u001b[0m \u001b[32m807.2/807.2 kB\u001b[0m \u001b[31m42.5 MB/s\u001b[0m eta \u001b[36m0:00:00\u001b[0m\n",
            "\u001b[?25hDownloading tensorboardX-2.6.2.2-py2.py3-none-any.whl (101 kB)\n",
            "\u001b[2K   \u001b[90m━━━━━━━━━━━━━━━━━━━━━━━━━━━━━━━━━━━━━━━━\u001b[0m \u001b[32m101.7/101.7 kB\u001b[0m \u001b[31m7.8 MB/s\u001b[0m eta \u001b[36m0:00:00\u001b[0m\n",
            "\u001b[?25hDownloading torch_audiomentations-0.11.1-py3-none-any.whl (50 kB)\n",
            "\u001b[2K   \u001b[90m━━━━━━━━━━━━━━━━━━━━━━━━━━━━━━━━━━━━━━━━\u001b[0m \u001b[32m50.1/50.1 kB\u001b[0m \u001b[31m3.4 MB/s\u001b[0m eta \u001b[36m0:00:00\u001b[0m\n",
            "\u001b[?25hDownloading torchmetrics-1.4.2-py3-none-any.whl (869 kB)\n",
            "\u001b[2K   \u001b[90m━━━━━━━━━━━━━━━━━━━━━━━━━━━━━━━━━━━━━━━━\u001b[0m \u001b[32m869.2/869.2 kB\u001b[0m \u001b[31m42.9 MB/s\u001b[0m eta \u001b[36m0:00:00\u001b[0m\n",
            "\u001b[?25hDownloading lightning_utilities-0.11.7-py3-none-any.whl (26 kB)\n",
            "Downloading optuna-4.0.0-py3-none-any.whl (362 kB)\n",
            "\u001b[2K   \u001b[90m━━━━━━━━━━━━━━━━━━━━━━━━━━━━━━━━━━━━━━━━\u001b[0m \u001b[32m362.8/362.8 kB\u001b[0m \u001b[31m16.1 MB/s\u001b[0m eta \u001b[36m0:00:00\u001b[0m\n",
            "\u001b[?25hDownloading torch_pitch_shift-1.2.4-py3-none-any.whl (4.9 kB)\n",
            "Downloading HyperPyYAML-1.2.2-py3-none-any.whl (16 kB)\n",
            "Downloading pytorch_lightning-2.4.0-py3-none-any.whl (815 kB)\n",
            "\u001b[2K   \u001b[90m━━━━━━━━━━━━━━━━━━━━━━━━━━━━━━━━━━━━━━━━\u001b[0m \u001b[32m815.2/815.2 kB\u001b[0m \u001b[31m38.2 MB/s\u001b[0m eta \u001b[36m0:00:00\u001b[0m\n",
            "\u001b[?25hDownloading alembic-1.13.2-py3-none-any.whl (232 kB)\n",
            "\u001b[2K   \u001b[90m━━━━━━━━━━━━━━━━━━━━━━━━━━━━━━━━━━━━━━━━\u001b[0m \u001b[32m233.0/233.0 kB\u001b[0m \u001b[31m15.7 MB/s\u001b[0m eta \u001b[36m0:00:00\u001b[0m\n",
            "\u001b[?25hDownloading primePy-1.3-py3-none-any.whl (4.0 kB)\n",
            "Downloading ruamel.yaml-0.18.6-py3-none-any.whl (117 kB)\n",
            "\u001b[2K   \u001b[90m━━━━━━━━━━━━━━━━━━━━━━━━━━━━━━━━━━━━━━━━\u001b[0m \u001b[32m117.8/117.8 kB\u001b[0m \u001b[31m11.0 MB/s\u001b[0m eta \u001b[36m0:00:00\u001b[0m\n",
            "\u001b[?25hDownloading colorlog-6.8.2-py3-none-any.whl (11 kB)\n",
            "Downloading ruamel.yaml.clib-0.2.8-cp310-cp310-manylinux_2_17_x86_64.manylinux2014_x86_64.manylinux_2_24_x86_64.whl (526 kB)\n",
            "\u001b[2K   \u001b[90m━━━━━━━━━━━━━━━━━━━━━━━━━━━━━━━━━━━━━━━━\u001b[0m \u001b[32m526.7/526.7 kB\u001b[0m \u001b[31m32.9 MB/s\u001b[0m eta \u001b[36m0:00:00\u001b[0m\n",
            "\u001b[?25hDownloading Mako-1.3.5-py3-none-any.whl (78 kB)\n",
            "\u001b[2K   \u001b[90m━━━━━━━━━━━━━━━━━━━━━━━━━━━━━━━━━━━━━━━━\u001b[0m \u001b[32m78.6/78.6 kB\u001b[0m \u001b[31m5.5 MB/s\u001b[0m eta \u001b[36m0:00:00\u001b[0m\n",
            "\u001b[?25hBuilding wheels for collected packages: antlr4-python3-runtime, docopt, julius\n",
            "  Building wheel for antlr4-python3-runtime (setup.py) ... \u001b[?25l\u001b[?25hdone\n",
            "  Created wheel for antlr4-python3-runtime: filename=antlr4_python3_runtime-4.9.3-py3-none-any.whl size=144554 sha256=3a5ea6aee25320e28d191ad5a154afdaaa2ed7ec8dd749ca76828ce2b96eca33\n",
            "  Stored in directory: /root/.cache/pip/wheels/12/93/dd/1f6a127edc45659556564c5730f6d4e300888f4bca2d4c5a88\n",
            "  Building wheel for docopt (setup.py) ... \u001b[?25l\u001b[?25hdone\n",
            "  Created wheel for docopt: filename=docopt-0.6.2-py2.py3-none-any.whl size=13704 sha256=71d88610fbef424c3ed9031e1245428d6a07b33df90a03aec7ebc4e8c9028865\n",
            "  Stored in directory: /root/.cache/pip/wheels/fc/ab/d4/5da2067ac95b36618c629a5f93f809425700506f72c9732fac\n",
            "  Building wheel for julius (setup.py) ... \u001b[?25l\u001b[?25hdone\n",
            "  Created wheel for julius: filename=julius-0.2.7-py3-none-any.whl size=21869 sha256=1742b900c688059c269d6415033199fabd45b1e30e4f7f5e7e85f6ce6767960d\n",
            "  Stored in directory: /root/.cache/pip/wheels/b9/b2/05/f883527ffcb7f2ead5438a2c23439aa0c881eaa9a4c80256f4\n",
            "Successfully built antlr4-python3-runtime docopt julius\n",
            "Installing collected packages: primePy, docopt, antlr4-python3-runtime, tensorboardX, semver, ruamel.yaml.clib, omegaconf, Mako, lightning-utilities, colorlog, ruamel.yaml, pyannote.core, alembic, torchmetrics, pytorch-metric-learning, optuna, julius, hyperpyyaml, asteroid-filterbanks, torch-pitch-shift, speechbrain, pyannote.database, torch-audiomentations, pytorch-lightning, pyannote.pipeline, pyannote.metrics, lightning, pyannote-audio\n",
            "Successfully installed Mako-1.3.5 alembic-1.13.2 antlr4-python3-runtime-4.9.3 asteroid-filterbanks-0.4.0 colorlog-6.8.2 docopt-0.6.2 hyperpyyaml-1.2.2 julius-0.2.7 lightning-2.4.0 lightning-utilities-0.11.7 omegaconf-2.3.0 optuna-4.0.0 primePy-1.3 pyannote-audio-3.3.2 pyannote.core-5.0.0 pyannote.database-5.1.0 pyannote.metrics-3.2.1 pyannote.pipeline-3.0.1 pytorch-lightning-2.4.0 pytorch-metric-learning-2.6.0 ruamel.yaml-0.18.6 ruamel.yaml.clib-0.2.8 semver-3.0.2 speechbrain-1.0.1 tensorboardX-2.6.2.2 torch-audiomentations-0.11.1 torch-pitch-shift-1.2.4 torchmetrics-1.4.2\n"
          ]
        },
        {
          "output_type": "display_data",
          "data": {
            "application/vnd.colab-display-data+json": {
              "pip_warning": {
                "packages": [
                  "pydevd_plugins"
                ]
              },
              "id": "5c1c1c1020d741b2b5b5eed7efc671a6"
            }
          },
          "metadata": {}
        }
      ]
    },
    {
      "cell_type": "code",
      "source": [
        "import numpy as np\n",
        "from pyannote.audio import Pipeline, Audio\n",
        "from pyannote.core import Segment\n",
        "from pyannote.audio.pipelines.speaker_verification import PretrainedSpeakerEmbedding"
      ],
      "metadata": {
        "id": "CJeWPXJFQjlN"
      },
      "execution_count": 1,
      "outputs": []
    },
    {
      "cell_type": "code",
      "source": [
        "!pip install moviepy"
      ],
      "metadata": {
        "id": "iLJk39Pl9X3I",
        "outputId": "3615d7d1-8221-4d14-f153-c246f215419c",
        "colab": {
          "base_uri": "https://localhost:8080/"
        }
      },
      "execution_count": 2,
      "outputs": [
        {
          "output_type": "stream",
          "name": "stdout",
          "text": [
            "Requirement already satisfied: moviepy in /usr/local/lib/python3.10/dist-packages (1.0.3)\n",
            "Requirement already satisfied: decorator<5.0,>=4.0.2 in /usr/local/lib/python3.10/dist-packages (from moviepy) (4.4.2)\n",
            "Requirement already satisfied: tqdm<5.0,>=4.11.2 in /usr/local/lib/python3.10/dist-packages (from moviepy) (4.66.5)\n",
            "Requirement already satisfied: requests<3.0,>=2.8.1 in /usr/local/lib/python3.10/dist-packages (from moviepy) (2.32.3)\n",
            "Requirement already satisfied: proglog<=1.0.0 in /usr/local/lib/python3.10/dist-packages (from moviepy) (0.1.10)\n",
            "Requirement already satisfied: numpy>=1.17.3 in /usr/local/lib/python3.10/dist-packages (from moviepy) (1.26.4)\n",
            "Requirement already satisfied: imageio<3.0,>=2.5 in /usr/local/lib/python3.10/dist-packages (from moviepy) (2.34.2)\n",
            "Requirement already satisfied: imageio-ffmpeg>=0.2.0 in /usr/local/lib/python3.10/dist-packages (from moviepy) (0.5.1)\n",
            "Requirement already satisfied: pillow>=8.3.2 in /usr/local/lib/python3.10/dist-packages (from imageio<3.0,>=2.5->moviepy) (9.4.0)\n",
            "Requirement already satisfied: setuptools in /usr/local/lib/python3.10/dist-packages (from imageio-ffmpeg>=0.2.0->moviepy) (71.0.4)\n",
            "Requirement already satisfied: charset-normalizer<4,>=2 in /usr/local/lib/python3.10/dist-packages (from requests<3.0,>=2.8.1->moviepy) (3.3.2)\n",
            "Requirement already satisfied: idna<4,>=2.5 in /usr/local/lib/python3.10/dist-packages (from requests<3.0,>=2.8.1->moviepy) (3.8)\n",
            "Requirement already satisfied: urllib3<3,>=1.21.1 in /usr/local/lib/python3.10/dist-packages (from requests<3.0,>=2.8.1->moviepy) (2.0.7)\n",
            "Requirement already satisfied: certifi>=2017.4.17 in /usr/local/lib/python3.10/dist-packages (from requests<3.0,>=2.8.1->moviepy) (2024.8.30)\n"
          ]
        }
      ]
    },
    {
      "cell_type": "code",
      "source": [
        "from moviepy.editor import VideoFileClip"
      ],
      "metadata": {
        "id": "FKtnurNW9mBM"
      },
      "execution_count": 3,
      "outputs": []
    },
    {
      "cell_type": "code",
      "source": [
        "video_path = \"./9d4fc932d442ef2ffb17d0a8086390e6_1725887318814_0.mp4\"\n",
        "video_path = \"./Sample_data_Hisajima-Mitsumura.mp4\"\n",
        "audio_path = '.'.join(video_path.split('.')[:-1]) + '.wav'\n",
        "video = VideoFileClip(video_path)\n",
        "video.audio.write_audiofile(audio_path, ffmpeg_params=[\"-ac\", \"1\"])  #モノラルで出力"
      ],
      "metadata": {
        "id": "3JW5DgVSK5AU",
        "outputId": "2a333b20-dd5c-4013-94cb-e7536bed9994",
        "colab": {
          "base_uri": "https://localhost:8080/"
        }
      },
      "execution_count": 4,
      "outputs": [
        {
          "output_type": "stream",
          "name": "stdout",
          "text": [
            "MoviePy - Writing audio in ./Sample_data_Hisajima-Mitsumura.wav\n"
          ]
        },
        {
          "output_type": "stream",
          "name": "stderr",
          "text": [
            "                                                                      "
          ]
        },
        {
          "output_type": "stream",
          "name": "stdout",
          "text": [
            "MoviePy - Done.\n"
          ]
        },
        {
          "output_type": "stream",
          "name": "stderr",
          "text": [
            "\r"
          ]
        }
      ]
    },
    {
      "cell_type": "code",
      "execution_count": 5,
      "metadata": {
        "id": "N_oGHqinTJxz",
        "outputId": "cddbafe5-13bb-4e51-fb38-fd1e6c4ee51d",
        "colab": {
          "base_uri": "https://localhost:8080/"
        }
      },
      "outputs": [
        {
          "output_type": "stream",
          "name": "stdout",
          "text": [
            "Collecting git+https://github.com/openai/whisper.git\n",
            "  Cloning https://github.com/openai/whisper.git to /tmp/pip-req-build-crxa6h__\n",
            "  Running command git clone --filter=blob:none --quiet https://github.com/openai/whisper.git /tmp/pip-req-build-crxa6h__\n",
            "  Resolved https://github.com/openai/whisper.git to commit 279133e3107392276dc509148da1f41bfb532c7e\n",
            "  Installing build dependencies ... \u001b[?25l\u001b[?25hdone\n",
            "  Getting requirements to build wheel ... \u001b[?25l\u001b[?25hdone\n",
            "  Preparing metadata (pyproject.toml) ... \u001b[?25l\u001b[?25hdone\n",
            "Requirement already satisfied: numba in /usr/local/lib/python3.10/dist-packages (from openai-whisper==20231117) (0.60.0)\n",
            "Requirement already satisfied: numpy in /usr/local/lib/python3.10/dist-packages (from openai-whisper==20231117) (1.26.4)\n",
            "Requirement already satisfied: torch in /usr/local/lib/python3.10/dist-packages (from openai-whisper==20231117) (2.4.0+cu121)\n",
            "Requirement already satisfied: tqdm in /usr/local/lib/python3.10/dist-packages (from openai-whisper==20231117) (4.66.5)\n",
            "Requirement already satisfied: more-itertools in /usr/local/lib/python3.10/dist-packages (from openai-whisper==20231117) (10.3.0)\n",
            "Collecting tiktoken (from openai-whisper==20231117)\n",
            "  Downloading tiktoken-0.7.0-cp310-cp310-manylinux_2_17_x86_64.manylinux2014_x86_64.whl.metadata (6.6 kB)\n",
            "Collecting triton>=2.0.0 (from openai-whisper==20231117)\n",
            "  Downloading triton-3.0.0-1-cp310-cp310-manylinux2014_x86_64.manylinux_2_17_x86_64.whl.metadata (1.3 kB)\n",
            "Requirement already satisfied: filelock in /usr/local/lib/python3.10/dist-packages (from triton>=2.0.0->openai-whisper==20231117) (3.16.0)\n",
            "Requirement already satisfied: llvmlite<0.44,>=0.43.0dev0 in /usr/local/lib/python3.10/dist-packages (from numba->openai-whisper==20231117) (0.43.0)\n",
            "Requirement already satisfied: regex>=2022.1.18 in /usr/local/lib/python3.10/dist-packages (from tiktoken->openai-whisper==20231117) (2024.5.15)\n",
            "Requirement already satisfied: requests>=2.26.0 in /usr/local/lib/python3.10/dist-packages (from tiktoken->openai-whisper==20231117) (2.32.3)\n",
            "Requirement already satisfied: typing-extensions>=4.8.0 in /usr/local/lib/python3.10/dist-packages (from torch->openai-whisper==20231117) (4.12.2)\n",
            "Requirement already satisfied: sympy in /usr/local/lib/python3.10/dist-packages (from torch->openai-whisper==20231117) (1.13.2)\n",
            "Requirement already satisfied: networkx in /usr/local/lib/python3.10/dist-packages (from torch->openai-whisper==20231117) (3.3)\n",
            "Requirement already satisfied: jinja2 in /usr/local/lib/python3.10/dist-packages (from torch->openai-whisper==20231117) (3.1.4)\n",
            "Requirement already satisfied: fsspec in /usr/local/lib/python3.10/dist-packages (from torch->openai-whisper==20231117) (2024.6.1)\n",
            "Requirement already satisfied: charset-normalizer<4,>=2 in /usr/local/lib/python3.10/dist-packages (from requests>=2.26.0->tiktoken->openai-whisper==20231117) (3.3.2)\n",
            "Requirement already satisfied: idna<4,>=2.5 in /usr/local/lib/python3.10/dist-packages (from requests>=2.26.0->tiktoken->openai-whisper==20231117) (3.8)\n",
            "Requirement already satisfied: urllib3<3,>=1.21.1 in /usr/local/lib/python3.10/dist-packages (from requests>=2.26.0->tiktoken->openai-whisper==20231117) (2.0.7)\n",
            "Requirement already satisfied: certifi>=2017.4.17 in /usr/local/lib/python3.10/dist-packages (from requests>=2.26.0->tiktoken->openai-whisper==20231117) (2024.8.30)\n",
            "Requirement already satisfied: MarkupSafe>=2.0 in /usr/local/lib/python3.10/dist-packages (from jinja2->torch->openai-whisper==20231117) (2.1.5)\n",
            "Requirement already satisfied: mpmath<1.4,>=1.1.0 in /usr/local/lib/python3.10/dist-packages (from sympy->torch->openai-whisper==20231117) (1.3.0)\n",
            "Downloading triton-3.0.0-1-cp310-cp310-manylinux2014_x86_64.manylinux_2_17_x86_64.whl (209.4 MB)\n",
            "\u001b[2K   \u001b[90m━━━━━━━━━━━━━━━━━━━━━━━━━━━━━━━━━━━━━━━━\u001b[0m \u001b[32m209.4/209.4 MB\u001b[0m \u001b[31m2.7 MB/s\u001b[0m eta \u001b[36m0:00:00\u001b[0m\n",
            "\u001b[?25hDownloading tiktoken-0.7.0-cp310-cp310-manylinux_2_17_x86_64.manylinux2014_x86_64.whl (1.1 MB)\n",
            "\u001b[2K   \u001b[90m━━━━━━━━━━━━━━━━━━━━━━━━━━━━━━━━━━━━━━━━\u001b[0m \u001b[32m1.1/1.1 MB\u001b[0m \u001b[31m48.0 MB/s\u001b[0m eta \u001b[36m0:00:00\u001b[0m\n",
            "\u001b[?25hBuilding wheels for collected packages: openai-whisper\n",
            "  Building wheel for openai-whisper (pyproject.toml) ... \u001b[?25l\u001b[?25hdone\n",
            "  Created wheel for openai-whisper: filename=openai_whisper-20231117-py3-none-any.whl size=802819 sha256=2b8f6f6eeb561b6609bfef99bac4957bcfc9e53602560571118603b1b7b45b18\n",
            "  Stored in directory: /tmp/pip-ephem-wheel-cache-hdcg5f9a/wheels/8b/6c/d0/622666868c179f156cf595c8b6f06f88bc5d80c4b31dccaa03\n",
            "Successfully built openai-whisper\n",
            "Installing collected packages: triton, tiktoken, openai-whisper\n",
            "Successfully installed openai-whisper-20231117 tiktoken-0.7.0 triton-3.0.0\n"
          ]
        }
      ],
      "source": [
        "!pip install git+https://github.com/openai/whisper.git"
      ]
    },
    {
      "cell_type": "code",
      "source": [
        "import whisper\n",
        "import json, re"
      ],
      "metadata": {
        "id": "FBaUgrssTrus"
      },
      "execution_count": 6,
      "outputs": []
    },
    {
      "cell_type": "code",
      "source": [
        "model = whisper.load_model(\"large\")"
      ],
      "metadata": {
        "id": "2QjBu_ODTwRA",
        "outputId": "c114e63e-b589-41f8-a7ef-bed1424dcc80",
        "colab": {
          "base_uri": "https://localhost:8080/"
        }
      },
      "execution_count": null,
      "outputs": [
        {
          "output_type": "stream",
          "name": "stderr",
          "text": [
            "100%|█████████████████████████████████████| 2.88G/2.88G [00:54<00:00, 56.6MiB/s]\n"
          ]
        }
      ]
    },
    {
      "cell_type": "code",
      "source": [
        "result = model.transcribe(audio_path, verbose=True, fp16=False, language=\"ja\")"
      ],
      "metadata": {
        "id": "Wc3OYeXGT3SC",
        "outputId": "14b268f6-67fc-4bdc-abbe-5795070b2b0c",
        "colab": {
          "base_uri": "https://localhost:8080/"
        }
      },
      "execution_count": 17,
      "outputs": [
        {
          "output_type": "stream",
          "name": "stdout",
          "text": [
            "[00:00.000 --> 00:06.000] 今日はですね、ものを買われたり、サービスとか使われる時に、\n",
            "[00:06.000 --> 00:09.000] どういうことを思っていらっしゃるとか、\n",
            "[00:09.000 --> 00:12.000] そういう関係のことをお伺いしたいと思って、\n",
            "[00:12.000 --> 00:14.000] 来ていただきました。\n",
            "[00:14.000 --> 00:18.000] いろいろとお話を伺って、今後のサービスとか、\n",
            "[00:18.000 --> 00:22.000] いろいろ考える時に、いかしてもらおうと思っておりますので、\n",
            "[00:22.000 --> 00:25.000] 緩い感じでお話を伺えるようだと思いますので、\n",
            "[00:25.000 --> 00:27.000] よろしくお願いします。\n",
            "[00:27.000 --> 00:31.000] はい。あと一応今回のインタビューなんですけど、\n",
            "[00:31.000 --> 00:39.000] 録音とか録画とかをさせていただいているんですけれども、\n",
            "[00:39.000 --> 00:44.000] 関係者だけ見るだけで、特に他に私もいないので、\n",
            "[00:44.000 --> 00:47.000] あとは小児童弟もしっかりお話ししていただきますので、\n",
            "[00:47.000 --> 00:48.000] お話しください。\n",
            "[00:48.000 --> 00:49.000] はい。\n",
            "[00:49.000 --> 00:51.000] はい。ではよろしくお願いします。\n",
            "[00:51.000 --> 00:56.000] まず簡単に言うんですけど、名前とかお仕事とか、\n",
            "[00:56.000 --> 01:01.000] ご家族とか、あと最近の趣味とか、\n",
            "[01:01.000 --> 01:05.000] 最近の趣味とか、最近こんなこと気になっているとか、\n",
            "[01:05.000 --> 01:07.000] こういうことやっているみたいなことがあれば、\n",
            "[01:07.000 --> 01:10.000] 自己紹介みたいな感じで教えてもらってもいいですか?\n",
            "[01:10.000 --> 01:11.000] はい。\n",
            "[01:14.000 --> 01:15.000] 三村と言います。\n",
            "[01:15.000 --> 01:16.000] はい。\n",
            "[01:19.000 --> 01:20.000] 仕事は、\n",
            "[01:20.000 --> 01:22.000] 三村さん、なんて呼ばれているんですか?\n",
            "[01:24.000 --> 01:25.000] お友達には。\n",
            "[01:25.000 --> 01:27.000] あだ名とかあります?\n",
            "[01:27.000 --> 01:34.000] あだ名は、結構名前を文字って呼ばれるかも。\n",
            "[01:34.000 --> 01:35.000] そうなんですね。\n",
            "[01:35.000 --> 01:40.000] 名前で呼び捨てされたり、バリエーションいろいろあるんですけど、\n",
            "[01:40.000 --> 01:41.000] この感じの。\n",
            "[01:41.000 --> 01:42.000] はい、その感じです。\n",
            "[01:42.000 --> 01:46.000] 仕事は、会社でアンデスワークをしています。\n",
            "[01:46.000 --> 01:51.000] 趣味は、\n",
            "[01:51.000 --> 01:55.000] 美術館に行ったりとか、舞台読みに行ったりとか、\n",
            "[01:55.000 --> 02:01.000] コンサート行って、ピキに行ったりとか、するのが好きなので、\n",
            "[02:01.000 --> 02:03.000] かなりよく行っていると思います。\n",
            "[02:03.000 --> 02:04.000] はい。\n",
            "[02:04.000 --> 02:05.000] あと、何でしたっけ?\n",
            "[02:05.000 --> 02:10.000] 大体、ご家族とか、親御さんと住んでいらっしゃるとか。\n",
            "[02:10.000 --> 02:16.000] そうですね。今は、実家にいるので、両親と3人で住んでいます。\n",
            "[02:16.000 --> 02:17.000] なるほど。\n",
            "[02:17.000 --> 02:18.000] はい。\n",
            "[02:18.000 --> 02:19.000] 3人で住んでいます。\n",
            "[02:19.000 --> 02:20.000] はい。\n",
            "[02:20.000 --> 02:24.000] あれですか、趣味の美術とか音楽とかっていうのは、\n",
            "[02:24.000 --> 02:26.000] 何か、お話ししたいですか?\n",
            "[02:26.000 --> 02:27.000] はい。\n",
            "[02:27.000 --> 02:28.000] 3人で住んでいます。\n",
            "[02:28.000 --> 02:29.000] はい。\n",
            "[02:29.000 --> 02:34.000] あれですか、趣味の美術とか音楽とかっていうのは、\n",
            "[02:34.000 --> 02:35.000] はい。\n",
            "[02:35.000 --> 02:38.000] 何か、どれくらいよく行かれるってことなんですけど、\n",
            "[02:38.000 --> 02:40.000] どこに行ったりとか。\n",
            "[02:40.000 --> 02:47.000] 美術で行くと、美術館だったりとか、\n",
            "[02:47.000 --> 02:50.000] もうちょっと小っちゃい個展みたいなのがあったり、\n",
            "[02:50.000 --> 02:55.000] 色々なんですけど、土日は、どっちかは行きたいなっていう感じなので、\n",
            "[02:55.000 --> 02:56.000] ああ、そうですか。\n",
            "[02:56.000 --> 02:59.000] 週1回以上は行っていると思います。\n",
            "[02:59.000 --> 03:02.000] あとは、そういうのが好きな友達と一緒にいると、\n",
            "[03:02.000 --> 03:04.000] なんか、橋越したりするので。\n"
          ]
        }
      ]
    },
    {
      "cell_type": "code",
      "source": [
        "segments = result['segments']\n",
        "prog = re.compile('教えて|聞か|聞き|願い|ください|ですか|でしょうか|ましたか|されましたか|いつ頃')\n",
        "INTERVIEW = []\n",
        "for seg in segments:\n",
        "  count = len(prog.findall(seg['text']))\n",
        "  if count > 0: print(seg['text'])\n",
        "  _seg = {'start': seg['start'], 'end': seg['end'], 'text': seg['text'], 'count': count}\n",
        "  INTERVIEW.append(_seg)"
      ],
      "metadata": {
        "id": "aBB_x7vpf0az",
        "outputId": "8672cc6e-9a75-4aad-a73f-7cf929de2a8e",
        "colab": {
          "base_uri": "https://localhost:8080/"
        }
      },
      "execution_count": 18,
      "outputs": [
        {
          "output_type": "stream",
          "name": "stdout",
          "text": [
            "よろしくお願いします。\n",
            "お話しください。\n",
            "はい。ではよろしくお願いします。\n",
            "自己紹介みたいな感じで教えてもらってもいいですか?\n",
            "三村さん、なんて呼ばれているんですか?\n",
            "あれですか、趣味の美術とか音楽とかっていうのは、\n",
            "何か、お話ししたいですか?\n",
            "あれですか、趣味の美術とか音楽とかっていうのは、\n",
            "ああ、そうですか。\n"
          ]
        }
      ]
    },
    {
      "cell_type": "code",
      "source": [
        "segments = result['segments']\n",
        "embedding_model = PretrainedSpeakerEmbedding(\"speechbrain/spkrec-ecapa-voxceleb\", device='cpu')\n",
        "embeddings = np.zeros(shape=(len(segments), 192))\n",
        "\n",
        "duration = video.duration\n",
        "embeddings = []\n",
        "\n",
        "\n",
        "for i, segment in enumerate(segments):\n",
        "    audio = Audio()\n",
        "    start = segment[\"start\"]\n",
        "    end = min(duration, segment[\"end\"])\n",
        "    clip = Segment(start, end)\n",
        "    waveform, sample_rate = audio.crop(audio_path, clip)\n",
        "    print(waveform[0])\n",
        "    _enbed = embedding_model(waveform[None])\n",
        "    #print(_enbed[0])\n",
        "    embeddings.append(_enbed[0])\n",
        "\n",
        "embeddings = np.nan_to_num(embeddings)\n"
      ],
      "metadata": {
        "id": "RJG9GjQwudiK",
        "outputId": "6ff55b12-188b-4980-ff12-6c5e1529d12e",
        "colab": {
          "base_uri": "https://localhost:8080/"
        }
      },
      "execution_count": 19,
      "outputs": [
        {
          "output_type": "stream",
          "name": "stdout",
          "text": [
            "tensor([0.0000, 0.0000, 0.0000,  ..., 0.0161, 0.0197, 0.0204])\n",
            "tensor([ 0.0201,  0.0227,  0.0232,  ..., -0.0106, -0.0089, -0.0089])\n",
            "tensor([-0.0083, -0.0067, -0.0080,  ..., -0.0044, -0.0043, -0.0045])\n",
            "tensor([-0.0045, -0.0050, -0.0037,  ...,  0.0276,  0.0266,  0.0267])\n",
            "tensor([0.0257, 0.0236, 0.0234,  ..., 0.0067, 0.0067, 0.0056])\n",
            "tensor([ 0.0043,  0.0037,  0.0028,  ..., -0.0038, -0.0042, -0.0036])\n",
            "tensor([-0.0029, -0.0033, -0.0036,  ...,  0.0210,  0.0222,  0.0218])\n",
            "tensor([0.0204, 0.0196, 0.0173,  ..., 0.0068, 0.0057, 0.0050])\n",
            "tensor([ 0.0049,  0.0049,  0.0050,  ..., -0.0031, -0.0013,  0.0009])\n",
            "tensor([ 0.0016,  0.0030,  0.0046,  ..., -0.0113, -0.0113, -0.0105])\n",
            "tensor([-1.0925e-02, -1.1383e-02, -1.0101e-02,  ..., -8.8501e-04,\n",
            "         3.0518e-05, -1.0986e-03])\n",
            "tensor([-0.0020, -0.0016, -0.0018,  ..., -0.0126, -0.0137, -0.0134])\n",
            "tensor([-0.0151, -0.0158, -0.0153,  ..., -0.0014, -0.0011, -0.0017])\n",
            "tensor([-0.0026, -0.0028, -0.0026,  ...,  0.0140,  0.0139,  0.0130])\n",
            "tensor([0.0132, 0.0131, 0.0125,  ..., 0.0057, 0.0046, 0.0052])\n",
            "tensor([0.0067, 0.0054, 0.0026,  ..., 0.0034, 0.0026, 0.0027])\n",
            "tensor([0.0024, 0.0021, 0.0035,  ..., 0.0106, 0.0087, 0.0084])\n",
            "tensor([ 0.0082,  0.0056,  0.0064,  ..., -0.0121, -0.0103, -0.0079])\n",
            "tensor([-0.0073, -0.0083, -0.0077,  ..., -0.0305, -0.0326, -0.0352])\n",
            "tensor([-0.0362, -0.0373, -0.0392,  ..., -0.0046, -0.0037, -0.0040])\n",
            "tensor([-0.0053, -0.0037, -0.0046,  ..., -0.0012, -0.0024, -0.0023])\n",
            "tensor([-0.0005, -0.0015, -0.0006,  ..., -0.0127, -0.0123, -0.0128])\n",
            "tensor([-0.0142, -0.0123, -0.0087,  ..., -0.0150, -0.0138, -0.0157])\n",
            "tensor([-3.9673e-04,  9.1553e-05, -1.1902e-03,  ...,  2.4811e-02,\n",
            "         2.3285e-02,  1.9867e-02])\n",
            "tensor([0.0155, 0.0121, 0.0076,  ..., 0.0006, 0.0012, 0.0000])\n",
            "tensor([0.0020, 0.0020, 0.0020,  ..., 0.0045, 0.0047, 0.0049])\n",
            "tensor([0.0044, 0.0049, 0.0042,  ..., 0.0033, 0.0022, 0.0023])\n",
            "tensor([ 0.0028,  0.0033,  0.0034,  ...,  0.0142,  0.0065, -0.0018])\n",
            "tensor([-0.0130, -0.0220, -0.0307,  ...,  0.0062,  0.0070,  0.0060])\n",
            "tensor([0.0053, 0.0055, 0.0051,  ..., 0.0024, 0.0012, 0.0011])\n",
            "tensor([-0.0004, -0.0019, -0.0018,  ...,  0.0259,  0.0273,  0.0276])\n",
            "tensor([ 0.0282,  0.0298,  0.0287,  ..., -0.0061, -0.0178, -0.0211])\n",
            "tensor([-0.0178, -0.0129, -0.0072,  ..., -0.0076, -0.0072, -0.0051])\n",
            "tensor([-0.0025, -0.0021, -0.0044,  ...,  0.0053,  0.0047,  0.0039])\n",
            "tensor([ 0.0048,  0.0050,  0.0053,  ..., -0.0039, -0.0051, -0.0044])\n",
            "tensor([-4.9133e-03, -5.5542e-03, -4.0894e-03,  ..., -3.0518e-05,\n",
            "         6.4087e-04,  9.1553e-04])\n",
            "tensor([ 0.0015,  0.0020,  0.0024,  ..., -0.0485, -0.0481, -0.0481])\n",
            "tensor([-0.0470, -0.0475, -0.0491,  ...,  0.0072,  0.0072,  0.0078])\n",
            "tensor([ 0.0082,  0.0087,  0.0098,  ..., -0.0179, -0.0182, -0.0175])\n",
            "tensor([-0.0179, -0.0180, -0.0186,  ..., -0.0152, -0.0155, -0.0150])\n",
            "tensor([-0.0153, -0.0159, -0.0168,  ...,  0.0643,  0.0580,  0.0535])\n",
            "tensor([ 0.0505,  0.0461,  0.0417,  ..., -0.0359, -0.0339, -0.0334])\n",
            "tensor([-3.1586e-02, -3.0212e-02, -3.0548e-02,  ...,  8.8501e-04,\n",
            "         1.2207e-04,  9.1553e-05])\n",
            "tensor([ 7.6294e-04, -9.1553e-05, -4.8828e-04,  ..., -1.0681e-03,\n",
            "        -7.0190e-04, -1.6174e-03])\n",
            "tensor([-0.0010, -0.0007, -0.0016,  ...,  0.0020,  0.0015,  0.0021])\n",
            "tensor([ 0.0016,  0.0011,  0.0021,  ..., -0.0037, -0.0030, -0.0042])\n",
            "tensor([-0.0063, -0.0060, -0.0061,  ...,  0.0208,  0.0197,  0.0168])\n",
            "tensor([0.0136, 0.0106, 0.0112,  ..., 0.0054, 0.0069, 0.0093])\n",
            "tensor([0.0135, 0.0145, 0.0128,  ..., 0.0021, 0.0031, 0.0041])\n",
            "tensor([0.0034, 0.0035, 0.0033,  ..., 0.0014, 0.0026, 0.0020])\n",
            "tensor([ 0.0023,  0.0026,  0.0008,  ..., -0.0060, -0.0053, -0.0035])\n",
            "tensor([-0.0020, -0.0025, -0.0029,  ...,  0.0096,  0.0075,  0.0078])\n",
            "tensor([0.0064, 0.0032, 0.0030,  ..., 0.0020, 0.0018, 0.0032])\n",
            "tensor([0.0020, 0.0021, 0.0030,  ..., 0.0039, 0.0023, 0.0023])\n",
            "tensor([ 0.0032,  0.0031,  0.0018,  ..., -0.0078, -0.0085, -0.0081])\n",
            "tensor([-0.0082, -0.0081, -0.0068,  ...,  0.0106,  0.0078,  0.0055])\n",
            "tensor([ 0.0016, -0.0039, -0.0082,  ...,  0.0127,  0.0095,  0.0089])\n",
            "tensor([ 0.0030, -0.0024, -0.0065,  ..., -0.0435, -0.0276, -0.0096])\n",
            "tensor([ 0.0026,  0.0007, -0.0164,  ..., -0.0010,  0.0000,  0.0009])\n",
            "tensor([ 0.0007,  0.0031,  0.0032,  ..., -0.0022, -0.0023, -0.0022])\n",
            "tensor([-0.0024, -0.0016, -0.0013,  ...,  0.0118,  0.0108,  0.0095])\n"
          ]
        }
      ]
    },
    {
      "cell_type": "code",
      "source": [
        "from sklearn.cluster import AgglomerativeClustering\n",
        "speaker_count = 2"
      ],
      "metadata": {
        "id": "R0L5jb5VJQo2"
      },
      "execution_count": 20,
      "outputs": []
    },
    {
      "cell_type": "code",
      "source": [
        "clustering_agg = AgglomerativeClustering(speaker_count).fit(embeddings)"
      ],
      "metadata": {
        "id": "Q6yQZfN-JbBB"
      },
      "execution_count": 22,
      "outputs": []
    },
    {
      "cell_type": "code",
      "source": [
        "labeled_segments = []\n",
        "for label, segment in zip(clustering_agg.labels_, result[\"segments\"]):\n",
        "    labeled_segments.append((label, segment[\"start\"], segment[\"text\"]))\n",
        "\n",
        "interivew = []\n",
        "print(INTERVIEW)\n",
        "for s, (speaker, _, text) in enumerate(labeled_segments):\n",
        "    stime = INTERVIEW[s][\"start\"]\n",
        "    interivew.append(f\"話者{speaker + 1} :  {stime} 〜 : 「{text}」\")"
      ],
      "metadata": {
        "id": "PN2Y1ZHfMhNd",
        "outputId": "3105242d-93f1-4e62-ec66-9bea1b9bb72b",
        "colab": {
          "base_uri": "https://localhost:8080/"
        }
      },
      "execution_count": 23,
      "outputs": [
        {
          "output_type": "stream",
          "name": "stdout",
          "text": [
            "[{'start': 0.0, 'end': 6.0, 'text': '今日はですね、ものを買われたり、サービスとか使われる時に、', 'count': 0}, {'start': 6.0, 'end': 9.0, 'text': 'どういうことを思っていらっしゃるとか、', 'count': 0}, {'start': 9.0, 'end': 12.0, 'text': 'そういう関係のことをお伺いしたいと思って、', 'count': 0}, {'start': 12.0, 'end': 14.0, 'text': '来ていただきました。', 'count': 0}, {'start': 14.0, 'end': 18.0, 'text': 'いろいろとお話を伺って、今後のサービスとか、', 'count': 0}, {'start': 18.0, 'end': 22.0, 'text': 'いろいろ考える時に、いかしてもらおうと思っておりますので、', 'count': 0}, {'start': 22.0, 'end': 25.0, 'text': '緩い感じでお話を伺えるようだと思いますので、', 'count': 0}, {'start': 25.0, 'end': 27.0, 'text': 'よろしくお願いします。', 'count': 1}, {'start': 27.0, 'end': 31.0, 'text': 'はい。あと一応今回のインタビューなんですけど、', 'count': 0}, {'start': 31.0, 'end': 39.0, 'text': '録音とか録画とかをさせていただいているんですけれども、', 'count': 0}, {'start': 39.0, 'end': 44.0, 'text': '関係者だけ見るだけで、特に他に私もいないので、', 'count': 0}, {'start': 44.0, 'end': 47.0, 'text': 'あとは小児童弟もしっかりお話ししていただきますので、', 'count': 0}, {'start': 47.0, 'end': 48.0, 'text': 'お話しください。', 'count': 1}, {'start': 48.0, 'end': 49.0, 'text': 'はい。', 'count': 0}, {'start': 49.0, 'end': 51.0, 'text': 'はい。ではよろしくお願いします。', 'count': 1}, {'start': 51.0, 'end': 56.0, 'text': 'まず簡単に言うんですけど、名前とかお仕事とか、', 'count': 0}, {'start': 56.0, 'end': 61.0, 'text': 'ご家族とか、あと最近の趣味とか、', 'count': 0}, {'start': 61.0, 'end': 65.0, 'text': '最近の趣味とか、最近こんなこと気になっているとか、', 'count': 0}, {'start': 65.0, 'end': 67.0, 'text': 'こういうことやっているみたいなことがあれば、', 'count': 0}, {'start': 67.0, 'end': 70.0, 'text': '自己紹介みたいな感じで教えてもらってもいいですか?', 'count': 2}, {'start': 70.0, 'end': 71.0, 'text': 'はい。', 'count': 0}, {'start': 74.0, 'end': 75.0, 'text': '三村と言います。', 'count': 0}, {'start': 75.0, 'end': 76.0, 'text': 'はい。', 'count': 0}, {'start': 79.0, 'end': 80.0, 'text': '仕事は、', 'count': 0}, {'start': 80.0, 'end': 82.0, 'text': '三村さん、なんて呼ばれているんですか?', 'count': 1}, {'start': 84.0, 'end': 85.0, 'text': 'お友達には。', 'count': 0}, {'start': 85.0, 'end': 87.0, 'text': 'あだ名とかあります?', 'count': 0}, {'start': 87.0, 'end': 94.0, 'text': 'あだ名は、結構名前を文字って呼ばれるかも。', 'count': 0}, {'start': 94.0, 'end': 95.0, 'text': 'そうなんですね。', 'count': 0}, {'start': 95.0, 'end': 100.0, 'text': '名前で呼び捨てされたり、バリエーションいろいろあるんですけど、', 'count': 0}, {'start': 100.0, 'end': 101.0, 'text': 'この感じの。', 'count': 0}, {'start': 101.0, 'end': 102.0, 'text': 'はい、その感じです。', 'count': 0}, {'start': 102.0, 'end': 106.0, 'text': '仕事は、会社でアンデスワークをしています。', 'count': 0}, {'start': 106.0, 'end': 111.0, 'text': '趣味は、', 'count': 0}, {'start': 111.0, 'end': 115.0, 'text': '美術館に行ったりとか、舞台読みに行ったりとか、', 'count': 0}, {'start': 115.0, 'end': 121.0, 'text': 'コンサート行って、ピキに行ったりとか、するのが好きなので、', 'count': 0}, {'start': 121.0, 'end': 123.0, 'text': 'かなりよく行っていると思います。', 'count': 0}, {'start': 123.0, 'end': 124.0, 'text': 'はい。', 'count': 0}, {'start': 124.0, 'end': 125.0, 'text': 'あと、何でしたっけ?', 'count': 0}, {'start': 125.0, 'end': 130.0, 'text': '大体、ご家族とか、親御さんと住んでいらっしゃるとか。', 'count': 0}, {'start': 130.0, 'end': 136.0, 'text': 'そうですね。今は、実家にいるので、両親と3人で住んでいます。', 'count': 0}, {'start': 136.0, 'end': 137.0, 'text': 'なるほど。', 'count': 0}, {'start': 137.0, 'end': 138.0, 'text': 'はい。', 'count': 0}, {'start': 138.0, 'end': 139.0, 'text': '3人で住んでいます。', 'count': 0}, {'start': 139.0, 'end': 140.0, 'text': 'はい。', 'count': 0}, {'start': 140.0, 'end': 144.0, 'text': 'あれですか、趣味の美術とか音楽とかっていうのは、', 'count': 1}, {'start': 144.0, 'end': 146.0, 'text': '何か、お話ししたいですか?', 'count': 1}, {'start': 146.0, 'end': 147.0, 'text': 'はい。', 'count': 0}, {'start': 147.0, 'end': 148.0, 'text': '3人で住んでいます。', 'count': 0}, {'start': 148.0, 'end': 149.0, 'text': 'はい。', 'count': 0}, {'start': 149.0, 'end': 154.0, 'text': 'あれですか、趣味の美術とか音楽とかっていうのは、', 'count': 1}, {'start': 154.0, 'end': 155.0, 'text': 'はい。', 'count': 0}, {'start': 155.0, 'end': 158.0, 'text': '何か、どれくらいよく行かれるってことなんですけど、', 'count': 0}, {'start': 158.0, 'end': 160.0, 'text': 'どこに行ったりとか。', 'count': 0}, {'start': 160.0, 'end': 167.0, 'text': '美術で行くと、美術館だったりとか、', 'count': 0}, {'start': 167.0, 'end': 170.0, 'text': 'もうちょっと小っちゃい個展みたいなのがあったり、', 'count': 0}, {'start': 170.0, 'end': 175.0, 'text': '色々なんですけど、土日は、どっちかは行きたいなっていう感じなので、', 'count': 0}, {'start': 175.0, 'end': 176.0, 'text': 'ああ、そうですか。', 'count': 1}, {'start': 176.0, 'end': 179.0, 'text': '週1回以上は行っていると思います。', 'count': 0}, {'start': 179.0, 'end': 182.0, 'text': 'あとは、そういうのが好きな友達と一緒にいると、', 'count': 0}, {'start': 182.0, 'end': 184.0, 'text': 'なんか、橋越したりするので。', 'count': 0}]\n"
          ]
        }
      ]
    },
    {
      "cell_type": "code",
      "source": [
        "for speek in interivew:\n",
        "  print(speek)"
      ],
      "metadata": {
        "id": "scndYnR8Mqv1",
        "outputId": "d6f188a3-0cb6-42c9-9936-2aeff3c94f7d",
        "colab": {
          "base_uri": "https://localhost:8080/"
        }
      },
      "execution_count": 24,
      "outputs": [
        {
          "output_type": "stream",
          "name": "stdout",
          "text": [
            "話者1 :  0.0 〜 : 「今日はですね、ものを買われたり、サービスとか使われる時に、」\n",
            "話者1 :  6.0 〜 : 「どういうことを思っていらっしゃるとか、」\n",
            "話者1 :  9.0 〜 : 「そういう関係のことをお伺いしたいと思って、」\n",
            "話者1 :  12.0 〜 : 「来ていただきました。」\n",
            "話者1 :  14.0 〜 : 「いろいろとお話を伺って、今後のサービスとか、」\n",
            "話者1 :  18.0 〜 : 「いろいろ考える時に、いかしてもらおうと思っておりますので、」\n",
            "話者1 :  22.0 〜 : 「緩い感じでお話を伺えるようだと思いますので、」\n",
            "話者1 :  25.0 〜 : 「よろしくお願いします。」\n",
            "話者1 :  27.0 〜 : 「はい。あと一応今回のインタビューなんですけど、」\n",
            "話者1 :  31.0 〜 : 「録音とか録画とかをさせていただいているんですけれども、」\n",
            "話者1 :  39.0 〜 : 「関係者だけ見るだけで、特に他に私もいないので、」\n",
            "話者1 :  44.0 〜 : 「あとは小児童弟もしっかりお話ししていただきますので、」\n",
            "話者1 :  47.0 〜 : 「お話しください。」\n",
            "話者1 :  48.0 〜 : 「はい。」\n",
            "話者1 :  49.0 〜 : 「はい。ではよろしくお願いします。」\n",
            "話者1 :  51.0 〜 : 「まず簡単に言うんですけど、名前とかお仕事とか、」\n",
            "話者1 :  56.0 〜 : 「ご家族とか、あと最近の趣味とか、」\n",
            "話者1 :  61.0 〜 : 「最近の趣味とか、最近こんなこと気になっているとか、」\n",
            "話者1 :  65.0 〜 : 「こういうことやっているみたいなことがあれば、」\n",
            "話者1 :  67.0 〜 : 「自己紹介みたいな感じで教えてもらってもいいですか?」\n",
            "話者1 :  70.0 〜 : 「はい。」\n",
            "話者2 :  74.0 〜 : 「三村と言います。」\n",
            "話者1 :  75.0 〜 : 「はい。」\n",
            "話者2 :  79.0 〜 : 「仕事は、」\n",
            "話者1 :  80.0 〜 : 「三村さん、なんて呼ばれているんですか?」\n",
            "話者1 :  84.0 〜 : 「お友達には。」\n",
            "話者1 :  85.0 〜 : 「あだ名とかあります?」\n",
            "話者2 :  87.0 〜 : 「あだ名は、結構名前を文字って呼ばれるかも。」\n",
            "話者2 :  94.0 〜 : 「そうなんですね。」\n",
            "話者2 :  95.0 〜 : 「名前で呼び捨てされたり、バリエーションいろいろあるんですけど、」\n",
            "話者1 :  100.0 〜 : 「この感じの。」\n",
            "話者1 :  101.0 〜 : 「はい、その感じです。」\n",
            "話者1 :  102.0 〜 : 「仕事は、会社でアンデスワークをしています。」\n",
            "話者2 :  106.0 〜 : 「趣味は、」\n",
            "話者2 :  111.0 〜 : 「美術館に行ったりとか、舞台読みに行ったりとか、」\n",
            "話者2 :  115.0 〜 : 「コンサート行って、ピキに行ったりとか、するのが好きなので、」\n",
            "話者2 :  121.0 〜 : 「かなりよく行っていると思います。」\n",
            "話者1 :  123.0 〜 : 「はい。」\n",
            "話者1 :  124.0 〜 : 「あと、何でしたっけ?」\n",
            "話者2 :  125.0 〜 : 「大体、ご家族とか、親御さんと住んでいらっしゃるとか。」\n",
            "話者2 :  130.0 〜 : 「そうですね。今は、実家にいるので、両親と3人で住んでいます。」\n",
            "話者1 :  136.0 〜 : 「なるほど。」\n",
            "話者1 :  137.0 〜 : 「はい。」\n",
            "話者1 :  138.0 〜 : 「3人で住んでいます。」\n",
            "話者1 :  139.0 〜 : 「はい。」\n",
            "話者2 :  140.0 〜 : 「あれですか、趣味の美術とか音楽とかっていうのは、」\n",
            "話者2 :  144.0 〜 : 「何か、お話ししたいですか?」\n",
            "話者2 :  146.0 〜 : 「はい。」\n",
            "話者1 :  147.0 〜 : 「3人で住んでいます。」\n",
            "話者1 :  148.0 〜 : 「はい。」\n",
            "話者1 :  149.0 〜 : 「あれですか、趣味の美術とか音楽とかっていうのは、」\n",
            "話者1 :  154.0 〜 : 「はい。」\n",
            "話者1 :  155.0 〜 : 「何か、どれくらいよく行かれるってことなんですけど、」\n",
            "話者1 :  158.0 〜 : 「どこに行ったりとか。」\n",
            "話者2 :  160.0 〜 : 「美術で行くと、美術館だったりとか、」\n",
            "話者2 :  167.0 〜 : 「もうちょっと小っちゃい個展みたいなのがあったり、」\n",
            "話者2 :  170.0 〜 : 「色々なんですけど、土日は、どっちかは行きたいなっていう感じなので、」\n",
            "話者2 :  175.0 〜 : 「ああ、そうですか。」\n",
            "話者2 :  176.0 〜 : 「週1回以上は行っていると思います。」\n",
            "話者2 :  179.0 〜 : 「あとは、そういうのが好きな友達と一緒にいると、」\n",
            "話者2 :  182.0 〜 : 「なんか、橋越したりするので。」\n"
          ]
        }
      ]
    },
    {
      "cell_type": "code",
      "source": [
        "from sklearn import cluster\n",
        "import matplotlib.pyplot as plt\n",
        "%matplotlib inline"
      ],
      "metadata": {
        "id": "IL199OrSsFEb"
      },
      "execution_count": null,
      "outputs": []
    },
    {
      "cell_type": "code",
      "source": [
        "clustering_kmeans = cluster.KMeans(n_clusters=speaker_count)\n",
        "clustering_kmeans.fit(embeddings)"
      ],
      "metadata": {
        "id": "7KMVAl7etief",
        "outputId": "5ad7cec7-0827-4844-ebcf-fd67818926e5",
        "colab": {
          "base_uri": "https://localhost:8080/",
          "height": 74
        }
      },
      "execution_count": null,
      "outputs": [
        {
          "output_type": "execute_result",
          "data": {
            "text/plain": [
              "KMeans(n_clusters=2)"
            ],
            "text/html": [
              "<style>#sk-container-id-3 {color: black;}#sk-container-id-3 pre{padding: 0;}#sk-container-id-3 div.sk-toggleable {background-color: white;}#sk-container-id-3 label.sk-toggleable__label {cursor: pointer;display: block;width: 100%;margin-bottom: 0;padding: 0.3em;box-sizing: border-box;text-align: center;}#sk-container-id-3 label.sk-toggleable__label-arrow:before {content: \"▸\";float: left;margin-right: 0.25em;color: #696969;}#sk-container-id-3 label.sk-toggleable__label-arrow:hover:before {color: black;}#sk-container-id-3 div.sk-estimator:hover label.sk-toggleable__label-arrow:before {color: black;}#sk-container-id-3 div.sk-toggleable__content {max-height: 0;max-width: 0;overflow: hidden;text-align: left;background-color: #f0f8ff;}#sk-container-id-3 div.sk-toggleable__content pre {margin: 0.2em;color: black;border-radius: 0.25em;background-color: #f0f8ff;}#sk-container-id-3 input.sk-toggleable__control:checked~div.sk-toggleable__content {max-height: 200px;max-width: 100%;overflow: auto;}#sk-container-id-3 input.sk-toggleable__control:checked~label.sk-toggleable__label-arrow:before {content: \"▾\";}#sk-container-id-3 div.sk-estimator input.sk-toggleable__control:checked~label.sk-toggleable__label {background-color: #d4ebff;}#sk-container-id-3 div.sk-label input.sk-toggleable__control:checked~label.sk-toggleable__label {background-color: #d4ebff;}#sk-container-id-3 input.sk-hidden--visually {border: 0;clip: rect(1px 1px 1px 1px);clip: rect(1px, 1px, 1px, 1px);height: 1px;margin: -1px;overflow: hidden;padding: 0;position: absolute;width: 1px;}#sk-container-id-3 div.sk-estimator {font-family: monospace;background-color: #f0f8ff;border: 1px dotted black;border-radius: 0.25em;box-sizing: border-box;margin-bottom: 0.5em;}#sk-container-id-3 div.sk-estimator:hover {background-color: #d4ebff;}#sk-container-id-3 div.sk-parallel-item::after {content: \"\";width: 100%;border-bottom: 1px solid gray;flex-grow: 1;}#sk-container-id-3 div.sk-label:hover label.sk-toggleable__label {background-color: #d4ebff;}#sk-container-id-3 div.sk-serial::before {content: \"\";position: absolute;border-left: 1px solid gray;box-sizing: border-box;top: 0;bottom: 0;left: 50%;z-index: 0;}#sk-container-id-3 div.sk-serial {display: flex;flex-direction: column;align-items: center;background-color: white;padding-right: 0.2em;padding-left: 0.2em;position: relative;}#sk-container-id-3 div.sk-item {position: relative;z-index: 1;}#sk-container-id-3 div.sk-parallel {display: flex;align-items: stretch;justify-content: center;background-color: white;position: relative;}#sk-container-id-3 div.sk-item::before, #sk-container-id-3 div.sk-parallel-item::before {content: \"\";position: absolute;border-left: 1px solid gray;box-sizing: border-box;top: 0;bottom: 0;left: 50%;z-index: -1;}#sk-container-id-3 div.sk-parallel-item {display: flex;flex-direction: column;z-index: 1;position: relative;background-color: white;}#sk-container-id-3 div.sk-parallel-item:first-child::after {align-self: flex-end;width: 50%;}#sk-container-id-3 div.sk-parallel-item:last-child::after {align-self: flex-start;width: 50%;}#sk-container-id-3 div.sk-parallel-item:only-child::after {width: 0;}#sk-container-id-3 div.sk-dashed-wrapped {border: 1px dashed gray;margin: 0 0.4em 0.5em 0.4em;box-sizing: border-box;padding-bottom: 0.4em;background-color: white;}#sk-container-id-3 div.sk-label label {font-family: monospace;font-weight: bold;display: inline-block;line-height: 1.2em;}#sk-container-id-3 div.sk-label-container {text-align: center;}#sk-container-id-3 div.sk-container {/* jupyter's `normalize.less` sets `[hidden] { display: none; }` but bootstrap.min.css set `[hidden] { display: none !important; }` so we also need the `!important` here to be able to override the default hidden behavior on the sphinx rendered scikit-learn.org. See: https://github.com/scikit-learn/scikit-learn/issues/21755 */display: inline-block !important;position: relative;}#sk-container-id-3 div.sk-text-repr-fallback {display: none;}</style><div id=\"sk-container-id-3\" class=\"sk-top-container\"><div class=\"sk-text-repr-fallback\"><pre>KMeans(n_clusters=2)</pre><b>In a Jupyter environment, please rerun this cell to show the HTML representation or trust the notebook. <br />On GitHub, the HTML representation is unable to render, please try loading this page with nbviewer.org.</b></div><div class=\"sk-container\" hidden><div class=\"sk-item\"><div class=\"sk-estimator sk-toggleable\"><input class=\"sk-toggleable__control sk-hidden--visually\" id=\"sk-estimator-id-3\" type=\"checkbox\" checked><label for=\"sk-estimator-id-3\" class=\"sk-toggleable__label sk-toggleable__label-arrow\">KMeans</label><div class=\"sk-toggleable__content\"><pre>KMeans(n_clusters=2)</pre></div></div></div></div></div>"
            ]
          },
          "metadata": {},
          "execution_count": 33
        }
      ]
    },
    {
      "cell_type": "code",
      "source": [
        "labeled_segments = []\n",
        "for label, segment in zip(clustering_kmeans.labels_, result[\"segments\"]):\n",
        "    labeled_segments.append((label, segment[\"start\"], segment[\"text\"]))\n",
        "\n",
        "interivew = []\n",
        "print(INTERVIEW)\n",
        "for s, (speaker, _, text) in enumerate(labeled_segments):\n",
        "    stime = INTERVIEW[s][\"start\"]\n",
        "    interivew.append(f\"話者{speaker + 1} :  {stime} 〜 : 「{text}」\")"
      ],
      "metadata": {
        "id": "1s0_sVlRufiv",
        "outputId": "0a5b73f1-b215-4e3e-c1ed-0a6bbaf0963d",
        "colab": {
          "base_uri": "https://localhost:8080/"
        }
      },
      "execution_count": null,
      "outputs": [
        {
          "output_type": "stream",
          "name": "stdout",
          "text": [
            "[{'start': 0.0, 'end': 10.0, 'text': 'どうもこんにちは', 'count': 0}, {'start': 10.0, 'end': 12.0, 'text': 'ありがとうございます', 'count': 0}, {'start': 12.0, 'end': 19.0, 'text': 'ごめん 記者の時間いただきましてどうもありがとうございます', 'count': 0}, {'start': 20.0, 'end': 22.0, 'text': 'おはよう', 'count': 0}, {'start': 24.0, 'end': 29.0, 'text': 'では早速質問をさせていただきたいと思います', 'count': 0}, {'start': 29.0, 'end': 31.0, 'text': 'ちょっとだけお願いします', 'count': 1}, {'start': 31.0, 'end': 49.0, 'text': 'では早速なんですけれども', 'count': 0}, {'start': 49.0, 'end': 55.0, 'text': 'まずフリーをどうでしたでしょうか', 'count': 1}, {'start': 56.0, 'end': 62.0, 'text': '今ちょっと回線がフリーズして聞こえなかったんですけど', 'count': 0}, {'start': 62.0, 'end': 67.0, 'text': 'フリーを導入されたのはいつ頃でしたでしょうか', 'count': 2}, {'start': 67.0, 'end': 79.0, 'text': '今から6年前で2018年の4月ですね', 'count': 0}, {'start': 79.0, 'end': 83.0, 'text': 'すごい そんな前からだったんですね', 'count': 0}, {'start': 83.0, 'end': 85.0, 'text': 'はい', 'count': 0}, {'start': 85.0, 'end': 91.0, 'text': 'その当時他の例えばクラウド会計のものとかって', 'count': 0}, {'start': 91.0, 'end': 93.0, 'text': '検討されましたでしょうか', 'count': 1}, {'start': 93.0, 'end': 101.0, 'text': 'マネーフォアードとフリーとどっちにしようかなという話はちょっと', 'count': 0}, {'start': 101.0, 'end': 104.0, 'text': '私の中だけでありましたけども', 'count': 0}, {'start': 105.0, 'end': 113.0, 'text': 'フリーの方がどうも私はその会計に詳しい人間ではないので', 'count': 0}, {'start': 113.0, 'end': 123.0, 'text': '初心者向きだという話がちょっとしまったのレビューでありましたので', 'count': 0}, {'start': 123.0, 'end': 128.0, 'text': 'じゃあフリーの方いいかなと思ってフリーにしました', 'count': 0}, {'start': 129.0, 'end': 131.0, 'text': '少し出しました', 'count': 0}, {'start': 131.0, 'end': 138.0, 'text': '価格とかはその時って検討されましたか企画というか', 'count': 1}, {'start': 138.0, 'end': 145.0, 'text': 'あまり積極的に企画してないんですけど', 'count': 0}, {'start': 145.0, 'end': 148.0, 'text': '一応フリーの方は', 'count': 0}, {'start': 148.0, 'end': 150.0, 'text': 'いくらだったかな', 'count': 0}, {'start': 150.0, 'end': 156.0, 'text': '1万2万弱という感じだったので', 'count': 0}, {'start': 156.0, 'end': 161.0, 'text': 'それぐらいならいいかなと思ってそれにしました', 'count': 0}, {'start': 161.0, 'end': 166.0, 'text': '2万弱というのは', 'count': 0}, {'start': 166.0, 'end': 168.0, 'text': '月月がプレスかな', 'count': 0}, {'start': 168.0, 'end': 170.0, 'text': '年間です', 'count': 0}, {'start': 170.0, 'end': 172.0, 'text': '年間で', 'count': 0}, {'start': 173.0, 'end': 175.0, 'text': '少ししました', 'count': 0}, {'start': 175.0, 'end': 181.0, 'text': 'これ今使われているのは', 'count': 0}, {'start': 184.0, 'end': 187.0, 'text': 'ご職業が自営業ってことだったんですけども', 'count': 0}, {'start': 187.0, 'end': 190.0, 'text': 'ご自身でやっていらっしゃるビジネスにですかね', 'count': 1}, {'start': 190.0, 'end': 192.0, 'text': 'そうですね', 'count': 0}, {'start': 192.0, 'end': 198.0, 'text': '一応60歳で低年退職をしまして', 'count': 0}, {'start': 199.0, 'end': 205.0, 'text': '会社に残るっていう選択肢もあったんですけど', 'count': 0}, {'start': 205.0, 'end': 208.0, 'text': '給料が差があるのは分かってたので', 'count': 0}, {'start': 208.0, 'end': 215.0, 'text': 'それぐらいだったら自分で個人事業の市になって', 'count': 0}, {'start': 215.0, 'end': 227.0, 'text': '大体コンピュータシステム関係のサービス業を', 'count': 0}, {'start': 227.0, 'end': 230.0, 'text': '会社でもやってましたので', 'count': 0}, {'start': 230.0, 'end': 236.0, 'text': '同じような仕事を探せばいいかなと思ってやっております', 'count': 0}, {'start': 236.0, 'end': 240.0, 'text': 'とりあえず', 'count': 0}, {'start': 240.0, 'end': 242.0, 'text': 'それで一番のネックだったのが', 'count': 0}, {'start': 242.0, 'end': 245.0, 'text': '個人事業の市になった時にネックだったのが', 'count': 0}, {'start': 245.0, 'end': 248.0, 'text': '会計の農税ですよね', 'count': 0}, {'start': 248.0, 'end': 253.0, 'text': '農税のこの辺の話っていうのが', 'count': 0}, {'start': 254.0, 'end': 258.0, 'text': 'あまりほとんどやったことがなかったので', 'count': 0}, {'start': 258.0, 'end': 263.0, 'text': '一応そういうクラウド会計ソフトがあれば', 'count': 0}, {'start': 263.0, 'end': 268.0, 'text': 'その辺が楽できるかなと思って同意しました', 'count': 0}, {'start': 271.0, 'end': 272.0, 'text': '生じ出しました', 'count': 0}, {'start': 272.0, 'end': 276.0, 'text': '現在ってこれあの法人統計されてらっしゃいますか', 'count': 0}, {'start': 276.0, 'end': 278.0, 'text': 'してません', 'count': 0}, {'start': 278.0, 'end': 281.0, 'text': '個人事業の市のままです', 'count': 0}, {'start': 281.0, 'end': 283.0, 'text': '個人事業の市なんですね', 'count': 0}, {'start': 283.0, 'end': 284.0, 'text': '消除させました', 'count': 0}, {'start': 284.0, 'end': 285.0, 'text': 'すいません', 'count': 0}, {'start': 285.0, 'end': 291.0, 'text': 'ちょっと今回の面談の前提が法人だったので', 'count': 0}, {'start': 291.0, 'end': 295.0, 'text': 'ちょっとそれも条件のところに入れていたんですけれども', 'count': 0}, {'start': 295.0, 'end': 297.0, 'text': 'それは申し訳ない', 'count': 0}, {'start': 297.0, 'end': 302.0, 'text': 'フリーもしくはMFのみ対象で導入して使用している', 'count': 0}, {'start': 302.0, 'end': 305.0, 'text': 'ユーザーボシュートということだったので', 'count': 0}, {'start': 306.0, 'end': 310.0, 'text': '法人縛りがあるとは知らなかったです', 'count': 0}, {'start': 310.0, 'end': 311.0, 'text': 'ごめんなさい', 'count': 0}, {'start': 311.0, 'end': 312.0, 'text': 'じゃあちょっと', 'count': 0}, {'start': 312.0, 'end': 313.0, 'text': 'すいません', 'count': 0}, {'start': 313.0, 'end': 315.0, 'text': '要件に合わないんだとは今回の話は', 'count': 0}, {'start': 315.0, 'end': 318.0, 'text': 'キャンセルした方がよろしいでしょうか', 'count': 1}, {'start': 320.0, 'end': 323.0, 'text': 'これ今からキャンセルってできるのかな', 'count': 0}, {'start': 323.0, 'end': 324.0, 'text': '分かんないです', 'count': 0}, {'start': 324.0, 'end': 325.0, 'text': 'ごめんなさい', 'count': 0}, {'start': 325.0, 'end': 327.0, 'text': 'ちょっと', 'count': 0}, {'start': 327.0, 'end': 328.0, 'text': 'そうですか', 'count': 1}, {'start': 328.0, 'end': 330.0, 'text': 'ちょっと', 'count': 0}, {'start': 330.0, 'end': 332.0, 'text': 'どうしたらいいのかな', 'count': 0}, {'start': 332.0, 'end': 334.0, 'text': 'とりあえずいいです', 'count': 0}, {'start': 334.0, 'end': 337.0, 'text': '報酬がなくても構いませんので', 'count': 0}, {'start': 337.0, 'end': 339.0, 'text': '申し訳れません', 'count': 0}, {'start': 339.0, 'end': 342.0, 'text': 'そちらの方で', 'count': 0}, {'start': 342.0, 'end': 346.0, 'text': '納得いくまで一応みたくいただいて', 'count': 0}, {'start': 346.0, 'end': 348.0, 'text': 'そうしましたら', 'count': 0}, {'start': 348.0, 'end': 351.0, 'text': 'ちょっと一旦ここで終わらせていただいて', 'count': 0}, {'start': 351.0, 'end': 353.0, 'text': 'マクロミルの方に', 'count': 0}, {'start': 353.0, 'end': 356.0, 'text': 'ここはちょっとキャンセルという形にできるか', 'count': 0}, {'start': 356.0, 'end': 361.0, 'text': 'というのはちょっと交渉していますので', 'count': 0}, {'start': 361.0, 'end': 362.0, 'text': '申し訳れません', 'count': 0}, {'start': 362.0, 'end': 364.0, 'text': 'お時間いただいたところ', 'count': 0}, {'start': 364.0, 'end': 365.0, 'text': 'いい', 'count': 0}, {'start': 365.0, 'end': 367.0, 'text': 'こちらご存知はよく言わないで', 'count': 0}, {'start': 367.0, 'end': 368.0, 'text': 'すいません', 'count': 0}, {'start': 368.0, 'end': 369.0, 'text': 'とんでもないです', 'count': 0}, {'start': 369.0, 'end': 370.0, 'text': 'すいません', 'count': 0}, {'start': 370.0, 'end': 371.0, 'text': 'どうもありがとうございました', 'count': 0}, {'start': 371.0, 'end': 372.0, 'text': 'ありがとうございます', 'count': 0}, {'start': 372.0, 'end': 374.0, 'text': '失礼いたします', 'count': 0}]\n"
          ]
        }
      ]
    },
    {
      "cell_type": "code",
      "source": [
        "for speek in interivew:\n",
        "  print(speek)"
      ],
      "metadata": {
        "id": "nrT6qml2ureE",
        "outputId": "d648f13e-40d0-4716-8615-bb8d75b5cf8a",
        "colab": {
          "base_uri": "https://localhost:8080/"
        }
      },
      "execution_count": null,
      "outputs": [
        {
          "output_type": "stream",
          "name": "stdout",
          "text": [
            "話者2 :  0.0 〜 : 「どうもこんにちは」\n",
            "話者2 :  10.0 〜 : 「ありがとうございます」\n",
            "話者2 :  12.0 〜 : 「ごめん 記者の時間いただきましてどうもありがとうございます」\n",
            "話者2 :  20.0 〜 : 「おはよう」\n",
            "話者2 :  24.0 〜 : 「では早速質問をさせていただきたいと思います」\n",
            "話者2 :  29.0 〜 : 「ちょっとだけお願いします」\n",
            "話者2 :  31.0 〜 : 「では早速なんですけれども」\n",
            "話者2 :  49.0 〜 : 「まずフリーをどうでしたでしょうか」\n",
            "話者2 :  56.0 〜 : 「今ちょっと回線がフリーズして聞こえなかったんですけど」\n",
            "話者2 :  62.0 〜 : 「フリーを導入されたのはいつ頃でしたでしょうか」\n",
            "話者1 :  67.0 〜 : 「今から6年前で2018年の4月ですね」\n",
            "話者2 :  79.0 〜 : 「すごい そんな前からだったんですね」\n",
            "話者2 :  83.0 〜 : 「はい」\n",
            "話者2 :  85.0 〜 : 「その当時他の例えばクラウド会計のものとかって」\n",
            "話者2 :  91.0 〜 : 「検討されましたでしょうか」\n",
            "話者1 :  93.0 〜 : 「マネーフォアードとフリーとどっちにしようかなという話はちょっと」\n",
            "話者1 :  101.0 〜 : 「私の中だけでありましたけども」\n",
            "話者1 :  105.0 〜 : 「フリーの方がどうも私はその会計に詳しい人間ではないので」\n",
            "話者1 :  113.0 〜 : 「初心者向きだという話がちょっとしまったのレビューでありましたので」\n",
            "話者2 :  123.0 〜 : 「じゃあフリーの方いいかなと思ってフリーにしました」\n",
            "話者2 :  129.0 〜 : 「少し出しました」\n",
            "話者2 :  131.0 〜 : 「価格とかはその時って検討されましたか企画というか」\n",
            "話者1 :  138.0 〜 : 「あまり積極的に企画してないんですけど」\n",
            "話者1 :  145.0 〜 : 「一応フリーの方は」\n",
            "話者1 :  148.0 〜 : 「いくらだったかな」\n",
            "話者1 :  150.0 〜 : 「1万2万弱という感じだったので」\n",
            "話者2 :  156.0 〜 : 「それぐらいならいいかなと思ってそれにしました」\n",
            "話者2 :  161.0 〜 : 「2万弱というのは」\n",
            "話者2 :  166.0 〜 : 「月月がプレスかな」\n",
            "話者2 :  168.0 〜 : 「年間です」\n",
            "話者2 :  170.0 〜 : 「年間で」\n",
            "話者2 :  173.0 〜 : 「少ししました」\n",
            "話者2 :  175.0 〜 : 「これ今使われているのは」\n",
            "話者2 :  184.0 〜 : 「ご職業が自営業ってことだったんですけども」\n",
            "話者1 :  187.0 〜 : 「ご自身でやっていらっしゃるビジネスにですかね」\n",
            "話者2 :  190.0 〜 : 「そうですね」\n",
            "話者1 :  192.0 〜 : 「一応60歳で低年退職をしまして」\n",
            "話者1 :  199.0 〜 : 「会社に残るっていう選択肢もあったんですけど」\n",
            "話者1 :  205.0 〜 : 「給料が差があるのは分かってたので」\n",
            "話者2 :  208.0 〜 : 「それぐらいだったら自分で個人事業の市になって」\n",
            "話者2 :  215.0 〜 : 「大体コンピュータシステム関係のサービス業を」\n",
            "話者2 :  227.0 〜 : 「会社でもやってましたので」\n",
            "話者1 :  230.0 〜 : 「同じような仕事を探せばいいかなと思ってやっております」\n",
            "話者1 :  236.0 〜 : 「とりあえず」\n",
            "話者1 :  240.0 〜 : 「それで一番のネックだったのが」\n",
            "話者1 :  242.0 〜 : 「個人事業の市になった時にネックだったのが」\n",
            "話者1 :  245.0 〜 : 「会計の農税ですよね」\n",
            "話者1 :  248.0 〜 : 「農税のこの辺の話っていうのが」\n",
            "話者2 :  254.0 〜 : 「あまりほとんどやったことがなかったので」\n",
            "話者1 :  258.0 〜 : 「一応そういうクラウド会計ソフトがあれば」\n",
            "話者2 :  263.0 〜 : 「その辺が楽できるかなと思って同意しました」\n",
            "話者2 :  271.0 〜 : 「生じ出しました」\n",
            "話者2 :  272.0 〜 : 「現在ってこれあの法人統計されてらっしゃいますか」\n",
            "話者2 :  276.0 〜 : 「してません」\n",
            "話者2 :  278.0 〜 : 「個人事業の市のままです」\n",
            "話者1 :  281.0 〜 : 「個人事業の市なんですね」\n",
            "話者2 :  283.0 〜 : 「消除させました」\n",
            "話者1 :  284.0 〜 : 「すいません」\n",
            "話者2 :  285.0 〜 : 「ちょっと今回の面談の前提が法人だったので」\n",
            "話者1 :  291.0 〜 : 「ちょっとそれも条件のところに入れていたんですけれども」\n",
            "話者1 :  295.0 〜 : 「それは申し訳ない」\n",
            "話者1 :  297.0 〜 : 「フリーもしくはMFのみ対象で導入して使用している」\n",
            "話者1 :  302.0 〜 : 「ユーザーボシュートということだったので」\n",
            "話者1 :  306.0 〜 : 「法人縛りがあるとは知らなかったです」\n",
            "話者1 :  310.0 〜 : 「ごめんなさい」\n",
            "話者1 :  311.0 〜 : 「じゃあちょっと」\n",
            "話者1 :  312.0 〜 : 「すいません」\n",
            "話者1 :  313.0 〜 : 「要件に合わないんだとは今回の話は」\n",
            "話者2 :  315.0 〜 : 「キャンセルした方がよろしいでしょうか」\n",
            "話者2 :  320.0 〜 : 「これ今からキャンセルってできるのかな」\n",
            "話者1 :  323.0 〜 : 「分かんないです」\n",
            "話者1 :  324.0 〜 : 「ごめんなさい」\n",
            "話者2 :  325.0 〜 : 「ちょっと」\n",
            "話者1 :  327.0 〜 : 「そうですか」\n",
            "話者1 :  328.0 〜 : 「ちょっと」\n",
            "話者2 :  330.0 〜 : 「どうしたらいいのかな」\n",
            "話者1 :  332.0 〜 : 「とりあえずいいです」\n",
            "話者1 :  334.0 〜 : 「報酬がなくても構いませんので」\n",
            "話者1 :  337.0 〜 : 「申し訳れません」\n",
            "話者1 :  339.0 〜 : 「そちらの方で」\n",
            "話者1 :  342.0 〜 : 「納得いくまで一応みたくいただいて」\n",
            "話者2 :  346.0 〜 : 「そうしましたら」\n",
            "話者1 :  348.0 〜 : 「ちょっと一旦ここで終わらせていただいて」\n",
            "話者1 :  351.0 〜 : 「マクロミルの方に」\n",
            "話者1 :  353.0 〜 : 「ここはちょっとキャンセルという形にできるか」\n",
            "話者2 :  356.0 〜 : 「というのはちょっと交渉していますので」\n",
            "話者1 :  361.0 〜 : 「申し訳れません」\n",
            "話者1 :  362.0 〜 : 「お時間いただいたところ」\n",
            "話者2 :  364.0 〜 : 「いい」\n",
            "話者1 :  365.0 〜 : 「こちらご存知はよく言わないで」\n",
            "話者2 :  367.0 〜 : 「すいません」\n",
            "話者1 :  368.0 〜 : 「とんでもないです」\n",
            "話者1 :  369.0 〜 : 「すいません」\n",
            "話者1 :  370.0 〜 : 「どうもありがとうございました」\n",
            "話者2 :  371.0 〜 : 「ありがとうございます」\n",
            "話者2 :  372.0 〜 : 「失礼いたします」\n"
          ]
        }
      ]
    }
  ]
}