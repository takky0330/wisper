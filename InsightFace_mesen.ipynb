{
  "nbformat": 4,
  "nbformat_minor": 0,
  "metadata": {
    "colab": {
      "provenance": [],
      "machine_shape": "hm",
      "gpuType": "A100",
      "mount_file_id": "https://github.com/takky0330/wisper/blob/main/InsightFace_mesen.ipynb",
      "authorship_tag": "ABX9TyPrsbvSJr/00XTv8CNUJlEC",
      "include_colab_link": true
    },
    "kernelspec": {
      "name": "python3",
      "display_name": "Python 3"
    },
    "language_info": {
      "name": "python"
    },
    "accelerator": "GPU"
  },
  "cells": [
    {
      "cell_type": "markdown",
      "metadata": {
        "id": "view-in-github",
        "colab_type": "text"
      },
      "source": [
        "<a href=\"https://colab.research.google.com/github/takky0330/wisper/blob/main/InsightFace_mesen.ipynb\" target=\"_parent\"><img src=\"https://colab.research.google.com/assets/colab-badge.svg\" alt=\"Open In Colab\"/></a>"
      ]
    },
    {
      "cell_type": "code",
      "source": [
        "!ls -d /usr/local/cuda-*\n",
        "!nvcc --version"
      ],
      "metadata": {
        "id": "mBYWLgmosUPB"
      },
      "execution_count": null,
      "outputs": []
    },
    {
      "cell_type": "code",
      "source": [
        "!wget https://developer.download.nvidia.com/compute/cuda/repos/ubuntu1804/x86_64/cuda-ubuntu1804.pin\n",
        "!sudo mv cuda-ubuntu1804.pin /etc/apt/preferences.d/cuda-repository-pin-600\n",
        "!wget https://developer.download.nvidia.com/compute/cuda/11.8.0/local_installers/cuda-repo-ubuntu1804-11-8-local_11.8.0-520.61.05-1_amd64.deb\n",
        "!sudo dpkg -i cuda-repo-ubuntu1804-11-8-local_11.8.0-520.61.05-1_amd64.deb\n",
        "!sudo cp /var/cuda-repo-ubuntu1804-11-8-local/cuda-*-keyring.gpg /usr/share/keyrings/\n",
        "!sudo apt-get update\n",
        "!sudo apt-get -y install cuda-11-8"
      ],
      "metadata": {
        "id": "JFW6HJcis28J"
      },
      "execution_count": null,
      "outputs": []
    },
    {
      "cell_type": "code",
      "source": [
        "!pip install insightface"
      ],
      "metadata": {
        "id": "btUL-4ArV7eB",
        "collapsed": true
      },
      "execution_count": null,
      "outputs": []
    },
    {
      "cell_type": "code",
      "source": [
        "!pip install onnxruntime-gpu"
      ],
      "metadata": {
        "id": "66nB7Ez5j7XC"
      },
      "execution_count": null,
      "outputs": []
    },
    {
      "cell_type": "code",
      "source": [
        "from insightface.app import FaceAnalysis"
      ],
      "metadata": {
        "id": "4Y6BFYjhn0GE"
      },
      "execution_count": null,
      "outputs": []
    },
    {
      "cell_type": "code",
      "source": [
        "!pip install moviepy"
      ],
      "metadata": {
        "id": "5akzm-I-QoXB"
      },
      "execution_count": null,
      "outputs": []
    },
    {
      "cell_type": "code",
      "source": [
        "!pip install numpy==1.23.5              #最新VerではInseight実行時にエラーが出るためこのバージョンに下げる。このVerでは初回Import時に失敗する。 ランタイムの再起動も発生。"
      ],
      "metadata": {
        "id": "ab8cnxIEy2s9"
      },
      "execution_count": null,
      "outputs": []
    },
    {
      "cell_type": "code",
      "source": [
        "!ls -d /usr/local/cuda-*\n",
        "!nvcc --version"
      ],
      "metadata": {
        "id": "bOJ3G0YmsW4h"
      },
      "execution_count": null,
      "outputs": []
    },
    {
      "cell_type": "code",
      "source": [
        "import os\n",
        "p = os.getenv('PATH')\n",
        "ld = os.getenv('LD_LIBRARY_PATH')\n",
        "os.environ['PATH'] = f\"/usr/local/cuda-11.8/bin:{p}\"\n",
        "os.environ['LD_LIBRARY_PATH'] = f\"/usr/local/cuda-11.8/lib64:{ld}\""
      ],
      "metadata": {
        "id": "ah1h_ybytSco"
      },
      "execution_count": 2,
      "outputs": []
    },
    {
      "cell_type": "code",
      "source": [
        "!ls -d /usr/local/cuda-*\n",
        "!nvcc --version"
      ],
      "metadata": {
        "id": "YCsz9L2qEf2q"
      },
      "execution_count": null,
      "outputs": []
    },
    {
      "cell_type": "code",
      "source": [
        "!cat /usr/include/cudnn_version.h | grep CUDNN_MAJOR -A 2"
      ],
      "metadata": {
        "id": "E-5YqrE91AGQ"
      },
      "execution_count": null,
      "outputs": []
    },
    {
      "cell_type": "code",
      "source": [
        "import torch\n",
        "print(torch.cuda.is_available())\n",
        "print(torch.cuda.get_device_name())"
      ],
      "metadata": {
        "id": "jFQcnwv56Km9"
      },
      "execution_count": null,
      "outputs": []
    },
    {
      "cell_type": "code",
      "source": [
        "import cv2\n",
        "import numpy as np\n",
        "from tqdm.notebook import tqdm\n",
        "from insightface.app import FaceAnalysis                      #もう一度インポート\n",
        "from moviepy.editor import VideoFileClip, AudioFileClip"
      ],
      "metadata": {
        "id": "URJk1fDeWA9D"
      },
      "execution_count": 15,
      "outputs": []
    },
    {
      "cell_type": "code",
      "source": [
        "class INSIGHTFACE(object):\n",
        "    def __init__(self, ctx_id=0, det_size_x=640, det_size_y=640):\n",
        "        #self.app = FaceAnalysis(root='./.insightface')\n",
        "        self.app = FaceAnalysis(root='./.insightface', providers=['CUDAExecutionProvider'])\n",
        "        self.app.prepare(ctx_id=ctx_id, det_size=(det_size_x, det_size_y))\n",
        "        self.faces = []\n",
        "\n",
        "    def get_InsightFace(self, img):\n",
        "        self.faces = self.app.get(np.asarray(img))\n",
        "        #for face in faces:\n",
        "        #    kps   = face.kps.astype(np.int)\n",
        "        #    print(kps)\n",
        "        rimg  = self.app.draw_on(img, self.faces)\n",
        "        #cv2.imwrite(\"./output.jpg\", rimg)\n",
        "        return img, rimg, self.faces\n",
        "\n",
        "    def draw_mesen(self, img):\n",
        "        KPS = []\n",
        "        for face in self.faces:\n",
        "            kps = face.kps.astype(np.int)\n",
        "            KPS.append(kps)\n",
        "        EYE = _EYE = [[]] * 2\n",
        "        out_img = img\n",
        "        for _eye in KPS:\n",
        "            EYE[0] = _eye[0]\n",
        "            EYE[1] = _eye[1]\n",
        "            lineSize  = abs(np.linalg.norm(np.array(EYE[0])-np.array(EYE[1])))\n",
        "            lineWidth = int(lineSize / 4)\n",
        "            if lineWidth <= 10:\n",
        "                lineWidth = 10\n",
        "            lineAngle = 1\n",
        "            if EYE[1][0]-EYE[0][0] != 0:\n",
        "                lineAngle   = (EYE[1][1]-EYE[0][1])/(EYE[1][0]-EYE[0][0])\n",
        "            _EYE[0][0] = EYE[0][0] - (lineSize / 3)\n",
        "            _EYE[0][1] = lineAngle * (_EYE[0][0] - EYE[0][0]) + EYE[0][1]\n",
        "            _EYE[1][0] = EYE[1][0] + (lineSize / 3)\n",
        "            _EYE[1][1] = lineAngle * (_EYE[1][0] - EYE[0][0]) + EYE[0][1]\n",
        "            out_img = cv2.line(out_img,\n",
        "                              (_EYE[0][0], _EYE[0][1]),\n",
        "                              (_EYE[1][0], _EYE[1][1]),\n",
        "                              (0,0,0),\n",
        "                              thickness=lineWidth)\n",
        "        return out_img"
      ],
      "metadata": {
        "id": "WtNLEwqLwjvK"
      },
      "execution_count": 7,
      "outputs": []
    },
    {
      "cell_type": "code",
      "source": [
        "IF = INSIGHTFACE()"
      ],
      "metadata": {
        "id": "QtikZ05Uw7cl"
      },
      "execution_count": null,
      "outputs": []
    },
    {
      "cell_type": "code",
      "source": [
        "import onnxruntime as ort\n",
        "\n",
        "print(ort.get_device())\n",
        "print(ort.get_available_providers())\n",
        "\n",
        "provider = ['CUDAExecutionProvider','CPUExecutionProvider']\n",
        "provider = ['CUDAExecutionProvider']\n",
        "ort_sess = ort.InferenceSession('./.insightface/models/buffalo_l/w600k_r50.onnx', providers=provider)\n",
        "print(ort_sess.get_providers())"
      ],
      "metadata": {
        "id": "mv1QskQv_asF"
      },
      "execution_count": null,
      "outputs": []
    },
    {
      "cell_type": "code",
      "source": [
        "!cp ./drive/MyDrive/zoom_480p.mov ./\n",
        "!cp ./drive/MyDrive/InterviewZero_0.mp4 ./\n",
        "!cp ./drive/MyDrive/InterviewZero_1.mp4 ./\n",
        "!cp ./drive/MyDrive/InterviewZero_2.mp4 ./"
      ],
      "metadata": {
        "id": "z7l1qvqKiR__"
      },
      "execution_count": 10,
      "outputs": []
    },
    {
      "cell_type": "code",
      "source": [
        "#video_name = \"zoom_480p.mov\"\n",
        "#video_name = \"InterviewZero_0.mp4\"\n",
        "#video_name = \"InterviewZero_1.mp4\"\n",
        "video_name = \"InterviewZero_2.mp4\"\n",
        "video_path = \"./\" + video_name\n",
        "mask_path  = '.'.join(video_path.split('.')[:-1]) + '_mask.mp4'\n",
        "audio_path = '.'.join(video_path.split('.')[:-1]) + '.wav'\n",
        "output_path = '.'.join(video_path.split('.')[:-1]) + '_audio_mask.mp4'\n",
        "video = VideoFileClip(video_path)\n",
        "video.audio.write_audiofile(audio_path, ffmpeg_params=[\"-ac\", \"1\"])  #モノラルで出力"
      ],
      "metadata": {
        "id": "nAOYSr2kQyfW"
      },
      "execution_count": null,
      "outputs": []
    },
    {
      "cell_type": "code",
      "source": [
        "cap = cv2.VideoCapture(video_path)\n",
        "if cap.isOpened() is False:\n",
        "    cap = None"
      ],
      "metadata": {
        "id": "j0kZiU03WZKm"
      },
      "execution_count": 11,
      "outputs": []
    },
    {
      "cell_type": "code",
      "source": [
        "width = int(cap.get(cv2.CAP_PROP_FRAME_WIDTH))\n",
        "height = int(cap.get(cv2.CAP_PROP_FRAME_HEIGHT))\n",
        "fps = float(cap.get(cv2.CAP_PROP_FPS))\n",
        "frameNum = int(cap.get(cv2.CAP_PROP_FRAME_COUNT))"
      ],
      "metadata": {
        "id": "KxH4hVn-W3um"
      },
      "execution_count": 12,
      "outputs": []
    },
    {
      "cell_type": "code",
      "source": [
        "codec = cv2.VideoWriter_fourcc(*'mp4v')\n",
        "writer = cv2.VideoWriter(mask_path, codec, fps, (width, height), True)"
      ],
      "metadata": {
        "id": "p7Bh-Pc0X_lK"
      },
      "execution_count": 13,
      "outputs": []
    },
    {
      "cell_type": "code",
      "source": [
        "bar = tqdm(total=frameNum, dynamic_ncols=True)\n",
        "cap.set(cv2.CAP_PROP_POS_FRAMES, 1)\n",
        "ret, img = cap.read()\n",
        "while ret :\n",
        "    input_img, draw_img, faces = IF.get_InsightFace(img)\n",
        "    out_img = IF.draw_mesen(input_img)\n",
        "    writer.write(out_img)\n",
        "    ret, img = cap.read()\n",
        "    bar.update(1)\n",
        "writer.release()"
      ],
      "metadata": {
        "id": "r6Avsu9xXTG_",
        "collapsed": true
      },
      "execution_count": null,
      "outputs": []
    },
    {
      "cell_type": "code",
      "source": [
        "video_clip = VideoFileClip(mask_path)\n",
        "audio_clip = AudioFileClip(audio_path)\n",
        "video_clip = video_clip.set_audio(audio_clip)\n",
        "video_clip.write_videofile(output_path, audio_codec = 'aac')"
      ],
      "metadata": {
        "id": "3eAXj2QwSiC2"
      },
      "execution_count": null,
      "outputs": []
    },
    {
      "cell_type": "code",
      "source": [
        "! ls -alh"
      ],
      "metadata": {
        "id": "9cMBbmA-iPfW",
        "collapsed": true,
        "colab": {
          "base_uri": "https://localhost:8080/"
        },
        "outputId": "b00fa836-5c60-44a4-bda4-652089a63a0a"
      },
      "execution_count": 17,
      "outputs": [
        {
          "output_type": "stream",
          "name": "stdout",
          "text": [
            "total 4.6G\n",
            "drwxr-xr-x 1 root root 4.0K Oct 23 10:50 .\n",
            "drwxr-xr-x 1 root root 4.0K Oct 23 08:45 ..\n",
            "drwxr-xr-x 4 root root 4.0K Oct 21 13:22 .config\n",
            "-rw-r--r-- 1 root root 3.0G Sep 29  2022 cuda-repo-ubuntu1804-11-8-local_11.8.0-520.61.05-1_amd64.deb\n",
            "drwx------ 7 root root 4.0K Oct 23 08:53 drive\n",
            "drwxr-xr-x 3 root root 4.0K Oct 23 09:00 .insightface\n",
            "-rw-r--r-- 1 root root  59M Oct 23 09:27 InterviewZero_0_audio_mask.mp4\n",
            "-rw-r--r-- 1 root root  65M Oct 23 09:26 InterviewZero_0_mask.mp4\n",
            "-rw------- 1 root root  78M Oct 23 09:02 InterviewZero_0.mp4\n",
            "-rw-r--r-- 1 root root 161M Oct 23 09:02 InterviewZero_0.wav\n",
            "-rw-r--r-- 1 root root  34M Oct 23 09:47 InterviewZero_1_audio_mask.mp4\n",
            "-rw-r--r-- 1 root root  46M Oct 23 09:43 InterviewZero_1_mask.mp4\n",
            "-rw------- 1 root root  52M Oct 23 09:02 InterviewZero_1.mp4\n",
            "-rw-r--r-- 1 root root  80M Oct 23 09:31 InterviewZero_1.wav\n",
            "-rw-r--r-- 1 root root 111M Oct 23 10:50 InterviewZero_2_audio_mask.mp4\n",
            "-rw-r--r-- 1 root root 135M Oct 23 10:47 InterviewZero_2_mask.mp4\n",
            "-rw------- 1 root root 152M Oct 23 09:02 InterviewZero_2.mp4\n",
            "-rw-r--r-- 1 root root 291M Oct 23 09:49 InterviewZero_2.wav\n",
            "drwxr-xr-x 1 root root 4.0K Oct 21 13:22 sample_data\n",
            "-rw------- 1 root root 390M Oct 23 09:02 zoom_480p.mov\n"
          ]
        }
      ]
    },
    {
      "cell_type": "code",
      "source": [
        "!cp ./zoom_480p_mask.mp4 ./drive/MyDrive\n",
        "!cp ./zoom_480p.mp3 ./drive/MyDrive\n",
        "!cp ./zoom_480p_audio_mask.mp4 ./drive/MyDrive"
      ],
      "metadata": {
        "id": "f8t-ICvtwEML"
      },
      "execution_count": null,
      "outputs": []
    },
    {
      "cell_type": "code",
      "source": [
        "!cp ./InterviewZero_0_audio_mask.mp4 ./drive/MyDrive"
      ],
      "metadata": {
        "id": "yJ6qDWIprHj2"
      },
      "execution_count": 18,
      "outputs": []
    },
    {
      "cell_type": "code",
      "source": [
        "!cp ./InterviewZero_1_audio_mask.mp4 ./drive/MyDrive"
      ],
      "metadata": {
        "id": "M5XydLhcrIPx"
      },
      "execution_count": 29,
      "outputs": []
    },
    {
      "cell_type": "code",
      "source": [
        "!cp ./InterviewZero_2_audio_mask.mp4 ./drive/MyDrive"
      ],
      "metadata": {
        "id": "JVhflwHTrIk1"
      },
      "execution_count": 19,
      "outputs": []
    }
  ]
}