{
  "nbformat": 4,
  "nbformat_minor": 0,
  "metadata": {
    "colab": {
      "provenance": [],
      "machine_shape": "hm",
      "mount_file_id": "https://github.com/takky0330/wisper/blob/main/InsightFace.ipynb",
      "authorship_tag": "ABX9TyOzGvzEu9rOTVEVPS1v+8XG",
      "include_colab_link": true
    },
    "kernelspec": {
      "name": "python3",
      "display_name": "Python 3"
    },
    "language_info": {
      "name": "python"
    }
  },
  "cells": [
    {
      "cell_type": "markdown",
      "metadata": {
        "id": "view-in-github",
        "colab_type": "text"
      },
      "source": [
        "<a href=\"https://colab.research.google.com/github/takky0330/wisper/blob/main/FaceDetection.ipynb\" target=\"_parent\"><img src=\"https://colab.research.google.com/assets/colab-badge.svg\" alt=\"Open In Colab\"/></a>"
      ]
    },
    {
      "cell_type": "code",
      "source": [
        "import cv2\n",
        "import mediapipe as mp\n",
        "mp_face_detection = mp.solutions.face_detection\n",
        "mp_drawing = mp.solutions.drawing_utils\n",
        "\n",
        "# For webcam input:\n",
        "cap = cv2.VideoCapture(0)\n",
        "with mp_face_detection.FaceDetection(\n",
        "        min_detection_confidence=0.5) as face_detection:\n",
        "    while cap.isOpened():\n",
        "        success, image = cap.read()\n",
        "        if not success:\n",
        "            print(\"Ignoring empty camera frame.\")\n",
        "            # If loading a video, use 'break' instead of 'continue'.\n",
        "            continue\n",
        "\n",
        "        # Flip the image horizontally for a later selfie-view display, and convert\n",
        "        # the BGR image to RGB.\n",
        "        image = cv2.cvtColor(cv2.flip(image, 1), cv2.COLOR_BGR2RGB)\n",
        "        # To improve performance, optionally mark the image as not writeable to\n",
        "        # pass by reference.\n",
        "        image.flags.writeable = False\n",
        "        results = face_detection.process(image)\n",
        "\n",
        "        # Draw the face detection annotations on the image.\n",
        "        image.flags.writeable = True\n",
        "        image = cv2.cvtColor(image, cv2.COLOR_RGB2BGR)\n",
        "        if results.detections:\n",
        "            for detection in results.detections:\n",
        "                mp_drawing.draw_detection(image, detection)\n",
        "        cv2.imshow('MediaPipe Face Detection', image)"
      ],
      "metadata": {
        "id": "CrVtuBQ6QghC"
      },
      "execution_count": null,
      "outputs": []
    }
  ]
}